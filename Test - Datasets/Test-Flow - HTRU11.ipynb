{
 "cells": [
  {
   "cell_type": "markdown",
   "metadata": {},
   "source": [
    "## Preparation"
   ]
  },
  {
   "cell_type": "markdown",
   "metadata": {},
   "source": [
    "##### Import Functions"
   ]
  },
  {
   "cell_type": "code",
   "execution_count": 1,
   "metadata": {
    "ExecuteTime": {
     "end_time": "2019-05-09T18:24:28.245600Z",
     "start_time": "2019-05-09T18:24:25.402606Z"
    }
   },
   "outputs": [],
   "source": [
    "from Scripts.LoadCSV import LoadCSV as LoadCSV\n",
    "from Scripts.Fuzzify import Fuzzify as Fuzzify\n",
    "from Scripts.OptimizeBruteForceKFold import OptimizeBruteForceKFold as OptimizeBruteForceKFold\n",
    "from Scripts.ValueTest import ValueTest as ValueTest\n",
    "from Scripts.OptimizeBruteForce import OptimizeBruteForce as OptimizeBruteForce\n",
    "from Class.Helper import Helper as Helper"
   ]
  },
  {
   "cell_type": "markdown",
   "metadata": {},
   "source": [
    "##### Import Settings"
   ]
  },
  {
   "cell_type": "code",
   "execution_count": 2,
   "metadata": {
    "ExecuteTime": {
     "end_time": "2019-05-09T18:24:28.445600Z",
     "start_time": "2019-05-09T18:24:28.250599Z"
    }
   },
   "outputs": [],
   "source": [
    "import Settings.SettingsHTRU as settings"
   ]
  },
  {
   "cell_type": "markdown",
   "metadata": {},
   "source": [
    "##### Load CSV File"
   ]
  },
  {
   "cell_type": "code",
   "execution_count": 3,
   "metadata": {
    "ExecuteTime": {
     "end_time": "2019-05-09T18:24:29.151600Z",
     "start_time": "2019-05-09T18:24:28.449600Z"
    }
   },
   "outputs": [],
   "source": [
    "loadCSV = LoadCSV()\n",
    "samples_stats, train_stats, test_stats, train_samples = loadCSV.worker(settings.variables)"
   ]
  },
  {
   "cell_type": "markdown",
   "metadata": {},
   "source": [
    "##### Fuzzify Data"
   ]
  },
  {
   "cell_type": "code",
   "execution_count": null,
   "metadata": {
    "ExecuteTime": {
     "end_time": "2019-05-09T19:10:50.874291Z",
     "start_time": "2019-05-09T18:24:29.155599Z"
    }
   },
   "outputs": [],
   "source": [
    "fuzzify = Fuzzify()\n",
    "changed_decisions, features_number_after_reduct, implicants_number, fuzzify_parameters = fuzzify.worker(settings.variables, \"\", -1)"
   ]
  },
  {
   "cell_type": "code",
   "execution_count": null,
   "metadata": {
    "ExecuteTime": {
     "end_time": "2019-05-09T19:10:51.096308Z",
     "start_time": "2019-05-09T19:10:50.877291Z"
    }
   },
   "outputs": [],
   "source": [
    "helper = Helper()\n",
    "\n",
    "fuzzification_data = [settings.variables[\"dataset_name\"], settings.variables[\"gausses\"], samples_stats, train_stats, test_stats, changed_decisions, round(changed_decisions / train_samples, 2), implicants_number, settings.variables[\"feature_numbers\"], features_number_after_reduct]\n",
    "helper.saveFuzzificationStats(fuzzification_data)\n",
    "\n",
    "fuzzification_parameters_data = [settings.variables[\"dataset_name\"], settings.variables[\"gausses\"], settings.sigma_mean_params] + fuzzify_parameters\n",
    "helper.saveFuzzificationParameters(fuzzification_parameters_data)"
   ]
  },
  {
   "cell_type": "markdown",
   "metadata": {},
   "source": [
    "## Train Set - K-Fold"
   ]
  },
  {
   "cell_type": "markdown",
   "metadata": {},
   "source": [
    "##### Train Set | K-Fold - S Function Optymalization"
   ]
  },
  {
   "cell_type": "code",
   "execution_count": null,
   "metadata": {
    "ExecuteTime": {
     "end_time": "2019-05-09T19:10:51.188296Z",
     "start_time": "2019-05-09T19:10:51.098291Z"
    }
   },
   "outputs": [],
   "source": [
    "# optimizeBruteForceKFold = OptimizeBruteForceKFold(settings.variables, settings.s_function_width)"
   ]
  },
  {
   "cell_type": "code",
   "execution_count": null,
   "metadata": {
    "ExecuteTime": {
     "end_time": "2019-05-09T19:10:51.278289Z",
     "start_time": "2019-05-09T19:10:51.191290Z"
    },
    "scrolled": false
   },
   "outputs": [],
   "source": [
    "# best_s_function_center, mean_s_function_center = optimizeBruteForceKFold.worker(settings.variables, settings.constraints, settings.s_function_width, settings.n_folds)"
   ]
  },
  {
   "cell_type": "markdown",
   "metadata": {},
   "source": [
    "## Test Set | K-Fold Test"
   ]
  },
  {
   "cell_type": "code",
   "execution_count": null,
   "metadata": {
    "ExecuteTime": {
     "end_time": "2019-05-09T19:10:51.374295Z",
     "start_time": "2019-05-09T19:10:51.280292Z"
    }
   },
   "outputs": [],
   "source": [
    "# valueTest = ValueTest(settings.variables, settings.s_function_width, False)"
   ]
  },
  {
   "cell_type": "markdown",
   "metadata": {},
   "source": [
    "##### K-Fold Test Set | S Function Value"
   ]
  },
  {
   "cell_type": "code",
   "execution_count": null,
   "metadata": {
    "ExecuteTime": {
     "end_time": "2019-05-09T19:10:51.468307Z",
     "start_time": "2019-05-09T19:10:51.376307Z"
    }
   },
   "outputs": [],
   "source": [
    "# valueTest.sOptymalizationWorker(settings.variables, best_s_function_center, \"Test Value - K-Fold - Best Function Center\")"
   ]
  },
  {
   "cell_type": "code",
   "execution_count": null,
   "metadata": {
    "ExecuteTime": {
     "end_time": "2019-05-09T19:10:51.562278Z",
     "start_time": "2019-05-09T19:10:51.469290Z"
    }
   },
   "outputs": [],
   "source": [
    "# valueTest.sOptymalizationWorker(settings.variables, mean_s_function_center, \"Test Value - K-Fold - Average Function Center\")"
   ]
  },
  {
   "cell_type": "markdown",
   "metadata": {},
   "source": [
    "## Training Set"
   ]
  },
  {
   "cell_type": "markdown",
   "metadata": {},
   "source": [
    "##### Training Set | No Optymalization"
   ]
  },
  {
   "cell_type": "code",
   "execution_count": null,
   "metadata": {
    "ExecuteTime": {
     "end_time": "2019-05-09T19:10:51.648589Z",
     "start_time": "2019-05-09T19:10:51.562278Z"
    },
    "scrolled": true
   },
   "outputs": [],
   "source": [
    "# valueTest = ValueTest(settings.variables, settings.s_function_width, True)\n",
    "# valueTest.noOptymalizationWorker(settings.variables)"
   ]
  },
  {
   "cell_type": "markdown",
   "metadata": {},
   "source": [
    "##### Training Set | S Function Optymalization"
   ]
  },
  {
   "cell_type": "code",
   "execution_count": null,
   "metadata": {
    "ExecuteTime": {
     "end_time": "2019-05-09T19:10:51.735861Z",
     "start_time": "2019-05-09T19:10:51.650590Z"
    }
   },
   "outputs": [],
   "source": [
    "# optimizeBruteForce = OptimizeBruteForce(settings.variables, settings.s_function_width)"
   ]
  },
  {
   "cell_type": "code",
   "execution_count": null,
   "metadata": {
    "ExecuteTime": {
     "end_time": "2019-05-09T19:10:51.894868Z",
     "start_time": "2019-05-09T19:10:51.737862Z"
    }
   },
   "outputs": [],
   "source": [
    "# s_function_center = optimizeBruteForce.sFunctionsWorker(settings.variables, settings.constraints, settings.s_function_width)"
   ]
  },
  {
   "cell_type": "markdown",
   "metadata": {},
   "source": [
    "##### Training Set | Threshold Optymalization"
   ]
  },
  {
   "cell_type": "code",
   "execution_count": null,
   "metadata": {
    "ExecuteTime": {
     "end_time": "2019-05-09T19:10:52.055865Z",
     "start_time": "2019-05-09T19:10:51.900866Z"
    }
   },
   "outputs": [],
   "source": [
    "# threshold = optimizeBruteForce.thresholdWorker(settings.variables, s_function_center, settings.s_function_width)"
   ]
  },
  {
   "cell_type": "markdown",
   "metadata": {},
   "source": [
    "## Test Set"
   ]
  },
  {
   "cell_type": "markdown",
   "metadata": {},
   "source": [
    "##### Test Set | No Optymalization "
   ]
  },
  {
   "cell_type": "code",
   "execution_count": null,
   "metadata": {
    "ExecuteTime": {
     "end_time": "2019-05-09T19:10:52.184867Z",
     "start_time": "2019-05-09T19:10:52.059863Z"
    }
   },
   "outputs": [],
   "source": [
    "# valueTest = ValueTest(settings.variables, settings.s_function_width, False)\n",
    "# valueTest.noOptymalizationWorker(settings.variables)"
   ]
  },
  {
   "cell_type": "markdown",
   "metadata": {},
   "source": [
    "##### Test Set | S Function Value"
   ]
  },
  {
   "cell_type": "code",
   "execution_count": null,
   "metadata": {
    "ExecuteTime": {
     "end_time": "2019-05-09T19:10:52.322872Z",
     "start_time": "2019-05-09T19:10:52.192864Z"
    }
   },
   "outputs": [],
   "source": [
    "# valueTest.sOptymalizationWorker(settings.variables, s_function_center)"
   ]
  },
  {
   "cell_type": "markdown",
   "metadata": {},
   "source": [
    "##### Test Set | Threshold Value"
   ]
  },
  {
   "cell_type": "code",
   "execution_count": null,
   "metadata": {
    "ExecuteTime": {
     "end_time": "2019-05-09T19:10:52.443467Z",
     "start_time": "2019-05-09T19:10:52.328865Z"
    }
   },
   "outputs": [],
   "source": [
    "# valueTest.thresholdWorker(settings.variables, s_function_center, threshold)"
   ]
  }
 ],
 "metadata": {
  "kernelspec": {
   "display_name": "Python 3",
   "language": "python",
   "name": "python3"
  },
  "language_info": {
   "codemirror_mode": {
    "name": "ipython",
    "version": 3
   },
   "file_extension": ".py",
   "mimetype": "text/x-python",
   "name": "python",
   "nbconvert_exporter": "python",
   "pygments_lexer": "ipython3",
   "version": "3.5.5"
  }
 },
 "nbformat": 4,
 "nbformat_minor": 2
}
