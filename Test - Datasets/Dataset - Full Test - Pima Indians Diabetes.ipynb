{
 "cells": [
  {
   "cell_type": "markdown",
   "metadata": {},
   "source": [
    "## Preparation"
   ]
  },
  {
   "cell_type": "markdown",
   "metadata": {},
   "source": [
    "##### Import Functions"
   ]
  },
  {
   "cell_type": "code",
   "execution_count": null,
   "metadata": {
    "ExecuteTime": {
     "end_time": "2019-05-27T07:01:52.450993Z",
     "start_time": "2019-05-27T07:01:50.548713Z"
    }
   },
   "outputs": [],
   "source": [
    "from Class.Helper import Helper as Helper\n",
    "from Scripts.LoadCSV import LoadCSV as LoadCSV\n",
    "from Scripts.Fuzzify import Fuzzify as Fuzzify\n",
    "from Scripts.ValueTest import ValueTest as ValueTest\n",
    "from Scripts.OptimizeBruteForce import OptimizeBruteForce as OptimizeBruteForce\n",
    "from Scripts.OptimizeBruteForceKFold import OptimizeBruteForceKFold as OptimizeBruteForceKFold\n",
    "import warnings\n",
    "warnings.simplefilter(\"ignore\")"
   ]
  },
  {
   "cell_type": "markdown",
   "metadata": {},
   "source": [
    "## Experiment 1 -- Gauss Number & Gauss Style & Gauss Adjustment"
   ]
  },
  {
   "cell_type": "code",
   "execution_count": null,
   "metadata": {
    "ExecuteTime": {
     "end_time": "2019-05-25T11:03:11.253755Z",
     "start_time": "2019-05-25T10:57:36.553411Z"
    }
   },
   "outputs": [],
   "source": [
    "import Settings.GeneralSettings as generalSettings\n",
    "from Settings.SettingsPimaIndiansDiabetes import Settings as Settings\n",
    "\n",
    "helper = Helper()\n",
    "\n",
    "for gauss in [3, 5, 7, 9, 11]:\n",
    "    for style in [\"Gaussian Progressive\", \"Gaussian Equal\"]:\n",
    "        for adjustment in [-1, -2]:\n",
    "            generalSettings.gausses = gauss\n",
    "            generalSettings.style = style\n",
    "            generalSettings.adjustment_value = adjustment\n",
    "            settings = Settings(generalSettings)        \n",
    "\n",
    "            loadCSV = LoadCSV()\n",
    "            samples_stats, train_stats, test_stats, train_samples = loadCSV.worker(settings)\n",
    "\n",
    "            fuzzify = Fuzzify()\n",
    "            changed_decisions, features_number_after_reduct, implicants_number, fuzzify_parameters = fuzzify.worker(settings, settings.adjustment_value)\n",
    "\n",
    "            fuzzification_data = [settings.dataset_name, settings.style, settings.gausses, settings.adjustment, samples_stats, train_stats, test_stats, changed_decisions, round(changed_decisions / train_samples, 2), implicants_number, settings.feature_numbers, features_number_after_reduct]\n",
    "            helper.saveFuzzificationStats(fuzzification_data)\n",
    "\n",
    "            valueTest = ValueTest(settings, settings.s_function_width, settings.is_training)\n",
    "            valueTest.sOptymalizationWorker(settings, settings.default_s_value, settings.show_results)\n",
    "\n",
    "            valueTest = ValueTest(settings, settings.s_function_width, not settings.is_training)\n",
    "            valueTest.sOptymalizationWorker(settings, settings.default_s_value, settings.show_results)"
   ]
  },
  {
   "cell_type": "markdown",
   "metadata": {
    "heading_collapsed": true
   },
   "source": [
    "## Experiment 2 -- S-Function Optymalization"
   ]
  },
  {
   "cell_type": "code",
   "execution_count": null,
   "metadata": {
    "ExecuteTime": {
     "end_time": "2019-05-27T18:33:10.254677Z",
     "start_time": "2019-05-27T11:56:42.546068Z"
    },
    "hidden": true,
    "scrolled": true
   },
   "outputs": [],
   "source": [
    "import Settings.GeneralSettings as generalSettings\n",
    "from Settings.SettingsPimaIndiansDiabetes import Settings as Settings\n",
    "settings = Settings(generalSettings)\n",
    "\n",
    "optimizeBruteForceKFold = OptimizeBruteForceKFold(settings, settings.s_function_width)\n",
    "valueTest = ValueTest(settings, settings.s_function_width, False)\n",
    "\n",
    "best_s_function_center, mean_s_function_center, changed_decisions, features_number_after_reduct, implicants_number = optimizeBruteForceKFold.worker(settings, settings.constraints, settings.s_function_width, settings.n_folds)\n",
    "\n",
    "\n",
    "valueTest.sOptymalizationWorker(settings, best_s_function_center, \"Test Value - K-Fold - Best Function Center\")\n",
    "threshold = optimizeBruteForceKFold.thresholdWorker(settings, best_s_function_center, settings.s_function_width)\n",
    "valueTest.thresholdWorker(settings, best_s_function_center, threshold)\n",
    "\n",
    "valueTest.sOptymalizationWorker(settings, mean_s_function_center, \"Test Value - K-Fold - Average Function Center\")\n",
    "threshold = optimizeBruteForceKFold.thresholdWorker(settings, mean_s_function_center, settings.s_function_width)\n",
    "valueTest.thresholdWorker(settings, mean_s_function_center, threshold)"
   ]
  }
 ],
 "metadata": {
  "kernelspec": {
   "display_name": "Python 3",
   "language": "python",
   "name": "python3"
  },
  "language_info": {
   "codemirror_mode": {
    "name": "ipython",
    "version": 3
   },
   "file_extension": ".py",
   "mimetype": "text/x-python",
   "name": "python",
   "nbconvert_exporter": "python",
   "pygments_lexer": "ipython3",
   "version": "3.5.5"
  },
  "varInspector": {
   "cols": {
    "lenName": 16,
    "lenType": 16,
    "lenVar": 40
   },
   "kernels_config": {
    "python": {
     "delete_cmd_postfix": "",
     "delete_cmd_prefix": "del ",
     "library": "var_list.py",
     "varRefreshCmd": "print(var_dic_list())"
    },
    "r": {
     "delete_cmd_postfix": ") ",
     "delete_cmd_prefix": "rm(",
     "library": "var_list.r",
     "varRefreshCmd": "cat(var_dic_list()) "
    }
   },
   "types_to_exclude": [
    "module",
    "function",
    "builtin_function_or_method",
    "instance",
    "_Feature"
   ],
   "window_display": false
  }
 },
 "nbformat": 4,
 "nbformat_minor": 2
}
