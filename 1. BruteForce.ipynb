{
 "cells": [
  {
   "cell_type": "code",
   "execution_count": 6,
   "metadata": {
    "ExecuteTime": {
     "end_time": "2019-03-27T19:45:50.969716Z",
     "start_time": "2019-03-27T19:45:50.814700Z"
    }
   },
   "outputs": [],
   "source": [
    "import settings as settings\n",
    "from Scripts.OptimizeBruteForce import OptimizeBruteForce as OptimizeBruteForce"
   ]
  },
  {
   "cell_type": "code",
   "execution_count": 7,
   "metadata": {
    "ExecuteTime": {
     "end_time": "2019-03-27T19:46:36.464239Z",
     "start_time": "2019-03-27T19:45:51.815701Z"
    }
   },
   "outputs": [
    {
     "name": "stdout",
     "output_type": "stream",
     "text": [
      "Global minimum: [0.49421094]\n",
      "Function value at global minimum: 0.09010989010989012\n",
      "Accuracy: 0.9098901098901099\n",
      "Time: 44.50252103805542\n"
     ]
    }
   ],
   "source": [
    "optimizeBruteForce = OptimizeBruteForce(settings.variables, settings.constraints, settings.sigma_mean_params)\n",
    "optimizeBruteForce.worker(settings.variables)"
   ]
  }
 ],
 "metadata": {
  "kernelspec": {
   "display_name": "Python 3",
   "language": "python",
   "name": "python3"
  },
  "language_info": {
   "codemirror_mode": {
    "name": "ipython",
    "version": 3
   },
   "file_extension": ".py",
   "mimetype": "text/x-python",
   "name": "python",
   "nbconvert_exporter": "python",
   "pygments_lexer": "ipython3",
   "version": "3.5.5"
  }
 },
 "nbformat": 4,
 "nbformat_minor": 2
}
