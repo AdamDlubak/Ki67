{
 "cells": [
  {
   "cell_type": "markdown",
   "metadata": {},
   "source": [
    "## Preparation"
   ]
  },
  {
   "cell_type": "markdown",
   "metadata": {},
   "source": [
    "##### Import Functions"
   ]
  },
  {
   "cell_type": "code",
   "execution_count": 1,
   "metadata": {
    "ExecuteTime": {
     "end_time": "2019-05-03T18:24:12.713575Z",
     "start_time": "2019-05-03T18:24:11.550576Z"
    }
   },
   "outputs": [],
   "source": [
    "from Scripts.LoadCSV import LoadCSV as LoadCSV\n",
    "from Scripts.Fuzzify import Fuzzify as Fuzzify\n",
    "from Scripts.OptimizeBruteForceKFold import OptimizeBruteForceKFold as OptimizeBruteForceKFold\n",
    "from Scripts.ValueTest import ValueTest as ValueTest\n",
    "from Scripts.OptimizeBruteForce import OptimizeBruteForce as OptimizeBruteForce"
   ]
  },
  {
   "cell_type": "markdown",
   "metadata": {},
   "source": [
    "##### Import Settings"
   ]
  },
  {
   "cell_type": "code",
   "execution_count": 2,
   "metadata": {
    "ExecuteTime": {
     "end_time": "2019-05-03T18:24:12.805575Z",
     "start_time": "2019-05-03T18:24:12.715575Z"
    }
   },
   "outputs": [],
   "source": [
    "import Settings.SettingsHabermanFiveGausses as settings"
   ]
  },
  {
   "cell_type": "markdown",
   "metadata": {},
   "source": [
    "##### Load CSV File"
   ]
  },
  {
   "cell_type": "code",
   "execution_count": 3,
   "metadata": {
    "ExecuteTime": {
     "end_time": "2019-05-03T18:24:13.022574Z",
     "start_time": "2019-05-03T18:24:12.807577Z"
    }
   },
   "outputs": [],
   "source": [
    "loadCSV = LoadCSV()\n",
    "loadCSV.worker(settings.variables)"
   ]
  },
  {
   "cell_type": "markdown",
   "metadata": {},
   "source": [
    "##### Fuzzify Data"
   ]
  },
  {
   "cell_type": "code",
   "execution_count": 4,
   "metadata": {
    "ExecuteTime": {
     "end_time": "2019-05-03T18:24:36.633827Z",
     "start_time": "2019-05-03T18:24:13.024580Z"
    }
   },
   "outputs": [],
   "source": [
    "fuzzify = Fuzzify()\n",
    "fuzzify.worker(settings.variables)"
   ]
  },
  {
   "cell_type": "markdown",
   "metadata": {},
   "source": [
    "## Train Set - K-Fold"
   ]
  },
  {
   "cell_type": "markdown",
   "metadata": {},
   "source": [
    "##### Train Set | K-Fold - S Function Optymalization"
   ]
  },
  {
   "cell_type": "code",
   "execution_count": 5,
   "metadata": {
    "ExecuteTime": {
     "end_time": "2019-05-03T18:24:38.274829Z",
     "start_time": "2019-05-03T18:24:36.636787Z"
    }
   },
   "outputs": [],
   "source": [
    "optimizeBruteForceKFold = OptimizeBruteForceKFold(settings.variables, settings.s_function_width)"
   ]
  },
  {
   "cell_type": "code",
   "execution_count": 6,
   "metadata": {
    "ExecuteTime": {
     "end_time": "2019-05-03T18:49:43.406195Z",
     "start_time": "2019-05-03T18:24:38.276786Z"
    },
    "scrolled": false
   },
   "outputs": [
    {
     "name": "stderr",
     "output_type": "stream",
     "text": [
      "D:\\Anaconda\\envs\\py35\\lib\\site-packages\\sklearn\\metrics\\classification.py:1135: UndefinedMetricWarning: Precision and F-score are ill-defined and being set to 0.0 in labels with no predicted samples.\n",
      "  'precision', 'predicted', average, warn_for)\n"
     ]
    },
    {
     "name": "stdout",
     "output_type": "stream",
     "text": [
      "------------------------------------- Fold 0 --------------------------------------\n",
      "Center Point: 0.0\n",
      "Train Accuracy: 0.7351598173515982\n",
      "Test Accuracy: 0.72\n",
      "Test Precision: [0.   0.72]\n",
      "Test Recall: [0. 1.]\n",
      "Test F-Score: [0.        0.8372093]\n",
      "Test Support: [ 7 18]\n",
      "Time: 11.13063669204712\n",
      "-----------------------------------------------------------------------------------\n",
      "------------------------------------- Fold 1 --------------------------------------\n",
      "Center Point: 0.0\n",
      "Train Accuracy: 0.7351598173515982\n",
      "Test Accuracy: 0.72\n",
      "Test Precision: [0.   0.72]\n",
      "Test Recall: [0. 1.]\n",
      "Test F-Score: [0.        0.8372093]\n",
      "Test Support: [ 7 18]\n",
      "Time: 11.21364140510559\n",
      "-----------------------------------------------------------------------------------\n",
      "------------------------------------- Fold 2 --------------------------------------\n",
      "Center Point: 0.0\n",
      "Train Accuracy: 0.7351598173515982\n",
      "Test Accuracy: 0.72\n",
      "Test Precision: [0.   0.72]\n",
      "Test Recall: [0. 1.]\n",
      "Test F-Score: [0.        0.8372093]\n",
      "Test Support: [ 7 18]\n",
      "Time: 11.152637720108032\n",
      "-----------------------------------------------------------------------------------\n",
      "------------------------------------- Fold 3 --------------------------------------\n",
      "Center Point: 0.0\n",
      "Train Accuracy: 0.7351598173515982\n",
      "Test Accuracy: 0.72\n",
      "Test Precision: [0.   0.72]\n",
      "Test Recall: [0. 1.]\n",
      "Test F-Score: [0.        0.8372093]\n",
      "Test Support: [ 7 18]\n",
      "Time: 11.214641332626343\n",
      "-----------------------------------------------------------------------------------\n",
      "------------------------------------- Fold 4 --------------------------------------\n",
      "Center Point: 0.0\n",
      "Train Accuracy: 0.7351598173515982\n",
      "Test Accuracy: 0.72\n",
      "Test Precision: [0.   0.72]\n",
      "Test Recall: [0. 1.]\n",
      "Test F-Score: [0.        0.8372093]\n",
      "Test Support: [ 7 18]\n",
      "Time: 11.19364047050476\n",
      "-----------------------------------------------------------------------------------\n",
      "------------------------------------- Fold 5 --------------------------------------\n",
      "Center Point: 0.0\n",
      "Train Accuracy: 0.7318181818181818\n",
      "Test Accuracy: 0.75\n",
      "Test Precision: [0.   0.75]\n",
      "Test Recall: [0. 1.]\n",
      "Test F-Score: [0.         0.85714286]\n",
      "Test Support: [ 6 18]\n",
      "Time: 11.28864574432373\n",
      "-----------------------------------------------------------------------------------\n",
      "------------------------------------- Fold 6 --------------------------------------\n",
      "Center Point: 0.0\n",
      "Train Accuracy: 0.7318181818181818\n",
      "Test Accuracy: 0.75\n",
      "Test Precision: [0.   0.75]\n",
      "Test Recall: [0. 1.]\n",
      "Test F-Score: [0.         0.85714286]\n",
      "Test Support: [ 6 18]\n",
      "Time: 11.19964075088501\n",
      "-----------------------------------------------------------------------------------\n",
      "------------------------------------- Fold 7 --------------------------------------\n",
      "Center Point: 0.0\n",
      "Train Accuracy: 0.7318181818181818\n",
      "Test Accuracy: 0.75\n",
      "Test Precision: [0.   0.75]\n",
      "Test Recall: [0. 1.]\n",
      "Test F-Score: [0.         0.85714286]\n",
      "Test Support: [ 6 18]\n",
      "Time: 11.54065990447998\n",
      "-----------------------------------------------------------------------------------\n",
      "------------------------------------- Fold 8 --------------------------------------\n",
      "Center Point: 0.0\n",
      "Train Accuracy: 0.7318181818181818\n",
      "Test Accuracy: 0.75\n",
      "Test Precision: [0.   0.75]\n",
      "Test Recall: [0. 1.]\n",
      "Test F-Score: [0.         0.85714286]\n",
      "Test Support: [ 6 18]\n",
      "Time: 11.3296480178833\n",
      "-----------------------------------------------------------------------------------\n",
      "------------------------------------- Fold 9 --------------------------------------\n",
      "Center Point: 0.0\n",
      "Train Accuracy: 0.7330316742081447\n",
      "Test Accuracy: 0.7391304347826086\n",
      "Test Precision: [0.         0.73913043]\n",
      "Test Recall: [0. 1.]\n",
      "Test F-Score: [0.   0.85]\n",
      "Test Support: [ 6 17]\n",
      "Time: 11.406652450561523\n",
      "-----------------------------------------------------------------------------------\n"
     ]
    }
   ],
   "source": [
    "best_s_function_center, mean_s_function_center = optimizeBruteForceKFold.worker(settings.variables, settings.constraints, settings.s_function_width, settings.n_folds)"
   ]
  },
  {
   "cell_type": "markdown",
   "metadata": {},
   "source": [
    "## Test Set | K-Fold Test"
   ]
  },
  {
   "cell_type": "code",
   "execution_count": 7,
   "metadata": {
    "ExecuteTime": {
     "end_time": "2019-05-03T18:49:45.365540Z",
     "start_time": "2019-05-03T18:49:43.408197Z"
    }
   },
   "outputs": [],
   "source": [
    "valueTest = ValueTest(settings.variables, settings.s_function_width, False)"
   ]
  },
  {
   "cell_type": "markdown",
   "metadata": {},
   "source": [
    "##### K-Fold Test Set | S Function Value"
   ]
  },
  {
   "cell_type": "code",
   "execution_count": 8,
   "metadata": {
    "ExecuteTime": {
     "end_time": "2019-05-03T18:49:46.558538Z",
     "start_time": "2019-05-03T18:49:45.367524Z"
    }
   },
   "outputs": [
    {
     "name": "stderr",
     "output_type": "stream",
     "text": [
      "D:\\Anaconda\\envs\\py35\\lib\\site-packages\\sklearn\\metrics\\classification.py:1135: UndefinedMetricWarning: Precision and F-score are ill-defined and being set to 0.0 in labels with no predicted samples.\n",
      "  'precision', 'predicted', average, warn_for)\n"
     ]
    },
    {
     "name": "stdout",
     "output_type": "stream",
     "text": [
      "Accuracy: 0.7419354838709677\n",
      "Precision: [0.         0.74193548]\n",
      "Recall: [0. 1.]\n",
      "F-Score: [0.         0.85185185]\n",
      "Support: [16 46]\n",
      "-----------------------------------------------------------------------------------\n",
      "Center Point: 0.0\n",
      "Test Accuracy: 0.7419354838709677\n",
      "Time: 0.15100884437561035\n",
      "-----------------------------------------------------------------------------------\n"
     ]
    }
   ],
   "source": [
    "valueTest.sOptymalizationWorker(settings.variables, best_s_function_center, \"Test Value - K-Fold - Best Function Center\")"
   ]
  },
  {
   "cell_type": "code",
   "execution_count": 9,
   "metadata": {
    "ExecuteTime": {
     "end_time": "2019-05-03T18:49:47.734540Z",
     "start_time": "2019-05-03T18:49:46.560524Z"
    }
   },
   "outputs": [
    {
     "name": "stderr",
     "output_type": "stream",
     "text": [
      "D:\\Anaconda\\envs\\py35\\lib\\site-packages\\sklearn\\metrics\\classification.py:1135: UndefinedMetricWarning: Precision and F-score are ill-defined and being set to 0.0 in labels with no predicted samples.\n",
      "  'precision', 'predicted', average, warn_for)\n"
     ]
    },
    {
     "name": "stdout",
     "output_type": "stream",
     "text": [
      "Accuracy: 0.7419354838709677\n",
      "Precision: [0.         0.74193548]\n",
      "Recall: [0. 1.]\n",
      "F-Score: [0.         0.85185185]\n",
      "Support: [16 46]\n",
      "-----------------------------------------------------------------------------------\n",
      "Center Point: 0.0\n",
      "Test Accuracy: 0.7419354838709677\n",
      "Time: 0.15100884437561035\n",
      "-----------------------------------------------------------------------------------\n"
     ]
    }
   ],
   "source": [
    "valueTest.sOptymalizationWorker(settings.variables, mean_s_function_center, \"Test Value - K-Fold - Average Function Center\")"
   ]
  },
  {
   "cell_type": "markdown",
   "metadata": {},
   "source": [
    "## Training Set"
   ]
  },
  {
   "cell_type": "markdown",
   "metadata": {},
   "source": [
    "##### Training Set | No Optymalization"
   ]
  },
  {
   "cell_type": "code",
   "execution_count": 10,
   "metadata": {
    "ExecuteTime": {
     "end_time": "2019-05-03T18:49:53.269058Z",
     "start_time": "2019-05-03T18:49:47.738525Z"
    },
    "scrolled": true
   },
   "outputs": [
    {
     "name": "stdout",
     "output_type": "stream",
     "text": [
      "Accuracy: 0.26229508196721313\n",
      "Precision: [0.26337449 0.        ]\n",
      "Recall: [0.98461538 0.        ]\n",
      "F-Score: [0.41558442 0.        ]\n",
      "Support: [ 65 179]\n",
      "-----------------------------------------------------------------------------------\n",
      "Center Point: 0.5\n",
      "Train Accuracy: 0.26229508196721313\n",
      "Time: 0.4370250701904297\n",
      "-----------------------------------------------------------------------------------\n"
     ]
    }
   ],
   "source": [
    "valueTest = ValueTest(settings.variables, settings.s_function_width, True)\n",
    "valueTest.noOptymalizationWorker(settings.variables)"
   ]
  },
  {
   "cell_type": "markdown",
   "metadata": {},
   "source": [
    "##### Training Set | S Function Optymalization"
   ]
  },
  {
   "cell_type": "code",
   "execution_count": 11,
   "metadata": {
    "ExecuteTime": {
     "end_time": "2019-05-03T18:49:55.150807Z",
     "start_time": "2019-05-03T18:49:53.271060Z"
    }
   },
   "outputs": [],
   "source": [
    "optimizeBruteForce = OptimizeBruteForce(settings.variables, settings.s_function_width)"
   ]
  },
  {
   "cell_type": "code",
   "execution_count": 12,
   "metadata": {
    "ExecuteTime": {
     "end_time": "2019-05-03T18:52:41.872055Z",
     "start_time": "2019-05-03T18:49:55.152784Z"
    }
   },
   "outputs": [
    {
     "name": "stderr",
     "output_type": "stream",
     "text": [
      "D:\\Anaconda\\envs\\py35\\lib\\site-packages\\sklearn\\metrics\\classification.py:1135: UndefinedMetricWarning: Precision and F-score are ill-defined and being set to 0.0 in labels with no predicted samples.\n",
      "  'precision', 'predicted', average, warn_for)\n"
     ]
    },
    {
     "name": "stdout",
     "output_type": "stream",
     "text": [
      "Accuracy: 0.7336065573770492\n",
      "Precision: [0.         0.73360656]\n",
      "Recall: [0. 1.]\n",
      "F-Score: [0.        0.8463357]\n",
      "Support: [ 65 179]\n",
      "-----------------------------------------------------------------------------------\n",
      "Center Point: 0.0\n",
      "Train Accuracy: 0.7336065573770492\n",
      "Time: 12.309703826904297\n",
      "-----------------------------------------------------------------------------------\n"
     ]
    }
   ],
   "source": [
    "s_function_center = optimizeBruteForce.sFunctionsWorker(settings.variables, settings.constraints, settings.s_function_width)"
   ]
  },
  {
   "cell_type": "markdown",
   "metadata": {},
   "source": [
    "##### Training Set | Threshold Optymalization"
   ]
  },
  {
   "cell_type": "code",
   "execution_count": 13,
   "metadata": {
    "ExecuteTime": {
     "end_time": "2019-05-03T18:53:47.128107Z",
     "start_time": "2019-05-03T18:52:41.876055Z"
    }
   },
   "outputs": [
    {
     "name": "stdout",
     "output_type": "stream",
     "text": [
      "Accuracy: 0.7377049180327869\n",
      "Precision: [0.6        0.74058577]\n",
      "Recall: [0.04615385 0.98882682]\n",
      "F-Score: [0.08571429 0.84688995]\n",
      "Support: [ 65 179]\n",
      "-----------------------------------------------------------------------------------\n",
      "Center Point: 0.0\n",
      "Threshold: 0.49308712461237236\n",
      "Train Accuracy: 0.7377049180327869\n",
      "Time: 2.391136884689331\n",
      "-----------------------------------------------------------------------------------\n"
     ]
    }
   ],
   "source": [
    "threshold = optimizeBruteForce.thresholdWorker(settings.variables, s_function_center, settings.s_function_width)"
   ]
  },
  {
   "cell_type": "markdown",
   "metadata": {},
   "source": [
    "## Test Set"
   ]
  },
  {
   "cell_type": "markdown",
   "metadata": {},
   "source": [
    "##### Test Set | No Optymalization "
   ]
  },
  {
   "cell_type": "code",
   "execution_count": 14,
   "metadata": {
    "ExecuteTime": {
     "end_time": "2019-05-03T18:53:50.117114Z",
     "start_time": "2019-05-03T18:53:47.130110Z"
    }
   },
   "outputs": [
    {
     "name": "stderr",
     "output_type": "stream",
     "text": [
      "D:\\Anaconda\\envs\\py35\\lib\\site-packages\\sklearn\\metrics\\classification.py:1135: UndefinedMetricWarning: Precision and F-score are ill-defined and being set to 0.0 in labels with no predicted samples.\n",
      "  'precision', 'predicted', average, warn_for)\n"
     ]
    },
    {
     "name": "stdout",
     "output_type": "stream",
     "text": [
      "Accuracy: 0.25806451612903225\n",
      "Precision: [0.25806452 0.        ]\n",
      "Recall: [1. 0.]\n",
      "F-Score: [0.41025641 0.        ]\n",
      "Support: [16 46]\n",
      "-----------------------------------------------------------------------------------\n",
      "Center Point: 0.5\n",
      "Test Accuracy: 0.25806451612903225\n",
      "Time: 0.1520087718963623\n",
      "-----------------------------------------------------------------------------------\n"
     ]
    }
   ],
   "source": [
    "valueTest = ValueTest(settings.variables, settings.s_function_width, False)\n",
    "valueTest.noOptymalizationWorker(settings.variables)"
   ]
  },
  {
   "cell_type": "markdown",
   "metadata": {},
   "source": [
    "##### Test Set | S Function Value"
   ]
  },
  {
   "cell_type": "code",
   "execution_count": 15,
   "metadata": {
    "ExecuteTime": {
     "end_time": "2019-05-03T18:53:51.570112Z",
     "start_time": "2019-05-03T18:53:50.121110Z"
    }
   },
   "outputs": [
    {
     "name": "stderr",
     "output_type": "stream",
     "text": [
      "D:\\Anaconda\\envs\\py35\\lib\\site-packages\\sklearn\\metrics\\classification.py:1135: UndefinedMetricWarning: Precision and F-score are ill-defined and being set to 0.0 in labels with no predicted samples.\n",
      "  'precision', 'predicted', average, warn_for)\n"
     ]
    },
    {
     "name": "stdout",
     "output_type": "stream",
     "text": [
      "Accuracy: 0.7419354838709677\n",
      "Precision: [0.         0.74193548]\n",
      "Recall: [0. 1.]\n",
      "F-Score: [0.         0.85185185]\n",
      "Support: [16 46]\n",
      "-----------------------------------------------------------------------------------\n",
      "Center Point: 0.0\n",
      "Test Accuracy: 0.7419354838709677\n",
      "Time: 0.1540088653564453\n",
      "-----------------------------------------------------------------------------------\n"
     ]
    }
   ],
   "source": [
    "valueTest.sOptymalizationWorker(settings.variables, s_function_center)"
   ]
  },
  {
   "cell_type": "markdown",
   "metadata": {},
   "source": [
    "##### Test Set | Threshold Value"
   ]
  },
  {
   "cell_type": "code",
   "execution_count": 16,
   "metadata": {
    "ExecuteTime": {
     "end_time": "2019-05-03T18:53:52.791108Z",
     "start_time": "2019-05-03T18:53:51.572110Z"
    }
   },
   "outputs": [
    {
     "name": "stdout",
     "output_type": "stream",
     "text": [
      "Accuracy: 0.7580645161290323\n",
      "Precision: [0.66666667 0.76271186]\n",
      "Recall: [0.125      0.97826087]\n",
      "F-Score: [0.21052632 0.85714286]\n",
      "Support: [16 46]\n",
      "-----------------------------------------------------------------------------------\n",
      "Center Point: 0.0\n",
      "Threshold: 0.49308712461237236\n",
      "Test Accuracy: 0.7580645161290323\n",
      "Time: 0.16200947761535645\n",
      "-----------------------------------------------------------------------------------\n"
     ]
    }
   ],
   "source": [
    "valueTest.thresholdWorker(settings.variables, s_function_center, threshold)"
   ]
  }
 ],
 "metadata": {
  "kernelspec": {
   "display_name": "Python 3",
   "language": "python",
   "name": "python3"
  },
  "language_info": {
   "codemirror_mode": {
    "name": "ipython",
    "version": 3
   },
   "file_extension": ".py",
   "mimetype": "text/x-python",
   "name": "python",
   "nbconvert_exporter": "python",
   "pygments_lexer": "ipython3",
   "version": "3.5.5"
  }
 },
 "nbformat": 4,
 "nbformat_minor": 2
}
