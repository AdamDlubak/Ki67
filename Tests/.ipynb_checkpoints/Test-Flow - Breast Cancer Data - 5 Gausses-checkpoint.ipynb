{
 "cells": [
  {
   "cell_type": "markdown",
   "metadata": {},
   "source": [
    "## Preparation"
   ]
  },
  {
   "cell_type": "markdown",
   "metadata": {},
   "source": [
    "##### Import Functions"
   ]
  },
  {
   "cell_type": "code",
   "execution_count": 1,
   "metadata": {
    "ExecuteTime": {
     "end_time": "2019-05-03T18:24:12.713575Z",
     "start_time": "2019-05-03T18:24:11.550576Z"
    }
   },
   "outputs": [],
   "source": [
    "from Scripts.LoadCSV import LoadCSV as LoadCSV\n",
    "from Scripts.Fuzzify import Fuzzify as Fuzzify\n",
    "from Scripts.OptimizeBruteForceKFold import OptimizeBruteForceKFold as OptimizeBruteForceKFold\n",
    "from Scripts.ValueTest import ValueTest as ValueTest\n",
    "from Scripts.OptimizeBruteForce import OptimizeBruteForce as OptimizeBruteForce"
   ]
  },
  {
   "cell_type": "markdown",
   "metadata": {},
   "source": [
    "##### Import Settings"
   ]
  },
  {
   "cell_type": "code",
   "execution_count": 2,
   "metadata": {
    "ExecuteTime": {
     "end_time": "2019-05-03T18:24:12.805575Z",
     "start_time": "2019-05-03T18:24:12.715575Z"
    }
   },
   "outputs": [],
   "source": [
    "import Settings.SettingsBreastCancerDataFiveGausses as settings"
   ]
  },
  {
   "cell_type": "markdown",
   "metadata": {},
   "source": [
    "##### Load CSV File"
   ]
  },
  {
   "cell_type": "code",
   "execution_count": 3,
   "metadata": {
    "ExecuteTime": {
     "end_time": "2019-05-03T18:24:13.022574Z",
     "start_time": "2019-05-03T18:24:12.807577Z"
    }
   },
   "outputs": [],
   "source": [
    "loadCSV = LoadCSV()\n",
    "loadCSV.worker(settings.variables)"
   ]
  },
  {
   "cell_type": "markdown",
   "metadata": {},
   "source": [
    "##### Fuzzify Data"
   ]
  },
  {
   "cell_type": "code",
   "execution_count": 4,
   "metadata": {
    "ExecuteTime": {
     "end_time": "2019-05-03T18:24:36.633827Z",
     "start_time": "2019-05-03T18:24:13.024580Z"
    }
   },
   "outputs": [],
   "source": [
    "fuzzify = Fuzzify()\n",
    "fuzzify.worker(settings.variables)"
   ]
  },
  {
   "cell_type": "markdown",
   "metadata": {},
   "source": [
    "## Train Set - K-Fold"
   ]
  },
  {
   "cell_type": "markdown",
   "metadata": {},
   "source": [
    "##### Train Set | K-Fold - S Function Optymalization"
   ]
  },
  {
   "cell_type": "code",
   "execution_count": 5,
   "metadata": {
    "ExecuteTime": {
     "end_time": "2019-05-03T18:24:38.274829Z",
     "start_time": "2019-05-03T18:24:36.636787Z"
    }
   },
   "outputs": [],
   "source": [
    "optimizeBruteForceKFold = OptimizeBruteForceKFold(settings.variables, settings.s_function_width)"
   ]
  },
  {
   "cell_type": "code",
   "execution_count": 6,
   "metadata": {
    "ExecuteTime": {
     "end_time": "2019-05-03T18:49:43.406195Z",
     "start_time": "2019-05-03T18:24:38.276786Z"
    },
    "scrolled": false
   },
   "outputs": [
    {
     "name": "stdout",
     "output_type": "stream",
     "text": [
      "------------------------------------- Fold 0 --------------------------------------\n",
      "Center Point: 0.48375\n",
      "Train Accuracy: 0.8899755501222494\n",
      "Test Accuracy: 0.8913043478260869\n",
      "Test Precision: [0.9   0.875]\n",
      "Test Recall: [0.93103448 0.82352941]\n",
      "Test F-Score: [0.91525424 0.84848485]\n",
      "Test Support: [29 17]\n",
      "Time: 77.39142656326294\n",
      "-----------------------------------------------------------------------------------\n",
      "------------------------------------- Fold 1 --------------------------------------\n",
      "Center Point: 0.48164062500000004\n",
      "Train Accuracy: 0.8899755501222494\n",
      "Test Accuracy: 0.9347826086956522\n",
      "Test Precision: [0.93333333 0.9375    ]\n",
      "Test Recall: [0.96551724 0.88235294]\n",
      "Test F-Score: [0.94915254 0.90909091]\n",
      "Test Support: [29 17]\n",
      "Time: 72.83716607093811\n",
      "-----------------------------------------------------------------------------------\n",
      "------------------------------------- Fold 2 --------------------------------------\n",
      "Center Point: 0.47531249999999997\n",
      "Train Accuracy: 0.8997555012224939\n",
      "Test Accuracy: 0.8260869565217391\n",
      "Test Precision: [0.78378378 1.        ]\n",
      "Test Recall: [1.         0.52941176]\n",
      "Test F-Score: [0.87878788 0.69230769]\n",
      "Test Support: [29 17]\n",
      "Time: 72.56615042686462\n",
      "-----------------------------------------------------------------------------------\n",
      "------------------------------------- Fold 3 --------------------------------------\n",
      "Center Point: 0.48164062500000004\n",
      "Train Accuracy: 0.8924205378973105\n",
      "Test Accuracy: 0.9130434782608695\n",
      "Test Precision: [0.87878788 1.        ]\n",
      "Test Recall: [1.         0.76470588]\n",
      "Test F-Score: [0.93548387 0.86666667]\n",
      "Test Support: [29 17]\n",
      "Time: 72.59515237808228\n",
      "-----------------------------------------------------------------------------------\n",
      "------------------------------------- Fold 4 --------------------------------------\n",
      "Center Point: 0.48164062500000004\n",
      "Train Accuracy: 0.8924205378973105\n",
      "Test Accuracy: 0.9130434782608695\n",
      "Test Precision: [0.87878788 1.        ]\n",
      "Test Recall: [1.         0.76470588]\n",
      "Test F-Score: [0.93548387 0.86666667]\n",
      "Test Support: [29 17]\n",
      "Time: 72.61415314674377\n",
      "-----------------------------------------------------------------------------------\n",
      "------------------------------------- Fold 5 --------------------------------------\n",
      "Center Point: 0.4826953125\n",
      "Train Accuracy: 0.8997555012224939\n",
      "Test Accuracy: 0.8478260869565217\n",
      "Test Precision: [0.89285714 0.77777778]\n",
      "Test Recall: [0.86206897 0.82352941]\n",
      "Test F-Score: [0.87719298 0.8       ]\n",
      "Test Support: [29 17]\n",
      "Time: 69.23295974731445\n",
      "-----------------------------------------------------------------------------------\n",
      "------------------------------------- Fold 6 --------------------------------------\n",
      "Center Point: 0.47531249999999997\n",
      "Train Accuracy: 0.8997555012224939\n",
      "Test Accuracy: 0.8260869565217391\n",
      "Test Precision: [0.8        0.90909091]\n",
      "Test Recall: [0.96551724 0.58823529]\n",
      "Test F-Score: [0.875      0.71428571]\n",
      "Test Support: [29 17]\n",
      "Time: 72.61815357208252\n",
      "-----------------------------------------------------------------------------------\n",
      "------------------------------------- Fold 7 --------------------------------------\n",
      "Center Point: 0.48164062500000004\n",
      "Train Accuracy: 0.8951219512195122\n",
      "Test Accuracy: 0.8888888888888888\n",
      "Test Precision: [0.84848485 1.        ]\n",
      "Test Recall: [1.         0.70588235]\n",
      "Test F-Score: [0.91803279 0.82758621]\n",
      "Test Support: [28 17]\n",
      "Time: 73.0091757774353\n",
      "-----------------------------------------------------------------------------------\n",
      "------------------------------------- Fold 8 --------------------------------------\n",
      "Center Point: 0.483046875\n",
      "Train Accuracy: 0.8880778588807786\n",
      "Test Accuracy: 0.9318181818181818\n",
      "Test Precision: [0.96296296 0.88235294]\n",
      "Test Recall: [0.92857143 0.9375    ]\n",
      "Test F-Score: [0.94545455 0.90909091]\n",
      "Test Support: [28 16]\n",
      "Time: 74.63126850128174\n",
      "-----------------------------------------------------------------------------------\n",
      "------------------------------------- Fold 9 --------------------------------------\n",
      "Center Point: 0.48164062500000004\n",
      "Train Accuracy: 0.9002433090024331\n",
      "Test Accuracy: 0.8409090909090909\n",
      "Test Precision: [0.83870968 0.84615385]\n",
      "Test Recall: [0.92857143 0.6875    ]\n",
      "Test F-Score: [0.88135593 0.75862069]\n",
      "Test Support: [28 16]\n",
      "Time: 73.22118806838989\n",
      "-----------------------------------------------------------------------------------\n"
     ]
    }
   ],
   "source": [
    "best_s_function_center, mean_s_function_center = optimizeBruteForceKFold.worker(settings.variables, settings.constraints, settings.s_function_width, settings.n_folds)"
   ]
  },
  {
   "cell_type": "markdown",
   "metadata": {},
   "source": [
    "## Test Set | K-Fold Test"
   ]
  },
  {
   "cell_type": "code",
   "execution_count": 7,
   "metadata": {
    "ExecuteTime": {
     "end_time": "2019-05-03T18:49:45.365540Z",
     "start_time": "2019-05-03T18:49:43.408197Z"
    }
   },
   "outputs": [],
   "source": [
    "valueTest = ValueTest(settings.variables, settings.s_function_width, False)"
   ]
  },
  {
   "cell_type": "markdown",
   "metadata": {},
   "source": [
    "##### K-Fold Test Set | S Function Value"
   ]
  },
  {
   "cell_type": "code",
   "execution_count": 8,
   "metadata": {
    "ExecuteTime": {
     "end_time": "2019-05-03T18:49:46.558538Z",
     "start_time": "2019-05-03T18:49:45.367524Z"
    }
   },
   "outputs": [
    {
     "name": "stdout",
     "output_type": "stream",
     "text": [
      "Accuracy: 0.8947368421052632\n",
      "Precision: [0.87179487 0.94444444]\n",
      "Recall: [0.97142857 0.77272727]\n",
      "F-Score: [0.91891892 0.85      ]\n",
      "Support: [70 44]\n",
      "-----------------------------------------------------------------------------------\n",
      "Center Point: 0.48164062500000004\n",
      "Test Accuracy: 0.8947368421052632\n",
      "Time: 0.605034589767456\n",
      "-----------------------------------------------------------------------------------\n"
     ]
    }
   ],
   "source": [
    "valueTest.sOptymalizationWorker(settings.variables, best_s_function_center, \"Test Value - K-Fold - Best Function Center\")"
   ]
  },
  {
   "cell_type": "code",
   "execution_count": 9,
   "metadata": {
    "ExecuteTime": {
     "end_time": "2019-05-03T18:49:47.734540Z",
     "start_time": "2019-05-03T18:49:46.560524Z"
    }
   },
   "outputs": [
    {
     "name": "stdout",
     "output_type": "stream",
     "text": [
      "Accuracy: 0.8947368421052632\n",
      "Precision: [0.87179487 0.94444444]\n",
      "Recall: [0.97142857 0.77272727]\n",
      "F-Score: [0.91891892 0.85      ]\n",
      "Support: [70 44]\n",
      "-----------------------------------------------------------------------------------\n",
      "Center Point: 0.48083203125\n",
      "Test Accuracy: 0.8947368421052632\n",
      "Time: 0.603034496307373\n",
      "-----------------------------------------------------------------------------------\n"
     ]
    }
   ],
   "source": [
    "valueTest.sOptymalizationWorker(settings.variables, mean_s_function_center, \"Test Value - K-Fold - Average Function Center\")"
   ]
  },
  {
   "cell_type": "markdown",
   "metadata": {},
   "source": [
    "## Training Set"
   ]
  },
  {
   "cell_type": "markdown",
   "metadata": {},
   "source": [
    "##### Training Set | No Optymalization"
   ]
  },
  {
   "cell_type": "code",
   "execution_count": 10,
   "metadata": {
    "ExecuteTime": {
     "end_time": "2019-05-03T18:49:53.269058Z",
     "start_time": "2019-05-03T18:49:47.738525Z"
    },
    "scrolled": true
   },
   "outputs": [
    {
     "name": "stdout",
     "output_type": "stream",
     "text": [
      "Accuracy: 0.6241758241758242\n",
      "Precision: [0.99152542 0.49554896]\n",
      "Recall: [0.40766551 0.99404762]\n",
      "F-Score: [0.57777778 0.66138614]\n",
      "Support: [287 168]\n",
      "-----------------------------------------------------------------------------------\n",
      "Center Point: 0.5\n",
      "Train Accuracy: 0.6241758241758242\n",
      "Time: 1.8071033954620361\n",
      "-----------------------------------------------------------------------------------\n"
     ]
    }
   ],
   "source": [
    "valueTest = ValueTest(settings.variables, settings.s_function_width, True)\n",
    "valueTest.noOptymalizationWorker(settings.variables)"
   ]
  },
  {
   "cell_type": "markdown",
   "metadata": {},
   "source": [
    "##### Training Set | S Function Optymalization"
   ]
  },
  {
   "cell_type": "code",
   "execution_count": 11,
   "metadata": {
    "ExecuteTime": {
     "end_time": "2019-05-03T18:49:55.150807Z",
     "start_time": "2019-05-03T18:49:53.271060Z"
    }
   },
   "outputs": [],
   "source": [
    "optimizeBruteForce = OptimizeBruteForce(settings.variables, settings.s_function_width)"
   ]
  },
  {
   "cell_type": "code",
   "execution_count": 12,
   "metadata": {
    "ExecuteTime": {
     "end_time": "2019-05-03T18:52:41.872055Z",
     "start_time": "2019-05-03T18:49:55.152784Z"
    }
   },
   "outputs": [
    {
     "name": "stdout",
     "output_type": "stream",
     "text": [
      "Accuracy: 0.8945054945054945\n",
      "Precision: [0.87936508 0.92857143]\n",
      "Recall: [0.96515679 0.77380952]\n",
      "F-Score: [0.92026578 0.84415584]\n",
      "Support: [287 168]\n",
      "-----------------------------------------------------------------------------------\n",
      "Center Point: 0.48164062500000004\n",
      "Train Accuracy: 0.8945054945054945\n",
      "Time: 80.4406008720398\n",
      "-----------------------------------------------------------------------------------\n"
     ]
    }
   ],
   "source": [
    "s_function_center = optimizeBruteForce.sFunctionsWorker(settings.variables, settings.constraints, settings.s_function_width)"
   ]
  },
  {
   "cell_type": "markdown",
   "metadata": {},
   "source": [
    "##### Training Set | Threshold Optymalization"
   ]
  },
  {
   "cell_type": "code",
   "execution_count": 13,
   "metadata": {
    "ExecuteTime": {
     "end_time": "2019-05-03T18:53:47.128107Z",
     "start_time": "2019-05-03T18:52:41.876055Z"
    }
   },
   "outputs": [
    {
     "name": "stdout",
     "output_type": "stream",
     "text": [
      "Accuracy: 0.8945054945054945\n",
      "Precision: [0.87936508 0.92857143]\n",
      "Recall: [0.96515679 0.77380952]\n",
      "F-Score: [0.92026578 0.84415584]\n",
      "Support: [287 168]\n",
      "-----------------------------------------------------------------------------------\n",
      "Center Point: 0.48164062500000004\n",
      "Threshold: 0.48139460409997537\n",
      "Train Accuracy: 0.8945054945054945\n",
      "Time: 18.414053201675415\n",
      "-----------------------------------------------------------------------------------\n"
     ]
    }
   ],
   "source": [
    "threshold = optimizeBruteForce.thresholdWorker(settings.variables, s_function_center, settings.s_function_width)"
   ]
  },
  {
   "cell_type": "markdown",
   "metadata": {},
   "source": [
    "## Test Set"
   ]
  },
  {
   "cell_type": "markdown",
   "metadata": {},
   "source": [
    "##### Test Set | No Optymalization "
   ]
  },
  {
   "cell_type": "code",
   "execution_count": 14,
   "metadata": {
    "ExecuteTime": {
     "end_time": "2019-05-03T18:53:50.117114Z",
     "start_time": "2019-05-03T18:53:47.130110Z"
    }
   },
   "outputs": [
    {
     "name": "stdout",
     "output_type": "stream",
     "text": [
      "Accuracy: 0.6666666666666666\n",
      "Precision: [0.97058824 0.5375    ]\n",
      "Recall: [0.47142857 0.97727273]\n",
      "F-Score: [0.63461538 0.69354839]\n",
      "Support: [70 44]\n",
      "-----------------------------------------------------------------------------------\n",
      "Center Point: 0.5\n",
      "Test Accuracy: 0.6666666666666666\n",
      "Time: 0.606034517288208\n",
      "-----------------------------------------------------------------------------------\n"
     ]
    }
   ],
   "source": [
    "valueTest = ValueTest(settings.variables, settings.s_function_width, False)\n",
    "valueTest.noOptymalizationWorker(settings.variables)"
   ]
  },
  {
   "cell_type": "markdown",
   "metadata": {},
   "source": [
    "##### Test Set | S Function Value"
   ]
  },
  {
   "cell_type": "code",
   "execution_count": 15,
   "metadata": {
    "ExecuteTime": {
     "end_time": "2019-05-03T18:53:51.570112Z",
     "start_time": "2019-05-03T18:53:50.121110Z"
    }
   },
   "outputs": [
    {
     "name": "stdout",
     "output_type": "stream",
     "text": [
      "Accuracy: 0.8947368421052632\n",
      "Precision: [0.87179487 0.94444444]\n",
      "Recall: [0.97142857 0.77272727]\n",
      "F-Score: [0.91891892 0.85      ]\n",
      "Support: [70 44]\n",
      "-----------------------------------------------------------------------------------\n",
      "Center Point: 0.48164062500000004\n",
      "Test Accuracy: 0.8947368421052632\n",
      "Time: 0.6260359287261963\n",
      "-----------------------------------------------------------------------------------\n"
     ]
    }
   ],
   "source": [
    "valueTest.sOptymalizationWorker(settings.variables, s_function_center)"
   ]
  },
  {
   "cell_type": "markdown",
   "metadata": {},
   "source": [
    "##### Test Set | Threshold Value"
   ]
  },
  {
   "cell_type": "code",
   "execution_count": 16,
   "metadata": {
    "ExecuteTime": {
     "end_time": "2019-05-03T18:53:52.791108Z",
     "start_time": "2019-05-03T18:53:51.572110Z"
    }
   },
   "outputs": [
    {
     "name": "stdout",
     "output_type": "stream",
     "text": [
      "Accuracy: 0.8947368421052632\n",
      "Precision: [0.87179487 0.94444444]\n",
      "Recall: [0.97142857 0.77272727]\n",
      "F-Score: [0.91891892 0.85      ]\n",
      "Support: [70 44]\n",
      "-----------------------------------------------------------------------------------\n",
      "Center Point: 0.48164062500000004\n",
      "Threshold: 0.48139460409997537\n",
      "Test Accuracy: 0.8947368421052632\n",
      "Time: 0.6320362091064453\n",
      "-----------------------------------------------------------------------------------\n"
     ]
    }
   ],
   "source": [
    "valueTest.thresholdWorker(settings.variables, s_function_center, threshold)"
   ]
  }
 ],
 "metadata": {
  "kernelspec": {
   "display_name": "Python 3",
   "language": "python",
   "name": "python3"
  },
  "language_info": {
   "codemirror_mode": {
    "name": "ipython",
    "version": 3
   },
   "file_extension": ".py",
   "mimetype": "text/x-python",
   "name": "python",
   "nbconvert_exporter": "python",
   "pygments_lexer": "ipython3",
   "version": "3.5.5"
  }
 },
 "nbformat": 4,
 "nbformat_minor": 2
}
