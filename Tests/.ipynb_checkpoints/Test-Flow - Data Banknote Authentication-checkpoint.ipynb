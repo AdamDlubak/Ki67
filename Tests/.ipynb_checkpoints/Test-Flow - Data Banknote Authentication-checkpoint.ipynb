{
 "cells": [
  {
   "cell_type": "markdown",
   "metadata": {},
   "source": [
    "## Preparation"
   ]
  },
  {
   "cell_type": "markdown",
   "metadata": {},
   "source": [
    "##### Import Functions"
   ]
  },
  {
   "cell_type": "code",
   "execution_count": 1,
   "metadata": {
    "ExecuteTime": {
     "end_time": "2019-05-03T18:24:12.713575Z",
     "start_time": "2019-05-03T18:24:11.550576Z"
    }
   },
   "outputs": [],
   "source": [
    "from Scripts.LoadCSV import LoadCSV as LoadCSV\n",
    "from Scripts.Fuzzify import Fuzzify as Fuzzify\n",
    "from Scripts.OptimizeBruteForceKFold import OptimizeBruteForceKFold as OptimizeBruteForceKFold\n",
    "from Scripts.ValueTest import ValueTest as ValueTest\n",
    "from Scripts.OptimizeBruteForce import OptimizeBruteForce as OptimizeBruteForce"
   ]
  },
  {
   "cell_type": "markdown",
   "metadata": {},
   "source": [
    "##### Import Settings"
   ]
  },
  {
   "cell_type": "code",
   "execution_count": 2,
   "metadata": {
    "ExecuteTime": {
     "end_time": "2019-05-03T18:24:12.805575Z",
     "start_time": "2019-05-03T18:24:12.715575Z"
    }
   },
   "outputs": [],
   "source": [
    "import Settings.SettingsDataBanknoteAuthentication as settings"
   ]
  },
  {
   "cell_type": "markdown",
   "metadata": {},
   "source": [
    "##### Load CSV File"
   ]
  },
  {
   "cell_type": "code",
   "execution_count": 3,
   "metadata": {
    "ExecuteTime": {
     "end_time": "2019-05-03T18:24:13.022574Z",
     "start_time": "2019-05-03T18:24:12.807577Z"
    }
   },
   "outputs": [],
   "source": [
    "loadCSV = LoadCSV()\n",
    "loadCSV.worker(settings.variables)"
   ]
  },
  {
   "cell_type": "markdown",
   "metadata": {},
   "source": [
    "##### Fuzzify Data"
   ]
  },
  {
   "cell_type": "code",
   "execution_count": 4,
   "metadata": {
    "ExecuteTime": {
     "end_time": "2019-05-03T18:24:36.633827Z",
     "start_time": "2019-05-03T18:24:13.024580Z"
    }
   },
   "outputs": [],
   "source": [
    "fuzzify = Fuzzify()\n",
    "fuzzify.worker(settings.variables)"
   ]
  },
  {
   "cell_type": "markdown",
   "metadata": {},
   "source": [
    "## Train Set - K-Fold"
   ]
  },
  {
   "cell_type": "markdown",
   "metadata": {},
   "source": [
    "##### Train Set | K-Fold - S Function Optymalization"
   ]
  },
  {
   "cell_type": "code",
   "execution_count": 5,
   "metadata": {
    "ExecuteTime": {
     "end_time": "2019-05-03T18:24:38.274829Z",
     "start_time": "2019-05-03T18:24:36.636787Z"
    }
   },
   "outputs": [],
   "source": [
    "optimizeBruteForceKFold = OptimizeBruteForceKFold(settings.variables, settings.s_function_width)"
   ]
  },
  {
   "cell_type": "code",
   "execution_count": 6,
   "metadata": {
    "ExecuteTime": {
     "end_time": "2019-05-03T18:49:43.406195Z",
     "start_time": "2019-05-03T18:24:38.276786Z"
    },
    "scrolled": false
   },
   "outputs": [
    {
     "name": "stdout",
     "output_type": "stream",
     "text": [
      "------------------------------------- Fold 0 --------------------------------------\n",
      "Center Point: 0.6956250000000002\n",
      "Train Accuracy: 0.8885511651469098\n",
      "Test Accuracy: 0.8636363636363636\n",
      "Test Precision: [0.8        0.92727273]\n",
      "Test Recall: [0.91666667 0.82258065]\n",
      "Test F-Score: [0.85436893 0.87179487]\n",
      "Test Support: [48 62]\n",
      "Time: 71.98911762237549\n",
      "-----------------------------------------------------------------------------------\n",
      "------------------------------------- Fold 1 --------------------------------------\n",
      "Center Point: 0.6846875000000001\n",
      "Train Accuracy: 0.8814589665653495\n",
      "Test Accuracy: 0.9090909090909091\n",
      "Test Precision: [0.82758621 1.        ]\n",
      "Test Recall: [1.         0.83870968]\n",
      "Test F-Score: [0.90566038 0.9122807 ]\n",
      "Test Support: [48 62]\n",
      "Time: 70.5110330581665\n",
      "-----------------------------------------------------------------------------------\n",
      "------------------------------------- Fold 2 --------------------------------------\n",
      "Center Point: 0.7262500000000001\n",
      "Train Accuracy: 0.8844984802431611\n",
      "Test Accuracy: 0.8909090909090909\n",
      "Test Precision: [0.84615385 0.93103448]\n",
      "Test Recall: [0.91666667 0.87096774]\n",
      "Test F-Score: [0.88 0.9 ]\n",
      "Test Support: [48 62]\n",
      "Time: 69.04594922065735\n",
      "-----------------------------------------------------------------------------------\n",
      "------------------------------------- Fold 3 --------------------------------------\n",
      "Center Point: 0.740625\n",
      "Train Accuracy: 0.8936170212765957\n",
      "Test Accuracy: 0.8272727272727273\n",
      "Test Precision: [0.8372093  0.82089552]\n",
      "Test Recall: [0.75       0.88709677]\n",
      "Test F-Score: [0.79120879 0.85271318]\n",
      "Test Support: [48 62]\n",
      "Time: 67.64686918258667\n",
      "-----------------------------------------------------------------------------------\n",
      "------------------------------------- Fold 4 --------------------------------------\n",
      "Center Point: 0.6956250000000002\n",
      "Train Accuracy: 0.8834853090172239\n",
      "Test Accuracy: 0.9090909090909091\n",
      "Test Precision: [0.88       0.93333333]\n",
      "Test Recall: [0.91666667 0.90322581]\n",
      "Test F-Score: [0.89795918 0.91803279]\n",
      "Test Support: [48 62]\n",
      "Time: 72.40614128112793\n",
      "-----------------------------------------------------------------------------------\n",
      "------------------------------------- Fold 5 --------------------------------------\n",
      "Center Point: 0.7262500000000001\n",
      "Train Accuracy: 0.8885511651469098\n",
      "Test Accuracy: 0.8545454545454545\n",
      "Test Precision: [0.7962963  0.91071429]\n",
      "Test Recall: [0.89583333 0.82258065]\n",
      "Test F-Score: [0.84313725 0.86440678]\n",
      "Test Support: [48 62]\n",
      "Time: 69.5619785785675\n",
      "-----------------------------------------------------------------------------------\n",
      "------------------------------------- Fold 6 --------------------------------------\n",
      "Center Point: 0.6956250000000002\n",
      "Train Accuracy: 0.8885511651469098\n",
      "Test Accuracy: 0.8636363636363636\n",
      "Test Precision: [0.78947368 0.94339623]\n",
      "Test Recall: [0.9375     0.80645161]\n",
      "Test F-Score: [0.85714286 0.86956522]\n",
      "Test Support: [48 62]\n",
      "Time: 72.47014498710632\n",
      "-----------------------------------------------------------------------------------\n",
      "------------------------------------- Fold 7 --------------------------------------\n",
      "Center Point: 0.740625\n",
      "Train Accuracy: 0.894630192502533\n",
      "Test Accuracy: 0.8181818181818182\n",
      "Test Precision: [0.75       0.88888889]\n",
      "Test Recall: [0.875      0.77419355]\n",
      "Test F-Score: [0.80769231 0.82758621]\n",
      "Test Support: [48 62]\n",
      "Time: 68.39691209793091\n",
      "-----------------------------------------------------------------------------------\n",
      "------------------------------------- Fold 8 --------------------------------------\n",
      "Center Point: 0.695625\n",
      "Train Accuracy: 0.8836032388663968\n",
      "Test Accuracy: 0.908256880733945\n",
      "Test Precision: [0.83636364 0.98148148]\n",
      "Test Recall: [0.9787234  0.85483871]\n",
      "Test F-Score: [0.90196078 0.9137931 ]\n",
      "Test Support: [47 62]\n",
      "Time: 67.06683588027954\n",
      "-----------------------------------------------------------------------------------\n",
      "------------------------------------- Fold 9 --------------------------------------\n",
      "Center Point: 0.695625\n",
      "Train Accuracy: 0.8827098078867543\n",
      "Test Accuracy: 0.9166666666666666\n",
      "Test Precision: [0.85185185 0.98148148]\n",
      "Test Recall: [0.9787234  0.86885246]\n",
      "Test F-Score: [0.91089109 0.92173913]\n",
      "Test Support: [47 61]\n",
      "Time: 68.65192675590515\n",
      "-----------------------------------------------------------------------------------\n"
     ]
    }
   ],
   "source": [
    "best_s_function_center, mean_s_function_center = optimizeBruteForceKFold.worker(settings.variables, settings.constraints, settings.s_function_width, settings.n_folds)"
   ]
  },
  {
   "cell_type": "markdown",
   "metadata": {},
   "source": [
    "## Test Set | K-Fold Test"
   ]
  },
  {
   "cell_type": "code",
   "execution_count": 7,
   "metadata": {
    "ExecuteTime": {
     "end_time": "2019-05-03T18:49:45.365540Z",
     "start_time": "2019-05-03T18:49:43.408197Z"
    }
   },
   "outputs": [],
   "source": [
    "valueTest = ValueTest(settings.variables, settings.s_function_width, False)"
   ]
  },
  {
   "cell_type": "markdown",
   "metadata": {},
   "source": [
    "##### K-Fold Test Set | S Function Value"
   ]
  },
  {
   "cell_type": "code",
   "execution_count": 8,
   "metadata": {
    "ExecuteTime": {
     "end_time": "2019-05-03T18:49:46.558538Z",
     "start_time": "2019-05-03T18:49:45.367524Z"
    }
   },
   "outputs": [
    {
     "name": "stdout",
     "output_type": "stream",
     "text": [
      "Accuracy: 0.9090909090909091\n",
      "Precision: [0.8590604  0.96825397]\n",
      "Recall: [0.96969697 0.85314685]\n",
      "F-Score: [0.91103203 0.9070632 ]\n",
      "Support: [132 143]\n",
      "-----------------------------------------------------------------------------------\n",
      "Center Point: 0.695625\n",
      "Test Accuracy: 0.9090909090909091\n",
      "Time: 0.4340248107910156\n",
      "-----------------------------------------------------------------------------------\n"
     ]
    }
   ],
   "source": [
    "valueTest.sOptymalizationWorker(settings.variables, best_s_function_center, \"Test Value - K-Fold - Best Function Center\")"
   ]
  },
  {
   "cell_type": "code",
   "execution_count": 9,
   "metadata": {
    "ExecuteTime": {
     "end_time": "2019-05-03T18:49:47.734540Z",
     "start_time": "2019-05-03T18:49:46.560524Z"
    }
   },
   "outputs": [
    {
     "name": "stdout",
     "output_type": "stream",
     "text": [
      "Accuracy: 0.9018181818181819\n",
      "Precision: [0.86206897 0.94615385]\n",
      "Recall: [0.9469697  0.86013986]\n",
      "F-Score: [0.90252708 0.9010989 ]\n",
      "Support: [132 143]\n",
      "-----------------------------------------------------------------------------------\n",
      "Center Point: 0.7096562499999999\n",
      "Test Accuracy: 0.9018181818181819\n",
      "Time: 0.43302488327026367\n",
      "-----------------------------------------------------------------------------------\n"
     ]
    }
   ],
   "source": [
    "valueTest.sOptymalizationWorker(settings.variables, mean_s_function_center, \"Test Value - K-Fold - Average Function Center\")"
   ]
  },
  {
   "cell_type": "markdown",
   "metadata": {},
   "source": [
    "## Training Set"
   ]
  },
  {
   "cell_type": "markdown",
   "metadata": {},
   "source": [
    "##### Training Set | No Optymalization"
   ]
  },
  {
   "cell_type": "code",
   "execution_count": 10,
   "metadata": {
    "ExecuteTime": {
     "end_time": "2019-05-03T18:49:53.269058Z",
     "start_time": "2019-05-03T18:49:47.738525Z"
    },
    "scrolled": true
   },
   "outputs": [
    {
     "name": "stdout",
     "output_type": "stream",
     "text": [
      "Accuracy: 0.6973564266180492\n",
      "Precision: [0.59012346 1.        ]\n",
      "Recall: [1.         0.46365105]\n",
      "F-Score: [0.74223602 0.63355408]\n",
      "Support: [478 619]\n",
      "-----------------------------------------------------------------------------------\n",
      "Center Point: 0.5\n",
      "Train Accuracy: 0.6973564266180492\n",
      "Time: 1.7050974369049072\n",
      "-----------------------------------------------------------------------------------\n"
     ]
    }
   ],
   "source": [
    "valueTest = ValueTest(settings.variables, settings.s_function_width, True)\n",
    "valueTest.noOptymalizationWorker(settings.variables)"
   ]
  },
  {
   "cell_type": "markdown",
   "metadata": {},
   "source": [
    "##### Training Set | S Function Optymalization"
   ]
  },
  {
   "cell_type": "code",
   "execution_count": 11,
   "metadata": {
    "ExecuteTime": {
     "end_time": "2019-05-03T18:49:55.150807Z",
     "start_time": "2019-05-03T18:49:53.271060Z"
    }
   },
   "outputs": [],
   "source": [
    "optimizeBruteForce = OptimizeBruteForce(settings.variables, settings.s_function_width)"
   ]
  },
  {
   "cell_type": "code",
   "execution_count": 12,
   "metadata": {
    "ExecuteTime": {
     "end_time": "2019-05-03T18:52:41.872055Z",
     "start_time": "2019-05-03T18:49:55.152784Z"
    }
   },
   "outputs": [
    {
     "name": "stdout",
     "output_type": "stream",
     "text": [
      "Accuracy: 0.886052871467639\n",
      "Precision: [0.82149362 0.95072993]\n",
      "Recall: [0.94351464 0.84168013]\n",
      "F-Score: [0.87828627 0.89288775]\n",
      "Support: [478 619]\n",
      "-----------------------------------------------------------------------------------\n",
      "Center Point: 0.6956250000000002\n",
      "Train Accuracy: 0.886052871467639\n",
      "Time: 81.00363326072693\n",
      "-----------------------------------------------------------------------------------\n"
     ]
    }
   ],
   "source": [
    "s_function_center = optimizeBruteForce.sFunctionsWorker(settings.variables, settings.constraints, settings.s_function_width)"
   ]
  },
  {
   "cell_type": "markdown",
   "metadata": {},
   "source": [
    "##### Training Set | Threshold Optymalization"
   ]
  },
  {
   "cell_type": "code",
   "execution_count": 13,
   "metadata": {
    "ExecuteTime": {
     "end_time": "2019-05-03T18:53:47.128107Z",
     "start_time": "2019-05-03T18:52:41.876055Z"
    }
   },
   "outputs": [
    {
     "name": "stdout",
     "output_type": "stream",
     "text": [
      "Accuracy: 0.886964448495898\n",
      "Precision: [0.8229927  0.95081967]\n",
      "Recall: [0.94351464 0.84329564]\n",
      "F-Score: [0.8791423  0.89383562]\n",
      "Support: [478 619]\n",
      "-----------------------------------------------------------------------------------\n",
      "Center Point: 0.6956250000000002\n",
      "Threshold: 0.6972720425913992\n",
      "Train Accuracy: 0.886964448495898\n",
      "Time: 58.8163640499115\n",
      "-----------------------------------------------------------------------------------\n"
     ]
    }
   ],
   "source": [
    "threshold = optimizeBruteForce.thresholdWorker(settings.variables, s_function_center, settings.s_function_width)"
   ]
  },
  {
   "cell_type": "markdown",
   "metadata": {},
   "source": [
    "## Test Set"
   ]
  },
  {
   "cell_type": "markdown",
   "metadata": {},
   "source": [
    "##### Test Set | No Optymalization "
   ]
  },
  {
   "cell_type": "code",
   "execution_count": 14,
   "metadata": {
    "ExecuteTime": {
     "end_time": "2019-05-03T18:53:50.117114Z",
     "start_time": "2019-05-03T18:53:47.130110Z"
    }
   },
   "outputs": [
    {
     "name": "stdout",
     "output_type": "stream",
     "text": [
      "Accuracy: 0.730909090909091\n",
      "Precision: [0.6407767 1.       ]\n",
      "Recall: [1.         0.48251748]\n",
      "F-Score: [0.78106509 0.6509434 ]\n",
      "Support: [132 143]\n",
      "-----------------------------------------------------------------------------------\n",
      "Center Point: 0.5\n",
      "Test Accuracy: 0.730909090909091\n",
      "Time: 0.42902469635009766\n",
      "-----------------------------------------------------------------------------------\n"
     ]
    }
   ],
   "source": [
    "valueTest = ValueTest(settings.variables, settings.s_function_width, False)\n",
    "valueTest.noOptymalizationWorker(settings.variables)"
   ]
  },
  {
   "cell_type": "markdown",
   "metadata": {},
   "source": [
    "##### Test Set | S Function Value"
   ]
  },
  {
   "cell_type": "code",
   "execution_count": 15,
   "metadata": {
    "ExecuteTime": {
     "end_time": "2019-05-03T18:53:51.570112Z",
     "start_time": "2019-05-03T18:53:50.121110Z"
    }
   },
   "outputs": [
    {
     "name": "stdout",
     "output_type": "stream",
     "text": [
      "Accuracy: 0.9090909090909091\n",
      "Precision: [0.8590604  0.96825397]\n",
      "Recall: [0.96969697 0.85314685]\n",
      "F-Score: [0.91103203 0.9070632 ]\n",
      "Support: [132 143]\n",
      "-----------------------------------------------------------------------------------\n",
      "Center Point: 0.6956250000000002\n",
      "Test Accuracy: 0.9090909090909091\n",
      "Time: 0.4370248317718506\n",
      "-----------------------------------------------------------------------------------\n"
     ]
    }
   ],
   "source": [
    "valueTest.sOptymalizationWorker(settings.variables, s_function_center)"
   ]
  },
  {
   "cell_type": "markdown",
   "metadata": {},
   "source": [
    "##### Test Set | Threshold Value"
   ]
  },
  {
   "cell_type": "code",
   "execution_count": 16,
   "metadata": {
    "ExecuteTime": {
     "end_time": "2019-05-03T18:53:52.791108Z",
     "start_time": "2019-05-03T18:53:51.572110Z"
    }
   },
   "outputs": [
    {
     "name": "stdout",
     "output_type": "stream",
     "text": [
      "Accuracy: 0.9090909090909091\n",
      "Precision: [0.8590604  0.96825397]\n",
      "Recall: [0.96969697 0.85314685]\n",
      "F-Score: [0.91103203 0.9070632 ]\n",
      "Support: [132 143]\n",
      "-----------------------------------------------------------------------------------\n",
      "Center Point: 0.6956250000000002\n",
      "Threshold: 0.6972720425913992\n",
      "Test Accuracy: 0.9090909090909091\n",
      "Time: 0.4560260772705078\n",
      "-----------------------------------------------------------------------------------\n"
     ]
    }
   ],
   "source": [
    "valueTest.thresholdWorker(settings.variables, s_function_center, threshold)"
   ]
  }
 ],
 "metadata": {
  "kernelspec": {
   "display_name": "Python 3",
   "language": "python",
   "name": "python3"
  },
  "language_info": {
   "codemirror_mode": {
    "name": "ipython",
    "version": 3
   },
   "file_extension": ".py",
   "mimetype": "text/x-python",
   "name": "python",
   "nbconvert_exporter": "python",
   "pygments_lexer": "ipython3",
   "version": "3.5.5"
  }
 },
 "nbformat": 4,
 "nbformat_minor": 2
}
