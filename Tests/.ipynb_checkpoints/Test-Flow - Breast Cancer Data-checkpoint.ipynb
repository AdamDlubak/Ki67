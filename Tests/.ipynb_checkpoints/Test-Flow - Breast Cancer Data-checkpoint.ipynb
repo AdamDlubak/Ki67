{
 "cells": [
  {
   "cell_type": "markdown",
   "metadata": {},
   "source": [
    "## Preparation"
   ]
  },
  {
   "cell_type": "markdown",
   "metadata": {},
   "source": [
    "##### Import Functions"
   ]
  },
  {
   "cell_type": "code",
   "execution_count": 1,
   "metadata": {
    "ExecuteTime": {
     "end_time": "2019-05-03T18:24:12.713575Z",
     "start_time": "2019-05-03T18:24:11.550576Z"
    }
   },
   "outputs": [],
   "source": [
    "from Scripts.LoadCSV import LoadCSV as LoadCSV\n",
    "from Scripts.Fuzzify import Fuzzify as Fuzzify\n",
    "from Scripts.OptimizeBruteForceKFold import OptimizeBruteForceKFold as OptimizeBruteForceKFold\n",
    "from Scripts.ValueTest import ValueTest as ValueTest\n",
    "from Scripts.OptimizeBruteForce import OptimizeBruteForce as OptimizeBruteForce"
   ]
  },
  {
   "cell_type": "markdown",
   "metadata": {},
   "source": [
    "##### Import Settings"
   ]
  },
  {
   "cell_type": "code",
   "execution_count": 2,
   "metadata": {
    "ExecuteTime": {
     "end_time": "2019-05-03T18:24:12.805575Z",
     "start_time": "2019-05-03T18:24:12.715575Z"
    }
   },
   "outputs": [],
   "source": [
    "import Settings.SettingsBreastCancerData as settings"
   ]
  },
  {
   "cell_type": "markdown",
   "metadata": {},
   "source": [
    "##### Load CSV File"
   ]
  },
  {
   "cell_type": "code",
   "execution_count": 3,
   "metadata": {
    "ExecuteTime": {
     "end_time": "2019-05-03T18:24:13.022574Z",
     "start_time": "2019-05-03T18:24:12.807577Z"
    }
   },
   "outputs": [],
   "source": [
    "loadCSV = LoadCSV()\n",
    "loadCSV.worker(settings.variables)"
   ]
  },
  {
   "cell_type": "markdown",
   "metadata": {},
   "source": [
    "##### Fuzzify Data"
   ]
  },
  {
   "cell_type": "code",
   "execution_count": 4,
   "metadata": {
    "ExecuteTime": {
     "end_time": "2019-05-03T18:24:36.633827Z",
     "start_time": "2019-05-03T18:24:13.024580Z"
    }
   },
   "outputs": [],
   "source": [
    "fuzzify = Fuzzify()\n",
    "fuzzify.worker(settings.variables)"
   ]
  },
  {
   "cell_type": "markdown",
   "metadata": {},
   "source": [
    "## Train Set - K-Fold"
   ]
  },
  {
   "cell_type": "markdown",
   "metadata": {},
   "source": [
    "##### Train Set | K-Fold - S Function Optymalization"
   ]
  },
  {
   "cell_type": "code",
   "execution_count": 5,
   "metadata": {
    "ExecuteTime": {
     "end_time": "2019-05-03T18:24:38.274829Z",
     "start_time": "2019-05-03T18:24:36.636787Z"
    }
   },
   "outputs": [],
   "source": [
    "optimizeBruteForceKFold = OptimizeBruteForceKFold(settings.variables, settings.s_function_width)"
   ]
  },
  {
   "cell_type": "code",
   "execution_count": 6,
   "metadata": {
    "ExecuteTime": {
     "end_time": "2019-05-03T18:49:43.406195Z",
     "start_time": "2019-05-03T18:24:38.276786Z"
    },
    "scrolled": false
   },
   "outputs": [
    {
     "name": "stdout",
     "output_type": "stream",
     "text": [
      "------------------------------------- Fold 0 --------------------------------------\n",
      "Center Point: 0.8\n",
      "Train Accuracy: 0.8973105134474327\n",
      "Test Accuracy: 0.8913043478260869\n",
      "Test Precision: [0.875      0.92857143]\n",
      "Test Recall: [0.96551724 0.76470588]\n",
      "Test F-Score: [0.91803279 0.83870968]\n",
      "Test Support: [29 17]\n",
      "Time: 37.18412709236145\n",
      "-----------------------------------------------------------------------------------\n",
      "------------------------------------- Fold 1 --------------------------------------\n",
      "Center Point: 0.8\n",
      "Train Accuracy: 0.8948655256723717\n",
      "Test Accuracy: 0.9130434782608695\n",
      "Test Precision: [0.87878788 1.        ]\n",
      "Test Recall: [1.         0.76470588]\n",
      "Test F-Score: [0.93548387 0.86666667]\n",
      "Test Support: [29 17]\n",
      "Time: 37.09412169456482\n",
      "-----------------------------------------------------------------------------------\n",
      "------------------------------------- Fold 2 --------------------------------------\n",
      "Center Point: 0.8\n",
      "Train Accuracy: 0.8899755501222494\n",
      "Test Accuracy: 0.9565217391304348\n",
      "Test Precision: [0.93548387 1.        ]\n",
      "Test Recall: [1.         0.88235294]\n",
      "Test F-Score: [0.96666667 0.9375    ]\n",
      "Test Support: [29 17]\n",
      "Time: 37.13412404060364\n",
      "-----------------------------------------------------------------------------------\n",
      "------------------------------------- Fold 3 --------------------------------------\n",
      "Center Point: 0.8\n",
      "Train Accuracy: 0.8973105134474327\n",
      "Test Accuracy: 0.8913043478260869\n",
      "Test Precision: [0.92857143 0.83333333]\n",
      "Test Recall: [0.89655172 0.88235294]\n",
      "Test F-Score: [0.9122807  0.85714286]\n",
      "Test Support: [29 17]\n",
      "Time: 37.21612858772278\n",
      "-----------------------------------------------------------------------------------\n",
      "------------------------------------- Fold 4 --------------------------------------\n",
      "Center Point: 0.8\n",
      "Train Accuracy: 0.8997555012224939\n",
      "Test Accuracy: 0.8695652173913043\n",
      "Test Precision: [0.89655172 0.82352941]\n",
      "Test Recall: [0.89655172 0.82352941]\n",
      "Test F-Score: [0.89655172 0.82352941]\n",
      "Test Support: [29 17]\n",
      "Time: 37.26413130760193\n",
      "-----------------------------------------------------------------------------------\n",
      "------------------------------------- Fold 5 --------------------------------------\n",
      "Center Point: 0.8\n",
      "Train Accuracy: 0.8924205378973105\n",
      "Test Accuracy: 0.9347826086956522\n",
      "Test Precision: [0.90625 1.     ]\n",
      "Test Recall: [1.         0.82352941]\n",
      "Test F-Score: [0.95081967 0.90322581]\n",
      "Test Support: [29 17]\n",
      "Time: 37.16412568092346\n",
      "-----------------------------------------------------------------------------------\n",
      "------------------------------------- Fold 6 --------------------------------------\n",
      "Center Point: 0.8\n",
      "Train Accuracy: 0.9046454767726161\n",
      "Test Accuracy: 0.8260869565217391\n",
      "Test Precision: [0.8        0.90909091]\n",
      "Test Recall: [0.96551724 0.58823529]\n",
      "Test F-Score: [0.875      0.71428571]\n",
      "Test Support: [29 17]\n",
      "Time: 37.19212746620178\n",
      "-----------------------------------------------------------------------------------\n",
      "------------------------------------- Fold 7 --------------------------------------\n",
      "Center Point: 0.8\n",
      "Train Accuracy: 0.8975609756097561\n",
      "Test Accuracy: 0.8888888888888888\n",
      "Test Precision: [0.875      0.92307692]\n",
      "Test Recall: [0.96551724 0.75      ]\n",
      "Test F-Score: [0.91803279 0.82758621]\n",
      "Test Support: [29 16]\n",
      "Time: 36.73010063171387\n",
      "-----------------------------------------------------------------------------------\n",
      "------------------------------------- Fold 8 --------------------------------------\n",
      "Center Point: 0.8\n",
      "Train Accuracy: 0.902676399026764\n",
      "Test Accuracy: 0.8409090909090909\n",
      "Test Precision: [0.81818182 0.90909091]\n",
      "Test Recall: [0.96428571 0.625     ]\n",
      "Test F-Score: [0.8852459  0.74074074]\n",
      "Test Support: [28 16]\n",
      "Time: 37.38913869857788\n",
      "-----------------------------------------------------------------------------------\n",
      "------------------------------------- Fold 9 --------------------------------------\n",
      "Center Point: 0.81\n",
      "Train Accuracy: 0.8929440389294404\n",
      "Test Accuracy: 0.9318181818181818\n",
      "Test Precision: [0.93103448 0.93333333]\n",
      "Test Recall: [0.96428571 0.875     ]\n",
      "Test F-Score: [0.94736842 0.90322581]\n",
      "Test Support: [28 16]\n",
      "Time: 39.15523934364319\n",
      "-----------------------------------------------------------------------------------\n"
     ]
    }
   ],
   "source": [
    "best_s_function_center, mean_s_function_center = optimizeBruteForceKFold.worker(settings.variables, settings.constraints, settings.s_function_width, settings.n_folds)"
   ]
  },
  {
   "cell_type": "markdown",
   "metadata": {},
   "source": [
    "## Test Set | K-Fold Test"
   ]
  },
  {
   "cell_type": "code",
   "execution_count": 7,
   "metadata": {
    "ExecuteTime": {
     "end_time": "2019-05-03T18:49:45.365540Z",
     "start_time": "2019-05-03T18:49:43.408197Z"
    }
   },
   "outputs": [],
   "source": [
    "valueTest = ValueTest(settings.variables, settings.s_function_width, False)"
   ]
  },
  {
   "cell_type": "markdown",
   "metadata": {},
   "source": [
    "##### K-Fold Test Set | S Function Value"
   ]
  },
  {
   "cell_type": "code",
   "execution_count": 8,
   "metadata": {
    "ExecuteTime": {
     "end_time": "2019-05-03T18:49:46.558538Z",
     "start_time": "2019-05-03T18:49:45.367524Z"
    }
   },
   "outputs": [
    {
     "name": "stdout",
     "output_type": "stream",
     "text": [
      "Accuracy: 0.8771929824561403\n",
      "Precision: [0.84810127 0.94285714]\n",
      "Recall: [0.97101449 0.73333333]\n",
      "F-Score: [0.90540541 0.825     ]\n",
      "Support: [69 45]\n",
      "-----------------------------------------------------------------------------------\n",
      "Center Point: 0.8\n",
      "Test Accuracy: 0.8771929824561403\n",
      "Time: 0.2500143051147461\n",
      "-----------------------------------------------------------------------------------\n"
     ]
    }
   ],
   "source": [
    "valueTest.sOptymalizationWorker(settings.variables, best_s_function_center, \"Test Value - K-Fold - Best Function Center\")"
   ]
  },
  {
   "cell_type": "code",
   "execution_count": 9,
   "metadata": {
    "ExecuteTime": {
     "end_time": "2019-05-03T18:49:47.734540Z",
     "start_time": "2019-05-03T18:49:46.560524Z"
    }
   },
   "outputs": [
    {
     "name": "stdout",
     "output_type": "stream",
     "text": [
      "Accuracy: 0.8771929824561403\n",
      "Precision: [0.84810127 0.94285714]\n",
      "Recall: [0.97101449 0.73333333]\n",
      "F-Score: [0.90540541 0.825     ]\n",
      "Support: [69 45]\n",
      "-----------------------------------------------------------------------------------\n",
      "Center Point: 0.8009999999999999\n",
      "Test Accuracy: 0.8771929824561403\n",
      "Time: 0.2560148239135742\n",
      "-----------------------------------------------------------------------------------\n"
     ]
    }
   ],
   "source": [
    "valueTest.sOptymalizationWorker(settings.variables, mean_s_function_center, \"Test Value - K-Fold - Average Function Center\")"
   ]
  },
  {
   "cell_type": "markdown",
   "metadata": {},
   "source": [
    "## Training Set"
   ]
  },
  {
   "cell_type": "markdown",
   "metadata": {},
   "source": [
    "##### Training Set | No Optymalization"
   ]
  },
  {
   "cell_type": "code",
   "execution_count": 10,
   "metadata": {
    "ExecuteTime": {
     "end_time": "2019-05-03T18:49:53.269058Z",
     "start_time": "2019-05-03T18:49:47.738525Z"
    },
    "scrolled": true
   },
   "outputs": [
    {
     "name": "stdout",
     "output_type": "stream",
     "text": [
      "Accuracy: 0.789010989010989\n",
      "Precision: [0.75 1.  ]\n",
      "Recall: [1.        0.4251497]\n",
      "F-Score: [0.85714286 0.59663866]\n",
      "Support: [288 167]\n",
      "-----------------------------------------------------------------------------------\n",
      "Center Point: 0.5\n",
      "Train Accuracy: 0.789010989010989\n",
      "Time: 0.9010517597198486\n",
      "-----------------------------------------------------------------------------------\n"
     ]
    }
   ],
   "source": [
    "valueTest = ValueTest(settings.variables, settings.s_function_width, True)\n",
    "valueTest.noOptymalizationWorker(settings.variables)"
   ]
  },
  {
   "cell_type": "markdown",
   "metadata": {},
   "source": [
    "##### Training Set | S Function Optymalization"
   ]
  },
  {
   "cell_type": "code",
   "execution_count": 11,
   "metadata": {
    "ExecuteTime": {
     "end_time": "2019-05-03T18:49:55.150807Z",
     "start_time": "2019-05-03T18:49:53.271060Z"
    }
   },
   "outputs": [],
   "source": [
    "optimizeBruteForce = OptimizeBruteForce(settings.variables, settings.s_function_width)"
   ]
  },
  {
   "cell_type": "code",
   "execution_count": 12,
   "metadata": {
    "ExecuteTime": {
     "end_time": "2019-05-03T18:52:41.872055Z",
     "start_time": "2019-05-03T18:49:55.152784Z"
    }
   },
   "outputs": [
    {
     "name": "stdout",
     "output_type": "stream",
     "text": [
      "Accuracy: 0.8967032967032967\n",
      "Precision: [0.88253968 0.92857143]\n",
      "Recall: [0.96527778 0.77844311]\n",
      "F-Score: [0.92205638 0.84690554]\n",
      "Support: [288 167]\n",
      "-----------------------------------------------------------------------------------\n",
      "Center Point: 0.8\n",
      "Train Accuracy: 0.8967032967032967\n",
      "Time: 41.31236290931702\n",
      "-----------------------------------------------------------------------------------\n"
     ]
    }
   ],
   "source": [
    "s_function_center = optimizeBruteForce.sFunctionsWorker(settings.variables, settings.constraints, settings.s_function_width)"
   ]
  },
  {
   "cell_type": "markdown",
   "metadata": {},
   "source": [
    "##### Training Set | Threshold Optymalization"
   ]
  },
  {
   "cell_type": "code",
   "execution_count": 13,
   "metadata": {
    "ExecuteTime": {
     "end_time": "2019-05-03T18:53:47.128107Z",
     "start_time": "2019-05-03T18:52:41.876055Z"
    }
   },
   "outputs": [
    {
     "name": "stdout",
     "output_type": "stream",
     "text": [
      "Accuracy: 0.8989010989010989\n",
      "Precision: [0.8757764  0.95488722]\n",
      "Recall: [0.97916667 0.76047904]\n",
      "F-Score: [0.92459016 0.84666667]\n",
      "Support: [288 167]\n",
      "-----------------------------------------------------------------------------------\n",
      "Center Point: 0.8\n",
      "Threshold: 0.7655540528351277\n",
      "Train Accuracy: 0.8989010989010989\n",
      "Time: 26.27750301361084\n",
      "-----------------------------------------------------------------------------------\n"
     ]
    }
   ],
   "source": [
    "threshold = optimizeBruteForce.thresholdWorker(settings.variables, s_function_center, settings.s_function_width)"
   ]
  },
  {
   "cell_type": "markdown",
   "metadata": {},
   "source": [
    "## Test Set"
   ]
  },
  {
   "cell_type": "markdown",
   "metadata": {},
   "source": [
    "##### Test Set | No Optymalization "
   ]
  },
  {
   "cell_type": "code",
   "execution_count": 14,
   "metadata": {
    "ExecuteTime": {
     "end_time": "2019-05-03T18:53:50.117114Z",
     "start_time": "2019-05-03T18:53:47.130110Z"
    }
   },
   "outputs": [
    {
     "name": "stdout",
     "output_type": "stream",
     "text": [
      "Accuracy: 0.7807017543859649\n",
      "Precision: [0.73404255 1.        ]\n",
      "Recall: [1.         0.44444444]\n",
      "F-Score: [0.84662577 0.61538462]\n",
      "Support: [69 45]\n",
      "-----------------------------------------------------------------------------------\n",
      "Center Point: 0.5\n",
      "Test Accuracy: 0.7807017543859649\n",
      "Time: 0.25101423263549805\n",
      "-----------------------------------------------------------------------------------\n"
     ]
    }
   ],
   "source": [
    "valueTest = ValueTest(settings.variables, settings.s_function_width, False)\n",
    "valueTest.noOptymalizationWorker(settings.variables)"
   ]
  },
  {
   "cell_type": "markdown",
   "metadata": {},
   "source": [
    "##### Test Set | S Function Value"
   ]
  },
  {
   "cell_type": "code",
   "execution_count": 15,
   "metadata": {
    "ExecuteTime": {
     "end_time": "2019-05-03T18:53:51.570112Z",
     "start_time": "2019-05-03T18:53:50.121110Z"
    }
   },
   "outputs": [
    {
     "name": "stdout",
     "output_type": "stream",
     "text": [
      "Accuracy: 0.8771929824561403\n",
      "Precision: [0.84810127 0.94285714]\n",
      "Recall: [0.97101449 0.73333333]\n",
      "F-Score: [0.90540541 0.825     ]\n",
      "Support: [69 45]\n",
      "-----------------------------------------------------------------------------------\n",
      "Center Point: 0.8\n",
      "Test Accuracy: 0.8771929824561403\n",
      "Time: 0.25101447105407715\n",
      "-----------------------------------------------------------------------------------\n"
     ]
    }
   ],
   "source": [
    "valueTest.sOptymalizationWorker(settings.variables, s_function_center)"
   ]
  },
  {
   "cell_type": "markdown",
   "metadata": {},
   "source": [
    "##### Test Set | Threshold Value"
   ]
  },
  {
   "cell_type": "code",
   "execution_count": 16,
   "metadata": {
    "ExecuteTime": {
     "end_time": "2019-05-03T18:53:52.791108Z",
     "start_time": "2019-05-03T18:53:51.572110Z"
    }
   },
   "outputs": [
    {
     "name": "stdout",
     "output_type": "stream",
     "text": [
      "Accuracy: 0.8596491228070176\n",
      "Precision: [0.82716049 0.93939394]\n",
      "Recall: [0.97101449 0.68888889]\n",
      "F-Score: [0.89333333 0.79487179]\n",
      "Support: [69 45]\n",
      "-----------------------------------------------------------------------------------\n",
      "Center Point: 0.8\n",
      "Threshold: 0.7655540528351277\n",
      "Test Accuracy: 0.8596491228070176\n",
      "Time: 0.2710154056549072\n",
      "-----------------------------------------------------------------------------------\n"
     ]
    }
   ],
   "source": [
    "valueTest.thresholdWorker(settings.variables, s_function_center, threshold)"
   ]
  }
 ],
 "metadata": {
  "kernelspec": {
   "display_name": "Python 3",
   "language": "python",
   "name": "python3"
  },
  "language_info": {
   "codemirror_mode": {
    "name": "ipython",
    "version": 3
   },
   "file_extension": ".py",
   "mimetype": "text/x-python",
   "name": "python",
   "nbconvert_exporter": "python",
   "pygments_lexer": "ipython3",
   "version": "3.5.5"
  }
 },
 "nbformat": 4,
 "nbformat_minor": 2
}
