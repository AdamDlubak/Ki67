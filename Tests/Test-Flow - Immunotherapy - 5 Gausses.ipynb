{
 "cells": [
  {
   "cell_type": "markdown",
   "metadata": {},
   "source": [
    "## Preparation"
   ]
  },
  {
   "cell_type": "markdown",
   "metadata": {},
   "source": [
    "##### Import Functions"
   ]
  },
  {
   "cell_type": "code",
   "execution_count": 1,
   "metadata": {
    "ExecuteTime": {
     "end_time": "2019-05-03T18:24:12.713575Z",
     "start_time": "2019-05-03T18:24:11.550576Z"
    }
   },
   "outputs": [],
   "source": [
    "from Scripts.LoadCSV import LoadCSV as LoadCSV\n",
    "from Scripts.Fuzzify import Fuzzify as Fuzzify\n",
    "from Scripts.OptimizeBruteForceKFold import OptimizeBruteForceKFold as OptimizeBruteForceKFold\n",
    "from Scripts.ValueTest import ValueTest as ValueTest\n",
    "from Scripts.OptimizeBruteForce import OptimizeBruteForce as OptimizeBruteForce"
   ]
  },
  {
   "cell_type": "markdown",
   "metadata": {},
   "source": [
    "##### Import Settings"
   ]
  },
  {
   "cell_type": "code",
   "execution_count": 2,
   "metadata": {
    "ExecuteTime": {
     "end_time": "2019-05-03T18:24:12.805575Z",
     "start_time": "2019-05-03T18:24:12.715575Z"
    }
   },
   "outputs": [],
   "source": [
    "import Settings.SettingsImmunotherapyFiveGausses as settings"
   ]
  },
  {
   "cell_type": "markdown",
   "metadata": {},
   "source": [
    "##### Load CSV File"
   ]
  },
  {
   "cell_type": "code",
   "execution_count": 3,
   "metadata": {
    "ExecuteTime": {
     "end_time": "2019-05-03T18:24:13.022574Z",
     "start_time": "2019-05-03T18:24:12.807577Z"
    }
   },
   "outputs": [],
   "source": [
    "loadCSV = LoadCSV()\n",
    "loadCSV.worker(settings.variables)"
   ]
  },
  {
   "cell_type": "markdown",
   "metadata": {},
   "source": [
    "##### Fuzzify Data"
   ]
  },
  {
   "cell_type": "code",
   "execution_count": 4,
   "metadata": {
    "ExecuteTime": {
     "end_time": "2019-05-03T18:24:36.633827Z",
     "start_time": "2019-05-03T18:24:13.024580Z"
    }
   },
   "outputs": [],
   "source": [
    "fuzzify = Fuzzify()\n",
    "fuzzify.worker(settings.variables)"
   ]
  },
  {
   "cell_type": "markdown",
   "metadata": {},
   "source": [
    "## Train Set - K-Fold"
   ]
  },
  {
   "cell_type": "markdown",
   "metadata": {},
   "source": [
    "##### Train Set | K-Fold - S Function Optymalization"
   ]
  },
  {
   "cell_type": "code",
   "execution_count": 5,
   "metadata": {
    "ExecuteTime": {
     "end_time": "2019-05-03T18:24:38.274829Z",
     "start_time": "2019-05-03T18:24:36.636787Z"
    }
   },
   "outputs": [],
   "source": [
    "optimizeBruteForceKFold = OptimizeBruteForceKFold(settings.variables, settings.s_function_width)"
   ]
  },
  {
   "cell_type": "code",
   "execution_count": 6,
   "metadata": {
    "ExecuteTime": {
     "end_time": "2019-05-03T18:49:43.406195Z",
     "start_time": "2019-05-03T18:24:38.276786Z"
    },
    "scrolled": false
   },
   "outputs": [
    {
     "name": "stderr",
     "output_type": "stream",
     "text": [
      "D:\\Anaconda\\envs\\py35\\lib\\site-packages\\sklearn\\metrics\\classification.py:1135: UndefinedMetricWarning: Precision and F-score are ill-defined and being set to 0.0 in labels with no predicted samples.\n",
      "  'precision', 'predicted', average, warn_for)\n"
     ]
    },
    {
     "data": {
      "text/html": [
       "<div>\n",
       "<style scoped>\n",
       "    .dataframe tbody tr th:only-of-type {\n",
       "        vertical-align: middle;\n",
       "    }\n",
       "\n",
       "    .dataframe tbody tr th {\n",
       "        vertical-align: top;\n",
       "    }\n",
       "\n",
       "    .dataframe thead th {\n",
       "        text-align: right;\n",
       "    }\n",
       "</style>\n",
       "<table border=\"1\" class=\"dataframe\">\n",
       "  <thead>\n",
       "    <tr style=\"text-align: right;\">\n",
       "      <th></th>\n",
       "      <th>F3</th>\n",
       "      <th>F4</th>\n",
       "      <th>F0</th>\n",
       "      <th>F6</th>\n",
       "      <th>F5</th>\n",
       "      <th>F1</th>\n",
       "      <th>F2</th>\n",
       "      <th>Decision</th>\n",
       "      <th>Decision Fuzzy</th>\n",
       "      <th>Predicted Value</th>\n",
       "    </tr>\n",
       "  </thead>\n",
       "  <tbody>\n",
       "    <tr>\n",
       "      <th>69</th>\n",
       "      <td>0.388889</td>\n",
       "      <td>0.0</td>\n",
       "      <td>1.0</td>\n",
       "      <td>0.044118</td>\n",
       "      <td>0.057047</td>\n",
       "      <td>0.780488</td>\n",
       "      <td>0.886364</td>\n",
       "      <td>Zero</td>\n",
       "      <td>One</td>\n",
       "      <td>0.494637</td>\n",
       "    </tr>\n",
       "    <tr>\n",
       "      <th>71</th>\n",
       "      <td>0.166667</td>\n",
       "      <td>1.0</td>\n",
       "      <td>0.0</td>\n",
       "      <td>0.073529</td>\n",
       "      <td>0.021253</td>\n",
       "      <td>0.000000</td>\n",
       "      <td>0.272727</td>\n",
       "      <td>One</td>\n",
       "      <td>One</td>\n",
       "      <td>0.493106</td>\n",
       "    </tr>\n",
       "    <tr>\n",
       "      <th>5</th>\n",
       "      <td>0.111111</td>\n",
       "      <td>1.0</td>\n",
       "      <td>0.0</td>\n",
       "      <td>0.073529</td>\n",
       "      <td>0.087248</td>\n",
       "      <td>0.000000</td>\n",
       "      <td>0.363636</td>\n",
       "      <td>One</td>\n",
       "      <td>One</td>\n",
       "      <td>0.492132</td>\n",
       "    </tr>\n",
       "    <tr>\n",
       "      <th>86</th>\n",
       "      <td>0.388889</td>\n",
       "      <td>0.5</td>\n",
       "      <td>0.0</td>\n",
       "      <td>0.632353</td>\n",
       "      <td>0.055928</td>\n",
       "      <td>0.560976</td>\n",
       "      <td>0.590909</td>\n",
       "      <td>One</td>\n",
       "      <td>One</td>\n",
       "      <td>0.494577</td>\n",
       "    </tr>\n",
       "    <tr>\n",
       "      <th>58</th>\n",
       "      <td>0.333333</td>\n",
       "      <td>0.0</td>\n",
       "      <td>1.0</td>\n",
       "      <td>0.705882</td>\n",
       "      <td>0.027964</td>\n",
       "      <td>1.000000</td>\n",
       "      <td>0.977273</td>\n",
       "      <td>Zero</td>\n",
       "      <td>One</td>\n",
       "      <td>0.492761</td>\n",
       "    </tr>\n",
       "    <tr>\n",
       "      <th>60</th>\n",
       "      <td>0.722222</td>\n",
       "      <td>0.5</td>\n",
       "      <td>1.0</td>\n",
       "      <td>0.705882</td>\n",
       "      <td>0.068233</td>\n",
       "      <td>0.780488</td>\n",
       "      <td>0.250000</td>\n",
       "      <td>One</td>\n",
       "      <td>One</td>\n",
       "      <td>0.494577</td>\n",
       "    </tr>\n",
       "    <tr>\n",
       "      <th>23</th>\n",
       "      <td>0.055556</td>\n",
       "      <td>0.0</td>\n",
       "      <td>0.0</td>\n",
       "      <td>0.073529</td>\n",
       "      <td>0.328859</td>\n",
       "      <td>0.243902</td>\n",
       "      <td>0.431818</td>\n",
       "      <td>One</td>\n",
       "      <td>One</td>\n",
       "      <td>0.473314</td>\n",
       "    </tr>\n",
       "    <tr>\n",
       "      <th>48</th>\n",
       "      <td>0.277778</td>\n",
       "      <td>0.0</td>\n",
       "      <td>0.0</td>\n",
       "      <td>0.073529</td>\n",
       "      <td>0.029083</td>\n",
       "      <td>0.097561</td>\n",
       "      <td>0.613636</td>\n",
       "      <td>One</td>\n",
       "      <td>One</td>\n",
       "      <td>0.485117</td>\n",
       "    </tr>\n",
       "    <tr>\n",
       "      <th>55</th>\n",
       "      <td>0.666667</td>\n",
       "      <td>1.0</td>\n",
       "      <td>0.0</td>\n",
       "      <td>0.044118</td>\n",
       "      <td>0.041387</td>\n",
       "      <td>0.951220</td>\n",
       "      <td>0.590909</td>\n",
       "      <td>One</td>\n",
       "      <td>One</td>\n",
       "      <td>0.486048</td>\n",
       "    </tr>\n",
       "    <tr>\n",
       "      <th>67</th>\n",
       "      <td>0.277778</td>\n",
       "      <td>0.0</td>\n",
       "      <td>1.0</td>\n",
       "      <td>0.000000</td>\n",
       "      <td>0.082774</td>\n",
       "      <td>0.878049</td>\n",
       "      <td>0.454545</td>\n",
       "      <td>One</td>\n",
       "      <td>One</td>\n",
       "      <td>0.485117</td>\n",
       "    </tr>\n",
       "  </tbody>\n",
       "</table>\n",
       "</div>"
      ],
      "text/plain": [
       "          F3   F4   F0        F6        F5        F1        F2 Decision  \\\n",
       "69  0.388889  0.0  1.0  0.044118  0.057047  0.780488  0.886364     Zero   \n",
       "71  0.166667  1.0  0.0  0.073529  0.021253  0.000000  0.272727      One   \n",
       "5   0.111111  1.0  0.0  0.073529  0.087248  0.000000  0.363636      One   \n",
       "86  0.388889  0.5  0.0  0.632353  0.055928  0.560976  0.590909      One   \n",
       "58  0.333333  0.0  1.0  0.705882  0.027964  1.000000  0.977273     Zero   \n",
       "60  0.722222  0.5  1.0  0.705882  0.068233  0.780488  0.250000      One   \n",
       "23  0.055556  0.0  0.0  0.073529  0.328859  0.243902  0.431818      One   \n",
       "48  0.277778  0.0  0.0  0.073529  0.029083  0.097561  0.613636      One   \n",
       "55  0.666667  1.0  0.0  0.044118  0.041387  0.951220  0.590909      One   \n",
       "67  0.277778  0.0  1.0  0.000000  0.082774  0.878049  0.454545      One   \n",
       "\n",
       "   Decision Fuzzy  Predicted Value  \n",
       "69            One         0.494637  \n",
       "71            One         0.493106  \n",
       "5             One         0.492132  \n",
       "86            One         0.494577  \n",
       "58            One         0.492761  \n",
       "60            One         0.494577  \n",
       "23            One         0.473314  \n",
       "48            One         0.485117  \n",
       "55            One         0.486048  \n",
       "67            One         0.485117  "
      ]
     },
     "metadata": {},
     "output_type": "display_data"
    },
    {
     "data": {
      "text/html": [
       "<div>\n",
       "<style scoped>\n",
       "    .dataframe tbody tr th:only-of-type {\n",
       "        vertical-align: middle;\n",
       "    }\n",
       "\n",
       "    .dataframe tbody tr th {\n",
       "        vertical-align: top;\n",
       "    }\n",
       "\n",
       "    .dataframe thead th {\n",
       "        text-align: right;\n",
       "    }\n",
       "</style>\n",
       "<table border=\"1\" class=\"dataframe\">\n",
       "  <thead>\n",
       "    <tr style=\"text-align: right;\">\n",
       "      <th></th>\n",
       "      <th>F3</th>\n",
       "      <th>F4</th>\n",
       "      <th>F0</th>\n",
       "      <th>F6</th>\n",
       "      <th>F5</th>\n",
       "      <th>F1</th>\n",
       "      <th>F2</th>\n",
       "      <th>Decision</th>\n",
       "      <th>Decision Fuzzy</th>\n",
       "      <th>Predicted Value</th>\n",
       "    </tr>\n",
       "  </thead>\n",
       "  <tbody>\n",
       "    <tr>\n",
       "      <th>60</th>\n",
       "      <td>0.722222</td>\n",
       "      <td>0.5</td>\n",
       "      <td>1.0</td>\n",
       "      <td>0.705882</td>\n",
       "      <td>0.068233</td>\n",
       "      <td>0.780488</td>\n",
       "      <td>0.250000</td>\n",
       "      <td>One</td>\n",
       "      <td>One</td>\n",
       "      <td>0.494577</td>\n",
       "    </tr>\n",
       "    <tr>\n",
       "      <th>23</th>\n",
       "      <td>0.055556</td>\n",
       "      <td>0.0</td>\n",
       "      <td>0.0</td>\n",
       "      <td>0.073529</td>\n",
       "      <td>0.328859</td>\n",
       "      <td>0.243902</td>\n",
       "      <td>0.431818</td>\n",
       "      <td>One</td>\n",
       "      <td>One</td>\n",
       "      <td>0.473314</td>\n",
       "    </tr>\n",
       "    <tr>\n",
       "      <th>48</th>\n",
       "      <td>0.277778</td>\n",
       "      <td>0.0</td>\n",
       "      <td>0.0</td>\n",
       "      <td>0.073529</td>\n",
       "      <td>0.029083</td>\n",
       "      <td>0.097561</td>\n",
       "      <td>0.613636</td>\n",
       "      <td>One</td>\n",
       "      <td>One</td>\n",
       "      <td>0.485117</td>\n",
       "    </tr>\n",
       "    <tr>\n",
       "      <th>55</th>\n",
       "      <td>0.666667</td>\n",
       "      <td>1.0</td>\n",
       "      <td>0.0</td>\n",
       "      <td>0.044118</td>\n",
       "      <td>0.041387</td>\n",
       "      <td>0.951220</td>\n",
       "      <td>0.590909</td>\n",
       "      <td>One</td>\n",
       "      <td>One</td>\n",
       "      <td>0.486048</td>\n",
       "    </tr>\n",
       "    <tr>\n",
       "      <th>67</th>\n",
       "      <td>0.277778</td>\n",
       "      <td>0.0</td>\n",
       "      <td>1.0</td>\n",
       "      <td>0.000000</td>\n",
       "      <td>0.082774</td>\n",
       "      <td>0.878049</td>\n",
       "      <td>0.454545</td>\n",
       "      <td>One</td>\n",
       "      <td>One</td>\n",
       "      <td>0.485117</td>\n",
       "    </tr>\n",
       "    <tr>\n",
       "      <th>72</th>\n",
       "      <td>0.333333</td>\n",
       "      <td>0.5</td>\n",
       "      <td>0.0</td>\n",
       "      <td>0.073529</td>\n",
       "      <td>0.417226</td>\n",
       "      <td>0.439024</td>\n",
       "      <td>0.068182</td>\n",
       "      <td>Zero</td>\n",
       "      <td>One</td>\n",
       "      <td>0.494594</td>\n",
       "    </tr>\n",
       "    <tr>\n",
       "      <th>24</th>\n",
       "      <td>0.166667</td>\n",
       "      <td>1.0</td>\n",
       "      <td>1.0</td>\n",
       "      <td>0.073529</td>\n",
       "      <td>0.071588</td>\n",
       "      <td>0.048780</td>\n",
       "      <td>0.931818</td>\n",
       "      <td>One</td>\n",
       "      <td>One</td>\n",
       "      <td>0.479421</td>\n",
       "    </tr>\n",
       "    <tr>\n",
       "      <th>52</th>\n",
       "      <td>0.166667</td>\n",
       "      <td>0.5</td>\n",
       "      <td>1.0</td>\n",
       "      <td>0.102941</td>\n",
       "      <td>0.008949</td>\n",
       "      <td>0.829268</td>\n",
       "      <td>0.727273</td>\n",
       "      <td>One</td>\n",
       "      <td>One</td>\n",
       "      <td>0.491124</td>\n",
       "    </tr>\n",
       "    <tr>\n",
       "      <th>25</th>\n",
       "      <td>0.055556</td>\n",
       "      <td>0.0</td>\n",
       "      <td>0.0</td>\n",
       "      <td>0.044118</td>\n",
       "      <td>0.015660</td>\n",
       "      <td>0.292683</td>\n",
       "      <td>0.363636</td>\n",
       "      <td>One</td>\n",
       "      <td>One</td>\n",
       "      <td>0.472300</td>\n",
       "    </tr>\n",
       "    <tr>\n",
       "      <th>80</th>\n",
       "      <td>0.055556</td>\n",
       "      <td>0.0</td>\n",
       "      <td>0.0</td>\n",
       "      <td>0.014706</td>\n",
       "      <td>0.091723</td>\n",
       "      <td>0.365854</td>\n",
       "      <td>0.000000</td>\n",
       "      <td>One</td>\n",
       "      <td>One</td>\n",
       "      <td>0.494577</td>\n",
       "    </tr>\n",
       "  </tbody>\n",
       "</table>\n",
       "</div>"
      ],
      "text/plain": [
       "          F3   F4   F0        F6        F5        F1        F2 Decision  \\\n",
       "60  0.722222  0.5  1.0  0.705882  0.068233  0.780488  0.250000      One   \n",
       "23  0.055556  0.0  0.0  0.073529  0.328859  0.243902  0.431818      One   \n",
       "48  0.277778  0.0  0.0  0.073529  0.029083  0.097561  0.613636      One   \n",
       "55  0.666667  1.0  0.0  0.044118  0.041387  0.951220  0.590909      One   \n",
       "67  0.277778  0.0  1.0  0.000000  0.082774  0.878049  0.454545      One   \n",
       "72  0.333333  0.5  0.0  0.073529  0.417226  0.439024  0.068182     Zero   \n",
       "24  0.166667  1.0  1.0  0.073529  0.071588  0.048780  0.931818      One   \n",
       "52  0.166667  0.5  1.0  0.102941  0.008949  0.829268  0.727273      One   \n",
       "25  0.055556  0.0  0.0  0.044118  0.015660  0.292683  0.363636      One   \n",
       "80  0.055556  0.0  0.0  0.014706  0.091723  0.365854  0.000000      One   \n",
       "\n",
       "   Decision Fuzzy  Predicted Value  \n",
       "60            One         0.494577  \n",
       "23            One         0.473314  \n",
       "48            One         0.485117  \n",
       "55            One         0.486048  \n",
       "67            One         0.485117  \n",
       "72            One         0.494594  \n",
       "24            One         0.479421  \n",
       "52            One         0.491124  \n",
       "25            One         0.472300  \n",
       "80            One         0.494577  "
      ]
     },
     "metadata": {},
     "output_type": "display_data"
    },
    {
     "name": "stdout",
     "output_type": "stream",
     "text": [
      "------------------------------------- Fold 0 --------------------------------------\n",
      "Center Point: 0.49687499999999996\n",
      "Train Accuracy: 0.8245614035087719\n",
      "Test Accuracy: 0.8\n",
      "Test Precision: [0.8 0. ]\n",
      "Test Recall: [1. 0.]\n",
      "Test F-Score: [0.88888889 0.        ]\n",
      "Test Support: [12  3]\n",
      "Time: 48.17275524139404\n",
      "-----------------------------------------------------------------------------------\n",
      "------------------------------------- Fold 1 --------------------------------------\n",
      "Center Point: 0.49687499999999996\n",
      "Train Accuracy: 0.8070175438596491\n",
      "Test Accuracy: 0.8666666666666667\n",
      "Test Precision: [0.85714286 1.        ]\n",
      "Test Recall: [1.         0.33333333]\n",
      "Test F-Score: [0.92307692 0.5       ]\n",
      "Test Support: [12  3]\n",
      "Time: 49.49783110618591\n",
      "-----------------------------------------------------------------------------------\n",
      "------------------------------------- Fold 2 --------------------------------------\n",
      "Center Point: 0.49687499999999996\n",
      "Train Accuracy: 0.8275862068965517\n",
      "Test Accuracy: 0.7857142857142857\n",
      "Test Precision: [0.78571429 0.        ]\n",
      "Test Recall: [1. 0.]\n",
      "Test F-Score: [0.88 0.  ]\n",
      "Test Support: [11  3]\n",
      "Time: 48.699785470962524\n",
      "-----------------------------------------------------------------------------------\n",
      "------------------------------------- Fold 3 --------------------------------------\n",
      "Center Point: 0.5\n",
      "Train Accuracy: 0.8103448275862069\n",
      "Test Accuracy: 0.7857142857142857\n",
      "Test Precision: [0.78571429 0.        ]\n",
      "Test Recall: [1. 0.]\n",
      "Test F-Score: [0.88 0.  ]\n",
      "Test Support: [11  3]\n",
      "Time: 49.11480903625488\n",
      "-----------------------------------------------------------------------------------\n",
      "------------------------------------- Fold 4 --------------------------------------\n",
      "Center Point: 0.49687499999999996\n",
      "Train Accuracy: 0.8275862068965517\n",
      "Test Accuracy: 0.7857142857142857\n",
      "Test Precision: [0.78571429 0.        ]\n",
      "Test Recall: [1. 0.]\n",
      "Test F-Score: [0.88 0.  ]\n",
      "Test Support: [11  3]\n",
      "Time: 53.534061908721924\n",
      "-----------------------------------------------------------------------------------\n"
     ]
    }
   ],
   "source": [
    "best_s_function_center, mean_s_function_center = optimizeBruteForceKFold.worker(settings.variables, settings.constraints, settings.s_function_width, settings.n_folds)"
   ]
  },
  {
   "cell_type": "markdown",
   "metadata": {},
   "source": [
    "## Test Set | K-Fold Test"
   ]
  },
  {
   "cell_type": "code",
   "execution_count": 7,
   "metadata": {
    "ExecuteTime": {
     "end_time": "2019-05-03T18:49:45.365540Z",
     "start_time": "2019-05-03T18:49:43.408197Z"
    }
   },
   "outputs": [],
   "source": [
    "valueTest = ValueTest(settings.variables, settings.s_function_width, False)"
   ]
  },
  {
   "cell_type": "markdown",
   "metadata": {},
   "source": [
    "##### K-Fold Test Set | S Function Value"
   ]
  },
  {
   "cell_type": "code",
   "execution_count": 8,
   "metadata": {
    "ExecuteTime": {
     "end_time": "2019-05-03T18:49:46.558538Z",
     "start_time": "2019-05-03T18:49:45.367524Z"
    }
   },
   "outputs": [
    {
     "name": "stdout",
     "output_type": "stream",
     "text": [
      "Accuracy: 0.8333333333333334\n",
      "Precision: [0.82352941 1.        ]\n",
      "Recall: [1.   0.25]\n",
      "F-Score: [0.90322581 0.4       ]\n",
      "Support: [14  4]\n",
      "-----------------------------------------------------------------------------------\n",
      "Center Point: 0.49687499999999996\n",
      "Test Accuracy: 0.8333333333333334\n",
      "Time: 0.9100520610809326\n",
      "-----------------------------------------------------------------------------------\n"
     ]
    }
   ],
   "source": [
    "valueTest.sOptymalizationWorker(settings.variables, best_s_function_center, \"Test Value - K-Fold - Best Function Center\")"
   ]
  },
  {
   "cell_type": "code",
   "execution_count": 9,
   "metadata": {
    "ExecuteTime": {
     "end_time": "2019-05-03T18:49:47.734540Z",
     "start_time": "2019-05-03T18:49:46.560524Z"
    }
   },
   "outputs": [
    {
     "name": "stdout",
     "output_type": "stream",
     "text": [
      "Accuracy: 0.8333333333333334\n",
      "Precision: [0.82352941 1.        ]\n",
      "Recall: [1.   0.25]\n",
      "F-Score: [0.90322581 0.4       ]\n",
      "Support: [14  4]\n",
      "-----------------------------------------------------------------------------------\n",
      "Center Point: 0.49749999999999994\n",
      "Test Accuracy: 0.8333333333333334\n",
      "Time: 0.7770445346832275\n",
      "-----------------------------------------------------------------------------------\n"
     ]
    }
   ],
   "source": [
    "valueTest.sOptymalizationWorker(settings.variables, mean_s_function_center, \"Test Value - K-Fold - Average Function Center\")"
   ]
  },
  {
   "cell_type": "markdown",
   "metadata": {},
   "source": [
    "## Training Set"
   ]
  },
  {
   "cell_type": "markdown",
   "metadata": {},
   "source": [
    "##### Training Set | No Optymalization"
   ]
  },
  {
   "cell_type": "code",
   "execution_count": 10,
   "metadata": {
    "ExecuteTime": {
     "end_time": "2019-05-03T18:49:53.269058Z",
     "start_time": "2019-05-03T18:49:47.738525Z"
    },
    "scrolled": true
   },
   "outputs": [
    {
     "name": "stdout",
     "output_type": "stream",
     "text": [
      "Accuracy: 0.8055555555555556\n",
      "Precision: [0.8028169 1.       ]\n",
      "Recall: [1.         0.06666667]\n",
      "F-Score: [0.890625 0.125   ]\n",
      "Support: [57 15]\n",
      "-----------------------------------------------------------------------------------\n",
      "Center Point: 0.5\n",
      "Train Accuracy: 0.8055555555555556\n",
      "Time: 1.3850791454315186\n",
      "-----------------------------------------------------------------------------------\n"
     ]
    }
   ],
   "source": [
    "valueTest = ValueTest(settings.variables, settings.s_function_width, True)\n",
    "valueTest.noOptymalizationWorker(settings.variables)"
   ]
  },
  {
   "cell_type": "markdown",
   "metadata": {},
   "source": [
    "##### Training Set | S Function Optymalization"
   ]
  },
  {
   "cell_type": "code",
   "execution_count": 11,
   "metadata": {
    "ExecuteTime": {
     "end_time": "2019-05-03T18:49:55.150807Z",
     "start_time": "2019-05-03T18:49:53.271060Z"
    }
   },
   "outputs": [],
   "source": [
    "optimizeBruteForce = OptimizeBruteForce(settings.variables, settings.s_function_width)"
   ]
  },
  {
   "cell_type": "code",
   "execution_count": 12,
   "metadata": {
    "ExecuteTime": {
     "end_time": "2019-05-03T18:52:41.872055Z",
     "start_time": "2019-05-03T18:49:55.152784Z"
    }
   },
   "outputs": [
    {
     "name": "stdout",
     "output_type": "stream",
     "text": [
      "Accuracy: 0.8194444444444444\n",
      "Precision: [0.81428571 1.        ]\n",
      "Recall: [1.         0.13333333]\n",
      "F-Score: [0.8976378  0.23529412]\n",
      "Support: [57 15]\n",
      "-----------------------------------------------------------------------------------\n",
      "Center Point: 0.49687499999999996\n",
      "Train Accuracy: 0.8194444444444444\n",
      "Time: 55.69818568229675\n",
      "-----------------------------------------------------------------------------------\n"
     ]
    }
   ],
   "source": [
    "s_function_center = optimizeBruteForce.sFunctionsWorker(settings.variables, settings.constraints, settings.s_function_width)"
   ]
  },
  {
   "cell_type": "markdown",
   "metadata": {},
   "source": [
    "##### Training Set | Threshold Optymalization"
   ]
  },
  {
   "cell_type": "code",
   "execution_count": 13,
   "metadata": {
    "ExecuteTime": {
     "end_time": "2019-05-03T18:53:47.128107Z",
     "start_time": "2019-05-03T18:52:41.876055Z"
    }
   },
   "outputs": [
    {
     "name": "stdout",
     "output_type": "stream",
     "text": [
      "Accuracy: 0.8194444444444444\n",
      "Precision: [0.82352941 0.75      ]\n",
      "Recall: [0.98245614 0.2       ]\n",
      "F-Score: [0.896      0.31578947]\n",
      "Support: [57 15]\n",
      "-----------------------------------------------------------------------------------\n",
      "Center Point: 0.49687499999999996\n",
      "Threshold: 0.49494242977920855\n",
      "Train Accuracy: 0.8194444444444444\n",
      "Time: 1.9331104755401611\n",
      "-----------------------------------------------------------------------------------\n"
     ]
    }
   ],
   "source": [
    "threshold = optimizeBruteForce.thresholdWorker(settings.variables, s_function_center, settings.s_function_width)"
   ]
  },
  {
   "cell_type": "markdown",
   "metadata": {},
   "source": [
    "## Test Set"
   ]
  },
  {
   "cell_type": "markdown",
   "metadata": {},
   "source": [
    "##### Test Set | No Optymalization "
   ]
  },
  {
   "cell_type": "code",
   "execution_count": 14,
   "metadata": {
    "ExecuteTime": {
     "end_time": "2019-05-03T18:53:50.117114Z",
     "start_time": "2019-05-03T18:53:47.130110Z"
    }
   },
   "outputs": [
    {
     "name": "stderr",
     "output_type": "stream",
     "text": [
      "D:\\Anaconda\\envs\\py35\\lib\\site-packages\\sklearn\\metrics\\classification.py:1135: UndefinedMetricWarning: Precision and F-score are ill-defined and being set to 0.0 in labels with no predicted samples.\n",
      "  'precision', 'predicted', average, warn_for)\n"
     ]
    },
    {
     "name": "stdout",
     "output_type": "stream",
     "text": [
      "Accuracy: 0.7777777777777778\n",
      "Precision: [0.77777778 0.        ]\n",
      "Recall: [1. 0.]\n",
      "F-Score: [0.875 0.   ]\n",
      "Support: [14  4]\n",
      "-----------------------------------------------------------------------------------\n",
      "Center Point: 0.5\n",
      "Test Accuracy: 0.7777777777777778\n",
      "Time: 0.8220469951629639\n",
      "-----------------------------------------------------------------------------------\n"
     ]
    }
   ],
   "source": [
    "valueTest = ValueTest(settings.variables, settings.s_function_width, False)\n",
    "valueTest.noOptymalizationWorker(settings.variables)"
   ]
  },
  {
   "cell_type": "markdown",
   "metadata": {},
   "source": [
    "##### Test Set | S Function Value"
   ]
  },
  {
   "cell_type": "code",
   "execution_count": 15,
   "metadata": {
    "ExecuteTime": {
     "end_time": "2019-05-03T18:53:51.570112Z",
     "start_time": "2019-05-03T18:53:50.121110Z"
    }
   },
   "outputs": [
    {
     "name": "stdout",
     "output_type": "stream",
     "text": [
      "Accuracy: 0.8333333333333334\n",
      "Precision: [0.82352941 1.        ]\n",
      "Recall: [1.   0.25]\n",
      "F-Score: [0.90322581 0.4       ]\n",
      "Support: [14  4]\n",
      "-----------------------------------------------------------------------------------\n",
      "Center Point: 0.49687499999999996\n",
      "Test Accuracy: 0.8333333333333334\n",
      "Time: 0.7740442752838135\n",
      "-----------------------------------------------------------------------------------\n"
     ]
    }
   ],
   "source": [
    "valueTest.sOptymalizationWorker(settings.variables, s_function_center)"
   ]
  },
  {
   "cell_type": "markdown",
   "metadata": {},
   "source": [
    "##### Test Set | Threshold Value"
   ]
  },
  {
   "cell_type": "code",
   "execution_count": 16,
   "metadata": {
    "ExecuteTime": {
     "end_time": "2019-05-03T18:53:52.791108Z",
     "start_time": "2019-05-03T18:53:51.572110Z"
    }
   },
   "outputs": [
    {
     "name": "stdout",
     "output_type": "stream",
     "text": [
      "Accuracy: 0.8333333333333334\n",
      "Precision: [0.82352941 1.        ]\n",
      "Recall: [1.   0.25]\n",
      "F-Score: [0.90322581 0.4       ]\n",
      "Support: [14  4]\n",
      "-----------------------------------------------------------------------------------\n",
      "Center Point: 0.49687499999999996\n",
      "Threshold: 0.49494242977920855\n",
      "Test Accuracy: 0.8333333333333334\n",
      "Time: 0.7820448875427246\n",
      "-----------------------------------------------------------------------------------\n"
     ]
    }
   ],
   "source": [
    "valueTest.thresholdWorker(settings.variables, s_function_center, threshold)"
   ]
  },
  {
   "cell_type": "code",
   "execution_count": null,
   "metadata": {},
   "outputs": [],
   "source": []
  }
 ],
 "metadata": {
  "kernelspec": {
   "display_name": "Python 3",
   "language": "python",
   "name": "python3"
  },
  "language_info": {
   "codemirror_mode": {
    "name": "ipython",
    "version": 3
   },
   "file_extension": ".py",
   "mimetype": "text/x-python",
   "name": "python",
   "nbconvert_exporter": "python",
   "pygments_lexer": "ipython3",
   "version": "3.5.5"
  }
 },
 "nbformat": 4,
 "nbformat_minor": 2
}
