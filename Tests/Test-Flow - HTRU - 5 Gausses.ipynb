{
 "cells": [
  {
   "cell_type": "markdown",
   "metadata": {},
   "source": [
    "## Preparation"
   ]
  },
  {
   "cell_type": "markdown",
   "metadata": {},
   "source": [
    "##### Import Functions"
   ]
  },
  {
   "cell_type": "code",
   "execution_count": 1,
   "metadata": {
    "ExecuteTime": {
     "end_time": "2019-05-03T18:24:12.713575Z",
     "start_time": "2019-05-03T18:24:11.550576Z"
    }
   },
   "outputs": [],
   "source": [
    "from Scripts.LoadCSV import LoadCSV as LoadCSV\n",
    "from Scripts.Fuzzify import Fuzzify as Fuzzify\n",
    "from Scripts.OptimizeBruteForceKFold import OptimizeBruteForceKFold as OptimizeBruteForceKFold\n",
    "from Scripts.ValueTest import ValueTest as ValueTest\n",
    "from Scripts.OptimizeBruteForce import OptimizeBruteForce as OptimizeBruteForce"
   ]
  },
  {
   "cell_type": "markdown",
   "metadata": {},
   "source": [
    "##### Import Settings"
   ]
  },
  {
   "cell_type": "code",
   "execution_count": 2,
   "metadata": {
    "ExecuteTime": {
     "end_time": "2019-05-03T18:24:12.805575Z",
     "start_time": "2019-05-03T18:24:12.715575Z"
    }
   },
   "outputs": [],
   "source": [
    "import Settings.SettingsHTRUFiveGausses as settings"
   ]
  },
  {
   "cell_type": "markdown",
   "metadata": {},
   "source": [
    "##### Load CSV File"
   ]
  },
  {
   "cell_type": "code",
   "execution_count": 3,
   "metadata": {
    "ExecuteTime": {
     "end_time": "2019-05-03T18:24:13.022574Z",
     "start_time": "2019-05-03T18:24:12.807577Z"
    }
   },
   "outputs": [],
   "source": [
    "loadCSV = LoadCSV()\n",
    "loadCSV.worker(settings.variables)"
   ]
  },
  {
   "cell_type": "markdown",
   "metadata": {},
   "source": [
    "##### Fuzzify Data"
   ]
  },
  {
   "cell_type": "code",
   "execution_count": 4,
   "metadata": {
    "ExecuteTime": {
     "end_time": "2019-05-03T18:24:36.633827Z",
     "start_time": "2019-05-03T18:24:13.024580Z"
    }
   },
   "outputs": [],
   "source": [
    "fuzzify = Fuzzify()\n",
    "fuzzify.worker(settings.variables)"
   ]
  },
  {
   "cell_type": "markdown",
   "metadata": {},
   "source": [
    "## Train Set - K-Fold"
   ]
  },
  {
   "cell_type": "markdown",
   "metadata": {},
   "source": [
    "##### Train Set | K-Fold - S Function Optymalization"
   ]
  },
  {
   "cell_type": "code",
   "execution_count": 5,
   "metadata": {
    "ExecuteTime": {
     "end_time": "2019-05-03T18:24:38.274829Z",
     "start_time": "2019-05-03T18:24:36.636787Z"
    }
   },
   "outputs": [],
   "source": [
    "optimizeBruteForceKFold = OptimizeBruteForceKFold(settings.variables, settings.s_function_width)"
   ]
  },
  {
   "cell_type": "code",
   "execution_count": null,
   "metadata": {
    "ExecuteTime": {
     "end_time": "2019-05-03T18:49:43.406195Z",
     "start_time": "2019-05-03T18:24:38.276786Z"
    },
    "scrolled": false
   },
   "outputs": [
    {
     "name": "stdout",
     "output_type": "stream",
     "text": [
      "------------------------------------- Fold 0 --------------------------------------\n",
      "Center Point: 0.4949951171875\n",
      "Train Accuracy: 0.9557659475399659\n",
      "Test Accuracy: 0.9518156424581006\n",
      "Test Precision: [0.83695652 0.95970149]\n",
      "Test Recall: [0.58778626 0.98847041]\n",
      "Test F-Score: [0.69058296 0.97387353]\n",
      "Test Support: [ 131 1301]\n",
      "Time: 35106.988560438156\n",
      "-----------------------------------------------------------------------------------\n"
     ]
    }
   ],
   "source": [
    "best_s_function_center, mean_s_function_center = optimizeBruteForceKFold.worker(settings.variables, settings.constraints, settings.s_function_width, settings.n_folds)"
   ]
  },
  {
   "cell_type": "markdown",
   "metadata": {},
   "source": [
    "## Test Set | K-Fold Test"
   ]
  },
  {
   "cell_type": "code",
   "execution_count": null,
   "metadata": {
    "ExecuteTime": {
     "end_time": "2019-05-03T18:49:45.365540Z",
     "start_time": "2019-05-03T18:49:43.408197Z"
    }
   },
   "outputs": [],
   "source": [
    "valueTest = ValueTest(settings.variables, settings.s_function_width, False)"
   ]
  },
  {
   "cell_type": "markdown",
   "metadata": {},
   "source": [
    "##### K-Fold Test Set | S Function Value"
   ]
  },
  {
   "cell_type": "code",
   "execution_count": null,
   "metadata": {
    "ExecuteTime": {
     "end_time": "2019-05-03T18:49:46.558538Z",
     "start_time": "2019-05-03T18:49:45.367524Z"
    }
   },
   "outputs": [],
   "source": [
    "valueTest.sOptymalizationWorker(settings.variables, best_s_function_center, \"Test Value - K-Fold - Best Function Center\")"
   ]
  },
  {
   "cell_type": "code",
   "execution_count": null,
   "metadata": {
    "ExecuteTime": {
     "end_time": "2019-05-03T18:49:47.734540Z",
     "start_time": "2019-05-03T18:49:46.560524Z"
    }
   },
   "outputs": [],
   "source": [
    "valueTest.sOptymalizationWorker(settings.variables, mean_s_function_center, \"Test Value - K-Fold - Average Function Center\")"
   ]
  },
  {
   "cell_type": "markdown",
   "metadata": {},
   "source": [
    "## Training Set"
   ]
  },
  {
   "cell_type": "markdown",
   "metadata": {},
   "source": [
    "##### Training Set | No Optymalization"
   ]
  },
  {
   "cell_type": "code",
   "execution_count": null,
   "metadata": {
    "ExecuteTime": {
     "end_time": "2019-05-03T18:49:53.269058Z",
     "start_time": "2019-05-03T18:49:47.738525Z"
    },
    "scrolled": true
   },
   "outputs": [],
   "source": [
    "valueTest = ValueTest(settings.variables, settings.s_function_width, True)\n",
    "valueTest.noOptymalizationWorker(settings.variables)"
   ]
  },
  {
   "cell_type": "markdown",
   "metadata": {},
   "source": [
    "##### Training Set | S Function Optymalization"
   ]
  },
  {
   "cell_type": "code",
   "execution_count": null,
   "metadata": {
    "ExecuteTime": {
     "end_time": "2019-05-03T18:49:55.150807Z",
     "start_time": "2019-05-03T18:49:53.271060Z"
    }
   },
   "outputs": [],
   "source": [
    "optimizeBruteForce = OptimizeBruteForce(settings.variables, settings.s_function_width)"
   ]
  },
  {
   "cell_type": "code",
   "execution_count": null,
   "metadata": {
    "ExecuteTime": {
     "end_time": "2019-05-03T18:52:41.872055Z",
     "start_time": "2019-05-03T18:49:55.152784Z"
    }
   },
   "outputs": [],
   "source": [
    "s_function_center = optimizeBruteForce.sFunctionsWorker(settings.variables, settings.constraints, settings.s_function_width)"
   ]
  },
  {
   "cell_type": "markdown",
   "metadata": {},
   "source": [
    "##### Training Set | Threshold Optymalization"
   ]
  },
  {
   "cell_type": "code",
   "execution_count": null,
   "metadata": {
    "ExecuteTime": {
     "end_time": "2019-05-03T18:53:47.128107Z",
     "start_time": "2019-05-03T18:52:41.876055Z"
    }
   },
   "outputs": [],
   "source": [
    "threshold = optimizeBruteForce.thresholdWorker(settings.variables, s_function_center, settings.s_function_width)"
   ]
  },
  {
   "cell_type": "markdown",
   "metadata": {},
   "source": [
    "## Test Set"
   ]
  },
  {
   "cell_type": "markdown",
   "metadata": {},
   "source": [
    "##### Test Set | No Optymalization "
   ]
  },
  {
   "cell_type": "code",
   "execution_count": null,
   "metadata": {
    "ExecuteTime": {
     "end_time": "2019-05-03T18:53:50.117114Z",
     "start_time": "2019-05-03T18:53:47.130110Z"
    }
   },
   "outputs": [],
   "source": [
    "valueTest = ValueTest(settings.variables, settings.s_function_width, False)\n",
    "valueTest.noOptymalizationWorker(settings.variables)"
   ]
  },
  {
   "cell_type": "markdown",
   "metadata": {},
   "source": [
    "##### Test Set | S Function Value"
   ]
  },
  {
   "cell_type": "code",
   "execution_count": null,
   "metadata": {
    "ExecuteTime": {
     "end_time": "2019-05-03T18:53:51.570112Z",
     "start_time": "2019-05-03T18:53:50.121110Z"
    }
   },
   "outputs": [],
   "source": [
    "valueTest.sOptymalizationWorker(settings.variables, s_function_center)"
   ]
  },
  {
   "cell_type": "markdown",
   "metadata": {},
   "source": [
    "##### Test Set | Threshold Value"
   ]
  },
  {
   "cell_type": "code",
   "execution_count": null,
   "metadata": {
    "ExecuteTime": {
     "end_time": "2019-05-03T18:53:52.791108Z",
     "start_time": "2019-05-03T18:53:51.572110Z"
    }
   },
   "outputs": [],
   "source": [
    "valueTest.thresholdWorker(settings.variables, s_function_center, threshold)"
   ]
  }
 ],
 "metadata": {
  "kernelspec": {
   "display_name": "Python 3",
   "language": "python",
   "name": "python3"
  },
  "language_info": {
   "codemirror_mode": {
    "name": "ipython",
    "version": 3
   },
   "file_extension": ".py",
   "mimetype": "text/x-python",
   "name": "python",
   "nbconvert_exporter": "python",
   "pygments_lexer": "ipython3",
   "version": "3.5.5"
  }
 },
 "nbformat": 4,
 "nbformat_minor": 2
}
