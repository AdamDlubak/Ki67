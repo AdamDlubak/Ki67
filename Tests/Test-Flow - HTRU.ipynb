{
 "cells": [
  {
   "cell_type": "markdown",
   "metadata": {},
   "source": [
    "## Preparation"
   ]
  },
  {
   "cell_type": "markdown",
   "metadata": {},
   "source": [
    "##### Import Functions"
   ]
  },
  {
   "cell_type": "code",
   "execution_count": 1,
   "metadata": {
    "ExecuteTime": {
     "end_time": "2019-05-03T18:24:12.713575Z",
     "start_time": "2019-05-03T18:24:11.550576Z"
    }
   },
   "outputs": [],
   "source": [
    "from Scripts.LoadCSV import LoadCSV as LoadCSV\n",
    "from Scripts.Fuzzify import Fuzzify as Fuzzify\n",
    "from Scripts.OptimizeBruteForceKFold import OptimizeBruteForceKFold as OptimizeBruteForceKFold\n",
    "from Scripts.ValueTest import ValueTest as ValueTest\n",
    "from Scripts.OptimizeBruteForce import OptimizeBruteForce as OptimizeBruteForce"
   ]
  },
  {
   "cell_type": "markdown",
   "metadata": {},
   "source": [
    "##### Import Settings"
   ]
  },
  {
   "cell_type": "code",
   "execution_count": 2,
   "metadata": {
    "ExecuteTime": {
     "end_time": "2019-05-03T18:24:12.805575Z",
     "start_time": "2019-05-03T18:24:12.715575Z"
    }
   },
   "outputs": [],
   "source": [
    "import Settings.SettingsHTRU as settings"
   ]
  },
  {
   "cell_type": "markdown",
   "metadata": {},
   "source": [
    "##### Load CSV File"
   ]
  },
  {
   "cell_type": "code",
   "execution_count": 3,
   "metadata": {
    "ExecuteTime": {
     "end_time": "2019-05-03T18:24:13.022574Z",
     "start_time": "2019-05-03T18:24:12.807577Z"
    }
   },
   "outputs": [],
   "source": [
    "loadCSV = LoadCSV()\n",
    "loadCSV.worker(settings.variables)"
   ]
  },
  {
   "cell_type": "markdown",
   "metadata": {},
   "source": [
    "##### Fuzzify Data"
   ]
  },
  {
   "cell_type": "code",
   "execution_count": 4,
   "metadata": {
    "ExecuteTime": {
     "end_time": "2019-05-03T18:24:36.633827Z",
     "start_time": "2019-05-03T18:24:13.024580Z"
    }
   },
   "outputs": [],
   "source": [
    "fuzzify = Fuzzify()\n",
    "fuzzify.worker(settings.variables)"
   ]
  },
  {
   "cell_type": "markdown",
   "metadata": {},
   "source": [
    "## Train Set - K-Fold"
   ]
  },
  {
   "cell_type": "markdown",
   "metadata": {},
   "source": [
    "##### Train Set | K-Fold - S Function Optymalization"
   ]
  },
  {
   "cell_type": "code",
   "execution_count": 5,
   "metadata": {
    "ExecuteTime": {
     "end_time": "2019-05-03T18:24:38.274829Z",
     "start_time": "2019-05-03T18:24:36.636787Z"
    }
   },
   "outputs": [],
   "source": [
    "optimizeBruteForceKFold = OptimizeBruteForceKFold(settings.variables, settings.s_function_width)"
   ]
  },
  {
   "cell_type": "code",
   "execution_count": 6,
   "metadata": {
    "ExecuteTime": {
     "end_time": "2019-05-03T18:49:43.406195Z",
     "start_time": "2019-05-03T18:24:38.276786Z"
    },
    "scrolled": false
   },
   "outputs": [
    {
     "name": "stdout",
     "output_type": "stream",
     "text": [
      "------------------------------------- Fold 0 --------------------------------------\n",
      "Center Point: 0.31453125000000004\n",
      "Train Accuracy: 0.9656189367481568\n",
      "Test Accuracy: 0.9616189811584089\n",
      "Test Precision: [0.76760563 0.98295895]\n",
      "Test Recall: [0.83206107 0.97465438]\n",
      "Test F-Score: [0.7985348  0.97878905]\n",
      "Test Support: [ 131 1302]\n",
      "Time: 3935.17520070076\n",
      "-----------------------------------------------------------------------------------\n",
      "------------------------------------- Fold 1 --------------------------------------\n",
      "Center Point: 0.31500000000000006\n",
      "Train Accuracy: 0.9656965463717501\n",
      "Test Accuracy: 0.958827634333566\n",
      "Test Precision: [0.75714286 0.98066512]\n",
      "Test Recall: [0.80916031 0.97388633]\n",
      "Test F-Score: [0.78228782 0.97726397]\n",
      "Test Support: [ 131 1302]\n",
      "Time: 4012.1977145671844\n",
      "-----------------------------------------------------------------------------------\n",
      "------------------------------------- Fold 2 --------------------------------------\n",
      "Center Point: 0.313359375\n",
      "Train Accuracy: 0.9655440012416576\n",
      "Test Accuracy: 0.9615921787709497\n",
      "Test Precision: [0.79527559 0.97777778]\n",
      "Test Recall: [0.77692308 0.98003072]\n",
      "Test F-Score: [0.78599222 0.97890295]\n",
      "Test Support: [ 130 1302]\n",
      "Time: 3880.0037615299225\n",
      "-----------------------------------------------------------------------------------\n",
      "------------------------------------- Fold 3 --------------------------------------\n",
      "Center Point: 0.313359375\n",
      "Train Accuracy: 0.9652335868384293\n",
      "Test Accuracy: 0.9643854748603352\n",
      "Test Precision: [0.80152672 0.98078401]\n",
      "Test Recall: [0.80769231 0.98003072]\n",
      "Test F-Score: [0.8045977  0.98040722]\n",
      "Test Support: [ 130 1302]\n",
      "Time: 3981.5258774757385\n",
      "-----------------------------------------------------------------------------------\n",
      "------------------------------------- Fold 4 --------------------------------------\n",
      "Center Point: 0.32074218750000005\n",
      "Train Accuracy: 0.9651559832376222\n",
      "Test Accuracy: 0.9643854748603352\n",
      "Test Precision: [0.83193277 0.97638995]\n",
      "Test Recall: [0.76153846 0.98463902]\n",
      "Test F-Score: [0.79518072 0.98049713]\n",
      "Test Support: [ 130 1302]\n",
      "Time: 3802.711293697357\n",
      "-----------------------------------------------------------------------------------\n",
      "------------------------------------- Fold 5 --------------------------------------\n",
      "Center Point: 0.32074218750000005\n",
      "Train Accuracy: 0.9644575508303586\n",
      "Test Accuracy: 0.9706703910614525\n",
      "Test Precision: [0.86666667 0.98018293]\n",
      "Test Recall: [0.8        0.98771121]\n",
      "Test F-Score: [0.832      0.98393267]\n",
      "Test Support: [ 130 1302]\n",
      "Time: 3987.7254161834717\n",
      "-----------------------------------------------------------------------------------\n",
      "------------------------------------- Fold 6 --------------------------------------\n",
      "Center Point: 0.31453125000000004\n",
      "Train Accuracy: 0.9650810894700086\n",
      "Test Accuracy: 0.9664570230607966\n",
      "Test Precision: [0.80597015 0.98303778]\n",
      "Test Recall: [0.83076923 0.98001537]\n",
      "Test F-Score: [0.81818182 0.98152425]\n",
      "Test Support: [ 130 1301]\n",
      "Time: 3806.147498369217\n",
      "-----------------------------------------------------------------------------------\n",
      "------------------------------------- Fold 7 --------------------------------------\n",
      "Center Point: 0.31289062500000003\n",
      "Train Accuracy: 0.9648482967331419\n",
      "Test Accuracy: 0.9678546470999301\n",
      "Test Precision: [0.8        0.98605732]\n",
      "Test Recall: [0.86153846 0.97847809]\n",
      "Test F-Score: [0.82962963 0.98225309]\n",
      "Test Support: [ 130 1301]\n",
      "Time: 3806.7014997005463\n",
      "-----------------------------------------------------------------------------------\n",
      "------------------------------------- Fold 8 --------------------------------------\n",
      "Center Point: 0.32250000000000006\n",
      "Train Accuracy: 0.9656242725226973\n",
      "Test Accuracy: 0.9580712788259959\n",
      "Test Precision: [0.7734375  0.97620875]\n",
      "Test Recall: [0.76153846 0.97770945]\n",
      "Test F-Score: [0.76744186 0.97695853]\n",
      "Test Support: [ 130 1301]\n",
      "Time: 3897.0211856365204\n",
      "-----------------------------------------------------------------------------------\n",
      "------------------------------------- Fold 9 --------------------------------------\n",
      "Center Point: 0.32074218750000005\n",
      "Train Accuracy: 0.9648482967331419\n",
      "Test Accuracy: 0.9671558350803634\n",
      "Test Precision: [0.86086957 0.97644377]\n",
      "Test Recall: [0.76153846 0.98770177]\n",
      "Test F-Score: [0.80816327 0.9820405 ]\n",
      "Test Support: [ 130 1301]\n",
      "Time: 3804.4524948596954\n",
      "-----------------------------------------------------------------------------------\n"
     ]
    }
   ],
   "source": [
    "best_s_function_center, mean_s_function_center = optimizeBruteForceKFold.worker(settings.variables, settings.constraints, settings.s_function_width, settings.n_folds)"
   ]
  },
  {
   "cell_type": "markdown",
   "metadata": {},
   "source": [
    "## Test Set | K-Fold Test"
   ]
  },
  {
   "cell_type": "code",
   "execution_count": 7,
   "metadata": {
    "ExecuteTime": {
     "end_time": "2019-05-03T18:49:45.365540Z",
     "start_time": "2019-05-03T18:49:43.408197Z"
    }
   },
   "outputs": [],
   "source": [
    "valueTest = ValueTest(settings.variables, settings.s_function_width, False)"
   ]
  },
  {
   "cell_type": "markdown",
   "metadata": {},
   "source": [
    "##### K-Fold Test Set | S Function Value"
   ]
  },
  {
   "cell_type": "code",
   "execution_count": 8,
   "metadata": {
    "ExecuteTime": {
     "end_time": "2019-05-03T18:49:46.558538Z",
     "start_time": "2019-05-03T18:49:45.367524Z"
    }
   },
   "outputs": [
    {
     "name": "stdout",
     "output_type": "stream",
     "text": [
      "Accuracy: 0.9625698324022346\n",
      "Precision: [0.81619938 0.97698681]\n",
      "Recall: [0.77744807 0.98180697]\n",
      "F-Score: [0.79635258 0.97939096]\n",
      "Support: [ 337 3243]\n",
      "-----------------------------------------------------------------------------------\n",
      "Center Point: 0.32074218750000005\n",
      "Test Accuracy: 0.9625698324022346\n",
      "Time: 26.527517318725586\n",
      "-----------------------------------------------------------------------------------\n"
     ]
    }
   ],
   "source": [
    "valueTest.sOptymalizationWorker(settings.variables, best_s_function_center, \"Test Value - K-Fold - Best Function Center\")"
   ]
  },
  {
   "cell_type": "code",
   "execution_count": 9,
   "metadata": {
    "ExecuteTime": {
     "end_time": "2019-05-03T18:49:47.734540Z",
     "start_time": "2019-05-03T18:49:46.560524Z"
    }
   },
   "outputs": [
    {
     "name": "stdout",
     "output_type": "stream",
     "text": [
      "Accuracy: 0.9645251396648045\n",
      "Precision: [0.81626506 0.9796798 ]\n",
      "Recall: [0.8041543  0.98119026]\n",
      "F-Score: [0.81016442 0.98043445]\n",
      "Support: [ 337 3243]\n",
      "-----------------------------------------------------------------------------------\n",
      "Center Point: 0.31683984375000007\n",
      "Test Accuracy: 0.9645251396648045\n",
      "Time: 26.62052273750305\n",
      "-----------------------------------------------------------------------------------\n"
     ]
    }
   ],
   "source": [
    "valueTest.sOptymalizationWorker(settings.variables, mean_s_function_center, \"Test Value - K-Fold - Average Function Center\")"
   ]
  },
  {
   "cell_type": "markdown",
   "metadata": {},
   "source": [
    "## Training Set"
   ]
  },
  {
   "cell_type": "markdown",
   "metadata": {},
   "source": [
    "##### Training Set | No Optymalization"
   ]
  },
  {
   "cell_type": "code",
   "execution_count": 10,
   "metadata": {
    "ExecuteTime": {
     "end_time": "2019-05-03T18:49:53.269058Z",
     "start_time": "2019-05-03T18:49:47.738525Z"
    },
    "scrolled": true
   },
   "outputs": [
    {
     "name": "stdout",
     "output_type": "stream",
     "text": [
      "Accuracy: 0.915979885458863\n",
      "Precision: [1.         0.91539489]\n",
      "Recall: [0.07603687 1.        ]\n",
      "F-Score: [0.14132762 0.9558289 ]\n",
      "Support: [ 1302 13016]\n",
      "-----------------------------------------------------------------------------------\n",
      "Center Point: 0.5\n",
      "Train Accuracy: 0.915979885458863\n",
      "Time: 107.9341733455658\n",
      "-----------------------------------------------------------------------------------\n"
     ]
    }
   ],
   "source": [
    "valueTest = ValueTest(settings.variables, settings.s_function_width, True)\n",
    "valueTest.noOptymalizationWorker(settings.variables)"
   ]
  },
  {
   "cell_type": "markdown",
   "metadata": {},
   "source": [
    "##### Training Set | S Function Optymalization"
   ]
  },
  {
   "cell_type": "code",
   "execution_count": 11,
   "metadata": {
    "ExecuteTime": {
     "end_time": "2019-05-03T18:49:55.150807Z",
     "start_time": "2019-05-03T18:49:53.271060Z"
    }
   },
   "outputs": [],
   "source": [
    "optimizeBruteForce = OptimizeBruteForce(settings.variables, settings.s_function_width)"
   ]
  },
  {
   "cell_type": "code",
   "execution_count": 12,
   "metadata": {
    "ExecuteTime": {
     "end_time": "2019-05-03T18:52:41.872055Z",
     "start_time": "2019-05-03T18:49:55.152784Z"
    }
   },
   "outputs": [
    {
     "name": "stdout",
     "output_type": "stream",
     "text": [
      "Accuracy: 0.965148763793826\n",
      "Precision: [0.8012003  0.98197921]\n",
      "Recall: [0.8202765  0.97964044]\n",
      "F-Score: [0.81062619 0.98080843]\n",
      "Support: [ 1302 13016]\n",
      "-----------------------------------------------------------------------------------\n",
      "Center Point: 0.313359375\n",
      "Train Accuracy: 0.965148763793826\n",
      "Time: 4411.616329908371\n",
      "-----------------------------------------------------------------------------------\n"
     ]
    }
   ],
   "source": [
    "s_function_center = optimizeBruteForce.sFunctionsWorker(settings.variables, settings.constraints, settings.s_function_width)"
   ]
  },
  {
   "cell_type": "markdown",
   "metadata": {},
   "source": [
    "##### Training Set | Threshold Optymalization"
   ]
  },
  {
   "cell_type": "code",
   "execution_count": 13,
   "metadata": {
    "ExecuteTime": {
     "end_time": "2019-05-03T18:53:47.128107Z",
     "start_time": "2019-05-03T18:52:41.876055Z"
    }
   },
   "outputs": [
    {
     "name": "stdout",
     "output_type": "stream",
     "text": [
      "Accuracy: 0.9652186059505518\n",
      "Precision: [0.80362538 0.98168385]\n",
      "Recall: [0.8172043  0.98002459]\n",
      "F-Score: [0.81035796 0.98085352]\n",
      "Support: [ 1302 13016]\n",
      "-----------------------------------------------------------------------------------\n",
      "Center Point: 0.313359375\n",
      "Threshold: 0.3146072473833418\n",
      "Train Accuracy: 0.9652186059505518\n",
      "Time: 786.0069570541382\n",
      "-----------------------------------------------------------------------------------\n"
     ]
    }
   ],
   "source": [
    "threshold = optimizeBruteForce.thresholdWorker(settings.variables, s_function_center, settings.s_function_width)"
   ]
  },
  {
   "cell_type": "markdown",
   "metadata": {},
   "source": [
    "## Test Set"
   ]
  },
  {
   "cell_type": "markdown",
   "metadata": {},
   "source": [
    "##### Test Set | No Optymalization "
   ]
  },
  {
   "cell_type": "code",
   "execution_count": 14,
   "metadata": {
    "ExecuteTime": {
     "end_time": "2019-05-03T18:53:50.117114Z",
     "start_time": "2019-05-03T18:53:47.130110Z"
    }
   },
   "outputs": [
    {
     "name": "stdout",
     "output_type": "stream",
     "text": [
      "Accuracy: 0.911731843575419\n",
      "Precision: [0.95652174 0.91144223]\n",
      "Recall: [0.0652819  0.99969164]\n",
      "F-Score: [0.12222222 0.95352941]\n",
      "Support: [ 337 3243]\n",
      "-----------------------------------------------------------------------------------\n",
      "Center Point: 0.5\n",
      "Test Accuracy: 0.911731843575419\n",
      "Time: 26.484514713287354\n",
      "-----------------------------------------------------------------------------------\n"
     ]
    }
   ],
   "source": [
    "valueTest = ValueTest(settings.variables, settings.s_function_width, False)\n",
    "valueTest.noOptymalizationWorker(settings.variables)"
   ]
  },
  {
   "cell_type": "markdown",
   "metadata": {},
   "source": [
    "##### Test Set | S Function Value"
   ]
  },
  {
   "cell_type": "code",
   "execution_count": 15,
   "metadata": {
    "ExecuteTime": {
     "end_time": "2019-05-03T18:53:51.570112Z",
     "start_time": "2019-05-03T18:53:50.121110Z"
    }
   },
   "outputs": [
    {
     "name": "stdout",
     "output_type": "stream",
     "text": [
      "Accuracy: 0.9636871508379888\n",
      "Precision: [0.80351906 0.98054955]\n",
      "Recall: [0.81305638 0.97934012]\n",
      "F-Score: [0.80825959 0.97994446]\n",
      "Support: [ 337 3243]\n",
      "-----------------------------------------------------------------------------------\n",
      "Center Point: 0.313359375\n",
      "Test Accuracy: 0.9636871508379888\n",
      "Time: 26.506516218185425\n",
      "-----------------------------------------------------------------------------------\n"
     ]
    }
   ],
   "source": [
    "valueTest.sOptymalizationWorker(settings.variables, s_function_center)"
   ]
  },
  {
   "cell_type": "markdown",
   "metadata": {},
   "source": [
    "##### Test Set | Threshold Value"
   ]
  },
  {
   "cell_type": "code",
   "execution_count": 16,
   "metadata": {
    "ExecuteTime": {
     "end_time": "2019-05-03T18:53:52.791108Z",
     "start_time": "2019-05-03T18:53:51.572110Z"
    }
   },
   "outputs": [
    {
     "name": "stdout",
     "output_type": "stream",
     "text": [
      "Accuracy: 0.9636871508379888\n",
      "Precision: [0.80712166 0.97995683]\n",
      "Recall: [0.80712166 0.97995683]\n",
      "F-Score: [0.80712166 0.97995683]\n",
      "Support: [ 337 3243]\n",
      "-----------------------------------------------------------------------------------\n",
      "Center Point: 0.313359375\n",
      "Threshold: 0.3146072473833418\n",
      "Test Accuracy: 0.9636871508379888\n",
      "Time: 26.9125394821167\n",
      "-----------------------------------------------------------------------------------\n"
     ]
    }
   ],
   "source": [
    "valueTest.thresholdWorker(settings.variables, s_function_center, threshold)"
   ]
  }
 ],
 "metadata": {
  "kernelspec": {
   "display_name": "Python 3",
   "language": "python",
   "name": "python3"
  },
  "language_info": {
   "codemirror_mode": {
    "name": "ipython",
    "version": 3
   },
   "file_extension": ".py",
   "mimetype": "text/x-python",
   "name": "python",
   "nbconvert_exporter": "python",
   "pygments_lexer": "ipython3",
   "version": "3.5.5"
  }
 },
 "nbformat": 4,
 "nbformat_minor": 2
}
