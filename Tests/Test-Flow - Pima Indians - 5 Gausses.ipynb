{
 "cells": [
  {
   "cell_type": "markdown",
   "metadata": {},
   "source": [
    "## Preparation"
   ]
  },
  {
   "cell_type": "markdown",
   "metadata": {},
   "source": [
    "##### Import Functions"
   ]
  },
  {
   "cell_type": "code",
   "execution_count": 1,
   "metadata": {
    "ExecuteTime": {
     "end_time": "2019-05-03T18:24:12.713575Z",
     "start_time": "2019-05-03T18:24:11.550576Z"
    }
   },
   "outputs": [],
   "source": [
    "from Scripts.LoadCSV import LoadCSV as LoadCSV\n",
    "from Scripts.Fuzzify import Fuzzify as Fuzzify\n",
    "from Scripts.OptimizeBruteForceKFold import OptimizeBruteForceKFold as OptimizeBruteForceKFold\n",
    "from Scripts.ValueTest import ValueTest as ValueTest\n",
    "from Scripts.OptimizeBruteForce import OptimizeBruteForce as OptimizeBruteForce"
   ]
  },
  {
   "cell_type": "markdown",
   "metadata": {},
   "source": [
    "##### Import Settings"
   ]
  },
  {
   "cell_type": "code",
   "execution_count": 2,
   "metadata": {
    "ExecuteTime": {
     "end_time": "2019-05-03T18:24:12.805575Z",
     "start_time": "2019-05-03T18:24:12.715575Z"
    }
   },
   "outputs": [],
   "source": [
    "import Settings.SettingsPimaIndiansFiveGausses as settings"
   ]
  },
  {
   "cell_type": "markdown",
   "metadata": {},
   "source": [
    "##### Load CSV File"
   ]
  },
  {
   "cell_type": "code",
   "execution_count": 3,
   "metadata": {
    "ExecuteTime": {
     "end_time": "2019-05-03T18:24:13.022574Z",
     "start_time": "2019-05-03T18:24:12.807577Z"
    }
   },
   "outputs": [],
   "source": [
    "loadCSV = LoadCSV()\n",
    "loadCSV.worker(settings.variables)"
   ]
  },
  {
   "cell_type": "markdown",
   "metadata": {},
   "source": [
    "##### Fuzzify Data"
   ]
  },
  {
   "cell_type": "code",
   "execution_count": 4,
   "metadata": {
    "ExecuteTime": {
     "end_time": "2019-05-03T18:24:36.633827Z",
     "start_time": "2019-05-03T18:24:13.024580Z"
    }
   },
   "outputs": [],
   "source": [
    "fuzzify = Fuzzify()\n",
    "fuzzify.worker(settings.variables)"
   ]
  },
  {
   "cell_type": "markdown",
   "metadata": {},
   "source": [
    "## Train Set - K-Fold"
   ]
  },
  {
   "cell_type": "markdown",
   "metadata": {},
   "source": [
    "##### Train Set | K-Fold - S Function Optymalization"
   ]
  },
  {
   "cell_type": "code",
   "execution_count": 5,
   "metadata": {
    "ExecuteTime": {
     "end_time": "2019-05-03T18:24:38.274829Z",
     "start_time": "2019-05-03T18:24:36.636787Z"
    }
   },
   "outputs": [],
   "source": [
    "optimizeBruteForceKFold = OptimizeBruteForceKFold(settings.variables, settings.s_function_width)"
   ]
  },
  {
   "cell_type": "code",
   "execution_count": 6,
   "metadata": {
    "ExecuteTime": {
     "end_time": "2019-05-03T18:49:43.406195Z",
     "start_time": "2019-05-03T18:24:38.276786Z"
    },
    "scrolled": false
   },
   "outputs": [
    {
     "name": "stderr",
     "output_type": "stream",
     "text": [
      "D:\\Anaconda\\envs\\py35\\lib\\site-packages\\sklearn\\metrics\\classification.py:1135: UndefinedMetricWarning: Precision and F-score are ill-defined and being set to 0.0 in labels with no predicted samples.\n",
      "  'precision', 'predicted', average, warn_for)\n"
     ]
    },
    {
     "data": {
      "text/html": [
       "<div>\n",
       "<style scoped>\n",
       "    .dataframe tbody tr th:only-of-type {\n",
       "        vertical-align: middle;\n",
       "    }\n",
       "\n",
       "    .dataframe tbody tr th {\n",
       "        vertical-align: top;\n",
       "    }\n",
       "\n",
       "    .dataframe thead th {\n",
       "        text-align: right;\n",
       "    }\n",
       "</style>\n",
       "<table border=\"1\" class=\"dataframe\">\n",
       "  <thead>\n",
       "    <tr style=\"text-align: right;\">\n",
       "      <th></th>\n",
       "      <th>F4</th>\n",
       "      <th>F5</th>\n",
       "      <th>F7</th>\n",
       "      <th>F1</th>\n",
       "      <th>F2</th>\n",
       "      <th>F6</th>\n",
       "      <th>F3</th>\n",
       "      <th>F0</th>\n",
       "      <th>Decision</th>\n",
       "      <th>Decision Fuzzy</th>\n",
       "      <th>Predicted Value</th>\n",
       "    </tr>\n",
       "  </thead>\n",
       "  <tbody>\n",
       "    <tr>\n",
       "      <th>341</th>\n",
       "      <td>0.260817</td>\n",
       "      <td>0.396728</td>\n",
       "      <td>0.366667</td>\n",
       "      <td>0.781690</td>\n",
       "      <td>0.953488</td>\n",
       "      <td>0.034261</td>\n",
       "      <td>0.696429</td>\n",
       "      <td>0.470588</td>\n",
       "      <td>positif</td>\n",
       "      <td>negatif</td>\n",
       "      <td>0.517743</td>\n",
       "    </tr>\n",
       "    <tr>\n",
       "      <th>222</th>\n",
       "      <td>0.055288</td>\n",
       "      <td>0.241309</td>\n",
       "      <td>0.016667</td>\n",
       "      <td>0.169014</td>\n",
       "      <td>0.581395</td>\n",
       "      <td>0.189293</td>\n",
       "      <td>0.071429</td>\n",
       "      <td>0.058824</td>\n",
       "      <td>negatif</td>\n",
       "      <td>negatif</td>\n",
       "      <td>0.519762</td>\n",
       "    </tr>\n",
       "    <tr>\n",
       "      <th>20</th>\n",
       "      <td>0.081731</td>\n",
       "      <td>0.024540</td>\n",
       "      <td>0.016667</td>\n",
       "      <td>0.330986</td>\n",
       "      <td>0.651163</td>\n",
       "      <td>0.173876</td>\n",
       "      <td>0.071429</td>\n",
       "      <td>0.058824</td>\n",
       "      <td>negatif</td>\n",
       "      <td>negatif</td>\n",
       "      <td>0.522786</td>\n",
       "    </tr>\n",
       "    <tr>\n",
       "      <th>44</th>\n",
       "      <td>0.247596</td>\n",
       "      <td>0.644172</td>\n",
       "      <td>0.166667</td>\n",
       "      <td>0.464789</td>\n",
       "      <td>0.767442</td>\n",
       "      <td>0.102784</td>\n",
       "      <td>0.785714</td>\n",
       "      <td>0.058824</td>\n",
       "      <td>positif</td>\n",
       "      <td>negatif</td>\n",
       "      <td>0.526597</td>\n",
       "    </tr>\n",
       "    <tr>\n",
       "      <th>364</th>\n",
       "      <td>0.448317</td>\n",
       "      <td>0.265849</td>\n",
       "      <td>0.050000</td>\n",
       "      <td>0.718310</td>\n",
       "      <td>0.465116</td>\n",
       "      <td>0.089936</td>\n",
       "      <td>0.107143</td>\n",
       "      <td>0.176471</td>\n",
       "      <td>negatif</td>\n",
       "      <td>negatif</td>\n",
       "      <td>0.526899</td>\n",
       "    </tr>\n",
       "    <tr>\n",
       "      <th>132</th>\n",
       "      <td>0.129808</td>\n",
       "      <td>0.361963</td>\n",
       "      <td>0.300000</td>\n",
       "      <td>0.514085</td>\n",
       "      <td>0.604651</td>\n",
       "      <td>0.083512</td>\n",
       "      <td>0.375000</td>\n",
       "      <td>0.588235</td>\n",
       "      <td>negatif</td>\n",
       "      <td>negatif</td>\n",
       "      <td>0.530340</td>\n",
       "    </tr>\n",
       "    <tr>\n",
       "      <th>88</th>\n",
       "      <td>0.578125</td>\n",
       "      <td>0.243354</td>\n",
       "      <td>0.650000</td>\n",
       "      <td>0.880282</td>\n",
       "      <td>0.511628</td>\n",
       "      <td>0.226981</td>\n",
       "      <td>0.517857</td>\n",
       "      <td>0.470588</td>\n",
       "      <td>positif</td>\n",
       "      <td>negatif</td>\n",
       "      <td>0.530698</td>\n",
       "    </tr>\n",
       "    <tr>\n",
       "      <th>258</th>\n",
       "      <td>0.091346</td>\n",
       "      <td>0.374233</td>\n",
       "      <td>0.233333</td>\n",
       "      <td>0.873239</td>\n",
       "      <td>0.767442</td>\n",
       "      <td>0.098073</td>\n",
       "      <td>0.339286</td>\n",
       "      <td>0.000000</td>\n",
       "      <td>positif</td>\n",
       "      <td>negatif</td>\n",
       "      <td>0.531382</td>\n",
       "    </tr>\n",
       "    <tr>\n",
       "      <th>153</th>\n",
       "      <td>0.229567</td>\n",
       "      <td>0.300613</td>\n",
       "      <td>0.150000</td>\n",
       "      <td>0.478873</td>\n",
       "      <td>0.511628</td>\n",
       "      <td>0.338330</td>\n",
       "      <td>0.375000</td>\n",
       "      <td>0.117647</td>\n",
       "      <td>positif</td>\n",
       "      <td>negatif</td>\n",
       "      <td>0.531405</td>\n",
       "    </tr>\n",
       "    <tr>\n",
       "      <th>85</th>\n",
       "      <td>0.139423</td>\n",
       "      <td>0.296524</td>\n",
       "      <td>0.250000</td>\n",
       "      <td>0.866197</td>\n",
       "      <td>0.558140</td>\n",
       "      <td>0.271520</td>\n",
       "      <td>0.625000</td>\n",
       "      <td>0.470588</td>\n",
       "      <td>positif</td>\n",
       "      <td>negatif</td>\n",
       "      <td>0.531533</td>\n",
       "    </tr>\n",
       "  </tbody>\n",
       "</table>\n",
       "</div>"
      ],
      "text/plain": [
       "           F4        F5        F7        F1        F2        F6        F3  \\\n",
       "341  0.260817  0.396728  0.366667  0.781690  0.953488  0.034261  0.696429   \n",
       "222  0.055288  0.241309  0.016667  0.169014  0.581395  0.189293  0.071429   \n",
       "20   0.081731  0.024540  0.016667  0.330986  0.651163  0.173876  0.071429   \n",
       "44   0.247596  0.644172  0.166667  0.464789  0.767442  0.102784  0.785714   \n",
       "364  0.448317  0.265849  0.050000  0.718310  0.465116  0.089936  0.107143   \n",
       "132  0.129808  0.361963  0.300000  0.514085  0.604651  0.083512  0.375000   \n",
       "88   0.578125  0.243354  0.650000  0.880282  0.511628  0.226981  0.517857   \n",
       "258  0.091346  0.374233  0.233333  0.873239  0.767442  0.098073  0.339286   \n",
       "153  0.229567  0.300613  0.150000  0.478873  0.511628  0.338330  0.375000   \n",
       "85   0.139423  0.296524  0.250000  0.866197  0.558140  0.271520  0.625000   \n",
       "\n",
       "           F0 Decision Decision Fuzzy  Predicted Value  \n",
       "341  0.470588  positif        negatif         0.517743  \n",
       "222  0.058824  negatif        negatif         0.519762  \n",
       "20   0.058824  negatif        negatif         0.522786  \n",
       "44   0.058824  positif        negatif         0.526597  \n",
       "364  0.176471  negatif        negatif         0.526899  \n",
       "132  0.588235  negatif        negatif         0.530340  \n",
       "88   0.470588  positif        negatif         0.530698  \n",
       "258  0.000000  positif        negatif         0.531382  \n",
       "153  0.117647  positif        negatif         0.531405  \n",
       "85   0.470588  positif        negatif         0.531533  "
      ]
     },
     "metadata": {},
     "output_type": "display_data"
    },
    {
     "data": {
      "text/html": [
       "<div>\n",
       "<style scoped>\n",
       "    .dataframe tbody tr th:only-of-type {\n",
       "        vertical-align: middle;\n",
       "    }\n",
       "\n",
       "    .dataframe tbody tr th {\n",
       "        vertical-align: top;\n",
       "    }\n",
       "\n",
       "    .dataframe thead th {\n",
       "        text-align: right;\n",
       "    }\n",
       "</style>\n",
       "<table border=\"1\" class=\"dataframe\">\n",
       "  <thead>\n",
       "    <tr style=\"text-align: right;\">\n",
       "      <th></th>\n",
       "      <th>F4</th>\n",
       "      <th>F5</th>\n",
       "      <th>F7</th>\n",
       "      <th>F1</th>\n",
       "      <th>F2</th>\n",
       "      <th>F6</th>\n",
       "      <th>F3</th>\n",
       "      <th>F0</th>\n",
       "      <th>Decision</th>\n",
       "      <th>Decision Fuzzy</th>\n",
       "      <th>Predicted Value</th>\n",
       "    </tr>\n",
       "  </thead>\n",
       "  <tbody>\n",
       "    <tr>\n",
       "      <th>168</th>\n",
       "      <td>0.289663</td>\n",
       "      <td>0.607362</td>\n",
       "      <td>0.083333</td>\n",
       "      <td>0.767606</td>\n",
       "      <td>0.604651</td>\n",
       "      <td>0.074518</td>\n",
       "      <td>0.642857</td>\n",
       "      <td>0.000000</td>\n",
       "      <td>negatif</td>\n",
       "      <td>negatif</td>\n",
       "      <td>0.536582</td>\n",
       "    </tr>\n",
       "    <tr>\n",
       "      <th>249</th>\n",
       "      <td>0.560096</td>\n",
       "      <td>0.460123</td>\n",
       "      <td>0.000000</td>\n",
       "      <td>0.584507</td>\n",
       "      <td>0.441860</td>\n",
       "      <td>0.193148</td>\n",
       "      <td>0.607143</td>\n",
       "      <td>0.058824</td>\n",
       "      <td>negatif</td>\n",
       "      <td>negatif</td>\n",
       "      <td>0.537051</td>\n",
       "    </tr>\n",
       "    <tr>\n",
       "      <th>272</th>\n",
       "      <td>0.061298</td>\n",
       "      <td>0.472393</td>\n",
       "      <td>0.133333</td>\n",
       "      <td>0.211268</td>\n",
       "      <td>0.488372</td>\n",
       "      <td>0.356317</td>\n",
       "      <td>0.803571</td>\n",
       "      <td>0.058824</td>\n",
       "      <td>negatif</td>\n",
       "      <td>negatif</td>\n",
       "      <td>0.537243</td>\n",
       "    </tr>\n",
       "    <tr>\n",
       "      <th>123</th>\n",
       "      <td>0.433894</td>\n",
       "      <td>0.157464</td>\n",
       "      <td>0.050000</td>\n",
       "      <td>0.964789</td>\n",
       "      <td>0.302326</td>\n",
       "      <td>0.244111</td>\n",
       "      <td>0.160714</td>\n",
       "      <td>0.058824</td>\n",
       "      <td>negatif</td>\n",
       "      <td>negatif</td>\n",
       "      <td>0.537263</td>\n",
       "    </tr>\n",
       "    <tr>\n",
       "      <th>75</th>\n",
       "      <td>0.145433</td>\n",
       "      <td>0.143149</td>\n",
       "      <td>0.033333</td>\n",
       "      <td>0.373239</td>\n",
       "      <td>0.372093</td>\n",
       "      <td>0.320343</td>\n",
       "      <td>0.250000</td>\n",
       "      <td>0.058824</td>\n",
       "      <td>negatif</td>\n",
       "      <td>negatif</td>\n",
       "      <td>0.537269</td>\n",
       "    </tr>\n",
       "    <tr>\n",
       "      <th>352</th>\n",
       "      <td>0.229567</td>\n",
       "      <td>0.306748</td>\n",
       "      <td>0.066667</td>\n",
       "      <td>0.514085</td>\n",
       "      <td>0.581395</td>\n",
       "      <td>0.216702</td>\n",
       "      <td>0.339286</td>\n",
       "      <td>0.117647</td>\n",
       "      <td>negatif</td>\n",
       "      <td>negatif</td>\n",
       "      <td>0.537643</td>\n",
       "    </tr>\n",
       "    <tr>\n",
       "      <th>174</th>\n",
       "      <td>0.072115</td>\n",
       "      <td>0.073620</td>\n",
       "      <td>0.083333</td>\n",
       "      <td>0.302817</td>\n",
       "      <td>0.441860</td>\n",
       "      <td>0.083084</td>\n",
       "      <td>0.214286</td>\n",
       "      <td>0.176471</td>\n",
       "      <td>negatif</td>\n",
       "      <td>negatif</td>\n",
       "      <td>0.538043</td>\n",
       "    </tr>\n",
       "    <tr>\n",
       "      <th>307</th>\n",
       "      <td>0.013221</td>\n",
       "      <td>0.196319</td>\n",
       "      <td>0.000000</td>\n",
       "      <td>0.232394</td>\n",
       "      <td>0.000000</td>\n",
       "      <td>0.202998</td>\n",
       "      <td>0.214286</td>\n",
       "      <td>0.058824</td>\n",
       "      <td>negatif</td>\n",
       "      <td>negatif</td>\n",
       "      <td>0.538043</td>\n",
       "    </tr>\n",
       "    <tr>\n",
       "      <th>194</th>\n",
       "      <td>0.054087</td>\n",
       "      <td>0.141104</td>\n",
       "      <td>0.066667</td>\n",
       "      <td>0.239437</td>\n",
       "      <td>0.441860</td>\n",
       "      <td>0.506638</td>\n",
       "      <td>0.196429</td>\n",
       "      <td>0.058824</td>\n",
       "      <td>negatif</td>\n",
       "      <td>negatif</td>\n",
       "      <td>0.538043</td>\n",
       "    </tr>\n",
       "    <tr>\n",
       "      <th>335</th>\n",
       "      <td>0.075721</td>\n",
       "      <td>0.325153</td>\n",
       "      <td>0.116667</td>\n",
       "      <td>0.471831</td>\n",
       "      <td>0.581395</td>\n",
       "      <td>0.078801</td>\n",
       "      <td>0.589286</td>\n",
       "      <td>0.294118</td>\n",
       "      <td>negatif</td>\n",
       "      <td>negatif</td>\n",
       "      <td>0.538043</td>\n",
       "    </tr>\n",
       "  </tbody>\n",
       "</table>\n",
       "</div>"
      ],
      "text/plain": [
       "           F4        F5        F7        F1        F2        F6        F3  \\\n",
       "168  0.289663  0.607362  0.083333  0.767606  0.604651  0.074518  0.642857   \n",
       "249  0.560096  0.460123  0.000000  0.584507  0.441860  0.193148  0.607143   \n",
       "272  0.061298  0.472393  0.133333  0.211268  0.488372  0.356317  0.803571   \n",
       "123  0.433894  0.157464  0.050000  0.964789  0.302326  0.244111  0.160714   \n",
       "75   0.145433  0.143149  0.033333  0.373239  0.372093  0.320343  0.250000   \n",
       "352  0.229567  0.306748  0.066667  0.514085  0.581395  0.216702  0.339286   \n",
       "174  0.072115  0.073620  0.083333  0.302817  0.441860  0.083084  0.214286   \n",
       "307  0.013221  0.196319  0.000000  0.232394  0.000000  0.202998  0.214286   \n",
       "194  0.054087  0.141104  0.066667  0.239437  0.441860  0.506638  0.196429   \n",
       "335  0.075721  0.325153  0.116667  0.471831  0.581395  0.078801  0.589286   \n",
       "\n",
       "           F0 Decision Decision Fuzzy  Predicted Value  \n",
       "168  0.000000  negatif        negatif         0.536582  \n",
       "249  0.058824  negatif        negatif         0.537051  \n",
       "272  0.058824  negatif        negatif         0.537243  \n",
       "123  0.058824  negatif        negatif         0.537263  \n",
       "75   0.058824  negatif        negatif         0.537269  \n",
       "352  0.117647  negatif        negatif         0.537643  \n",
       "174  0.176471  negatif        negatif         0.538043  \n",
       "307  0.058824  negatif        negatif         0.538043  \n",
       "194  0.058824  negatif        negatif         0.538043  \n",
       "335  0.294118  negatif        negatif         0.538043  "
      ]
     },
     "metadata": {},
     "output_type": "display_data"
    },
    {
     "name": "stdout",
     "output_type": "stream",
     "text": [
      "------------------------------------- Fold 0 --------------------------------------\n",
      "Center Point: 0.0\n",
      "Train Accuracy: 0.6690391459074733\n",
      "Test Accuracy: 0.65625\n",
      "Test Precision: [0.65625 0.     ]\n",
      "Test Recall: [1. 0.]\n",
      "Test F-Score: [0.79245283 0.        ]\n",
      "Test Support: [21 11]\n",
      "Time: 658.5046644210815\n",
      "-----------------------------------------------------------------------------------\n",
      "------------------------------------- Fold 1 --------------------------------------\n",
      "Center Point: 0.0\n",
      "Train Accuracy: 0.6690391459074733\n",
      "Test Accuracy: 0.65625\n",
      "Test Precision: [0.65625 0.     ]\n",
      "Test Recall: [1. 0.]\n",
      "Test F-Score: [0.79245283 0.        ]\n",
      "Test Support: [21 11]\n",
      "Time: 660.7737941741943\n",
      "-----------------------------------------------------------------------------------\n",
      "------------------------------------- Fold 2 --------------------------------------\n",
      "Center Point: 0.0\n",
      "Train Accuracy: 0.6690391459074733\n",
      "Test Accuracy: 0.65625\n",
      "Test Precision: [0.65625 0.     ]\n",
      "Test Recall: [1. 0.]\n",
      "Test F-Score: [0.79245283 0.        ]\n",
      "Test Support: [21 11]\n",
      "Time: 660.4827773571014\n",
      "-----------------------------------------------------------------------------------\n",
      "------------------------------------- Fold 3 --------------------------------------\n",
      "Center Point: 0.0\n",
      "Train Accuracy: 0.6690391459074733\n",
      "Test Accuracy: 0.65625\n",
      "Test Precision: [0.65625 0.     ]\n",
      "Test Recall: [1. 0.]\n",
      "Test F-Score: [0.79245283 0.        ]\n",
      "Test Support: [21 11]\n",
      "Time: 662.121871471405\n",
      "-----------------------------------------------------------------------------------\n",
      "------------------------------------- Fold 4 --------------------------------------\n",
      "Center Point: 0.0\n",
      "Train Accuracy: 0.6666666666666666\n",
      "Test Accuracy: 0.6774193548387096\n",
      "Test Precision: [0.67741935 0.        ]\n",
      "Test Recall: [1. 0.]\n",
      "Test F-Score: [0.80769231 0.        ]\n",
      "Test Support: [21 10]\n",
      "Time: 663.5759544372559\n",
      "-----------------------------------------------------------------------------------\n",
      "------------------------------------- Fold 5 --------------------------------------\n",
      "Center Point: 0.0\n",
      "Train Accuracy: 0.6666666666666666\n",
      "Test Accuracy: 0.6774193548387096\n",
      "Test Precision: [0.67741935 0.        ]\n",
      "Test Recall: [1. 0.]\n",
      "Test F-Score: [0.80769231 0.        ]\n",
      "Test Support: [21 10]\n",
      "Time: 667.1391582489014\n",
      "-----------------------------------------------------------------------------------\n",
      "------------------------------------- Fold 6 --------------------------------------\n",
      "Center Point: 0.0\n",
      "Train Accuracy: 0.6666666666666666\n",
      "Test Accuracy: 0.6774193548387096\n",
      "Test Precision: [0.67741935 0.        ]\n",
      "Test Recall: [1. 0.]\n",
      "Test F-Score: [0.80769231 0.        ]\n",
      "Test Support: [21 10]\n",
      "Time: 664.2069902420044\n",
      "-----------------------------------------------------------------------------------\n",
      "------------------------------------- Fold 7 --------------------------------------\n",
      "Center Point: 0.0\n",
      "Train Accuracy: 0.6666666666666666\n",
      "Test Accuracy: 0.6774193548387096\n",
      "Test Precision: [0.67741935 0.        ]\n",
      "Test Recall: [1. 0.]\n",
      "Test F-Score: [0.80769231 0.        ]\n",
      "Test Support: [21 10]\n",
      "Time: 660.2897665500641\n",
      "-----------------------------------------------------------------------------------\n",
      "------------------------------------- Fold 8 --------------------------------------\n",
      "Center Point: 0.0\n",
      "Train Accuracy: 0.6666666666666666\n",
      "Test Accuracy: 0.6774193548387096\n",
      "Test Precision: [0.67741935 0.        ]\n",
      "Test Recall: [1. 0.]\n",
      "Test F-Score: [0.80769231 0.        ]\n",
      "Test Support: [21 10]\n",
      "Time: 662.3128821849823\n",
      "-----------------------------------------------------------------------------------\n",
      "------------------------------------- Fold 9 --------------------------------------\n",
      "Center Point: 0.0\n",
      "Train Accuracy: 0.6678445229681979\n",
      "Test Accuracy: 0.6666666666666666\n",
      "Test Precision: [0.66666667 0.        ]\n",
      "Test Recall: [1. 0.]\n",
      "Test F-Score: [0.8 0. ]\n",
      "Test Support: [20 10]\n",
      "Time: 664.0999844074249\n",
      "-----------------------------------------------------------------------------------\n"
     ]
    }
   ],
   "source": [
    "best_s_function_center, mean_s_function_center = optimizeBruteForceKFold.worker(settings.variables, settings.constraints, settings.s_function_width, settings.n_folds)"
   ]
  },
  {
   "cell_type": "markdown",
   "metadata": {},
   "source": [
    "## Test Set | K-Fold Test"
   ]
  },
  {
   "cell_type": "code",
   "execution_count": 7,
   "metadata": {
    "ExecuteTime": {
     "end_time": "2019-05-03T18:49:45.365540Z",
     "start_time": "2019-05-03T18:49:43.408197Z"
    }
   },
   "outputs": [],
   "source": [
    "valueTest = ValueTest(settings.variables, settings.s_function_width, False)"
   ]
  },
  {
   "cell_type": "markdown",
   "metadata": {},
   "source": [
    "##### K-Fold Test Set | S Function Value"
   ]
  },
  {
   "cell_type": "code",
   "execution_count": 8,
   "metadata": {
    "ExecuteTime": {
     "end_time": "2019-05-03T18:49:46.558538Z",
     "start_time": "2019-05-03T18:49:45.367524Z"
    }
   },
   "outputs": [
    {
     "name": "stderr",
     "output_type": "stream",
     "text": [
      "D:\\Anaconda\\envs\\py35\\lib\\site-packages\\sklearn\\metrics\\classification.py:1135: UndefinedMetricWarning: Precision and F-score are ill-defined and being set to 0.0 in labels with no predicted samples.\n",
      "  'precision', 'predicted', average, warn_for)\n"
     ]
    },
    {
     "name": "stdout",
     "output_type": "stream",
     "text": [
      "Accuracy: 0.6708860759493671\n",
      "Precision: [0.67088608 0.        ]\n",
      "Recall: [1. 0.]\n",
      "F-Score: [0.8030303 0.       ]\n",
      "Support: [53 26]\n",
      "-----------------------------------------------------------------------------------\n",
      "Center Point: 0.0\n",
      "Test Accuracy: 0.6708860759493671\n",
      "Time: 10.812618255615234\n",
      "-----------------------------------------------------------------------------------\n"
     ]
    }
   ],
   "source": [
    "valueTest.sOptymalizationWorker(settings.variables, best_s_function_center, \"Test Value - K-Fold - Best Function Center\")"
   ]
  },
  {
   "cell_type": "code",
   "execution_count": 9,
   "metadata": {
    "ExecuteTime": {
     "end_time": "2019-05-03T18:49:47.734540Z",
     "start_time": "2019-05-03T18:49:46.560524Z"
    }
   },
   "outputs": [
    {
     "name": "stderr",
     "output_type": "stream",
     "text": [
      "D:\\Anaconda\\envs\\py35\\lib\\site-packages\\sklearn\\metrics\\classification.py:1135: UndefinedMetricWarning: Precision and F-score are ill-defined and being set to 0.0 in labels with no predicted samples.\n",
      "  'precision', 'predicted', average, warn_for)\n"
     ]
    },
    {
     "name": "stdout",
     "output_type": "stream",
     "text": [
      "Accuracy: 0.6708860759493671\n",
      "Precision: [0.67088608 0.        ]\n",
      "Recall: [1. 0.]\n",
      "F-Score: [0.8030303 0.       ]\n",
      "Support: [53 26]\n",
      "-----------------------------------------------------------------------------------\n",
      "Center Point: 0.0\n",
      "Test Accuracy: 0.6708860759493671\n",
      "Time: 10.927624940872192\n",
      "-----------------------------------------------------------------------------------\n"
     ]
    }
   ],
   "source": [
    "valueTest.sOptymalizationWorker(settings.variables, mean_s_function_center, \"Test Value - K-Fold - Average Function Center\")"
   ]
  },
  {
   "cell_type": "markdown",
   "metadata": {},
   "source": [
    "## Training Set"
   ]
  },
  {
   "cell_type": "markdown",
   "metadata": {},
   "source": [
    "##### Training Set | No Optymalization"
   ]
  },
  {
   "cell_type": "code",
   "execution_count": 10,
   "metadata": {
    "ExecuteTime": {
     "end_time": "2019-05-03T18:49:53.269058Z",
     "start_time": "2019-05-03T18:49:47.738525Z"
    },
    "scrolled": true
   },
   "outputs": [
    {
     "name": "stdout",
     "output_type": "stream",
     "text": [
      "Accuracy: 0.5047923322683706\n",
      "Precision: [1.        0.4015444]\n",
      "Recall: [0.25837321 1.        ]\n",
      "F-Score: [0.41064639 0.57300275]\n",
      "Support: [209 104]\n",
      "-----------------------------------------------------------------------------------\n",
      "Center Point: 0.5\n",
      "Train Accuracy: 0.5047923322683706\n",
      "Time: 24.865422248840332\n",
      "-----------------------------------------------------------------------------------\n"
     ]
    }
   ],
   "source": [
    "valueTest = ValueTest(settings.variables, settings.s_function_width, True)\n",
    "valueTest.noOptymalizationWorker(settings.variables)"
   ]
  },
  {
   "cell_type": "markdown",
   "metadata": {},
   "source": [
    "##### Training Set | S Function Optymalization"
   ]
  },
  {
   "cell_type": "code",
   "execution_count": 11,
   "metadata": {
    "ExecuteTime": {
     "end_time": "2019-05-03T18:49:55.150807Z",
     "start_time": "2019-05-03T18:49:53.271060Z"
    }
   },
   "outputs": [],
   "source": [
    "optimizeBruteForce = OptimizeBruteForce(settings.variables, settings.s_function_width)"
   ]
  },
  {
   "cell_type": "code",
   "execution_count": 12,
   "metadata": {
    "ExecuteTime": {
     "end_time": "2019-05-03T18:52:41.872055Z",
     "start_time": "2019-05-03T18:49:55.152784Z"
    }
   },
   "outputs": [
    {
     "name": "stderr",
     "output_type": "stream",
     "text": [
      "D:\\Anaconda\\envs\\py35\\lib\\site-packages\\sklearn\\metrics\\classification.py:1135: UndefinedMetricWarning: Precision and F-score are ill-defined and being set to 0.0 in labels with no predicted samples.\n",
      "  'precision', 'predicted', average, warn_for)\n"
     ]
    },
    {
     "name": "stdout",
     "output_type": "stream",
     "text": [
      "Accuracy: 0.6677316293929713\n",
      "Precision: [0.66773163 0.        ]\n",
      "Recall: [1. 0.]\n",
      "F-Score: [0.80076628 0.        ]\n",
      "Support: [209 104]\n",
      "-----------------------------------------------------------------------------------\n",
      "Center Point: 0.0\n",
      "Train Accuracy: 0.6677316293929713\n",
      "Time: 728.0756435394287\n",
      "-----------------------------------------------------------------------------------\n"
     ]
    }
   ],
   "source": [
    "s_function_center = optimizeBruteForce.sFunctionsWorker(settings.variables, settings.constraints, settings.s_function_width)"
   ]
  },
  {
   "cell_type": "markdown",
   "metadata": {},
   "source": [
    "##### Training Set | Threshold Optymalization"
   ]
  },
  {
   "cell_type": "code",
   "execution_count": 13,
   "metadata": {
    "ExecuteTime": {
     "end_time": "2019-05-03T18:53:47.128107Z",
     "start_time": "2019-05-03T18:52:41.876055Z"
    }
   },
   "outputs": [
    {
     "name": "stdout",
     "output_type": "stream",
     "text": [
      "Accuracy: 0.792332268370607\n",
      "Precision: [0.84285714 0.68932039]\n",
      "Recall: [0.84688995 0.68269231]\n",
      "F-Score: [0.84486874 0.68599034]\n",
      "Support: [209 104]\n",
      "-----------------------------------------------------------------------------------\n",
      "Center Point: 0.0\n",
      "Threshold: 0.5317418412850439\n",
      "Train Accuracy: 0.792332268370607\n",
      "Time: 26.889537811279297\n",
      "-----------------------------------------------------------------------------------\n"
     ]
    }
   ],
   "source": [
    "threshold = optimizeBruteForce.thresholdWorker(settings.variables, s_function_center, settings.s_function_width)"
   ]
  },
  {
   "cell_type": "markdown",
   "metadata": {},
   "source": [
    "## Test Set"
   ]
  },
  {
   "cell_type": "markdown",
   "metadata": {},
   "source": [
    "##### Test Set | No Optymalization "
   ]
  },
  {
   "cell_type": "code",
   "execution_count": 14,
   "metadata": {
    "ExecuteTime": {
     "end_time": "2019-05-03T18:53:50.117114Z",
     "start_time": "2019-05-03T18:53:47.130110Z"
    }
   },
   "outputs": [
    {
     "name": "stdout",
     "output_type": "stream",
     "text": [
      "Accuracy: 0.45569620253164556\n",
      "Precision: [0.91666667 0.37313433]\n",
      "Recall: [0.20754717 0.96153846]\n",
      "F-Score: [0.33846154 0.53763441]\n",
      "Support: [53 26]\n",
      "-----------------------------------------------------------------------------------\n",
      "Center Point: 0.5\n",
      "Test Accuracy: 0.45569620253164556\n",
      "Time: 10.761615514755249\n",
      "-----------------------------------------------------------------------------------\n"
     ]
    }
   ],
   "source": [
    "valueTest = ValueTest(settings.variables, settings.s_function_width, False)\n",
    "valueTest.noOptymalizationWorker(settings.variables)"
   ]
  },
  {
   "cell_type": "markdown",
   "metadata": {},
   "source": [
    "##### Test Set | S Function Value"
   ]
  },
  {
   "cell_type": "code",
   "execution_count": 15,
   "metadata": {
    "ExecuteTime": {
     "end_time": "2019-05-03T18:53:51.570112Z",
     "start_time": "2019-05-03T18:53:50.121110Z"
    }
   },
   "outputs": [
    {
     "name": "stderr",
     "output_type": "stream",
     "text": [
      "D:\\Anaconda\\envs\\py35\\lib\\site-packages\\sklearn\\metrics\\classification.py:1135: UndefinedMetricWarning: Precision and F-score are ill-defined and being set to 0.0 in labels with no predicted samples.\n",
      "  'precision', 'predicted', average, warn_for)\n"
     ]
    },
    {
     "name": "stdout",
     "output_type": "stream",
     "text": [
      "Accuracy: 0.6708860759493671\n",
      "Precision: [0.67088608 0.        ]\n",
      "Recall: [1. 0.]\n",
      "F-Score: [0.8030303 0.       ]\n",
      "Support: [53 26]\n",
      "-----------------------------------------------------------------------------------\n",
      "Center Point: 0.0\n",
      "Test Accuracy: 0.6708860759493671\n",
      "Time: 10.79661750793457\n",
      "-----------------------------------------------------------------------------------\n"
     ]
    }
   ],
   "source": [
    "valueTest.sOptymalizationWorker(settings.variables, s_function_center)"
   ]
  },
  {
   "cell_type": "markdown",
   "metadata": {},
   "source": [
    "##### Test Set | Threshold Value"
   ]
  },
  {
   "cell_type": "code",
   "execution_count": 16,
   "metadata": {
    "ExecuteTime": {
     "end_time": "2019-05-03T18:53:52.791108Z",
     "start_time": "2019-05-03T18:53:51.572110Z"
    }
   },
   "outputs": [
    {
     "name": "stdout",
     "output_type": "stream",
     "text": [
      "Accuracy: 0.5569620253164557\n",
      "Precision: [0.65       0.26315789]\n",
      "Recall: [0.73584906 0.19230769]\n",
      "F-Score: [0.69026549 0.22222222]\n",
      "Support: [53 26]\n",
      "-----------------------------------------------------------------------------------\n",
      "Center Point: 0.0\n",
      "Threshold: 0.5317418412850439\n",
      "Test Accuracy: 0.5569620253164557\n",
      "Time: 10.982628107070923\n",
      "-----------------------------------------------------------------------------------\n"
     ]
    }
   ],
   "source": [
    "valueTest.thresholdWorker(settings.variables, s_function_center, threshold)"
   ]
  }
 ],
 "metadata": {
  "kernelspec": {
   "display_name": "Python 3",
   "language": "python",
   "name": "python3"
  },
  "language_info": {
   "codemirror_mode": {
    "name": "ipython",
    "version": 3
   },
   "file_extension": ".py",
   "mimetype": "text/x-python",
   "name": "python",
   "nbconvert_exporter": "python",
   "pygments_lexer": "ipython3",
   "version": "3.5.5"
  }
 },
 "nbformat": 4,
 "nbformat_minor": 2
}
