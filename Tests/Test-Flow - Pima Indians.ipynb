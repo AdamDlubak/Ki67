{
 "cells": [
  {
   "cell_type": "markdown",
   "metadata": {},
   "source": [
    "## Preparation"
   ]
  },
  {
   "cell_type": "markdown",
   "metadata": {},
   "source": [
    "##### Import Functions"
   ]
  },
  {
   "cell_type": "code",
   "execution_count": 1,
   "metadata": {
    "ExecuteTime": {
     "end_time": "2019-05-03T18:24:12.713575Z",
     "start_time": "2019-05-03T18:24:11.550576Z"
    }
   },
   "outputs": [],
   "source": [
    "from Scripts.LoadCSV import LoadCSV as LoadCSV\n",
    "from Scripts.Fuzzify import Fuzzify as Fuzzify\n",
    "from Scripts.OptimizeBruteForceKFold import OptimizeBruteForceKFold as OptimizeBruteForceKFold\n",
    "from Scripts.ValueTest import ValueTest as ValueTest\n",
    "from Scripts.OptimizeBruteForce import OptimizeBruteForce as OptimizeBruteForce"
   ]
  },
  {
   "cell_type": "markdown",
   "metadata": {},
   "source": [
    "##### Import Settings"
   ]
  },
  {
   "cell_type": "code",
   "execution_count": 2,
   "metadata": {
    "ExecuteTime": {
     "end_time": "2019-05-03T18:24:12.805575Z",
     "start_time": "2019-05-03T18:24:12.715575Z"
    }
   },
   "outputs": [],
   "source": [
    "import Settings.SettingsPimaIndians as settings"
   ]
  },
  {
   "cell_type": "markdown",
   "metadata": {},
   "source": [
    "##### Load CSV File"
   ]
  },
  {
   "cell_type": "code",
   "execution_count": 3,
   "metadata": {
    "ExecuteTime": {
     "end_time": "2019-05-03T18:24:13.022574Z",
     "start_time": "2019-05-03T18:24:12.807577Z"
    }
   },
   "outputs": [],
   "source": [
    "loadCSV = LoadCSV()\n",
    "loadCSV.worker(settings.variables)"
   ]
  },
  {
   "cell_type": "markdown",
   "metadata": {},
   "source": [
    "##### Fuzzify Data"
   ]
  },
  {
   "cell_type": "code",
   "execution_count": 4,
   "metadata": {
    "ExecuteTime": {
     "end_time": "2019-05-03T18:24:36.633827Z",
     "start_time": "2019-05-03T18:24:13.024580Z"
    }
   },
   "outputs": [],
   "source": [
    "fuzzify = Fuzzify()\n",
    "fuzzify.worker(settings.variables)"
   ]
  },
  {
   "cell_type": "markdown",
   "metadata": {},
   "source": [
    "## Train Set - K-Fold"
   ]
  },
  {
   "cell_type": "markdown",
   "metadata": {},
   "source": [
    "##### Train Set | K-Fold - S Function Optymalization"
   ]
  },
  {
   "cell_type": "code",
   "execution_count": 5,
   "metadata": {
    "ExecuteTime": {
     "end_time": "2019-05-03T18:24:38.274829Z",
     "start_time": "2019-05-03T18:24:36.636787Z"
    }
   },
   "outputs": [],
   "source": [
    "optimizeBruteForceKFold = OptimizeBruteForceKFold(settings.variables, settings.s_function_width)"
   ]
  },
  {
   "cell_type": "code",
   "execution_count": 6,
   "metadata": {
    "ExecuteTime": {
     "end_time": "2019-05-03T18:49:43.406195Z",
     "start_time": "2019-05-03T18:24:38.276786Z"
    },
    "scrolled": false
   },
   "outputs": [
    {
     "data": {
      "text/html": [
       "<div>\n",
       "<style scoped>\n",
       "    .dataframe tbody tr th:only-of-type {\n",
       "        vertical-align: middle;\n",
       "    }\n",
       "\n",
       "    .dataframe tbody tr th {\n",
       "        vertical-align: top;\n",
       "    }\n",
       "\n",
       "    .dataframe thead th {\n",
       "        text-align: right;\n",
       "    }\n",
       "</style>\n",
       "<table border=\"1\" class=\"dataframe\">\n",
       "  <thead>\n",
       "    <tr style=\"text-align: right;\">\n",
       "      <th></th>\n",
       "      <th>F2</th>\n",
       "      <th>F5</th>\n",
       "      <th>F1</th>\n",
       "      <th>F3</th>\n",
       "      <th>F6</th>\n",
       "      <th>F4</th>\n",
       "      <th>F7</th>\n",
       "      <th>F0</th>\n",
       "      <th>Decision</th>\n",
       "      <th>Decision Fuzzy</th>\n",
       "      <th>Predicted Value</th>\n",
       "    </tr>\n",
       "  </thead>\n",
       "  <tbody>\n",
       "    <tr>\n",
       "      <th>362</th>\n",
       "      <td>0.255814</td>\n",
       "      <td>0.331288</td>\n",
       "      <td>0.500000</td>\n",
       "      <td>0.250000</td>\n",
       "      <td>0.038972</td>\n",
       "      <td>0.385817</td>\n",
       "      <td>0.016667</td>\n",
       "      <td>0.117647</td>\n",
       "      <td>negatif</td>\n",
       "      <td>negatif</td>\n",
       "      <td>0.750166</td>\n",
       "    </tr>\n",
       "    <tr>\n",
       "      <th>118</th>\n",
       "      <td>0.604651</td>\n",
       "      <td>0.408998</td>\n",
       "      <td>0.633803</td>\n",
       "      <td>0.500000</td>\n",
       "      <td>0.104497</td>\n",
       "      <td>0.216346</td>\n",
       "      <td>0.133333</td>\n",
       "      <td>0.117647</td>\n",
       "      <td>negatif</td>\n",
       "      <td>negatif</td>\n",
       "      <td>0.673331</td>\n",
       "    </tr>\n",
       "    <tr>\n",
       "      <th>168</th>\n",
       "      <td>0.604651</td>\n",
       "      <td>0.607362</td>\n",
       "      <td>0.767606</td>\n",
       "      <td>0.642857</td>\n",
       "      <td>0.074518</td>\n",
       "      <td>0.289663</td>\n",
       "      <td>0.083333</td>\n",
       "      <td>0.000000</td>\n",
       "      <td>negatif</td>\n",
       "      <td>negatif</td>\n",
       "      <td>0.565316</td>\n",
       "    </tr>\n",
       "    <tr>\n",
       "      <th>102</th>\n",
       "      <td>0.674419</td>\n",
       "      <td>0.327198</td>\n",
       "      <td>0.394366</td>\n",
       "      <td>0.446429</td>\n",
       "      <td>0.074946</td>\n",
       "      <td>0.193510</td>\n",
       "      <td>0.250000</td>\n",
       "      <td>0.529412</td>\n",
       "      <td>positif</td>\n",
       "      <td>negatif</td>\n",
       "      <td>0.574586</td>\n",
       "    </tr>\n",
       "    <tr>\n",
       "      <th>164</th>\n",
       "      <td>0.720930</td>\n",
       "      <td>0.558282</td>\n",
       "      <td>0.323944</td>\n",
       "      <td>0.517857</td>\n",
       "      <td>0.017987</td>\n",
       "      <td>0.127404</td>\n",
       "      <td>0.033333</td>\n",
       "      <td>0.117647</td>\n",
       "      <td>positif</td>\n",
       "      <td>negatif</td>\n",
       "      <td>0.624165</td>\n",
       "    </tr>\n",
       "    <tr>\n",
       "      <th>374</th>\n",
       "      <td>0.627907</td>\n",
       "      <td>0.208589</td>\n",
       "      <td>0.521127</td>\n",
       "      <td>0.285714</td>\n",
       "      <td>0.101927</td>\n",
       "      <td>0.078125</td>\n",
       "      <td>0.216667</td>\n",
       "      <td>0.176471</td>\n",
       "      <td>positif</td>\n",
       "      <td>negatif</td>\n",
       "      <td>0.724746</td>\n",
       "    </tr>\n",
       "    <tr>\n",
       "      <th>305</th>\n",
       "      <td>0.558140</td>\n",
       "      <td>0.314928</td>\n",
       "      <td>0.471831</td>\n",
       "      <td>0.678571</td>\n",
       "      <td>0.277516</td>\n",
       "      <td>0.259615</td>\n",
       "      <td>0.216667</td>\n",
       "      <td>0.352941</td>\n",
       "      <td>negatif</td>\n",
       "      <td>negatif</td>\n",
       "      <td>0.655636</td>\n",
       "    </tr>\n",
       "    <tr>\n",
       "      <th>173</th>\n",
       "      <td>0.255814</td>\n",
       "      <td>0.214724</td>\n",
       "      <td>0.584507</td>\n",
       "      <td>0.214286</td>\n",
       "      <td>0.243683</td>\n",
       "      <td>0.082933</td>\n",
       "      <td>0.016667</td>\n",
       "      <td>0.058824</td>\n",
       "      <td>negatif</td>\n",
       "      <td>negatif</td>\n",
       "      <td>0.674332</td>\n",
       "    </tr>\n",
       "    <tr>\n",
       "      <th>134</th>\n",
       "      <td>0.581395</td>\n",
       "      <td>0.159509</td>\n",
       "      <td>0.563380</td>\n",
       "      <td>0.339286</td>\n",
       "      <td>0.240685</td>\n",
       "      <td>0.145433</td>\n",
       "      <td>0.500000</td>\n",
       "      <td>0.411765</td>\n",
       "      <td>negatif</td>\n",
       "      <td>negatif</td>\n",
       "      <td>0.699084</td>\n",
       "    </tr>\n",
       "    <tr>\n",
       "      <th>348</th>\n",
       "      <td>0.883721</td>\n",
       "      <td>0.799591</td>\n",
       "      <td>0.471831</td>\n",
       "      <td>0.500000</td>\n",
       "      <td>0.340471</td>\n",
       "      <td>0.271635</td>\n",
       "      <td>0.016667</td>\n",
       "      <td>0.176471</td>\n",
       "      <td>negatif</td>\n",
       "      <td>negatif</td>\n",
       "      <td>0.576365</td>\n",
       "    </tr>\n",
       "  </tbody>\n",
       "</table>\n",
       "</div>"
      ],
      "text/plain": [
       "           F2        F5        F1        F3        F6        F4        F7  \\\n",
       "362  0.255814  0.331288  0.500000  0.250000  0.038972  0.385817  0.016667   \n",
       "118  0.604651  0.408998  0.633803  0.500000  0.104497  0.216346  0.133333   \n",
       "168  0.604651  0.607362  0.767606  0.642857  0.074518  0.289663  0.083333   \n",
       "102  0.674419  0.327198  0.394366  0.446429  0.074946  0.193510  0.250000   \n",
       "164  0.720930  0.558282  0.323944  0.517857  0.017987  0.127404  0.033333   \n",
       "374  0.627907  0.208589  0.521127  0.285714  0.101927  0.078125  0.216667   \n",
       "305  0.558140  0.314928  0.471831  0.678571  0.277516  0.259615  0.216667   \n",
       "173  0.255814  0.214724  0.584507  0.214286  0.243683  0.082933  0.016667   \n",
       "134  0.581395  0.159509  0.563380  0.339286  0.240685  0.145433  0.500000   \n",
       "348  0.883721  0.799591  0.471831  0.500000  0.340471  0.271635  0.016667   \n",
       "\n",
       "           F0 Decision Decision Fuzzy  Predicted Value  \n",
       "362  0.117647  negatif        negatif         0.750166  \n",
       "118  0.117647  negatif        negatif         0.673331  \n",
       "168  0.000000  negatif        negatif         0.565316  \n",
       "102  0.529412  positif        negatif         0.574586  \n",
       "164  0.117647  positif        negatif         0.624165  \n",
       "374  0.176471  positif        negatif         0.724746  \n",
       "305  0.352941  negatif        negatif         0.655636  \n",
       "173  0.058824  negatif        negatif         0.674332  \n",
       "134  0.411765  negatif        negatif         0.699084  \n",
       "348  0.176471  negatif        negatif         0.576365  "
      ]
     },
     "metadata": {},
     "output_type": "display_data"
    },
    {
     "data": {
      "text/html": [
       "<div>\n",
       "<style scoped>\n",
       "    .dataframe tbody tr th:only-of-type {\n",
       "        vertical-align: middle;\n",
       "    }\n",
       "\n",
       "    .dataframe tbody tr th {\n",
       "        vertical-align: top;\n",
       "    }\n",
       "\n",
       "    .dataframe thead th {\n",
       "        text-align: right;\n",
       "    }\n",
       "</style>\n",
       "<table border=\"1\" class=\"dataframe\">\n",
       "  <thead>\n",
       "    <tr style=\"text-align: right;\">\n",
       "      <th></th>\n",
       "      <th>F2</th>\n",
       "      <th>F5</th>\n",
       "      <th>F1</th>\n",
       "      <th>F3</th>\n",
       "      <th>F6</th>\n",
       "      <th>F4</th>\n",
       "      <th>F7</th>\n",
       "      <th>F0</th>\n",
       "      <th>Decision</th>\n",
       "      <th>Decision Fuzzy</th>\n",
       "      <th>Predicted Value</th>\n",
       "    </tr>\n",
       "  </thead>\n",
       "  <tbody>\n",
       "    <tr>\n",
       "      <th>325</th>\n",
       "      <td>0.604651</td>\n",
       "      <td>0.464213</td>\n",
       "      <td>0.288732</td>\n",
       "      <td>0.446429</td>\n",
       "      <td>0.336617</td>\n",
       "      <td>0.092548</td>\n",
       "      <td>0.183333</td>\n",
       "      <td>0.411765</td>\n",
       "      <td>positif</td>\n",
       "      <td>negatif</td>\n",
       "      <td>0.514339</td>\n",
       "    </tr>\n",
       "    <tr>\n",
       "      <th>337</th>\n",
       "      <td>0.325581</td>\n",
       "      <td>0.419223</td>\n",
       "      <td>0.697183</td>\n",
       "      <td>0.357143</td>\n",
       "      <td>0.066381</td>\n",
       "      <td>0.632212</td>\n",
       "      <td>0.066667</td>\n",
       "      <td>0.117647</td>\n",
       "      <td>positif</td>\n",
       "      <td>negatif</td>\n",
       "      <td>0.546778</td>\n",
       "    </tr>\n",
       "    <tr>\n",
       "      <th>142</th>\n",
       "      <td>0.279070</td>\n",
       "      <td>0.456033</td>\n",
       "      <td>0.507042</td>\n",
       "      <td>0.678571</td>\n",
       "      <td>0.226124</td>\n",
       "      <td>0.216346</td>\n",
       "      <td>0.050000</td>\n",
       "      <td>0.058824</td>\n",
       "      <td>positif</td>\n",
       "      <td>negatif</td>\n",
       "      <td>0.530987</td>\n",
       "    </tr>\n",
       "    <tr>\n",
       "      <th>367</th>\n",
       "      <td>0.302326</td>\n",
       "      <td>0.321063</td>\n",
       "      <td>0.922535</td>\n",
       "      <td>0.464286</td>\n",
       "      <td>0.317345</td>\n",
       "      <td>0.454327</td>\n",
       "      <td>0.216667</td>\n",
       "      <td>0.411765</td>\n",
       "      <td>positif</td>\n",
       "      <td>positif</td>\n",
       "      <td>0.418234</td>\n",
       "    </tr>\n",
       "    <tr>\n",
       "      <th>79</th>\n",
       "      <td>0.651163</td>\n",
       "      <td>0.531697</td>\n",
       "      <td>0.408451</td>\n",
       "      <td>0.482143</td>\n",
       "      <td>0.035118</td>\n",
       "      <td>0.325721</td>\n",
       "      <td>0.100000</td>\n",
       "      <td>0.000000</td>\n",
       "      <td>negatif</td>\n",
       "      <td>negatif</td>\n",
       "      <td>0.516312</td>\n",
       "    </tr>\n",
       "    <tr>\n",
       "      <th>103</th>\n",
       "      <td>0.534884</td>\n",
       "      <td>0.482618</td>\n",
       "      <td>0.669014</td>\n",
       "      <td>0.589286</td>\n",
       "      <td>0.281370</td>\n",
       "      <td>0.308894</td>\n",
       "      <td>0.283333</td>\n",
       "      <td>0.705882</td>\n",
       "      <td>positif</td>\n",
       "      <td>positif</td>\n",
       "      <td>0.477821</td>\n",
       "    </tr>\n",
       "    <tr>\n",
       "      <th>328</th>\n",
       "      <td>0.558140</td>\n",
       "      <td>0.192229</td>\n",
       "      <td>0.330986</td>\n",
       "      <td>0.410714</td>\n",
       "      <td>0.276231</td>\n",
       "      <td>0.165865</td>\n",
       "      <td>0.100000</td>\n",
       "      <td>0.176471</td>\n",
       "      <td>negatif</td>\n",
       "      <td>negatif</td>\n",
       "      <td>0.754378</td>\n",
       "    </tr>\n",
       "    <tr>\n",
       "      <th>241</th>\n",
       "      <td>0.627907</td>\n",
       "      <td>0.570552</td>\n",
       "      <td>0.690141</td>\n",
       "      <td>0.607143</td>\n",
       "      <td>0.208137</td>\n",
       "      <td>0.151442</td>\n",
       "      <td>0.100000</td>\n",
       "      <td>0.352941</td>\n",
       "      <td>negatif</td>\n",
       "      <td>negatif</td>\n",
       "      <td>0.514851</td>\n",
       "    </tr>\n",
       "    <tr>\n",
       "      <th>361</th>\n",
       "      <td>0.604651</td>\n",
       "      <td>0.208589</td>\n",
       "      <td>0.380282</td>\n",
       "      <td>0.232143</td>\n",
       "      <td>0.014133</td>\n",
       "      <td>0.103365</td>\n",
       "      <td>0.100000</td>\n",
       "      <td>0.235294</td>\n",
       "      <td>negatif</td>\n",
       "      <td>negatif</td>\n",
       "      <td>0.733894</td>\n",
       "    </tr>\n",
       "    <tr>\n",
       "      <th>238</th>\n",
       "      <td>0.372093</td>\n",
       "      <td>0.073620</td>\n",
       "      <td>0.478873</td>\n",
       "      <td>0.107143</td>\n",
       "      <td>0.157173</td>\n",
       "      <td>0.109375</td>\n",
       "      <td>0.000000</td>\n",
       "      <td>0.000000</td>\n",
       "      <td>negatif</td>\n",
       "      <td>negatif</td>\n",
       "      <td>0.749207</td>\n",
       "    </tr>\n",
       "  </tbody>\n",
       "</table>\n",
       "</div>"
      ],
      "text/plain": [
       "           F2        F5        F1        F3        F6        F4        F7  \\\n",
       "325  0.604651  0.464213  0.288732  0.446429  0.336617  0.092548  0.183333   \n",
       "337  0.325581  0.419223  0.697183  0.357143  0.066381  0.632212  0.066667   \n",
       "142  0.279070  0.456033  0.507042  0.678571  0.226124  0.216346  0.050000   \n",
       "367  0.302326  0.321063  0.922535  0.464286  0.317345  0.454327  0.216667   \n",
       "79   0.651163  0.531697  0.408451  0.482143  0.035118  0.325721  0.100000   \n",
       "103  0.534884  0.482618  0.669014  0.589286  0.281370  0.308894  0.283333   \n",
       "328  0.558140  0.192229  0.330986  0.410714  0.276231  0.165865  0.100000   \n",
       "241  0.627907  0.570552  0.690141  0.607143  0.208137  0.151442  0.100000   \n",
       "361  0.604651  0.208589  0.380282  0.232143  0.014133  0.103365  0.100000   \n",
       "238  0.372093  0.073620  0.478873  0.107143  0.157173  0.109375  0.000000   \n",
       "\n",
       "           F0 Decision Decision Fuzzy  Predicted Value  \n",
       "325  0.411765  positif        negatif         0.514339  \n",
       "337  0.117647  positif        negatif         0.546778  \n",
       "142  0.058824  positif        negatif         0.530987  \n",
       "367  0.411765  positif        positif         0.418234  \n",
       "79   0.000000  negatif        negatif         0.516312  \n",
       "103  0.705882  positif        positif         0.477821  \n",
       "328  0.176471  negatif        negatif         0.754378  \n",
       "241  0.352941  negatif        negatif         0.514851  \n",
       "361  0.235294  negatif        negatif         0.733894  \n",
       "238  0.000000  negatif        negatif         0.749207  "
      ]
     },
     "metadata": {},
     "output_type": "display_data"
    },
    {
     "name": "stdout",
     "output_type": "stream",
     "text": [
      "------------------------------------- Fold 0 --------------------------------------\n",
      "Center Point: 0.49375\n",
      "Train Accuracy: 0.8042704626334519\n",
      "Test Accuracy: 0.78125\n",
      "Test Precision: [0.75 1.  ]\n",
      "Test Recall: [1.         0.36363636]\n",
      "Test F-Score: [0.85714286 0.53333333]\n",
      "Test Support: [21 11]\n",
      "Time: 137.448561668396\n",
      "-----------------------------------------------------------------------------------\n",
      "------------------------------------- Fold 1 --------------------------------------\n",
      "Center Point: 0.49375\n",
      "Train Accuracy: 0.8078291814946619\n",
      "Test Accuracy: 0.75\n",
      "Test Precision: [0.72413793 1.        ]\n",
      "Test Recall: [1.         0.27272727]\n",
      "Test F-Score: [0.84       0.42857143]\n",
      "Test Support: [21 11]\n",
      "Time: 129.0736119747162\n",
      "-----------------------------------------------------------------------------------\n",
      "------------------------------------- Fold 2 --------------------------------------\n",
      "Center Point: 0.49375\n",
      "Train Accuracy: 0.8078291814946619\n",
      "Test Accuracy: 0.75\n",
      "Test Precision: [0.72413793 1.        ]\n",
      "Test Recall: [1.         0.27272727]\n",
      "Test F-Score: [0.84       0.42857143]\n",
      "Test Support: [21 11]\n",
      "Time: 130.24192214012146\n",
      "-----------------------------------------------------------------------------------\n",
      "------------------------------------- Fold 3 --------------------------------------\n",
      "Center Point: 0.49375\n",
      "Train Accuracy: 0.8042704626334519\n",
      "Test Accuracy: 0.78125\n",
      "Test Precision: [0.75 1.  ]\n",
      "Test Recall: [1.         0.36363636]\n",
      "Test F-Score: [0.85714286 0.53333333]\n",
      "Test Support: [21 11]\n",
      "Time: 129.90946316719055\n",
      "-----------------------------------------------------------------------------------\n",
      "------------------------------------- Fold 4 --------------------------------------\n",
      "Center Point: 0.49375\n",
      "Train Accuracy: 0.7943262411347518\n",
      "Test Accuracy: 0.8709677419354839\n",
      "Test Precision: [0.84 1.  ]\n",
      "Test Recall: [1.  0.6]\n",
      "Test F-Score: [0.91304348 0.75      ]\n",
      "Test Support: [21 10]\n",
      "Time: 129.47499918937683\n",
      "-----------------------------------------------------------------------------------\n",
      "------------------------------------- Fold 5 --------------------------------------\n",
      "Center Point: 0.49375\n",
      "Train Accuracy: 0.8049645390070922\n",
      "Test Accuracy: 0.7741935483870968\n",
      "Test Precision: [0.75 1.  ]\n",
      "Test Recall: [1.  0.3]\n",
      "Test F-Score: [0.85714286 0.46153846]\n",
      "Test Support: [21 10]\n",
      "Time: 135.5947790145874\n",
      "-----------------------------------------------------------------------------------\n",
      "------------------------------------- Fold 6 --------------------------------------\n",
      "Center Point: 0.49375\n",
      "Train Accuracy: 0.8014184397163121\n",
      "Test Accuracy: 0.8064516129032258\n",
      "Test Precision: [0.77777778 1.        ]\n",
      "Test Recall: [1.  0.4]\n",
      "Test F-Score: [0.875      0.57142857]\n",
      "Test Support: [21 10]\n",
      "Time: 130.98745131492615\n",
      "-----------------------------------------------------------------------------------\n",
      "------------------------------------- Fold 7 --------------------------------------\n",
      "Center Point: 0.5125\n",
      "Train Accuracy: 0.7907801418439716\n",
      "Test Accuracy: 0.8064516129032258\n",
      "Test Precision: [0.85714286 0.7       ]\n",
      "Test Recall: [0.85714286 0.7       ]\n",
      "Test F-Score: [0.85714286 0.7       ]\n",
      "Test Support: [21 10]\n",
      "Time: 135.34244108200073\n",
      "-----------------------------------------------------------------------------------\n",
      "------------------------------------- Fold 8 --------------------------------------\n",
      "Center Point: 0.4875\n",
      "Train Accuracy: 0.8014184397163121\n",
      "Test Accuracy: 0.7741935483870968\n",
      "Test Precision: [0.75 1.  ]\n",
      "Test Recall: [1.  0.3]\n",
      "Test F-Score: [0.85714286 0.46153846]\n",
      "Test Support: [21 10]\n",
      "Time: 132.98443579673767\n",
      "-----------------------------------------------------------------------------------\n",
      "------------------------------------- Fold 9 --------------------------------------\n",
      "Center Point: 0.49375\n",
      "Train Accuracy: 0.8021201413427562\n",
      "Test Accuracy: 0.8\n",
      "Test Precision: [0.76923077 1.        ]\n",
      "Test Recall: [1.  0.4]\n",
      "Test F-Score: [0.86956522 0.57142857]\n",
      "Test Support: [20 10]\n",
      "Time: 131.2979519367218\n",
      "-----------------------------------------------------------------------------------\n"
     ]
    }
   ],
   "source": [
    "best_s_function_center, mean_s_function_center = optimizeBruteForceKFold.worker(settings.variables, settings.constraints, settings.s_function_width, settings.n_folds)"
   ]
  },
  {
   "cell_type": "markdown",
   "metadata": {},
   "source": [
    "## Test Set | K-Fold Test"
   ]
  },
  {
   "cell_type": "code",
   "execution_count": 7,
   "metadata": {
    "ExecuteTime": {
     "end_time": "2019-05-03T18:49:45.365540Z",
     "start_time": "2019-05-03T18:49:43.408197Z"
    }
   },
   "outputs": [],
   "source": [
    "valueTest = ValueTest(settings.variables, settings.s_function_width, False)"
   ]
  },
  {
   "cell_type": "markdown",
   "metadata": {},
   "source": [
    "##### K-Fold Test Set | S Function Value"
   ]
  },
  {
   "cell_type": "code",
   "execution_count": 8,
   "metadata": {
    "ExecuteTime": {
     "end_time": "2019-05-03T18:49:46.558538Z",
     "start_time": "2019-05-03T18:49:45.367524Z"
    }
   },
   "outputs": [
    {
     "name": "stdout",
     "output_type": "stream",
     "text": [
      "Accuracy: 0.759493670886076\n",
      "Precision: [0.75757576 0.76923077]\n",
      "Recall: [0.94339623 0.38461538]\n",
      "F-Score: [0.84033613 0.51282051]\n",
      "Support: [53 26]\n",
      "-----------------------------------------------------------------------------------\n",
      "Center Point: 0.49375\n",
      "Test Accuracy: 0.759493670886076\n",
      "Time: 1.131603479385376\n",
      "-----------------------------------------------------------------------------------\n"
     ]
    }
   ],
   "source": [
    "valueTest.sOptymalizationWorker(settings.variables, best_s_function_center, \"Test Value - K-Fold - Best Function Center\")"
   ]
  },
  {
   "cell_type": "code",
   "execution_count": 9,
   "metadata": {
    "ExecuteTime": {
     "end_time": "2019-05-03T18:49:47.734540Z",
     "start_time": "2019-05-03T18:49:46.560524Z"
    }
   },
   "outputs": [
    {
     "name": "stdout",
     "output_type": "stream",
     "text": [
      "Accuracy: 0.7848101265822784\n",
      "Precision: [0.78125 0.8    ]\n",
      "Recall: [0.94339623 0.46153846]\n",
      "F-Score: [0.85470085 0.58536585]\n",
      "Support: [53 26]\n",
      "-----------------------------------------------------------------------------------\n",
      "Center Point: 0.495\n",
      "Test Accuracy: 0.7848101265822784\n",
      "Time: 1.1700022220611572\n",
      "-----------------------------------------------------------------------------------\n"
     ]
    }
   ],
   "source": [
    "valueTest.sOptymalizationWorker(settings.variables, mean_s_function_center, \"Test Value - K-Fold - Average Function Center\")"
   ]
  },
  {
   "cell_type": "markdown",
   "metadata": {},
   "source": [
    "## Training Set"
   ]
  },
  {
   "cell_type": "markdown",
   "metadata": {},
   "source": [
    "##### Training Set | No Optymalization"
   ]
  },
  {
   "cell_type": "code",
   "execution_count": 10,
   "metadata": {
    "ExecuteTime": {
     "end_time": "2019-05-03T18:49:53.269058Z",
     "start_time": "2019-05-03T18:49:47.738525Z"
    },
    "scrolled": true
   },
   "outputs": [
    {
     "name": "stdout",
     "output_type": "stream",
     "text": [
      "Accuracy: 0.7955271565495208\n",
      "Precision: [0.76951673 0.95454545]\n",
      "Recall: [0.99043062 0.40384615]\n",
      "F-Score: [0.86610879 0.56756757]\n",
      "Support: [209 104]\n",
      "-----------------------------------------------------------------------------------\n",
      "Center Point: 0.5\n",
      "Train Accuracy: 0.7955271565495208\n",
      "Time: 3.30720591545105\n",
      "-----------------------------------------------------------------------------------\n"
     ]
    }
   ],
   "source": [
    "valueTest = ValueTest(settings.variables, settings.s_function_width, True)\n",
    "valueTest.noOptymalizationWorker(settings.variables)"
   ]
  },
  {
   "cell_type": "markdown",
   "metadata": {},
   "source": [
    "##### Training Set | S Function Optymalization"
   ]
  },
  {
   "cell_type": "code",
   "execution_count": 11,
   "metadata": {
    "ExecuteTime": {
     "end_time": "2019-05-03T18:49:55.150807Z",
     "start_time": "2019-05-03T18:49:53.271060Z"
    }
   },
   "outputs": [],
   "source": [
    "optimizeBruteForce = OptimizeBruteForce(settings.variables, settings.s_function_width)"
   ]
  },
  {
   "cell_type": "code",
   "execution_count": 12,
   "metadata": {
    "ExecuteTime": {
     "end_time": "2019-05-03T18:52:41.872055Z",
     "start_time": "2019-05-03T18:49:55.152784Z"
    }
   },
   "outputs": [
    {
     "name": "stdout",
     "output_type": "stream",
     "text": [
      "Accuracy: 0.8019169329073482\n",
      "Precision: [0.77121771 1.        ]\n",
      "Recall: [1.         0.40384615]\n",
      "F-Score: [0.87083333 0.57534247]\n",
      "Support: [209 104]\n",
      "-----------------------------------------------------------------------------------\n",
      "Center Point: 0.49375\n",
      "Train Accuracy: 0.8019169329073482\n",
      "Time: 144.0264618396759\n",
      "-----------------------------------------------------------------------------------\n"
     ]
    }
   ],
   "source": [
    "s_function_center = optimizeBruteForce.sFunctionsWorker(settings.variables, settings.constraints, settings.s_function_width)"
   ]
  },
  {
   "cell_type": "markdown",
   "metadata": {},
   "source": [
    "##### Training Set | Threshold Optymalization"
   ]
  },
  {
   "cell_type": "code",
   "execution_count": 13,
   "metadata": {
    "ExecuteTime": {
     "end_time": "2019-05-03T18:53:47.128107Z",
     "start_time": "2019-05-03T18:52:41.876055Z"
    }
   },
   "outputs": [
    {
     "name": "stdout",
     "output_type": "stream",
     "text": [
      "Accuracy: 0.8019169329073482\n",
      "Precision: [0.77121771 1.        ]\n",
      "Recall: [1.         0.40384615]\n",
      "F-Score: [0.87083333 0.57534247]\n",
      "Support: [209 104]\n",
      "-----------------------------------------------------------------------------------\n",
      "Center Point: 0.49375\n",
      "Threshold: 0.4882488099911761\n",
      "Train Accuracy: 0.8019169329073482\n",
      "Time: 18.09853219985962\n",
      "-----------------------------------------------------------------------------------\n"
     ]
    }
   ],
   "source": [
    "threshold = optimizeBruteForce.thresholdWorker(settings.variables, s_function_center, settings.s_function_width)"
   ]
  },
  {
   "cell_type": "markdown",
   "metadata": {},
   "source": [
    "## Test Set"
   ]
  },
  {
   "cell_type": "markdown",
   "metadata": {},
   "source": [
    "##### Test Set | No Optymalization "
   ]
  },
  {
   "cell_type": "code",
   "execution_count": 14,
   "metadata": {
    "ExecuteTime": {
     "end_time": "2019-05-03T18:53:50.117114Z",
     "start_time": "2019-05-03T18:53:47.130110Z"
    }
   },
   "outputs": [
    {
     "name": "stdout",
     "output_type": "stream",
     "text": [
      "Accuracy: 0.759493670886076\n",
      "Precision: [0.78333333 0.68421053]\n",
      "Recall: [0.88679245 0.5       ]\n",
      "F-Score: [0.83185841 0.57777778]\n",
      "Support: [53 26]\n",
      "-----------------------------------------------------------------------------------\n",
      "Center Point: 0.5\n",
      "Test Accuracy: 0.759493670886076\n",
      "Time: 1.3104023933410645\n",
      "-----------------------------------------------------------------------------------\n"
     ]
    }
   ],
   "source": [
    "valueTest = ValueTest(settings.variables, settings.s_function_width, False)\n",
    "valueTest.noOptymalizationWorker(settings.variables)"
   ]
  },
  {
   "cell_type": "markdown",
   "metadata": {},
   "source": [
    "##### Test Set | S Function Value"
   ]
  },
  {
   "cell_type": "code",
   "execution_count": 15,
   "metadata": {
    "ExecuteTime": {
     "end_time": "2019-05-03T18:53:51.570112Z",
     "start_time": "2019-05-03T18:53:50.121110Z"
    }
   },
   "outputs": [
    {
     "name": "stdout",
     "output_type": "stream",
     "text": [
      "Accuracy: 0.759493670886076\n",
      "Precision: [0.75757576 0.76923077]\n",
      "Recall: [0.94339623 0.38461538]\n",
      "F-Score: [0.84033613 0.51282051]\n",
      "Support: [53 26]\n",
      "-----------------------------------------------------------------------------------\n",
      "Center Point: 0.49375\n",
      "Test Accuracy: 0.759493670886076\n",
      "Time: 1.2414028644561768\n",
      "-----------------------------------------------------------------------------------\n"
     ]
    }
   ],
   "source": [
    "valueTest.sOptymalizationWorker(settings.variables, s_function_center)"
   ]
  },
  {
   "cell_type": "markdown",
   "metadata": {},
   "source": [
    "##### Test Set | Threshold Value"
   ]
  },
  {
   "cell_type": "code",
   "execution_count": 16,
   "metadata": {
    "ExecuteTime": {
     "end_time": "2019-05-03T18:53:52.791108Z",
     "start_time": "2019-05-03T18:53:51.572110Z"
    }
   },
   "outputs": [
    {
     "name": "stdout",
     "output_type": "stream",
     "text": [
      "Accuracy: 0.7468354430379747\n",
      "Precision: [0.74626866 0.75      ]\n",
      "Recall: [0.94339623 0.34615385]\n",
      "F-Score: [0.83333333 0.47368421]\n",
      "Support: [53 26]\n",
      "-----------------------------------------------------------------------------------\n",
      "Center Point: 0.49375\n",
      "Threshold: 0.4882488099911761\n",
      "Test Accuracy: 0.7468354430379747\n",
      "Time: 1.1856021881103516\n",
      "-----------------------------------------------------------------------------------\n"
     ]
    }
   ],
   "source": [
    "valueTest.thresholdWorker(settings.variables, s_function_center, threshold)"
   ]
  }
 ],
 "metadata": {
  "kernelspec": {
   "display_name": "Python 3",
   "language": "python",
   "name": "python3"
  },
  "language_info": {
   "codemirror_mode": {
    "name": "ipython",
    "version": 3
   },
   "file_extension": ".py",
   "mimetype": "text/x-python",
   "name": "python",
   "nbconvert_exporter": "python",
   "pygments_lexer": "ipython3",
   "version": "3.5.5"
  }
 },
 "nbformat": 4,
 "nbformat_minor": 2
}
