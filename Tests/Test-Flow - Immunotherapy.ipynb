{
 "cells": [
  {
   "cell_type": "markdown",
   "metadata": {},
   "source": [
    "## Preparation"
   ]
  },
  {
   "cell_type": "markdown",
   "metadata": {},
   "source": [
    "##### Import Functions"
   ]
  },
  {
   "cell_type": "code",
   "execution_count": 1,
   "metadata": {
    "ExecuteTime": {
     "end_time": "2019-05-03T18:24:12.713575Z",
     "start_time": "2019-05-03T18:24:11.550576Z"
    }
   },
   "outputs": [],
   "source": [
    "from Scripts.LoadCSV import LoadCSV as LoadCSV\n",
    "from Scripts.Fuzzify import Fuzzify as Fuzzify\n",
    "from Scripts.OptimizeBruteForceKFold import OptimizeBruteForceKFold as OptimizeBruteForceKFold\n",
    "from Scripts.ValueTest import ValueTest as ValueTest\n",
    "from Scripts.OptimizeBruteForce import OptimizeBruteForce as OptimizeBruteForce"
   ]
  },
  {
   "cell_type": "markdown",
   "metadata": {},
   "source": [
    "##### Import Settings"
   ]
  },
  {
   "cell_type": "code",
   "execution_count": 2,
   "metadata": {
    "ExecuteTime": {
     "end_time": "2019-05-03T18:24:12.805575Z",
     "start_time": "2019-05-03T18:24:12.715575Z"
    }
   },
   "outputs": [],
   "source": [
    "import Settings.SettingsImmunotherapy as settings"
   ]
  },
  {
   "cell_type": "markdown",
   "metadata": {},
   "source": [
    "##### Load CSV File"
   ]
  },
  {
   "cell_type": "code",
   "execution_count": 3,
   "metadata": {
    "ExecuteTime": {
     "end_time": "2019-05-03T18:24:13.022574Z",
     "start_time": "2019-05-03T18:24:12.807577Z"
    }
   },
   "outputs": [],
   "source": [
    "loadCSV = LoadCSV()\n",
    "loadCSV.worker(settings.variables)"
   ]
  },
  {
   "cell_type": "markdown",
   "metadata": {},
   "source": [
    "##### Fuzzify Data"
   ]
  },
  {
   "cell_type": "code",
   "execution_count": 4,
   "metadata": {
    "ExecuteTime": {
     "end_time": "2019-05-03T18:24:36.633827Z",
     "start_time": "2019-05-03T18:24:13.024580Z"
    }
   },
   "outputs": [],
   "source": [
    "fuzzify = Fuzzify()\n",
    "fuzzify.worker(settings.variables)"
   ]
  },
  {
   "cell_type": "markdown",
   "metadata": {},
   "source": [
    "## Train Set - K-Fold"
   ]
  },
  {
   "cell_type": "markdown",
   "metadata": {},
   "source": [
    "##### Train Set | K-Fold - S Function Optymalization"
   ]
  },
  {
   "cell_type": "code",
   "execution_count": 5,
   "metadata": {
    "ExecuteTime": {
     "end_time": "2019-05-03T18:24:38.274829Z",
     "start_time": "2019-05-03T18:24:36.636787Z"
    }
   },
   "outputs": [],
   "source": [
    "optimizeBruteForceKFold = OptimizeBruteForceKFold(settings.variables, settings.s_function_width)"
   ]
  },
  {
   "cell_type": "code",
   "execution_count": 6,
   "metadata": {
    "ExecuteTime": {
     "end_time": "2019-05-03T18:49:43.406195Z",
     "start_time": "2019-05-03T18:24:38.276786Z"
    },
    "scrolled": false
   },
   "outputs": [
    {
     "name": "stdout",
     "output_type": "stream",
     "text": [
      "------------------------------------- Fold 0 --------------------------------------\n",
      "Center Point: 0.47250000000000003\n",
      "Train Accuracy: 0.9137931034482759\n",
      "Test Accuracy: 0.918918918918919\n",
      "Test Precision: [0.91836735 0.91935484]\n",
      "Test Recall: [0.9        0.93442623]\n",
      "Test F-Score: [0.90909091 0.92682927]\n",
      "Test Support: [50 61]\n",
      "Time: 138.67355704307556\n",
      "-----------------------------------------------------------------------------------\n",
      "------------------------------------- Fold 1 --------------------------------------\n",
      "Center Point: 0.47250000000000003\n",
      "Train Accuracy: 0.9199594731509625\n",
      "Test Accuracy: 0.8636363636363636\n",
      "Test Precision: [0.925      0.82857143]\n",
      "Test Recall: [0.75510204 0.95081967]\n",
      "Test F-Score: [0.83146067 0.88549618]\n",
      "Test Support: [49 61]\n",
      "Time: 133.62902808189392\n",
      "-----------------------------------------------------------------------------------\n",
      "------------------------------------- Fold 2 --------------------------------------\n",
      "Center Point: 0.47390625000000003\n",
      "Train Accuracy: 0.9199594731509625\n",
      "Test Accuracy: 0.8727272727272727\n",
      "Test Precision: [0.94871795 0.83098592]\n",
      "Test Recall: [0.75510204 0.96721311]\n",
      "Test F-Score: [0.84090909 0.89393939]\n",
      "Test Support: [49 61]\n",
      "Time: 131.59001421928406\n",
      "-----------------------------------------------------------------------------------\n",
      "------------------------------------- Fold 3 --------------------------------------\n",
      "Center Point: 0.47390625000000003\n",
      "Train Accuracy: 0.9138804457953394\n",
      "Test Accuracy: 0.9272727272727272\n",
      "Test Precision: [0.97674419 0.89552239]\n",
      "Test Recall: [0.85714286 0.98360656]\n",
      "Test F-Score: [0.91304348 0.9375    ]\n",
      "Test Support: [49 61]\n",
      "Time: 156.4817452430725\n",
      "-----------------------------------------------------------------------------------\n",
      "------------------------------------- Fold 4 --------------------------------------\n",
      "Center Point: 0.47250000000000003\n",
      "Train Accuracy: 0.9128672745694022\n",
      "Test Accuracy: 0.9272727272727272\n",
      "Test Precision: [0.93617021 0.92063492]\n",
      "Test Recall: [0.89795918 0.95081967]\n",
      "Test F-Score: [0.91666667 0.93548387]\n",
      "Test Support: [49 61]\n",
      "Time: 156.70058584213257\n",
      "-----------------------------------------------------------------------------------\n",
      "------------------------------------- Fold 5 --------------------------------------\n",
      "Center Point: 0.47390625000000003\n",
      "Train Accuracy: 0.9189463019250254\n",
      "Test Accuracy: 0.8818181818181818\n",
      "Test Precision: [0.95       0.84285714]\n",
      "Test Recall: [0.7755102  0.96721311]\n",
      "Test F-Score: [0.85393258 0.90076336]\n",
      "Test Support: [49 61]\n",
      "Time: 148.37173223495483\n",
      "-----------------------------------------------------------------------------------\n",
      "------------------------------------- Fold 6 --------------------------------------\n",
      "Center Point: 0.4770703125\n",
      "Train Accuracy: 0.9159919028340081\n",
      "Test Accuracy: 0.908256880733945\n",
      "Test Precision: [0.97560976 0.86764706]\n",
      "Test Recall: [0.81632653 0.98333333]\n",
      "Test F-Score: [0.88888889 0.921875  ]\n",
      "Test Support: [49 60]\n",
      "Time: 163.87354826927185\n",
      "-----------------------------------------------------------------------------------\n",
      "------------------------------------- Fold 7 --------------------------------------\n",
      "Center Point: 0.47390625\n",
      "Train Accuracy: 0.9119433198380567\n",
      "Test Accuracy: 0.944954128440367\n",
      "Test Precision: [0.97777778 0.921875  ]\n",
      "Test Recall: [0.89795918 0.98333333]\n",
      "Test F-Score: [0.93617021 0.9516129 ]\n",
      "Test Support: [49 60]\n",
      "Time: 143.8961262702942\n",
      "-----------------------------------------------------------------------------------\n",
      "------------------------------------- Fold 8 --------------------------------------\n",
      "Center Point: 0.47390625000000003\n",
      "Train Accuracy: 0.909919028340081\n",
      "Test Accuracy: 0.963302752293578\n",
      "Test Precision: [0.95918367 0.96666667]\n",
      "Test Recall: [0.95918367 0.96666667]\n",
      "Test F-Score: [0.95918367 0.96666667]\n",
      "Test Support: [49 60]\n",
      "Time: 142.8183991909027\n",
      "-----------------------------------------------------------------------------------\n",
      "------------------------------------- Fold 9 --------------------------------------\n",
      "Center Point: 0.473203125\n",
      "Train Accuracy: 0.9190283400809717\n",
      "Test Accuracy: 0.8807339449541285\n",
      "Test Precision: [0.875     0.8852459]\n",
      "Test Recall: [0.85714286 0.9       ]\n",
      "Test F-Score: [0.86597938 0.89256198]\n",
      "Test Support: [49 60]\n",
      "Time: 141.59366965293884\n",
      "-----------------------------------------------------------------------------------\n"
     ]
    }
   ],
   "source": [
    "best_s_function_center, mean_s_function_center = optimizeBruteForceKFold.worker(settings.variables, settings.constraints, settings.s_function_width, settings.n_folds)"
   ]
  },
  {
   "cell_type": "markdown",
   "metadata": {},
   "source": [
    "## Test Set | K-Fold Test"
   ]
  },
  {
   "cell_type": "code",
   "execution_count": 7,
   "metadata": {
    "ExecuteTime": {
     "end_time": "2019-05-03T18:49:45.365540Z",
     "start_time": "2019-05-03T18:49:43.408197Z"
    }
   },
   "outputs": [],
   "source": [
    "valueTest = ValueTest(settings.variables, settings.s_function_width, False)"
   ]
  },
  {
   "cell_type": "markdown",
   "metadata": {},
   "source": [
    "##### K-Fold Test Set | S Function Value"
   ]
  },
  {
   "cell_type": "code",
   "execution_count": 8,
   "metadata": {
    "ExecuteTime": {
     "end_time": "2019-05-03T18:49:46.558538Z",
     "start_time": "2019-05-03T18:49:45.367524Z"
    }
   },
   "outputs": [
    {
     "name": "stdout",
     "output_type": "stream",
     "text": [
      "Accuracy: 0.9054545454545454\n",
      "Precision: [0.96039604 0.87356322]\n",
      "Recall: [0.81512605 0.97435897]\n",
      "F-Score: [0.88181818 0.92121212]\n",
      "Support: [119 156]\n",
      "-----------------------------------------------------------------------------------\n",
      "Center Point: 0.47390625000000003\n",
      "Test Accuracy: 0.9054545454545454\n",
      "Time: 1.071986198425293\n",
      "-----------------------------------------------------------------------------------\n"
     ]
    }
   ],
   "source": [
    "valueTest.sOptymalizationWorker(settings.variables, best_s_function_center, \"Test Value - K-Fold - Best Function Center\")"
   ]
  },
  {
   "cell_type": "code",
   "execution_count": 9,
   "metadata": {
    "ExecuteTime": {
     "end_time": "2019-05-03T18:49:47.734540Z",
     "start_time": "2019-05-03T18:49:46.560524Z"
    }
   },
   "outputs": [
    {
     "name": "stdout",
     "output_type": "stream",
     "text": [
      "Accuracy: 0.9054545454545454\n",
      "Precision: [0.96039604 0.87356322]\n",
      "Recall: [0.81512605 0.97435897]\n",
      "F-Score: [0.88181818 0.92121212]\n",
      "Support: [119 156]\n",
      "-----------------------------------------------------------------------------------\n",
      "Center Point: 0.47373046875\n",
      "Test Accuracy: 0.9054545454545454\n",
      "Time: 1.0480175018310547\n",
      "-----------------------------------------------------------------------------------\n"
     ]
    }
   ],
   "source": [
    "valueTest.sOptymalizationWorker(settings.variables, mean_s_function_center, \"Test Value - K-Fold - Average Function Center\")"
   ]
  },
  {
   "cell_type": "markdown",
   "metadata": {},
   "source": [
    "## Training Set"
   ]
  },
  {
   "cell_type": "markdown",
   "metadata": {},
   "source": [
    "##### Training Set | No Optymalization"
   ]
  },
  {
   "cell_type": "code",
   "execution_count": 10,
   "metadata": {
    "ExecuteTime": {
     "end_time": "2019-05-03T18:49:53.269058Z",
     "start_time": "2019-05-03T18:49:47.738525Z"
    },
    "scrolled": true
   },
   "outputs": [
    {
     "name": "stdout",
     "output_type": "stream",
     "text": [
      "Accuracy: 0.821330902461258\n",
      "Precision: [1.         0.75561097]\n",
      "Recall: [0.60081466 1.        ]\n",
      "F-Score: [0.75063613 0.86079545]\n",
      "Support: [491 606]\n",
      "-----------------------------------------------------------------------------------\n",
      "Center Point: 0.5\n",
      "Train Accuracy: 0.821330902461258\n",
      "Time: 3.7910308837890625\n",
      "-----------------------------------------------------------------------------------\n"
     ]
    }
   ],
   "source": [
    "valueTest = ValueTest(settings.variables, settings.s_function_width, True)\n",
    "valueTest.noOptymalizationWorker(settings.variables)"
   ]
  },
  {
   "cell_type": "markdown",
   "metadata": {},
   "source": [
    "##### Training Set | S Function Optymalization"
   ]
  },
  {
   "cell_type": "code",
   "execution_count": 11,
   "metadata": {
    "ExecuteTime": {
     "end_time": "2019-05-03T18:49:55.150807Z",
     "start_time": "2019-05-03T18:49:53.271060Z"
    }
   },
   "outputs": [],
   "source": [
    "optimizeBruteForce = OptimizeBruteForce(settings.variables, settings.s_function_width)"
   ]
  },
  {
   "cell_type": "code",
   "execution_count": 12,
   "metadata": {
    "ExecuteTime": {
     "end_time": "2019-05-03T18:52:41.872055Z",
     "start_time": "2019-05-03T18:49:55.152784Z"
    }
   },
   "outputs": [
    {
     "name": "stdout",
     "output_type": "stream",
     "text": [
      "Accuracy: 0.9152233363719234\n",
      "Precision: [0.95227273 0.89041096]\n",
      "Recall: [0.85336049 0.96534653]\n",
      "F-Score: [0.90010741 0.9263658 ]\n",
      "Support: [491 606]\n",
      "-----------------------------------------------------------------------------------\n",
      "Center Point: 0.47390625\n",
      "Train Accuracy: 0.9152233363719234\n",
      "Time: 158.5362889766693\n",
      "-----------------------------------------------------------------------------------\n"
     ]
    }
   ],
   "source": [
    "s_function_center = optimizeBruteForce.sFunctionsWorker(settings.variables, settings.constraints, settings.s_function_width)"
   ]
  },
  {
   "cell_type": "markdown",
   "metadata": {},
   "source": [
    "##### Training Set | Threshold Optymalization"
   ]
  },
  {
   "cell_type": "code",
   "execution_count": 13,
   "metadata": {
    "ExecuteTime": {
     "end_time": "2019-05-03T18:53:47.128107Z",
     "start_time": "2019-05-03T18:52:41.876055Z"
    }
   },
   "outputs": [
    {
     "name": "stdout",
     "output_type": "stream",
     "text": [
      "Accuracy: 0.9152233363719234\n",
      "Precision: [0.95227273 0.89041096]\n",
      "Recall: [0.85336049 0.96534653]\n",
      "F-Score: [0.90010741 0.9263658 ]\n",
      "Support: [491 606]\n",
      "-----------------------------------------------------------------------------------\n",
      "Center Point: 0.47390625\n",
      "Threshold: 0.47385053275051725\n",
      "Train Accuracy: 0.9152233363719234\n",
      "Time: 64.94606232643127\n",
      "-----------------------------------------------------------------------------------\n"
     ]
    }
   ],
   "source": [
    "threshold = optimizeBruteForce.thresholdWorker(settings.variables, s_function_center, settings.s_function_width)"
   ]
  },
  {
   "cell_type": "markdown",
   "metadata": {},
   "source": [
    "## Test Set"
   ]
  },
  {
   "cell_type": "markdown",
   "metadata": {},
   "source": [
    "##### Test Set | No Optymalization "
   ]
  },
  {
   "cell_type": "code",
   "execution_count": 14,
   "metadata": {
    "ExecuteTime": {
     "end_time": "2019-05-03T18:53:50.117114Z",
     "start_time": "2019-05-03T18:53:47.130110Z"
    }
   },
   "outputs": [
    {
     "name": "stdout",
     "output_type": "stream",
     "text": [
      "Accuracy: 0.8145454545454546\n",
      "Precision: [1.         0.75362319]\n",
      "Recall: [0.57142857 1.        ]\n",
      "F-Score: [0.72727273 0.85950413]\n",
      "Support: [119 156]\n",
      "-----------------------------------------------------------------------------------\n",
      "Center Point: 0.5\n",
      "Test Accuracy: 0.8145454545454546\n",
      "Time: 1.1529877185821533\n",
      "-----------------------------------------------------------------------------------\n"
     ]
    }
   ],
   "source": [
    "valueTest = ValueTest(settings.variables, settings.s_function_width, False)\n",
    "valueTest.noOptymalizationWorker(settings.variables)"
   ]
  },
  {
   "cell_type": "markdown",
   "metadata": {},
   "source": [
    "##### Test Set | S Function Value"
   ]
  },
  {
   "cell_type": "code",
   "execution_count": 15,
   "metadata": {
    "ExecuteTime": {
     "end_time": "2019-05-03T18:53:51.570112Z",
     "start_time": "2019-05-03T18:53:50.121110Z"
    }
   },
   "outputs": [
    {
     "name": "stdout",
     "output_type": "stream",
     "text": [
      "Accuracy: 0.9054545454545454\n",
      "Precision: [0.96039604 0.87356322]\n",
      "Recall: [0.81512605 0.97435897]\n",
      "F-Score: [0.88181818 0.92121212]\n",
      "Support: [119 156]\n",
      "-----------------------------------------------------------------------------------\n",
      "Center Point: 0.47390625\n",
      "Test Accuracy: 0.9054545454545454\n",
      "Time: 1.3120133876800537\n",
      "-----------------------------------------------------------------------------------\n"
     ]
    }
   ],
   "source": [
    "valueTest.sOptymalizationWorker(settings.variables, s_function_center)"
   ]
  },
  {
   "cell_type": "markdown",
   "metadata": {},
   "source": [
    "##### Test Set | Threshold Value"
   ]
  },
  {
   "cell_type": "code",
   "execution_count": 16,
   "metadata": {
    "ExecuteTime": {
     "end_time": "2019-05-03T18:53:52.791108Z",
     "start_time": "2019-05-03T18:53:51.572110Z"
    }
   },
   "outputs": [
    {
     "name": "stdout",
     "output_type": "stream",
     "text": [
      "Accuracy: 0.9054545454545454\n",
      "Precision: [0.96039604 0.87356322]\n",
      "Recall: [0.81512605 0.97435897]\n",
      "F-Score: [0.88181818 0.92121212]\n",
      "Support: [119 156]\n",
      "-----------------------------------------------------------------------------------\n",
      "Center Point: 0.47390625\n",
      "Threshold: 0.47385053275051725\n",
      "Test Accuracy: 0.9054545454545454\n",
      "Time: 1.0950007438659668\n",
      "-----------------------------------------------------------------------------------\n"
     ]
    }
   ],
   "source": [
    "valueTest.thresholdWorker(settings.variables, s_function_center, threshold)"
   ]
  }
 ],
 "metadata": {
  "kernelspec": {
   "display_name": "Python 3",
   "language": "python",
   "name": "python3"
  },
  "language_info": {
   "codemirror_mode": {
    "name": "ipython",
    "version": 3
   },
   "file_extension": ".py",
   "mimetype": "text/x-python",
   "name": "python",
   "nbconvert_exporter": "python",
   "pygments_lexer": "ipython3",
   "version": "3.5.5"
  }
 },
 "nbformat": 4,
 "nbformat_minor": 2
}
