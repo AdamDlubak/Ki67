{
 "cells": [
  {
   "cell_type": "markdown",
   "metadata": {},
   "source": [
    "## Preparation"
   ]
  },
  {
   "cell_type": "markdown",
   "metadata": {},
   "source": [
    "##### Import Functions"
   ]
  },
  {
   "cell_type": "code",
   "execution_count": 1,
   "metadata": {
    "ExecuteTime": {
     "end_time": "2019-05-03T18:24:12.713575Z",
     "start_time": "2019-05-03T18:24:11.550576Z"
    }
   },
   "outputs": [],
   "source": [
    "from Scripts.LoadCSV import LoadCSV as LoadCSV\n",
    "from Scripts.Fuzzify import Fuzzify as Fuzzify\n",
    "from Scripts.OptimizeBruteForceKFold import OptimizeBruteForceKFold as OptimizeBruteForceKFold\n",
    "from Scripts.ValueTest import ValueTest as ValueTest\n",
    "from Scripts.OptimizeBruteForce import OptimizeBruteForce as OptimizeBruteForce"
   ]
  },
  {
   "cell_type": "markdown",
   "metadata": {},
   "source": [
    "##### Import Settings"
   ]
  },
  {
   "cell_type": "code",
   "execution_count": 2,
   "metadata": {
    "ExecuteTime": {
     "end_time": "2019-05-03T18:24:12.805575Z",
     "start_time": "2019-05-03T18:24:12.715575Z"
    }
   },
   "outputs": [],
   "source": [
    "import Settings.SettingsImmunotherapy as settings"
   ]
  },
  {
   "cell_type": "markdown",
   "metadata": {},
   "source": [
    "##### Load CSV File"
   ]
  },
  {
   "cell_type": "code",
   "execution_count": 3,
   "metadata": {
    "ExecuteTime": {
     "end_time": "2019-05-03T18:24:13.022574Z",
     "start_time": "2019-05-03T18:24:12.807577Z"
    }
   },
   "outputs": [],
   "source": [
    "loadCSV = LoadCSV()\n",
    "loadCSV.worker(settings.variables)"
   ]
  },
  {
   "cell_type": "markdown",
   "metadata": {},
   "source": [
    "##### Fuzzify Data"
   ]
  },
  {
   "cell_type": "code",
   "execution_count": 4,
   "metadata": {
    "ExecuteTime": {
     "end_time": "2019-05-03T18:24:36.633827Z",
     "start_time": "2019-05-03T18:24:13.024580Z"
    }
   },
   "outputs": [],
   "source": [
    "fuzzify = Fuzzify()\n",
    "fuzzify.worker(settings.variables)"
   ]
  },
  {
   "cell_type": "markdown",
   "metadata": {},
   "source": [
    "## Train Set - K-Fold"
   ]
  },
  {
   "cell_type": "markdown",
   "metadata": {},
   "source": [
    "##### Train Set | K-Fold - S Function Optymalization"
   ]
  },
  {
   "cell_type": "code",
   "execution_count": 5,
   "metadata": {
    "ExecuteTime": {
     "end_time": "2019-05-03T18:24:38.274829Z",
     "start_time": "2019-05-03T18:24:36.636787Z"
    }
   },
   "outputs": [],
   "source": [
    "optimizeBruteForceKFold = OptimizeBruteForceKFold(settings.variables, settings.s_function_width)"
   ]
  },
  {
   "cell_type": "code",
   "execution_count": 6,
   "metadata": {
    "ExecuteTime": {
     "end_time": "2019-05-03T18:49:43.406195Z",
     "start_time": "2019-05-03T18:24:38.276786Z"
    },
    "scrolled": false
   },
   "outputs": [
    {
     "data": {
      "text/html": [
       "<div>\n",
       "<style scoped>\n",
       "    .dataframe tbody tr th:only-of-type {\n",
       "        vertical-align: middle;\n",
       "    }\n",
       "\n",
       "    .dataframe tbody tr th {\n",
       "        vertical-align: top;\n",
       "    }\n",
       "\n",
       "    .dataframe thead th {\n",
       "        text-align: right;\n",
       "    }\n",
       "</style>\n",
       "<table border=\"1\" class=\"dataframe\">\n",
       "  <thead>\n",
       "    <tr style=\"text-align: right;\">\n",
       "      <th></th>\n",
       "      <th>F2</th>\n",
       "      <th>F5</th>\n",
       "      <th>F3</th>\n",
       "      <th>F4</th>\n",
       "      <th>F6</th>\n",
       "      <th>F1</th>\n",
       "      <th>Decision</th>\n",
       "      <th>Decision Fuzzy</th>\n",
       "      <th>Predicted Value</th>\n",
       "    </tr>\n",
       "  </thead>\n",
       "  <tbody>\n",
       "    <tr>\n",
       "      <th>72</th>\n",
       "      <td>0.068182</td>\n",
       "      <td>0.417226</td>\n",
       "      <td>0.333333</td>\n",
       "      <td>0.5</td>\n",
       "      <td>0.073529</td>\n",
       "      <td>0.439024</td>\n",
       "      <td>Zero</td>\n",
       "      <td>One</td>\n",
       "      <td>0.441190</td>\n",
       "    </tr>\n",
       "    <tr>\n",
       "      <th>48</th>\n",
       "      <td>0.613636</td>\n",
       "      <td>0.029083</td>\n",
       "      <td>0.277778</td>\n",
       "      <td>0.0</td>\n",
       "      <td>0.073529</td>\n",
       "      <td>0.097561</td>\n",
       "      <td>One</td>\n",
       "      <td>Zero</td>\n",
       "      <td>0.944123</td>\n",
       "    </tr>\n",
       "    <tr>\n",
       "      <th>82</th>\n",
       "      <td>0.704545</td>\n",
       "      <td>0.074944</td>\n",
       "      <td>0.388889</td>\n",
       "      <td>0.5</td>\n",
       "      <td>0.102941</td>\n",
       "      <td>0.658537</td>\n",
       "      <td>Zero</td>\n",
       "      <td>One</td>\n",
       "      <td>0.643145</td>\n",
       "    </tr>\n",
       "    <tr>\n",
       "      <th>75</th>\n",
       "      <td>0.750000</td>\n",
       "      <td>0.403803</td>\n",
       "      <td>0.666667</td>\n",
       "      <td>0.5</td>\n",
       "      <td>0.088235</td>\n",
       "      <td>0.780488</td>\n",
       "      <td>One</td>\n",
       "      <td>One</td>\n",
       "      <td>0.578863</td>\n",
       "    </tr>\n",
       "    <tr>\n",
       "      <th>50</th>\n",
       "      <td>0.068182</td>\n",
       "      <td>0.043624</td>\n",
       "      <td>0.500000</td>\n",
       "      <td>1.0</td>\n",
       "      <td>0.014706</td>\n",
       "      <td>0.512195</td>\n",
       "      <td>One</td>\n",
       "      <td>Zero</td>\n",
       "      <td>0.944123</td>\n",
       "    </tr>\n",
       "    <tr>\n",
       "      <th>2</th>\n",
       "      <td>0.863636</td>\n",
       "      <td>0.105145</td>\n",
       "      <td>0.055556</td>\n",
       "      <td>0.0</td>\n",
       "      <td>0.338235</td>\n",
       "      <td>0.024390</td>\n",
       "      <td>One</td>\n",
       "      <td>One</td>\n",
       "      <td>0.577815</td>\n",
       "    </tr>\n",
       "    <tr>\n",
       "      <th>44</th>\n",
       "      <td>0.909091</td>\n",
       "      <td>0.050336</td>\n",
       "      <td>0.222222</td>\n",
       "      <td>0.5</td>\n",
       "      <td>0.058824</td>\n",
       "      <td>0.097561</td>\n",
       "      <td>One</td>\n",
       "      <td>One</td>\n",
       "      <td>0.652783</td>\n",
       "    </tr>\n",
       "    <tr>\n",
       "      <th>18</th>\n",
       "      <td>0.500000</td>\n",
       "      <td>0.055928</td>\n",
       "      <td>1.000000</td>\n",
       "      <td>0.0</td>\n",
       "      <td>0.073529</td>\n",
       "      <td>0.000000</td>\n",
       "      <td>One</td>\n",
       "      <td>Zero</td>\n",
       "      <td>0.944123</td>\n",
       "    </tr>\n",
       "    <tr>\n",
       "      <th>25</th>\n",
       "      <td>0.363636</td>\n",
       "      <td>0.015660</td>\n",
       "      <td>0.055556</td>\n",
       "      <td>0.0</td>\n",
       "      <td>0.044118</td>\n",
       "      <td>0.292683</td>\n",
       "      <td>One</td>\n",
       "      <td>Zero</td>\n",
       "      <td>0.944123</td>\n",
       "    </tr>\n",
       "    <tr>\n",
       "      <th>40</th>\n",
       "      <td>0.659091</td>\n",
       "      <td>0.387025</td>\n",
       "      <td>0.444444</td>\n",
       "      <td>0.0</td>\n",
       "      <td>0.014706</td>\n",
       "      <td>0.170732</td>\n",
       "      <td>One</td>\n",
       "      <td>One</td>\n",
       "      <td>0.753665</td>\n",
       "    </tr>\n",
       "  </tbody>\n",
       "</table>\n",
       "</div>"
      ],
      "text/plain": [
       "          F2        F5        F3   F4        F6        F1 Decision  \\\n",
       "72  0.068182  0.417226  0.333333  0.5  0.073529  0.439024     Zero   \n",
       "48  0.613636  0.029083  0.277778  0.0  0.073529  0.097561      One   \n",
       "82  0.704545  0.074944  0.388889  0.5  0.102941  0.658537     Zero   \n",
       "75  0.750000  0.403803  0.666667  0.5  0.088235  0.780488      One   \n",
       "50  0.068182  0.043624  0.500000  1.0  0.014706  0.512195      One   \n",
       "2   0.863636  0.105145  0.055556  0.0  0.338235  0.024390      One   \n",
       "44  0.909091  0.050336  0.222222  0.5  0.058824  0.097561      One   \n",
       "18  0.500000  0.055928  1.000000  0.0  0.073529  0.000000      One   \n",
       "25  0.363636  0.015660  0.055556  0.0  0.044118  0.292683      One   \n",
       "40  0.659091  0.387025  0.444444  0.0  0.014706  0.170732      One   \n",
       "\n",
       "   Decision Fuzzy  Predicted Value  \n",
       "72            One         0.441190  \n",
       "48           Zero         0.944123  \n",
       "82            One         0.643145  \n",
       "75            One         0.578863  \n",
       "50           Zero         0.944123  \n",
       "2             One         0.577815  \n",
       "44            One         0.652783  \n",
       "18           Zero         0.944123  \n",
       "25           Zero         0.944123  \n",
       "40            One         0.753665  "
      ]
     },
     "metadata": {},
     "output_type": "display_data"
    },
    {
     "data": {
      "text/html": [
       "<div>\n",
       "<style scoped>\n",
       "    .dataframe tbody tr th:only-of-type {\n",
       "        vertical-align: middle;\n",
       "    }\n",
       "\n",
       "    .dataframe tbody tr th {\n",
       "        vertical-align: top;\n",
       "    }\n",
       "\n",
       "    .dataframe thead th {\n",
       "        text-align: right;\n",
       "    }\n",
       "</style>\n",
       "<table border=\"1\" class=\"dataframe\">\n",
       "  <thead>\n",
       "    <tr style=\"text-align: right;\">\n",
       "      <th></th>\n",
       "      <th>F2</th>\n",
       "      <th>F5</th>\n",
       "      <th>F3</th>\n",
       "      <th>F4</th>\n",
       "      <th>F6</th>\n",
       "      <th>F1</th>\n",
       "      <th>Decision</th>\n",
       "      <th>Decision Fuzzy</th>\n",
       "      <th>Predicted Value</th>\n",
       "    </tr>\n",
       "  </thead>\n",
       "  <tbody>\n",
       "    <tr>\n",
       "      <th>2</th>\n",
       "      <td>0.863636</td>\n",
       "      <td>0.105145</td>\n",
       "      <td>0.055556</td>\n",
       "      <td>0.0</td>\n",
       "      <td>0.338235</td>\n",
       "      <td>0.024390</td>\n",
       "      <td>One</td>\n",
       "      <td>One</td>\n",
       "      <td>0.577815</td>\n",
       "    </tr>\n",
       "    <tr>\n",
       "      <th>44</th>\n",
       "      <td>0.909091</td>\n",
       "      <td>0.050336</td>\n",
       "      <td>0.222222</td>\n",
       "      <td>0.5</td>\n",
       "      <td>0.058824</td>\n",
       "      <td>0.097561</td>\n",
       "      <td>One</td>\n",
       "      <td>One</td>\n",
       "      <td>0.652783</td>\n",
       "    </tr>\n",
       "    <tr>\n",
       "      <th>18</th>\n",
       "      <td>0.500000</td>\n",
       "      <td>0.055928</td>\n",
       "      <td>1.000000</td>\n",
       "      <td>0.0</td>\n",
       "      <td>0.073529</td>\n",
       "      <td>0.000000</td>\n",
       "      <td>One</td>\n",
       "      <td>Zero</td>\n",
       "      <td>0.944123</td>\n",
       "    </tr>\n",
       "    <tr>\n",
       "      <th>25</th>\n",
       "      <td>0.363636</td>\n",
       "      <td>0.015660</td>\n",
       "      <td>0.055556</td>\n",
       "      <td>0.0</td>\n",
       "      <td>0.044118</td>\n",
       "      <td>0.292683</td>\n",
       "      <td>One</td>\n",
       "      <td>Zero</td>\n",
       "      <td>0.944123</td>\n",
       "    </tr>\n",
       "    <tr>\n",
       "      <th>40</th>\n",
       "      <td>0.659091</td>\n",
       "      <td>0.387025</td>\n",
       "      <td>0.444444</td>\n",
       "      <td>0.0</td>\n",
       "      <td>0.014706</td>\n",
       "      <td>0.170732</td>\n",
       "      <td>One</td>\n",
       "      <td>One</td>\n",
       "      <td>0.753665</td>\n",
       "    </tr>\n",
       "    <tr>\n",
       "      <th>9</th>\n",
       "      <td>1.000000</td>\n",
       "      <td>0.032438</td>\n",
       "      <td>0.277778</td>\n",
       "      <td>1.0</td>\n",
       "      <td>0.044118</td>\n",
       "      <td>0.414634</td>\n",
       "      <td>Zero</td>\n",
       "      <td>One</td>\n",
       "      <td>0.469691</td>\n",
       "    </tr>\n",
       "    <tr>\n",
       "      <th>51</th>\n",
       "      <td>0.113636</td>\n",
       "      <td>0.063758</td>\n",
       "      <td>0.222222</td>\n",
       "      <td>0.0</td>\n",
       "      <td>0.073529</td>\n",
       "      <td>0.902439</td>\n",
       "      <td>One</td>\n",
       "      <td>Zero</td>\n",
       "      <td>0.944123</td>\n",
       "    </tr>\n",
       "    <tr>\n",
       "      <th>31</th>\n",
       "      <td>0.181818</td>\n",
       "      <td>0.090604</td>\n",
       "      <td>0.055556</td>\n",
       "      <td>1.0</td>\n",
       "      <td>1.000000</td>\n",
       "      <td>0.195122</td>\n",
       "      <td>One</td>\n",
       "      <td>Zero</td>\n",
       "      <td>0.944123</td>\n",
       "    </tr>\n",
       "    <tr>\n",
       "      <th>59</th>\n",
       "      <td>0.931818</td>\n",
       "      <td>0.034676</td>\n",
       "      <td>0.111111</td>\n",
       "      <td>0.5</td>\n",
       "      <td>0.000000</td>\n",
       "      <td>0.292683</td>\n",
       "      <td>One</td>\n",
       "      <td>One</td>\n",
       "      <td>0.652783</td>\n",
       "    </tr>\n",
       "    <tr>\n",
       "      <th>52</th>\n",
       "      <td>0.727273</td>\n",
       "      <td>0.008949</td>\n",
       "      <td>0.166667</td>\n",
       "      <td>0.5</td>\n",
       "      <td>0.102941</td>\n",
       "      <td>0.829268</td>\n",
       "      <td>One</td>\n",
       "      <td>One</td>\n",
       "      <td>0.606475</td>\n",
       "    </tr>\n",
       "  </tbody>\n",
       "</table>\n",
       "</div>"
      ],
      "text/plain": [
       "          F2        F5        F3   F4        F6        F1 Decision  \\\n",
       "2   0.863636  0.105145  0.055556  0.0  0.338235  0.024390      One   \n",
       "44  0.909091  0.050336  0.222222  0.5  0.058824  0.097561      One   \n",
       "18  0.500000  0.055928  1.000000  0.0  0.073529  0.000000      One   \n",
       "25  0.363636  0.015660  0.055556  0.0  0.044118  0.292683      One   \n",
       "40  0.659091  0.387025  0.444444  0.0  0.014706  0.170732      One   \n",
       "9   1.000000  0.032438  0.277778  1.0  0.044118  0.414634     Zero   \n",
       "51  0.113636  0.063758  0.222222  0.0  0.073529  0.902439      One   \n",
       "31  0.181818  0.090604  0.055556  1.0  1.000000  0.195122      One   \n",
       "59  0.931818  0.034676  0.111111  0.5  0.000000  0.292683      One   \n",
       "52  0.727273  0.008949  0.166667  0.5  0.102941  0.829268      One   \n",
       "\n",
       "   Decision Fuzzy  Predicted Value  \n",
       "2             One         0.577815  \n",
       "44            One         0.652783  \n",
       "18           Zero         0.944123  \n",
       "25           Zero         0.944123  \n",
       "40            One         0.753665  \n",
       "9             One         0.469691  \n",
       "51           Zero         0.944123  \n",
       "31           Zero         0.944123  \n",
       "59            One         0.652783  \n",
       "52            One         0.606475  "
      ]
     },
     "metadata": {},
     "output_type": "display_data"
    },
    {
     "name": "stdout",
     "output_type": "stream",
     "text": [
      "------------------------------------- Fold 0 --------------------------------------\n",
      "Center Point: 0.9\n",
      "Train Accuracy: 0.49122807017543857\n",
      "Test Accuracy: 0.4\n",
      "Test Precision: [0.66666667 0.        ]\n",
      "Test Recall: [0.5 0. ]\n",
      "Test F-Score: [0.57142857 0.        ]\n",
      "Test Support: [12  3]\n",
      "Time: 9.154523611068726\n",
      "-----------------------------------------------------------------------------------\n",
      "------------------------------------- Fold 1 --------------------------------------\n",
      "Center Point: 0.9\n",
      "Train Accuracy: 0.49122807017543857\n",
      "Test Accuracy: 0.4\n",
      "Test Precision: [0.71428571 0.125     ]\n",
      "Test Recall: [0.41666667 0.33333333]\n",
      "Test F-Score: [0.52631579 0.18181818]\n",
      "Test Support: [12  3]\n",
      "Time: 9.303532123565674\n",
      "-----------------------------------------------------------------------------------\n",
      "------------------------------------- Fold 2 --------------------------------------\n",
      "Center Point: 0.9\n",
      "Train Accuracy: 0.4655172413793103\n",
      "Test Accuracy: 0.5\n",
      "Test Precision: [0.7 0. ]\n",
      "Test Recall: [0.63636364 0.        ]\n",
      "Test F-Score: [0.66666667 0.        ]\n",
      "Test Support: [11  3]\n",
      "Time: 9.398537397384644\n",
      "-----------------------------------------------------------------------------------\n",
      "------------------------------------- Fold 3 --------------------------------------\n",
      "Center Point: 0.9\n",
      "Train Accuracy: 0.4655172413793103\n",
      "Test Accuracy: 0.5\n",
      "Test Precision: [0.7 0. ]\n",
      "Test Recall: [0.63636364 0.        ]\n",
      "Test F-Score: [0.66666667 0.        ]\n",
      "Test Support: [11  3]\n",
      "Time: 9.446540355682373\n",
      "-----------------------------------------------------------------------------------\n",
      "------------------------------------- Fold 4 --------------------------------------\n",
      "Center Point: 0.9\n",
      "Train Accuracy: 0.4482758620689655\n",
      "Test Accuracy: 0.5714285714285714\n",
      "Test Precision: [0.85714286 0.28571429]\n",
      "Test Recall: [0.54545455 0.66666667]\n",
      "Test F-Score: [0.66666667 0.4       ]\n",
      "Test Support: [11  3]\n",
      "Time: 9.325533151626587\n",
      "-----------------------------------------------------------------------------------\n"
     ]
    }
   ],
   "source": [
    "best_s_function_center, mean_s_function_center = optimizeBruteForceKFold.worker(settings.variables, settings.constraints, settings.s_function_width, settings.n_folds)"
   ]
  },
  {
   "cell_type": "markdown",
   "metadata": {},
   "source": [
    "## Test Set | K-Fold Test"
   ]
  },
  {
   "cell_type": "code",
   "execution_count": 7,
   "metadata": {
    "ExecuteTime": {
     "end_time": "2019-05-03T18:49:45.365540Z",
     "start_time": "2019-05-03T18:49:43.408197Z"
    }
   },
   "outputs": [],
   "source": [
    "valueTest = ValueTest(settings.variables, settings.s_function_width, False)"
   ]
  },
  {
   "cell_type": "markdown",
   "metadata": {},
   "source": [
    "##### K-Fold Test Set | S Function Value"
   ]
  },
  {
   "cell_type": "code",
   "execution_count": 8,
   "metadata": {
    "ExecuteTime": {
     "end_time": "2019-05-03T18:49:46.558538Z",
     "start_time": "2019-05-03T18:49:45.367524Z"
    }
   },
   "outputs": [
    {
     "name": "stdout",
     "output_type": "stream",
     "text": [
      "Accuracy: 0.3888888888888889\n",
      "Precision: [0.66666667 0.11111111]\n",
      "Recall: [0.42857143 0.25      ]\n",
      "F-Score: [0.52173913 0.15384615]\n",
      "Support: [14  4]\n",
      "-----------------------------------------------------------------------------------\n",
      "Center Point: 0.9\n",
      "Test Accuracy: 0.3888888888888889\n",
      "Time: 0.10100579261779785\n",
      "-----------------------------------------------------------------------------------\n"
     ]
    }
   ],
   "source": [
    "valueTest.sOptymalizationWorker(settings.variables, best_s_function_center, \"Test Value - K-Fold - Best Function Center\")"
   ]
  },
  {
   "cell_type": "code",
   "execution_count": 9,
   "metadata": {
    "ExecuteTime": {
     "end_time": "2019-05-03T18:49:47.734540Z",
     "start_time": "2019-05-03T18:49:46.560524Z"
    }
   },
   "outputs": [
    {
     "name": "stdout",
     "output_type": "stream",
     "text": [
      "Accuracy: 0.3888888888888889\n",
      "Precision: [0.66666667 0.11111111]\n",
      "Recall: [0.42857143 0.25      ]\n",
      "F-Score: [0.52173913 0.15384615]\n",
      "Support: [14  4]\n",
      "-----------------------------------------------------------------------------------\n",
      "Center Point: 0.9\n",
      "Test Accuracy: 0.3888888888888889\n",
      "Time: 0.1000056266784668\n",
      "-----------------------------------------------------------------------------------\n"
     ]
    }
   ],
   "source": [
    "valueTest.sOptymalizationWorker(settings.variables, mean_s_function_center, \"Test Value - K-Fold - Average Function Center\")"
   ]
  },
  {
   "cell_type": "markdown",
   "metadata": {},
   "source": [
    "## Training Set"
   ]
  },
  {
   "cell_type": "markdown",
   "metadata": {},
   "source": [
    "##### Training Set | No Optymalization"
   ]
  },
  {
   "cell_type": "code",
   "execution_count": 10,
   "metadata": {
    "ExecuteTime": {
     "end_time": "2019-05-03T18:49:53.269058Z",
     "start_time": "2019-05-03T18:49:47.738525Z"
    },
    "scrolled": true
   },
   "outputs": [
    {
     "name": "stdout",
     "output_type": "stream",
     "text": [
      "Accuracy: 0.09722222222222222\n",
      "Precision: [0.       0.109375]\n",
      "Recall: [0.         0.46666667]\n",
      "F-Score: [0.         0.17721519]\n",
      "Support: [57 15]\n",
      "-----------------------------------------------------------------------------------\n",
      "Center Point: 0.5\n",
      "Train Accuracy: 0.09722222222222222\n",
      "Time: 0.22501277923583984\n",
      "-----------------------------------------------------------------------------------\n"
     ]
    }
   ],
   "source": [
    "valueTest = ValueTest(settings.variables, settings.s_function_width, True)\n",
    "valueTest.noOptymalizationWorker(settings.variables)"
   ]
  },
  {
   "cell_type": "markdown",
   "metadata": {},
   "source": [
    "##### Training Set | S Function Optymalization"
   ]
  },
  {
   "cell_type": "code",
   "execution_count": 11,
   "metadata": {
    "ExecuteTime": {
     "end_time": "2019-05-03T18:49:55.150807Z",
     "start_time": "2019-05-03T18:49:53.271060Z"
    }
   },
   "outputs": [],
   "source": [
    "optimizeBruteForce = OptimizeBruteForce(settings.variables, settings.s_function_width)"
   ]
  },
  {
   "cell_type": "code",
   "execution_count": 12,
   "metadata": {
    "ExecuteTime": {
     "end_time": "2019-05-03T18:52:41.872055Z",
     "start_time": "2019-05-03T18:49:55.152784Z"
    }
   },
   "outputs": [
    {
     "name": "stdout",
     "output_type": "stream",
     "text": [
      "Accuracy: 0.4722222222222222\n",
      "Precision: [0.72093023 0.10344828]\n",
      "Recall: [0.54385965 0.2       ]\n",
      "F-Score: [0.62       0.13636364]\n",
      "Support: [57 15]\n",
      "-----------------------------------------------------------------------------------\n",
      "Center Point: 0.9\n",
      "Train Accuracy: 0.4722222222222222\n",
      "Time: 11.05663251876831\n",
      "-----------------------------------------------------------------------------------\n"
     ]
    }
   ],
   "source": [
    "s_function_center = optimizeBruteForce.sFunctionsWorker(settings.variables, settings.constraints, settings.s_function_width)"
   ]
  },
  {
   "cell_type": "markdown",
   "metadata": {},
   "source": [
    "##### Training Set | Threshold Optymalization"
   ]
  },
  {
   "cell_type": "code",
   "execution_count": 13,
   "metadata": {
    "ExecuteTime": {
     "end_time": "2019-05-03T18:53:47.128107Z",
     "start_time": "2019-05-03T18:52:41.876055Z"
    }
   },
   "outputs": [
    {
     "name": "stderr",
     "output_type": "stream",
     "text": [
      "D:\\Anaconda\\envs\\py35\\lib\\site-packages\\sklearn\\metrics\\classification.py:1135: UndefinedMetricWarning: Precision and F-score are ill-defined and being set to 0.0 in labels with no predicted samples.\n",
      "  'precision', 'predicted', average, warn_for)\n"
     ]
    },
    {
     "name": "stdout",
     "output_type": "stream",
     "text": [
      "Accuracy: 0.7916666666666666\n",
      "Precision: [0.79166667 0.        ]\n",
      "Recall: [1. 0.]\n",
      "F-Score: [0.88372093 0.        ]\n",
      "Support: [57 15]\n",
      "-----------------------------------------------------------------------------------\n",
      "Center Point: 0.9\n",
      "Threshold: 0.9871992025523587\n",
      "Train Accuracy: 0.7916666666666666\n",
      "Time: 4.761272192001343\n",
      "-----------------------------------------------------------------------------------\n"
     ]
    }
   ],
   "source": [
    "threshold = optimizeBruteForce.thresholdWorker(settings.variables, s_function_center, settings.s_function_width)"
   ]
  },
  {
   "cell_type": "markdown",
   "metadata": {},
   "source": [
    "## Test Set"
   ]
  },
  {
   "cell_type": "markdown",
   "metadata": {},
   "source": [
    "##### Test Set | No Optymalization "
   ]
  },
  {
   "cell_type": "code",
   "execution_count": 14,
   "metadata": {
    "ExecuteTime": {
     "end_time": "2019-05-03T18:53:50.117114Z",
     "start_time": "2019-05-03T18:53:47.130110Z"
    }
   },
   "outputs": [
    {
     "name": "stderr",
     "output_type": "stream",
     "text": [
      "D:\\Anaconda\\envs\\py35\\lib\\site-packages\\sklearn\\metrics\\classification.py:1135: UndefinedMetricWarning: Precision and F-score are ill-defined and being set to 0.0 in labels with no predicted samples.\n",
      "  'precision', 'predicted', average, warn_for)\n"
     ]
    },
    {
     "name": "stdout",
     "output_type": "stream",
     "text": [
      "Accuracy: 0.2222222222222222\n",
      "Precision: [0.         0.22222222]\n",
      "Recall: [0. 1.]\n",
      "F-Score: [0.         0.36363636]\n",
      "Support: [14  4]\n",
      "-----------------------------------------------------------------------------------\n",
      "Center Point: 0.5\n",
      "Test Accuracy: 0.2222222222222222\n",
      "Time: 0.10100579261779785\n",
      "-----------------------------------------------------------------------------------\n"
     ]
    }
   ],
   "source": [
    "valueTest = ValueTest(settings.variables, settings.s_function_width, False)\n",
    "valueTest.noOptymalizationWorker(settings.variables)"
   ]
  },
  {
   "cell_type": "markdown",
   "metadata": {},
   "source": [
    "##### Test Set | S Function Value"
   ]
  },
  {
   "cell_type": "code",
   "execution_count": 15,
   "metadata": {
    "ExecuteTime": {
     "end_time": "2019-05-03T18:53:51.570112Z",
     "start_time": "2019-05-03T18:53:50.121110Z"
    }
   },
   "outputs": [
    {
     "name": "stdout",
     "output_type": "stream",
     "text": [
      "Accuracy: 0.3888888888888889\n",
      "Precision: [0.66666667 0.11111111]\n",
      "Recall: [0.42857143 0.25      ]\n",
      "F-Score: [0.52173913 0.15384615]\n",
      "Support: [14  4]\n",
      "-----------------------------------------------------------------------------------\n",
      "Center Point: 0.9\n",
      "Test Accuracy: 0.3888888888888889\n",
      "Time: 0.1000056266784668\n",
      "-----------------------------------------------------------------------------------\n"
     ]
    }
   ],
   "source": [
    "valueTest.sOptymalizationWorker(settings.variables, s_function_center)"
   ]
  },
  {
   "cell_type": "markdown",
   "metadata": {},
   "source": [
    "##### Test Set | Threshold Value"
   ]
  },
  {
   "cell_type": "code",
   "execution_count": 16,
   "metadata": {
    "ExecuteTime": {
     "end_time": "2019-05-03T18:53:52.791108Z",
     "start_time": "2019-05-03T18:53:51.572110Z"
    }
   },
   "outputs": [
    {
     "name": "stderr",
     "output_type": "stream",
     "text": [
      "D:\\Anaconda\\envs\\py35\\lib\\site-packages\\sklearn\\metrics\\classification.py:1135: UndefinedMetricWarning: Precision and F-score are ill-defined and being set to 0.0 in labels with no predicted samples.\n",
      "  'precision', 'predicted', average, warn_for)\n"
     ]
    },
    {
     "name": "stdout",
     "output_type": "stream",
     "text": [
      "Accuracy: 0.7777777777777778\n",
      "Precision: [0.77777778 0.        ]\n",
      "Recall: [1. 0.]\n",
      "F-Score: [0.875 0.   ]\n",
      "Support: [14  4]\n",
      "-----------------------------------------------------------------------------------\n",
      "Center Point: 0.9\n",
      "Threshold: 0.9871992025523587\n",
      "Test Accuracy: 0.7777777777777778\n",
      "Time: 0.10700607299804688\n",
      "-----------------------------------------------------------------------------------\n"
     ]
    }
   ],
   "source": [
    "valueTest.thresholdWorker(settings.variables, s_function_center, threshold)"
   ]
  }
 ],
 "metadata": {
  "kernelspec": {
   "display_name": "Python 3",
   "language": "python",
   "name": "python3"
  },
  "language_info": {
   "codemirror_mode": {
    "name": "ipython",
    "version": 3
   },
   "file_extension": ".py",
   "mimetype": "text/x-python",
   "name": "python",
   "nbconvert_exporter": "python",
   "pygments_lexer": "ipython3",
   "version": "3.5.5"
  }
 },
 "nbformat": 4,
 "nbformat_minor": 2
}
