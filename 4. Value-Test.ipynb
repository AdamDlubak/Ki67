{
 "cells": [
  {
   "cell_type": "code",
   "execution_count": 45,
   "metadata": {
    "ExecuteTime": {
     "end_time": "2019-05-03T08:57:22.844454Z",
     "start_time": "2019-05-03T08:57:22.643450Z"
    }
   },
   "outputs": [],
   "source": [
    "import SettingsLoadCSV as settings\n",
    "from Scripts.ValueTest import ValueTest as ValueTest"
   ]
  },
  {
   "cell_type": "code",
   "execution_count": 44,
   "metadata": {
    "ExecuteTime": {
     "end_time": "2019-05-02T23:01:38.019556Z",
     "start_time": "2019-05-02T23:01:37.024557Z"
    }
   },
   "outputs": [
    {
     "name": "stdout",
     "output_type": "stream",
     "text": [
      "Accuracy: 0.92\n",
      "Precision: [0.96610169 0.88535032]\n",
      "Recall: [0.86363636 0.97202797]\n",
      "F-Score: [0.912      0.92666667]\n",
      "Support: [132 143]\n",
      "Threshold:0.47177241\n"
     ]
    }
   ],
   "source": [
    "valueTest = ValueTest(settings.variables, settings.threshold_value)\n",
    "valueTest.worker(settings.variables)"
   ]
  },
  {
   "cell_type": "code",
   "execution_count": 46,
   "metadata": {
    "ExecuteTime": {
     "end_time": "2019-05-03T08:57:26.612505Z",
     "start_time": "2019-05-03T08:57:26.335507Z"
    }
   },
   "outputs": [
    {
     "name": "stdout",
     "output_type": "stream",
     "text": [
      "Accuracy: 0.8666666666666667\n",
      "Precision: [0.83333333 0.88888889]\n",
      "Recall: [0.83333333 0.88888889]\n",
      "F-Score: [0.83333333 0.88888889]\n",
      "Support: [6 9]\n",
      "Threshold:0.47177241\n"
     ]
    }
   ],
   "source": [
    "valueTest = ValueTest(settings.variables, settings.threshold_value)\n",
    "valueTest.worker(settings.variables)"
   ]
  },
  {
   "cell_type": "code",
   "execution_count": 47,
   "metadata": {
    "ExecuteTime": {
     "end_time": "2019-05-03T08:57:32.546041Z",
     "start_time": "2019-05-03T08:57:32.463026Z"
    }
   },
   "outputs": [
    {
     "data": {
      "text/html": [
       "<div>\n",
       "<style scoped>\n",
       "    .dataframe tbody tr th:only-of-type {\n",
       "        vertical-align: middle;\n",
       "    }\n",
       "\n",
       "    .dataframe tbody tr th {\n",
       "        vertical-align: top;\n",
       "    }\n",
       "\n",
       "    .dataframe thead th {\n",
       "        text-align: right;\n",
       "    }\n",
       "</style>\n",
       "<table border=\"1\" class=\"dataframe\">\n",
       "  <thead>\n",
       "    <tr style=\"text-align: right;\">\n",
       "      <th></th>\n",
       "      <th>F1</th>\n",
       "      <th>F0</th>\n",
       "      <th>F3</th>\n",
       "      <th>F2</th>\n",
       "      <th>Decision</th>\n",
       "      <th>Decision Fuzzy</th>\n",
       "      <th>Predicted Value</th>\n",
       "    </tr>\n",
       "  </thead>\n",
       "  <tbody>\n",
       "    <tr>\n",
       "      <th>1291</th>\n",
       "      <td>0.651723</td>\n",
       "      <td>0.545604</td>\n",
       "      <td>0.596243</td>\n",
       "      <td>0.052189</td>\n",
       "      <td>One</td>\n",
       "      <td>Zero</td>\n",
       "      <td>0.408356</td>\n",
       "    </tr>\n",
       "    <tr>\n",
       "      <th>728</th>\n",
       "      <td>0.541928</td>\n",
       "      <td>0.535227</td>\n",
       "      <td>0.736862</td>\n",
       "      <td>0.260334</td>\n",
       "      <td>Zero</td>\n",
       "      <td>Zero</td>\n",
       "      <td>0.416505</td>\n",
       "    </tr>\n",
       "    <tr>\n",
       "      <th>248</th>\n",
       "      <td>0.541929</td>\n",
       "      <td>0.535224</td>\n",
       "      <td>0.736863</td>\n",
       "      <td>0.260336</td>\n",
       "      <td>Zero</td>\n",
       "      <td>Zero</td>\n",
       "      <td>0.416507</td>\n",
       "    </tr>\n",
       "    <tr>\n",
       "      <th>103</th>\n",
       "      <td>0.342702</td>\n",
       "      <td>0.748675</td>\n",
       "      <td>0.755675</td>\n",
       "      <td>0.399268</td>\n",
       "      <td>Zero</td>\n",
       "      <td>Zero</td>\n",
       "      <td>0.422336</td>\n",
       "    </tr>\n",
       "    <tr>\n",
       "      <th>295</th>\n",
       "      <td>0.742856</td>\n",
       "      <td>0.662621</td>\n",
       "      <td>0.574484</td>\n",
       "      <td>0.202826</td>\n",
       "      <td>Zero</td>\n",
       "      <td>Zero</td>\n",
       "      <td>0.424410</td>\n",
       "    </tr>\n",
       "    <tr>\n",
       "      <th>558</th>\n",
       "      <td>0.332790</td>\n",
       "      <td>0.824027</td>\n",
       "      <td>0.774605</td>\n",
       "      <td>0.372727</td>\n",
       "      <td>Zero</td>\n",
       "      <td>Zero</td>\n",
       "      <td>0.429482</td>\n",
       "    </tr>\n",
       "    <tr>\n",
       "      <th>18</th>\n",
       "      <td>0.332790</td>\n",
       "      <td>0.612249</td>\n",
       "      <td>0.585541</td>\n",
       "      <td>0.587111</td>\n",
       "      <td>Zero</td>\n",
       "      <td>Zero</td>\n",
       "      <td>0.429755</td>\n",
       "    </tr>\n",
       "    <tr>\n",
       "      <th>49</th>\n",
       "      <td>0.638327</td>\n",
       "      <td>0.625735</td>\n",
       "      <td>0.785187</td>\n",
       "      <td>0.351580</td>\n",
       "      <td>Zero</td>\n",
       "      <td>Zero</td>\n",
       "      <td>0.430396</td>\n",
       "    </tr>\n",
       "    <tr>\n",
       "      <th>733</th>\n",
       "      <td>0.399069</td>\n",
       "      <td>0.783629</td>\n",
       "      <td>0.824576</td>\n",
       "      <td>0.333418</td>\n",
       "      <td>Zero</td>\n",
       "      <td>Zero</td>\n",
       "      <td>0.434593</td>\n",
       "    </tr>\n",
       "    <tr>\n",
       "      <th>958</th>\n",
       "      <td>0.629268</td>\n",
       "      <td>0.481606</td>\n",
       "      <td>0.524164</td>\n",
       "      <td>0.077735</td>\n",
       "      <td>One</td>\n",
       "      <td>One</td>\n",
       "      <td>0.475517</td>\n",
       "    </tr>\n",
       "    <tr>\n",
       "      <th>656</th>\n",
       "      <td>0.915524</td>\n",
       "      <td>0.409673</td>\n",
       "      <td>0.513344</td>\n",
       "      <td>0.301045</td>\n",
       "      <td>Zero</td>\n",
       "      <td>One</td>\n",
       "      <td>0.481646</td>\n",
       "    </tr>\n",
       "    <tr>\n",
       "      <th>1111</th>\n",
       "      <td>0.815100</td>\n",
       "      <td>0.048619</td>\n",
       "      <td>0.484419</td>\n",
       "      <td>0.246012</td>\n",
       "      <td>One</td>\n",
       "      <td>One</td>\n",
       "      <td>0.515318</td>\n",
       "    </tr>\n",
       "    <tr>\n",
       "      <th>1185</th>\n",
       "      <td>0.337901</td>\n",
       "      <td>0.344735</td>\n",
       "      <td>0.787421</td>\n",
       "      <td>0.501217</td>\n",
       "      <td>One</td>\n",
       "      <td>One</td>\n",
       "      <td>0.535340</td>\n",
       "    </tr>\n",
       "    <tr>\n",
       "      <th>1214</th>\n",
       "      <td>0.128997</td>\n",
       "      <td>0.293930</td>\n",
       "      <td>0.585068</td>\n",
       "      <td>0.606117</td>\n",
       "      <td>One</td>\n",
       "      <td>One</td>\n",
       "      <td>0.566913</td>\n",
       "    </tr>\n",
       "    <tr>\n",
       "      <th>1242</th>\n",
       "      <td>0.291831</td>\n",
       "      <td>0.247842</td>\n",
       "      <td>0.701941</td>\n",
       "      <td>0.662446</td>\n",
       "      <td>One</td>\n",
       "      <td>One</td>\n",
       "      <td>0.584992</td>\n",
       "    </tr>\n",
       "  </tbody>\n",
       "</table>\n",
       "</div>"
      ],
      "text/plain": [
       "            F1        F0        F3        F2 Decision Decision Fuzzy  \\\n",
       "1291  0.651723  0.545604  0.596243  0.052189      One           Zero   \n",
       "728   0.541928  0.535227  0.736862  0.260334     Zero           Zero   \n",
       "248   0.541929  0.535224  0.736863  0.260336     Zero           Zero   \n",
       "103   0.342702  0.748675  0.755675  0.399268     Zero           Zero   \n",
       "295   0.742856  0.662621  0.574484  0.202826     Zero           Zero   \n",
       "558   0.332790  0.824027  0.774605  0.372727     Zero           Zero   \n",
       "18    0.332790  0.612249  0.585541  0.587111     Zero           Zero   \n",
       "49    0.638327  0.625735  0.785187  0.351580     Zero           Zero   \n",
       "733   0.399069  0.783629  0.824576  0.333418     Zero           Zero   \n",
       "958   0.629268  0.481606  0.524164  0.077735      One            One   \n",
       "656   0.915524  0.409673  0.513344  0.301045     Zero            One   \n",
       "1111  0.815100  0.048619  0.484419  0.246012      One            One   \n",
       "1185  0.337901  0.344735  0.787421  0.501217      One            One   \n",
       "1214  0.128997  0.293930  0.585068  0.606117      One            One   \n",
       "1242  0.291831  0.247842  0.701941  0.662446      One            One   \n",
       "\n",
       "      Predicted Value  \n",
       "1291         0.408356  \n",
       "728          0.416505  \n",
       "248          0.416507  \n",
       "103          0.422336  \n",
       "295          0.424410  \n",
       "558          0.429482  \n",
       "18           0.429755  \n",
       "49           0.430396  \n",
       "733          0.434593  \n",
       "958          0.475517  \n",
       "656          0.481646  \n",
       "1111         0.515318  \n",
       "1185         0.535340  \n",
       "1214         0.566913  \n",
       "1242         0.584992  "
      ]
     },
     "metadata": {},
     "output_type": "display_data"
    }
   ],
   "source": [
    "valueTest.printAllDataframe()"
   ]
  },
  {
   "cell_type": "code",
   "execution_count": 39,
   "metadata": {
    "ExecuteTime": {
     "end_time": "2019-05-02T22:55:02.116752Z",
     "start_time": "2019-05-02T22:55:01.515750Z"
    }
   },
   "outputs": [
    {
     "name": "stdout",
     "output_type": "stream",
     "text": [
      "Accuracy: 0.8618181818181818\n",
      "Precision: [0.81343284 0.90780142]\n",
      "Recall: [0.89344262 0.83660131]\n",
      "F-Score: [0.8515625 0.8707483]\n",
      "Support: [122 153]\n",
      "Threshold:0.74040974\n"
     ]
    }
   ],
   "source": [
    "valueTest = ValueTest(settings.variables, settings.threshold_value)\n",
    "valueTest.worker(settings.variables)"
   ]
  },
  {
   "cell_type": "code",
   "execution_count": 22,
   "metadata": {
    "ExecuteTime": {
     "end_time": "2019-05-02T18:58:01.920589Z",
     "start_time": "2019-05-02T18:58:01.477581Z"
    }
   },
   "outputs": [
    {
     "data": {
      "image/png": "[encoded data removed]",
      "text/plain": [
       "<Figure size 432x288 with 1 Axes>"
      ]
     },
     "metadata": {},
     "output_type": "display_data"
    }
   ],
   "source": [
    "valueTest.plotHistogram()"
   ]
  }
 ],
 "metadata": {
  "kernelspec": {
   "display_name": "Python 3",
   "language": "python",
   "name": "python3"
  },
  "language_info": {
   "codemirror_mode": {
    "name": "ipython",
    "version": 3
   },
   "file_extension": ".py",
   "mimetype": "text/x-python",
   "name": "python",
   "nbconvert_exporter": "python",
   "pygments_lexer": "ipython3",
   "version": "3.5.5"
  }
 },
 "nbformat": 4,
 "nbformat_minor": 2
}
