{
 "cells": [
  {
   "cell_type": "code",
   "execution_count": 1,
   "metadata": {
    "ExecuteTime": {
     "end_time": "2019-03-27T22:08:50.039961Z",
     "start_time": "2019-03-27T22:08:49.864979Z"
    }
   },
   "outputs": [],
   "source": [
    "import settings as settings"
   ]
  },
  {
   "cell_type": "markdown",
   "metadata": {},
   "source": [
    "##### Main Notebook - CSV"
   ]
  },
  {
   "cell_type": "code",
   "execution_count": 2,
   "metadata": {
    "ExecuteTime": {
     "end_time": "2019-03-27T22:08:59.762512Z",
     "start_time": "2019-03-27T22:08:50.041962Z"
    }
   },
   "outputs": [
    {
     "name": "stderr",
     "output_type": "stream",
     "text": [
      "10it [00:01,  8.67it/s]\n"
     ]
    },
    {
     "name": "stdout",
     "output_type": "stream",
     "text": [
      "Finished!\n"
     ]
    }
   ],
   "source": [
    "from Scripts.LoadCSV import LoadCSV as LoadCSV\n",
    "\n",
    "loadCSV = LoadCSV()\n",
    "loadCSV.workerCSV(settings.variables)"
   ]
  },
  {
   "cell_type": "markdown",
   "metadata": {},
   "source": [
    "##### Brute Force"
   ]
  },
  {
   "cell_type": "code",
   "execution_count": 3,
   "metadata": {
    "ExecuteTime": {
     "end_time": "2019-03-27T22:10:01.601288Z",
     "start_time": "2019-03-27T22:08:59.765512Z"
    }
   },
   "outputs": [
    {
     "name": "stdout",
     "output_type": "stream",
     "text": [
      "Global minimum: [0.49382812]\n",
      "Function value at global minimum: 0.09890109890109888\n",
      "Accuracy: 0.9010989010989011\n",
      "Time: 61.58006978034973\n"
     ]
    }
   ],
   "source": [
    "from Scripts.OptimizeBruteForce import OptimizeBruteForce as OptimizeBruteForce\n",
    "\n",
    "optimizeBruteForce = OptimizeBruteForce(settings.variables, settings.constraints, settings.sigma_mean_params)\n",
    "bruteforce_threshold = optimizeBruteForce.worker(settings.variables)"
   ]
  },
  {
   "cell_type": "markdown",
   "metadata": {},
   "source": [
    "##### PSO"
   ]
  },
  {
   "cell_type": "code",
   "execution_count": 4,
   "metadata": {
    "ExecuteTime": {
     "end_time": "2019-03-27T22:13:23.088685Z",
     "start_time": "2019-03-27T22:10:01.604288Z"
    }
   },
   "outputs": [
    {
     "name": "stderr",
     "output_type": "stream",
     "text": [
      "2019-03-27 23:10:02,489 - pyswarms.single.global_best - INFO - Optimize for 20 iters with {'c1': 0.5, 'w': 0.9, 'c2': 0.3}\n",
      "pyswarms.single.global_best: 100%|█████████████████████████████████████████████████████████████|20/20, best_cost=0.0989\n",
      "2019-03-27 23:13:22,766 - pyswarms.single.global_best - INFO - Optimization finished | best cost: 0.09890109890109888, best pos: [0.49446462]\n"
     ]
    },
    {
     "name": "stdout",
     "output_type": "stream",
     "text": [
      "Global minimum: [0.49446462]\n",
      "Function value at global minimum: 0.09890109890109888\n",
      "Accuracy: 0.9010989010989011\n",
      "Time: 200.2940649986267\n"
     ]
    },
    {
     "data": {
      "image/png": "[encoded data removed]",
      "text/plain": [
       "<Figure size 720x576 with 1 Axes>"
      ]
     },
     "metadata": {},
     "output_type": "display_data"
    },
    {
     "data": {
      "text/plain": [
       "array([0.49446462])"
      ]
     },
     "execution_count": 4,
     "metadata": {},
     "output_type": "execute_result"
    }
   ],
   "source": [
    "from Scripts.OptimizePSO import OptimizePSO as OptimizePSO\n",
    "\n",
    "optimizePSO = OptimizePSO(settings.variables, settings.swarm_size, settings.dim, settings.epsilon, settings.iters, settings.options, settings.borders, settings.sigma_mean_params)\n",
    "optimizePSO.worker(settings.variables)"
   ]
  },
  {
   "cell_type": "markdown",
   "metadata": {},
   "source": [
    "##### Value Train without optimalization"
   ]
  },
  {
   "cell_type": "code",
   "execution_count": 5,
   "metadata": {
    "ExecuteTime": {
     "end_time": "2019-03-27T22:13:23.815467Z",
     "start_time": "2019-03-27T22:13:23.090772Z"
    }
   },
   "outputs": [
    {
     "name": "stdout",
     "output_type": "stream",
     "text": [
      "Accuracy: 0.8307692307692308\n",
      "Precision: [0.79050279 0.97938144]\n",
      "Recall: [0.99298246 0.55882353]\n",
      "F-Score: [0.88024883 0.71161049]\n",
      "Support: [285 170]\n"
     ]
    }
   ],
   "source": [
    "from Scripts.ValueTrain import ValueTrain as ValueTrain\n",
    "valueTrain = ValueTrain(settings.variables, threshold_value = -1)\n",
    "valueTrain.worker(settings.variables)"
   ]
  },
  {
   "cell_type": "markdown",
   "metadata": {},
   "source": [
    "##### Value Test without optimalization"
   ]
  },
  {
   "cell_type": "code",
   "execution_count": 6,
   "metadata": {
    "ExecuteTime": {
     "end_time": "2019-03-27T22:13:24.669560Z",
     "start_time": "2019-03-27T22:13:23.820474Z"
    }
   },
   "outputs": [
    {
     "name": "stdout",
     "output_type": "stream",
     "text": [
      "Accuracy: 0.8157894736842105\n",
      "Precision: [0.77419355 1.        ]\n",
      "Recall: [1.  0.5]\n",
      "F-Score: [0.87272727 0.66666667]\n",
      "Support: [72 42]\n"
     ]
    }
   ],
   "source": [
    "from Scripts.ValueTest import ValueTest as ValueTest\n",
    "\n",
    "valueTest = ValueTest(settings.variables, threshold_value = -1)\n",
    "valueTest.worker(settings.variables)"
   ]
  },
  {
   "cell_type": "markdown",
   "metadata": {},
   "source": [
    "##### Value Train with optimalization"
   ]
  },
  {
   "cell_type": "code",
   "execution_count": 7,
   "metadata": {
    "ExecuteTime": {
     "end_time": "2019-03-27T22:13:25.391134Z",
     "start_time": "2019-03-27T22:13:24.671545Z"
    }
   },
   "outputs": [
    {
     "name": "stdout",
     "output_type": "stream",
     "text": [
      "Accuracy: 0.9010989010989011\n",
      "Precision: [0.89215686 0.91946309]\n",
      "Recall: [0.95789474 0.80588235]\n",
      "F-Score: [0.92385787 0.85893417]\n",
      "Support: [285 170]\n"
     ]
    }
   ],
   "source": [
    "from Scripts.ValueTrain import ValueTrain as ValueTrain\n",
    "\n",
    "valueTrain = ValueTrain(settings.variables, threshold_value = bruteforce_threshold)\n",
    "valueTrain.worker(settings.variables)"
   ]
  },
  {
   "cell_type": "markdown",
   "metadata": {},
   "source": [
    "##### Value Test with optimalization"
   ]
  },
  {
   "cell_type": "code",
   "execution_count": 8,
   "metadata": {
    "ExecuteTime": {
     "end_time": "2019-03-27T22:13:26.238158Z",
     "start_time": "2019-03-27T22:13:25.393140Z"
    }
   },
   "outputs": [
    {
     "name": "stdout",
     "output_type": "stream",
     "text": [
      "Accuracy: 0.9210526315789473\n",
      "Precision: [0.90909091 0.94594595]\n",
      "Recall: [0.97222222 0.83333333]\n",
      "F-Score: [0.93959732 0.88607595]\n",
      "Support: [72 42]\n"
     ]
    }
   ],
   "source": [
    "from Scripts.ValueTest import ValueTest as ValueTest\n",
    "\n",
    "valueTest = ValueTest(settings.variables, threshold_value = bruteforce_threshold)\n",
    "valueTest.worker(settings.variables)"
   ]
  },
  {
   "cell_type": "markdown",
   "metadata": {},
   "source": [
    "##### PSO K-Fold"
   ]
  },
  {
   "cell_type": "code",
   "execution_count": 17,
   "metadata": {
    "ExecuteTime": {
     "end_time": "2019-03-27T23:07:18.335391Z",
     "start_time": "2019-03-27T22:30:18.899600Z"
    },
    "scrolled": false
   },
   "outputs": [
    {
     "name": "stderr",
     "output_type": "stream",
     "text": [
      "2019-03-27 23:30:19,164 - pyswarms.single.global_best - INFO - Optimize for 20 iters with {'c1': 0.5, 'w': 0.9, 'c2': 0.3}\n",
      "pyswarms.single.global_best: 100%|█████████████████████████████████████████████████████████████|20/20, best_cost=0.0989\n",
      "2019-03-27 23:33:41,220 - pyswarms.single.global_best - INFO - Optimization finished | best cost: 0.09890109890109888, best pos: [0.49418451]\n"
     ]
    },
    {
     "name": "stdout",
     "output_type": "stream",
     "text": [
      "------------------------------------- Fold 0 --------------------------------------\n",
      "Global minimum: [0.49418451]\n",
      "Train Accuracy: 0.9010989010989011\n",
      "Test Accuracy: 0.0\n",
      "Time: 202.13491415977478\n",
      "-----------------------------------------------------------------------------------\n"
     ]
    },
    {
     "name": "stderr",
     "output_type": "stream",
     "text": [
      "2019-03-27 23:33:41,315 - pyswarms.single.global_best - INFO - Optimize for 20 iters with {'c1': 0.5, 'w': 0.9, 'c2': 0.3}\n",
      "pyswarms.single.global_best: 100%|█████████████████████████████████████████████████████████████|20/20, best_cost=0.0989\n",
      "2019-03-27 23:37:26,113 - pyswarms.single.global_best - INFO - Optimization finished | best cost: 0.09890109890109888, best pos: [0.49418451]\n"
     ]
    },
    {
     "name": "stdout",
     "output_type": "stream",
     "text": [
      "------------------------------------- Fold 1 --------------------------------------\n",
      "Global minimum: [0.49418451]\n",
      "Train Accuracy: 0.9010989010989011\n",
      "Test Accuracy: 0.0\n",
      "Time: 224.89184832572937\n",
      "-----------------------------------------------------------------------------------\n"
     ]
    },
    {
     "name": "stderr",
     "output_type": "stream",
     "text": [
      "2019-03-27 23:37:26,218 - pyswarms.single.global_best - INFO - Optimize for 20 iters with {'c1': 0.5, 'w': 0.9, 'c2': 0.3}\n",
      "pyswarms.single.global_best: 100%|█████████████████████████████████████████████████████████████|20/20, best_cost=0.0967\n",
      "2019-03-27 23:40:30,572 - pyswarms.single.global_best - INFO - Optimization finished | best cost: 0.09670329670329669, best pos: [0.49472559]\n"
     ]
    },
    {
     "name": "stdout",
     "output_type": "stream",
     "text": [
      "------------------------------------- Fold 2 --------------------------------------\n",
      "Global minimum: [0.49472559]\n",
      "Train Accuracy: 0.9032967032967033\n",
      "Test Accuracy: 0.0\n",
      "Time: 184.418874502182\n",
      "-----------------------------------------------------------------------------------\n"
     ]
    },
    {
     "name": "stderr",
     "output_type": "stream",
     "text": [
      "2019-03-27 23:40:30,633 - pyswarms.single.global_best - INFO - Optimize for 20 iters with {'c1': 0.5, 'w': 0.9, 'c2': 0.3}\n",
      "pyswarms.single.global_best: 100%|█████████████████████████████████████████████████████████████|20/20, best_cost=0.0967\n",
      "2019-03-27 23:44:09,353 - pyswarms.single.global_best - INFO - Optimization finished | best cost: 0.09670329670329669, best pos: [0.49472559]\n"
     ]
    },
    {
     "name": "stdout",
     "output_type": "stream",
     "text": [
      "------------------------------------- Fold 3 --------------------------------------\n",
      "Global minimum: [0.49472559]\n",
      "Train Accuracy: 0.9032967032967033\n",
      "Test Accuracy: 0.0\n",
      "Time: 218.81205344200134\n",
      "-----------------------------------------------------------------------------------\n"
     ]
    },
    {
     "name": "stderr",
     "output_type": "stream",
     "text": [
      "2019-03-27 23:44:09,468 - pyswarms.single.global_best - INFO - Optimize for 20 iters with {'c1': 0.5, 'w': 0.9, 'c2': 0.3}\n",
      "pyswarms.single.global_best: 100%|█████████████████████████████████████████████████████████████|20/20, best_cost=0.0967\n",
      "2019-03-27 23:48:07,635 - pyswarms.single.global_best - INFO - Optimization finished | best cost: 0.09670329670329669, best pos: [0.49472559]\n"
     ]
    },
    {
     "name": "stdout",
     "output_type": "stream",
     "text": [
      "------------------------------------- Fold 4 --------------------------------------\n",
      "Global minimum: [0.49472559]\n",
      "Train Accuracy: 0.9032967032967033\n",
      "Test Accuracy: 0.0\n",
      "Time: 238.2791862487793\n",
      "-----------------------------------------------------------------------------------\n"
     ]
    },
    {
     "name": "stderr",
     "output_type": "stream",
     "text": [
      "2019-03-27 23:48:07,773 - pyswarms.single.global_best - INFO - Optimize for 20 iters with {'c1': 0.5, 'w': 0.9, 'c2': 0.3}\n",
      "pyswarms.single.global_best: 100%|█████████████████████████████████████████████████████████████|20/20, best_cost=0.0967\n",
      "2019-03-27 23:52:02,262 - pyswarms.single.global_best - INFO - Optimization finished | best cost: 0.09670329670329669, best pos: [0.49472559]\n"
     ]
    },
    {
     "name": "stdout",
     "output_type": "stream",
     "text": [
      "------------------------------------- Fold 5 --------------------------------------\n",
      "Global minimum: [0.49472559]\n",
      "Train Accuracy: 0.9032967032967033\n",
      "Test Accuracy: 0.0\n",
      "Time: 234.65626001358032\n",
      "-----------------------------------------------------------------------------------\n"
     ]
    },
    {
     "name": "stderr",
     "output_type": "stream",
     "text": [
      "2019-03-27 23:52:02,477 - pyswarms.single.global_best - INFO - Optimize for 20 iters with {'c1': 0.5, 'w': 0.9, 'c2': 0.3}\n",
      "pyswarms.single.global_best: 100%|█████████████████████████████████████████████████████████████|20/20, best_cost=0.0945\n",
      "2019-03-27 23:55:48,276 - pyswarms.single.global_best - INFO - Optimization finished | best cost: 0.0945054945054945, best pos: [0.49478316]\n"
     ]
    },
    {
     "name": "stdout",
     "output_type": "stream",
     "text": [
      "------------------------------------- Fold 6 --------------------------------------\n",
      "Global minimum: [0.49478316]\n",
      "Train Accuracy: 0.9054945054945055\n",
      "Test Accuracy: 0.0\n",
      "Time: 225.897522687912\n",
      "-----------------------------------------------------------------------------------\n"
     ]
    },
    {
     "name": "stderr",
     "output_type": "stream",
     "text": [
      "2019-03-27 23:55:48,348 - pyswarms.single.global_best - INFO - Optimize for 20 iters with {'c1': 0.5, 'w': 0.9, 'c2': 0.3}\n",
      "pyswarms.single.global_best: 100%|█████████████████████████████████████████████████████████████|20/20, best_cost=0.0945\n",
      "2019-03-27 23:59:35,910 - pyswarms.single.global_best - INFO - Optimization finished | best cost: 0.0945054945054945, best pos: [0.49478316]\n"
     ]
    },
    {
     "name": "stdout",
     "output_type": "stream",
     "text": [
      "------------------------------------- Fold 7 --------------------------------------\n",
      "Global minimum: [0.49478316]\n",
      "Train Accuracy: 0.9054945054945055\n",
      "Test Accuracy: 0.0\n",
      "Time: 227.63460659980774\n",
      "-----------------------------------------------------------------------------------\n"
     ]
    },
    {
     "name": "stderr",
     "output_type": "stream",
     "text": [
      "2019-03-27 23:59:35,996 - pyswarms.single.global_best - INFO - Optimize for 20 iters with {'c1': 0.5, 'w': 0.9, 'c2': 0.3}\n",
      "pyswarms.single.global_best: 100%|█████████████████████████████████████████████████████████████|20/20, best_cost=0.0945\n",
      "2019-03-28 00:03:26,817 - pyswarms.single.global_best - INFO - Optimization finished | best cost: 0.0945054945054945, best pos: [0.49478316]\n"
     ]
    },
    {
     "name": "stdout",
     "output_type": "stream",
     "text": [
      "------------------------------------- Fold 8 --------------------------------------\n",
      "Global minimum: [0.49478316]\n",
      "Train Accuracy: 0.9054945054945055\n",
      "Test Accuracy: 0.0\n",
      "Time: 230.89810395240784\n",
      "-----------------------------------------------------------------------------------\n"
     ]
    },
    {
     "name": "stderr",
     "output_type": "stream",
     "text": [
      "2019-03-28 00:03:26,906 - pyswarms.single.global_best - INFO - Optimize for 20 iters with {'c1': 0.5, 'w': 0.9, 'c2': 0.3}\n",
      "pyswarms.single.global_best: 100%|█████████████████████████████████████████████████████████████|20/20, best_cost=0.0945\n",
      "2019-03-28 00:07:18,238 - pyswarms.single.global_best - INFO - Optimization finished | best cost: 0.0945054945054945, best pos: [0.49478316]\n"
     ]
    },
    {
     "name": "stdout",
     "output_type": "stream",
     "text": [
      "------------------------------------- Fold 9 --------------------------------------\n",
      "Global minimum: [0.49478316]\n",
      "Train Accuracy: 0.9054945054945055\n",
      "Test Accuracy: 0.0\n",
      "Time: 231.39938187599182\n",
      "-----------------------------------------------------------------------------------\n"
     ]
    }
   ],
   "source": [
    "from Scripts.OptimizePSOKFold import OptimizePSOKFold as OptimizePSOKFold\n",
    "\n",
    "optimizePSOKFold = OptimizePSOKFold(settings.variables, settings.swarm_size, settings.dim, settings.epsilon, settings.iters, settings.options, settings.borders, settings.sigma_mean_params)\n",
    "optimizePSOKFold.worker(settings.variables)"
   ]
  },
  {
   "cell_type": "markdown",
   "metadata": {},
   "source": [
    "##### Brute Force K-Fold"
   ]
  },
  {
   "cell_type": "code",
   "execution_count": null,
   "metadata": {
    "ExecuteTime": {
     "end_time": "2019-03-27T22:13:26.700285Z",
     "start_time": "2019-03-27T22:08:49.905Z"
    }
   },
   "outputs": [],
   "source": [
    "from Scripts.OptimizeBruteForceKFold import OptimizeBruteForceKFold as OptimizeBruteForceKFold\n",
    "\n",
    "optimizeBruteForceKFold = OptimizeBruteForceKFold(settings.variables, settings.constraints, settings.sigma_mean_params)\n",
    "optimizeBruteForceKFold.worker(settings.variables)"
   ]
  }
 ],
 "metadata": {
  "kernelspec": {
   "display_name": "Python 3",
   "language": "python",
   "name": "python3"
  },
  "language_info": {
   "codemirror_mode": {
    "name": "ipython",
    "version": 3
   },
   "file_extension": ".py",
   "mimetype": "text/x-python",
   "name": "python",
   "nbconvert_exporter": "python",
   "pygments_lexer": "ipython3",
   "version": "3.5.5"
  }
 },
 "nbformat": 4,
 "nbformat_minor": 2
}
