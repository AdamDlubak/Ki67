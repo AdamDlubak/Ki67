{
 "cells": [
  {
   "cell_type": "code",
   "execution_count": 1,
   "metadata": {},
   "outputs": [],
   "source": [
    "import settings as settings\n",
    "from Scripts.OptimizeBruteForceKFold import OptimizeBruteForceKFold as OptimizeBruteForceKFold"
   ]
  },
  {
   "cell_type": "code",
   "execution_count": 3,
   "metadata": {},
   "outputs": [
    {
     "name": "stdout",
     "output_type": "stream",
     "text": [
      "------------------------------------- Fold 0 --------------------------------------\n",
      "Train Accuracy: 0.9361702127659575\n",
      "Test Accuracy: 1.0\n",
      "Global minimum: [0.414]\n",
      "Time: 37.508995056152344\n",
      "-----------------------------------------------------------------------------------\n",
      "------------------------------------- Fold 1 --------------------------------------\n",
      "Train Accuracy: 0.9361702127659575\n",
      "Test Accuracy: 1.0\n",
      "Global minimum: [0.414]\n",
      "Time: 39.62248420715332\n",
      "-----------------------------------------------------------------------------------\n",
      "------------------------------------- Fold 2 --------------------------------------\n",
      "Train Accuracy: 0.9361702127659575\n",
      "Test Accuracy: 0.8333333333333334\n",
      "Global minimum: [0.409]\n",
      "Time: 38.09850835800171\n",
      "-----------------------------------------------------------------------------------\n",
      "------------------------------------- Fold 3 --------------------------------------\n",
      "Train Accuracy: 0.9361702127659575\n",
      "Test Accuracy: 1.0\n",
      "Global minimum: [0.414]\n",
      "Time: 39.550498723983765\n",
      "-----------------------------------------------------------------------------------\n",
      "------------------------------------- Fold 4 --------------------------------------\n",
      "Train Accuracy: 0.9574468085106383\n",
      "Test Accuracy: 0.6666666666666666\n",
      "Global minimum: [0.439]\n",
      "Time: 37.776001930236816\n",
      "-----------------------------------------------------------------------------------\n",
      "------------------------------------- Fold 5 --------------------------------------\n",
      "Train Accuracy: 0.9787234042553191\n",
      "Test Accuracy: 0.6666666666666666\n",
      "Global minimum: [0.414]\n",
      "Time: 37.836017370224\n",
      "-----------------------------------------------------------------------------------\n",
      "------------------------------------- Fold 6 --------------------------------------\n",
      "Train Accuracy: 0.9375\n",
      "Test Accuracy: 1.0\n",
      "Global minimum: [0.414]\n",
      "Time: 38.65550470352173\n",
      "-----------------------------------------------------------------------------------\n",
      "------------------------------------- Fold 7 --------------------------------------\n",
      "Train Accuracy: 0.9591836734693877\n",
      "Test Accuracy: 0.75\n",
      "Global minimum: [0.414]\n",
      "Time: 39.24749565124512\n",
      "-----------------------------------------------------------------------------------\n",
      "------------------------------------- Fold 8 --------------------------------------\n",
      "Train Accuracy: 0.9387755102040817\n",
      "Test Accuracy: 1.0\n",
      "Global minimum: [0.414]\n",
      "Time: 40.52399969100952\n",
      "-----------------------------------------------------------------------------------\n",
      "------------------------------------- Fold 9 --------------------------------------\n",
      "Train Accuracy: 0.9387755102040817\n",
      "Test Accuracy: 1.0\n",
      "Global minimum: [0.414]\n",
      "Time: 42.017499685287476\n",
      "-----------------------------------------------------------------------------------\n"
     ]
    }
   ],
   "source": [
    "optimizeBruteForceKFold = OptimizeBruteForceKFold(settings.variables, settings.constraints, settings.sigma_mean_params)\n",
    "optimizeBruteForceKFold.worker(settings.variables)"
   ]
  }
 ],
 "metadata": {
  "kernelspec": {
   "display_name": "Python 3",
   "language": "python",
   "name": "python3"
  },
  "language_info": {
   "codemirror_mode": {
    "name": "ipython",
    "version": 3
   },
   "file_extension": ".py",
   "mimetype": "text/x-python",
   "name": "python",
   "nbconvert_exporter": "python",
   "pygments_lexer": "ipython3",
   "version": "3.5.5"
  }
 },
 "nbformat": 4,
 "nbformat_minor": 2
}
