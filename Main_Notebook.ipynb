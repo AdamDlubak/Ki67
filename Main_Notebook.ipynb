{
  "nbformat": 4,
  "nbformat_minor": 0,
  "metadata": {
    "colab": {
      "name": "Main-Notebook.ipynb",
      "version": "0.3.2",
      "provenance": [],
      "collapsed_sections": [
        "cRARJbSeDoIQ",
        "s47C9JH7DtpT",
        "Q8tDXZPuDy6Y",
        "IJJVEfkbD1bH",
        "psy6quu6URnO",
        "k3TcPKaXD7x6",
        "9pBs9oY1zGH9",
        "3HJDjy23zM0B",
        "jKdJ6bhqv3oI",
        "SUKYTcf8R7eh",
        "uT6De88_0Zf3",
        "L3EtNRDtVIa2",
        "xa2tbjF4NgSM",
        "zLXZvmtey0yD",
        "9Q6Jp5aT_fHn",
        "Klh1y8YC_fQU",
        "xOovHIPKveTQ",
        "3TOUstJxJt_j",
        "8RwjX0HkVn3H",
        "78H6BcKnrFKE",
        "THO08dGWMiUQ",
        "eVRlRLmHMm-y",
        "Bgm7NBfjV_CD",
        "3wZ6Z-oVWBZC"
      ],
      "toc_visible": true,
      "include_colab_link": true
    },
    "kernelspec": {
      "name": "python3",
      "display_name": "Python 3"
    },
    "accelerator": "GPU"
  },
  "cells": [
    {
      "cell_type": "markdown",
      "metadata": {
        "id": "view-in-github",
        "colab_type": "text"
      },
      "source": [
        "<a href=\"https://colab.research.google.com/github/AdamDlubak/Ki67/blob/master/Main_Notebook.ipynb\" target=\"_parent\"><img src=\"https://colab.research.google.com/assets/colab-badge.svg\" alt=\"Open In Colab\"/></a>"
      ]
    },
    {
      "metadata": {
        "id": "cRrsulzLD39Y",
        "colab_type": "text"
      },
      "cell_type": "markdown",
      "source": [
        "## Initialization"
      ]
    },
    {
      "metadata": {
        "id": "cRARJbSeDoIQ",
        "colab_type": "text"
      },
      "cell_type": "markdown",
      "source": [
        "### Install packages"
      ]
    },
    {
      "metadata": {
        "id": "foekyGbPMoMh",
        "colab_type": "code",
        "outputId": "56347e87-01b5-447d-a5c0-2a8749131b4a",
        "colab": {
          "base_uri": "https://localhost:8080/",
          "height": 379
        }
      },
      "cell_type": "code",
      "source": [
        "!pip install opencv-python\n",
        "!pip install boolean.py\n",
        "!pip install -U scikit-fuzzy\n",
        "!pip install pyswarms"
      ],
      "execution_count": 342,
      "outputs": [
        {
          "output_type": "stream",
          "text": [
            "Requirement already satisfied: opencv-python in /usr/local/lib/python3.6/dist-packages (3.4.5.20)\n",
            "Requirement already satisfied: numpy>=1.11.3 in /usr/local/lib/python3.6/dist-packages (from opencv-python) (1.16.1)\n",
            "Requirement already satisfied: boolean.py in /usr/local/lib/python3.6/dist-packages (3.6)\n",
            "Requirement already up-to-date: scikit-fuzzy in /usr/local/lib/python3.6/dist-packages (0.4.0)\n",
            "Requirement already satisfied, skipping upgrade: networkx>=1.9.0 in /usr/local/lib/python3.6/dist-packages (from scikit-fuzzy) (2.2)\n",
            "Requirement already satisfied, skipping upgrade: decorator>=4.3.0 in /usr/local/lib/python3.6/dist-packages (from networkx>=1.9.0->scikit-fuzzy) (4.3.2)\n",
            "Requirement already satisfied: pyswarms in /usr/local/lib/python3.6/dist-packages (1.0.2)\n",
            "Requirement already satisfied: cycler==0.10.0 in /usr/local/lib/python3.6/dist-packages (from pyswarms) (0.10.0)\n",
            "Requirement already satisfied: future==0.16.0 in /usr/local/lib/python3.6/dist-packages (from pyswarms) (0.16.0)\n",
            "Requirement already satisfied: kiwisolver==1.0.1 in /usr/local/lib/python3.6/dist-packages (from pyswarms) (1.0.1)\n",
            "Requirement already satisfied: matplotlib==3.0.2 in /usr/local/lib/python3.6/dist-packages (from pyswarms) (3.0.2)\n",
            "Requirement already satisfied: tqdm==4.24.0 in /usr/local/lib/python3.6/dist-packages (from pyswarms) (4.24.0)\n",
            "Requirement already satisfied: python-dateutil==2.7.5 in /usr/local/lib/python3.6/dist-packages (from pyswarms) (2.7.5)\n",
            "Requirement already satisfied: scipy==1.2.0 in /usr/local/lib/python3.6/dist-packages (from pyswarms) (1.2.0)\n",
            "Requirement already satisfied: numpy==1.16.1 in /usr/local/lib/python3.6/dist-packages (from pyswarms) (1.16.1)\n",
            "Requirement already satisfied: pyparsing==2.3.1 in /usr/local/lib/python3.6/dist-packages (from pyswarms) (2.3.1)\n",
            "Requirement already satisfied: six==1.12.0 in /usr/local/lib/python3.6/dist-packages (from pyswarms) (1.12.0)\n",
            "Requirement already satisfied: attrs==18.1.0 in /usr/local/lib/python3.6/dist-packages (from pyswarms) (18.1.0)\n",
            "Requirement already satisfied: setuptools in /usr/local/lib/python3.6/dist-packages (from kiwisolver==1.0.1->pyswarms) (40.8.0)\n"
          ],
          "name": "stdout"
        }
      ]
    },
    {
      "metadata": {
        "id": "s47C9JH7DtpT",
        "colab_type": "text"
      },
      "cell_type": "markdown",
      "source": [
        "### Connect to Google Drive"
      ]
    },
    {
      "metadata": {
        "id": "d57_5_JMN7--",
        "colab_type": "code",
        "outputId": "e0d9737a-08f4-4695-df38-16e2226a758a",
        "colab": {
          "base_uri": "https://localhost:8080/",
          "height": 55
        }
      },
      "cell_type": "code",
      "source": [
        "from google.colab import drive\n",
        "drive.mount('/content/gdrive')"
      ],
      "execution_count": 343,
      "outputs": [
        {
          "output_type": "stream",
          "text": [
            "Drive already mounted at /content/gdrive; to attempt to forcibly remount, call drive.mount(\"/content/gdrive\", force_remount=True).\n"
          ],
          "name": "stdout"
        }
      ]
    },
    {
      "metadata": {
        "id": "Q8tDXZPuDy6Y",
        "colab_type": "text"
      },
      "cell_type": "markdown",
      "source": [
        "### Import Libraries"
      ]
    },
    {
      "metadata": {
        "id": "fT0PuPSH5F91",
        "colab_type": "code",
        "colab": {}
      },
      "cell_type": "code",
      "source": [
        "%matplotlib inline\n",
        "import re\n",
        "import cv2\n",
        "import math\n",
        "import pickle\n",
        "import numpy as np\n",
        "import pandas as pd\n",
        "from os import listdir\n",
        "import scipy.ndimage as ndimage\n",
        "from matplotlib import pyplot as plt\n",
        "import skfuzzy as fuzz\n",
        "from skfuzzy import control as ctrl\n",
        "import boolean\n",
        "from IPython.display import HTML, display\n",
        "import time\n",
        "from tqdm import tnrange, tqdm_notebook\n",
        "from time import sleep\n",
        "\n",
        "\n",
        "import pyswarms as ps\n",
        "from pyswarms.utils.functions import single_obj as fx\n",
        "from pyswarms.utils.plotters import plot_cost_history, plot_contour, plot_surface\n",
        "from pyswarms.utils.plotters.formatters import Mesher, Designer"
      ],
      "execution_count": 0,
      "outputs": []
    },
    {
      "metadata": {
        "id": "IJJVEfkbD1bH",
        "colab_type": "text"
      },
      "cell_type": "markdown",
      "source": [
        "\n",
        "### Variables"
      ]
    },
    {
      "metadata": {
        "id": "K6cuNOrHOQ2i",
        "colab_type": "code",
        "colab": {}
      },
      "cell_type": "code",
      "source": [
        "# images_folder = '/content/gdrive/My Drive/Praca Dyplomowa/Projekt/Graphics/'\n",
        "images_folder = '/content/gdrive/My Drive/Praca Dyplomowa/Projekt/Color/'\n",
        "files_folder = '/content/gdrive/My Drive/Praca Dyplomowa/Projekt/'\n",
        "\n",
        "extension = '.jpg'\n",
        "# image_name = 'flower_image_'\n",
        "image_name = 'image_'\n",
        "\n",
        "reduct_file = 'Reduct.p'\n",
        "rules_file = 'Rules.p'\n",
        "\n",
        "footprint = np.ones((3, 3))\n",
        "footprint[1][1] = 3\n",
        "\n",
        "# d_low = \"Low Violet\"\n",
        "# d_average = \"Average Violet\"\n",
        "# d_very = \"Very Violet\"\n",
        "\n",
        "d_low = \"Low Color\"\n",
        "d_average = \"Average Color\"\n",
        "d_very = \"Very Color\"\n",
        "d_results = [d_low, d_average, d_very]\n",
        "\n",
        "low = \"Low\"\n",
        "middle = \"Middle\"\n",
        "high = \"High\"\n",
        "\n",
        "sigma = 0.1\n",
        "features_numbers = 6\n",
        "set_min = 0 \n",
        "set_max = 1\n",
        "fuzzy_sets_precision = 0.000001\n",
        "show_results = False\n",
        "\n",
        "TRUE, FALSE, NOT, AND, OR, Symbol = algebra.definition()"
      ],
      "execution_count": 0,
      "outputs": []
    },
    {
      "metadata": {
        "id": "psy6quu6URnO",
        "colab_type": "text"
      },
      "cell_type": "markdown",
      "source": [
        "## Fuzzy Components"
      ]
    },
    {
      "metadata": {
        "id": "3fjg6EhnyJQZ",
        "colab_type": "code",
        "colab": {}
      },
      "cell_type": "code",
      "source": [
        "features = []\n",
        "feature_labels = []\n",
        "x_arrange = np.arange(set_min, set_max, fuzzy_sets_precision)\n",
        "names = [low, middle, high]\n",
        "\n",
        "\n",
        "for i in range(0, features_numbers):\n",
        "  feature_label = \"F\" + str(i)\n",
        "  features.append(ctrl.Antecedent(np.arange(set_min, set_max, fuzzy_sets_precision), feature_label))\n",
        "  feature_labels.append(feature_label)\n",
        "  features[i].automf(names = names)\n",
        "\n",
        "\n",
        "Decision = ctrl.Consequent(np.arange(set_min, set_max, fuzzy_sets_precision), 'Decision')\n",
        "Decision.automf(names=[d_low, d_average, d_very])"
      ],
      "execution_count": 0,
      "outputs": []
    },
    {
      "metadata": {
        "id": "k3TcPKaXD7x6",
        "colab_type": "text"
      },
      "cell_type": "markdown",
      "source": [
        "## Read Images"
      ]
    },
    {
      "metadata": {
        "id": "9pBs9oY1zGH9",
        "colab_type": "text"
      },
      "cell_type": "markdown",
      "source": [
        "#### Functions | Read Images"
      ]
    },
    {
      "metadata": {
        "id": "jDTpVx2rvATr",
        "colab_type": "code",
        "colab": {}
      },
      "cell_type": "code",
      "source": [
        "def read_images():\n",
        "\n",
        "  images = []\n",
        "  image_names = []\n",
        "  image_decisions = []\n",
        "\n",
        "  for images_type_folder in [d_low, d_average, d_very]:\n",
        "    for name in listdir(images_folder + images_type_folder):\n",
        "      file_path = images_folder + images_type_folder + \"/\" + name\n",
        "      images.append(cv2.imread(file_path))\n",
        "      image_names.append(name.replace(extension, ''))\n",
        "      image_decisions.append(Decision[images_type_folder].label)\n",
        "      \n",
        "  return images, image_names, image_decisions"
      ],
      "execution_count": 0,
      "outputs": []
    },
    {
      "metadata": {
        "id": "3HJDjy23zM0B",
        "colab_type": "text"
      },
      "cell_type": "markdown",
      "source": [
        "#### Read Images"
      ]
    },
    {
      "metadata": {
        "id": "m7qVICOHzCtR",
        "colab_type": "code",
        "colab": {}
      },
      "cell_type": "code",
      "source": [
        "images, image_names, image_decisions = read_images()"
      ],
      "execution_count": 0,
      "outputs": []
    },
    {
      "metadata": {
        "id": "jKdJ6bhqv3oI",
        "colab_type": "text"
      },
      "cell_type": "markdown",
      "source": [
        "## Features Extraction"
      ]
    },
    {
      "metadata": {
        "id": "SUKYTcf8R7eh",
        "colab_type": "text"
      },
      "cell_type": "markdown",
      "source": [
        "### Functions | Display Image"
      ]
    },
    {
      "metadata": {
        "id": "gGKb-uDrR6GF",
        "colab_type": "code",
        "colab": {}
      },
      "cell_type": "code",
      "source": [
        "def print_image(image, title = \"\"):\n",
        "  fig = plt.figure()\n",
        "  fig.suptitle(title, fontsize = 13)\n",
        "  plt.axis('off')\n",
        "  plt.imshow(image)\n",
        "  plt.show()\n",
        "\n",
        "def print_images(image_1, image_2, image_3, image_4, image_5, image_6, title_1 = \"\", title_2 = \"\", title_3 = \"\", title_4 = \"\", title_5 = \"\", title_6 = \"\"):\n",
        "  fig = plt.figure(figsize=(18, 18))\n",
        "  ax= plt.subplot(161)\n",
        "  ax.set_title(title_1, fontsize = 13)\n",
        "  plt.axis('off')\n",
        "  plt.imshow(image_1)\n",
        "  \n",
        "  ax = plt.subplot(162)\n",
        "  ax.set_title(title_2, fontsize = 13)\n",
        "  plt.axis('off')\n",
        "  plt.imshow(image_2)\n",
        "  \n",
        "  ax = plt.subplot(163)\n",
        "  ax.set_title(title_3, fontsize = 13)\n",
        "  plt.axis('off')\n",
        "  plt.imshow(image_3)\n",
        "  \n",
        "  ax = plt.subplot(164)\n",
        "  ax.set_title(title_4, fontsize = 13)\n",
        "  plt.axis('off')\n",
        "  plt.imshow(image_4)\n",
        " \n",
        "  ax = plt.subplot(165)\n",
        "  ax.set_title(title_5, fontsize = 13)\n",
        "  plt.axis('off')\n",
        "  plt.imshow(image_5)\n",
        "\n",
        "  ax = plt.subplot(166)\n",
        "  ax.set_title(title_6, fontsize = 13)\n",
        "  plt.axis('off')\n",
        "  plt.imshow(image_6)\n",
        "  \n",
        "  plt.show() \n",
        "  "
      ],
      "execution_count": 0,
      "outputs": []
    },
    {
      "metadata": {
        "id": "dhHC6BDAhIge",
        "colab_type": "text"
      },
      "cell_type": "markdown",
      "source": [
        "### Extract Features"
      ]
    },
    {
      "metadata": {
        "id": "qfJ_oeL9z_o9",
        "colab_type": "text"
      },
      "cell_type": "markdown",
      "source": [
        "#### Functions | Extract Features"
      ]
    },
    {
      "metadata": {
        "id": "-D2zKXKj5Iy7",
        "colab_type": "code",
        "colab": {}
      },
      "cell_type": "code",
      "source": [
        "def average_func(values):\n",
        "  return np.average(values)\n",
        "\n",
        "def threshold_binary(image, min_value, max_value):\n",
        "  _, thresh = cv2.threshold(image, 0, 255, cv2.THRESH_BINARY_INV+cv2.THRESH_OTSU)\n",
        "  return thresh\n",
        "\n",
        "def split_into_rgb_channels(image):\n",
        "  b, g, r = cv2.split(image)\n",
        "  return r, g, b\n",
        "\n",
        "def split_into_hsv_channels(image):\n",
        "  hsv_image = cv2.cvtColor(image, cv2.COLOR_BGR2HSV)\n",
        "  h, s, v = cv2.split(hsv_image)\n",
        "  return h, s, v\n",
        "\n",
        "def prepare_image(image, image_type, width = 100, height = 30):\n",
        "  \n",
        "  resized_image = cv2.resize(image, (width, height))                   # Resize\n",
        "  gray_image = cv2.cvtColor(resized_image, cv2.COLOR_BGR2GRAY)         # Remove background\n",
        "  \n",
        "#   thresh = threshold_binary(gray_image, 20, 255)\n",
        "\n",
        "  # Get R G B and H S V colors\n",
        "  r_image, g_image, b_image = split_into_rgb_channels(resized_image) \n",
        "  h_image, s_image, v_image = split_into_hsv_channels(resized_image) \n",
        "  \n",
        "  if image_type == \"r\":\n",
        "    color_image = r_image\n",
        "  elif image_type == \"g\":\n",
        "    color_image = g_image\n",
        "  elif image_type == \"b\":\n",
        "    color_image = b_image\n",
        "  elif image_type == \"h\":\n",
        "    color_image = h_image\n",
        "  elif image_type == \"s\":\n",
        "    color_image = s_image\n",
        "  else:\n",
        "    color_image = v_image\n",
        "\n",
        "    \n",
        "  # Mean of pixel & neighbours\n",
        "#   image_features = ndimage.generic_filter(color_image, average_func, footprint=footprint, mode='constant', cval=1)\n",
        "\n",
        "  ## Sliding window\n",
        "  image_features = []\n",
        "  stepSize = 5\n",
        "  (w_width, w_height) = (5, 5)\n",
        "  for x in range(0, color_image.shape[0] + 1- w_width , stepSize):\n",
        "     for y in range(0, color_image.shape[1] + 1- w_height, stepSize):\n",
        "        image_features.append(np.average(color_image[x:x + w_width, y:y + w_height]))\n",
        "  \n",
        "#   image_features_without_bg = np.copy(image_features)\n",
        "#   for x in range(len(image_features)):\n",
        "#     for y in range(len(image_features[0])):\n",
        "#       if thresh[x][y] == 255:\n",
        "#         image_features_without_bg[x][y] = 255\n",
        "\n",
        "#   print_images(resized_image, gray_image, thresh, color_image, image_features, image_features_without_bg, \"Resized Image\", \"Grey Image\", \"Background removing\", \"Color Image\", \"Image Features\", \"Image Features with threshold\")\n",
        "  \n",
        "  # Flatten\n",
        "#   features_without_bg = image_features_without_bg.ravel()\n",
        "  \n",
        "  # Remove background values\n",
        "#   features_without_bg = list(filter(lambda x: x != 255, features_without_bg))\n",
        "#   return [sum(features_without_bg) / float(len(features_without_bg))]\n",
        "#   return features_without_bg\n",
        "  return image_features"
      ],
      "execution_count": 0,
      "outputs": []
    },
    {
      "metadata": {
        "id": "XstQYR8hxBQE",
        "colab_type": "code",
        "colab": {}
      },
      "cell_type": "code",
      "source": [
        "def extract_features_from_image(image, image_decision, image_name):\n",
        "  results = prepare_image(image, \"r\")\n",
        "  decision_table = pd.DataFrame({features[0].label: results})\n",
        "\n",
        "  results = prepare_image(image, \"g\")\n",
        "  decision_table[features[1].label] = results  \n",
        "\n",
        "  results = prepare_image(image, \"b\")\n",
        "  decision_table[features[2].label] = results  \n",
        "\n",
        "  results = prepare_image(image, \"s\")\n",
        "  decision_table[features[3].label] = results  \n",
        "  \n",
        "  results = prepare_image(image, \"h\")\n",
        "  decision_table[features[4].label] = results  \n",
        "  \n",
        "  results = prepare_image(image, \"v\")\n",
        "  decision_table[features[5].label] = results  \n",
        "\n",
        "  image_column = np.full(decision_table.shape[0], image_name)\n",
        "  decision_table['Image'] = image_column  \n",
        "\n",
        "  decision_column = np.full(decision_table.shape[0], image_decision)\n",
        "  decision_table['Decision'] = decision_column  \n",
        "  \n",
        "  decision_table['Predicted Value'] = \"\" \n",
        "\n",
        "  return decision_table"
      ],
      "execution_count": 0,
      "outputs": []
    },
    {
      "metadata": {
        "id": "CoDSO-j0-ico",
        "colab_type": "code",
        "colab": {}
      },
      "cell_type": "code",
      "source": [
        "def extract_features(images):\n",
        "\n",
        "  features_array = []\n",
        "  features_table = pd.DataFrame()\n",
        "\n",
        "  for idx, image in enumerate(images):\n",
        "    features_array.append(extract_features_from_image(image, image_decisions[idx], image_names[idx]))\n",
        "  \n",
        "  features_table = pd.concat(features_array).reset_index(drop=True)\n",
        "\n",
        "  if show_results:\n",
        "    display(features_table)\n",
        "    \n",
        "  return features_table"
      ],
      "execution_count": 0,
      "outputs": []
    },
    {
      "metadata": {
        "id": "_Rui_OVhz_v8",
        "colab_type": "text"
      },
      "cell_type": "markdown",
      "source": [
        "#### Extract Features"
      ]
    },
    {
      "metadata": {
        "id": "ydj0gZHIz5iI",
        "colab_type": "code",
        "colab": {}
      },
      "cell_type": "code",
      "source": [
        "features_table = extract_features(images)"
      ],
      "execution_count": 0,
      "outputs": []
    },
    {
      "metadata": {
        "id": "j6nmulGpDCNe",
        "colab_type": "code",
        "colab": {
          "base_uri": "https://localhost:8080/",
          "height": 217
        },
        "outputId": "e0b42190-6786-42cf-de49-fe4b6531311d"
      },
      "cell_type": "code",
      "source": [
        "features_table.iloc[121]"
      ],
      "execution_count": 354,
      "outputs": [
        {
          "output_type": "execute_result",
          "data": {
            "text/plain": [
              "F0                        193.04\n",
              "F1                          18.8\n",
              "F2                         19.08\n",
              "F3                        230.32\n",
              "F4                             0\n",
              "F5                        193.04\n",
              "Image                    image_2\n",
              "Decision           Average Color\n",
              "Predicted Value                 \n",
              "Name: 121, dtype: object"
            ]
          },
          "metadata": {
            "tags": []
          },
          "execution_count": 354
        }
      ]
    },
    {
      "metadata": {
        "id": "r9uoTWtnDL2U",
        "colab_type": "text"
      },
      "cell_type": "markdown",
      "source": [
        "### Normalize Features"
      ]
    },
    {
      "metadata": {
        "id": "uT6De88_0Zf3",
        "colab_type": "text"
      },
      "cell_type": "markdown",
      "source": [
        "#### Features | Normalize Features"
      ]
    },
    {
      "metadata": {
        "id": "M3oE6nPj0Z2a",
        "colab_type": "code",
        "colab": {}
      },
      "cell_type": "code",
      "source": [
        "def normalize_features(features_table, features):\n",
        "\n",
        "  for x in features:\n",
        "    features_table[x.label] = (features_table[x.label]-features_table[x.label].min())/(features_table[x.label].max()-features_table[x.label].min())\n",
        "\n",
        "  if show_results:\n",
        "    display(features_table)\n",
        "    \n",
        "  return features_table"
      ],
      "execution_count": 0,
      "outputs": []
    },
    {
      "metadata": {
        "id": "UbQa83FP0ZZA",
        "colab_type": "text"
      },
      "cell_type": "markdown",
      "source": [
        "#### Normalize Features "
      ]
    },
    {
      "metadata": {
        "id": "og1NYOYISwjP",
        "colab_type": "code",
        "colab": {}
      },
      "cell_type": "code",
      "source": [
        "features_table = normalize_features(features_table, features)"
      ],
      "execution_count": 0,
      "outputs": []
    },
    {
      "metadata": {
        "id": "L3EtNRDtVIa2",
        "colab_type": "text"
      },
      "cell_type": "markdown",
      "source": [
        "## Fuzzyfication"
      ]
    },
    {
      "metadata": {
        "id": "xa2tbjF4NgSM",
        "colab_type": "text"
      },
      "cell_type": "markdown",
      "source": [
        "### Functions | Fuzzyfication"
      ]
    },
    {
      "metadata": {
        "id": "i9Vsbc0INfjB",
        "colab_type": "code",
        "colab": {}
      },
      "cell_type": "code",
      "source": [
        "def gauss_left(x, mean, sigma):\n",
        "  y = np.zeros(len(x))\n",
        "  idx = x <= mean\n",
        "  y[idx] = 1 - fuzz.gaussmf(x[idx], mean, sigma)\n",
        "  return y\n",
        "\n",
        "def gauss_right(x, mean, sigma):\n",
        "  y = np.zeros(len(x))\n",
        "  idx = x >= mean\n",
        "  y[idx] = 1 - fuzz.gaussmf(x[idx], mean, sigma)\n",
        "  return y\n",
        "\n",
        "def numbers_to_row_sets(idx, values, sigma, x_arrange):\n",
        "  \n",
        "\n",
        "  values = values.values\n",
        "  return_array = []\n",
        "  mean = values.mean()\n",
        "\n",
        "  features[idx][low] =  gauss_left(x_arrange, mean, sigma)\n",
        "  features[idx][middle] = fuzz.gaussmf(x_arrange, mean, sigma)\n",
        "  features[idx][high] = gauss_right(x_arrange, mean, sigma)\n",
        " \n",
        "  for x in values:\n",
        "    middle_value = fuzz.gaussmf(x, mean, sigma)\n",
        "    if x <= mean:\n",
        "      low_value = 1 - fuzz.gaussmf(x, mean, sigma)\n",
        "    else:\n",
        "      low_value = 0\n",
        "\n",
        "    if x >= mean:\n",
        "      high_value = 1 - fuzz.gaussmf(x, mean, sigma)\n",
        "    else:\n",
        "      high_value = 0   \n",
        "    \n",
        "    max_value = high_value\n",
        "    return_value = features[idx][high].label\n",
        "\n",
        "    if middle_value > max_value:\n",
        "      max_value = middle_value\n",
        "      return_value = features[idx][middle].label\n",
        "\n",
        "    if low_value > max_value:\n",
        "      max_value = low_value\n",
        "      return_value = features[idx][low].label\n",
        "\n",
        "    return_array.append(return_value)\n",
        "    \n",
        "  return return_array\n",
        "\n",
        "def present_fuzzy_features_charts(features):\n",
        "  for x in features:\n",
        "    x.view()\n",
        "    \n",
        "def fuzzify(features_table, features):\n",
        "  for idx, x in enumerate(features):\n",
        "    features_table[x.label] = numbers_to_row_sets(idx, features_table[x.label], sigma, x_arrange)\n",
        "\n",
        "  if show_results:\n",
        "    present_fuzzy_features_charts(features)\n",
        "    display(features_table)\n",
        "  \n",
        "  return features_table"
      ],
      "execution_count": 0,
      "outputs": []
    },
    {
      "metadata": {
        "id": "WoNxVQYjncOw",
        "colab_type": "text"
      },
      "cell_type": "markdown",
      "source": [
        "### Fuzzyfication"
      ]
    },
    {
      "metadata": {
        "id": "2r8M-fqfW7qp",
        "colab_type": "code",
        "colab": {}
      },
      "cell_type": "code",
      "source": [
        "features_table = fuzzify(features_table, features)"
      ],
      "execution_count": 0,
      "outputs": []
    },
    {
      "metadata": {
        "id": "zLXZvmtey0yD",
        "colab_type": "text"
      },
      "cell_type": "markdown",
      "source": [
        "##  Inconsistencies Removing"
      ]
    },
    {
      "metadata": {
        "id": "9Q6Jp5aT_fHn",
        "colab_type": "text"
      },
      "cell_type": "markdown",
      "source": [
        "### Functions | Inconsistencies Removing"
      ]
    },
    {
      "metadata": {
        "id": "BgPKjVCosMoB",
        "colab_type": "code",
        "colab": {}
      },
      "cell_type": "code",
      "source": [
        "def get_occurence_of_rows(df, remove_columns):\n",
        "  df = df.drop(remove_columns, axis=1, inplace=False)\n",
        "  df = df.groupby(df.columns.tolist(),as_index=False).size().reset_index(name=\"Occurence\")\n",
        "  return df\n",
        "\n",
        "def get_certain_decision_rows(features_occurence, features_decisions_occurence):\n",
        "  features_decision_numbers_ones = features_occurence.loc[features_occurence['Occurence'] == 1].copy()\n",
        "\n",
        "  for index, row in features_decision_numbers_ones.iterrows():\n",
        "    for idx, row_with_decision in features_decisions_occurence.iterrows():\n",
        "      if (row[feature_labels].values == row_with_decision[feature_labels].values).all():   \n",
        "        features_decision_numbers_ones.at[index, 'Decision'] = features_decisions_occurence.loc[idx, 'Decision']\n",
        "        \n",
        "  return features_decision_numbers_ones.drop(['Occurence'], axis=1, inplace=False)\n",
        "\n",
        "def get_number_of_clear_decision(features_occurence, features_decisions_occurence):\n",
        "  \n",
        "  features_certain_decision = get_certain_decision_rows(features_occurence, features_decisions_occurence)\n",
        "  \n",
        "  tmp_table = pd.merge(features_decisions_occurence, features_certain_decision, \n",
        "                       how='inner', on=feature_labels)\n",
        "  \n",
        "  if 'Decision_y' in tmp_table.columns:\n",
        "    tmp_table = tmp_table.drop(['Decision_y'], axis=1).rename(index=str, columns={\"Decision_x\": \"Decision\", \"Occurence_x\": \"Occurence\"})\n",
        "\n",
        "\n",
        "  number_of_clear_decision = pd.DataFrame(tmp_table.groupby(['Decision'], as_index=False)['Occurence'].agg('sum'))\n",
        "  \n",
        "  return number_of_clear_decision\n",
        "\n",
        "def solve_conflicts(number_of_conflicts_decision, problems_to_solve):\n",
        "\n",
        "  for index, row in number_of_conflicts_decision.iterrows():\n",
        "    new_df = pd.DataFrame(columns={\"Decision\", \"Probability\"})\n",
        "\n",
        "    for index_2, row_2 in problems_to_solve.iterrows():\n",
        "      if (row[feature_labels].values == row_2[feature_labels]).all():\n",
        "\n",
        "        try:\n",
        "          occurence = (number_of_clear_decision.loc[number_of_clear_decision['Decision'] == row_2[['Decision']].values[0]]).values[0][1]\n",
        "        except:\n",
        "          occurence = 0\n",
        "\n",
        "        probability = occurence / len(features_table)\n",
        "        new_df = new_df.append({'Decision': row_2[['Decision']].values, 'Probability': probability}, ignore_index=True)\n",
        "\n",
        "    new_value = new_df.loc[new_df['Probability'].idxmax()]['Decision'][0]\n",
        "  \n",
        "  \n",
        "    for idx, row_decision_table in features_decisions_occurence.iterrows():\n",
        "      if (row[feature_labels].values == row_decision_table[feature_labels]).all():\n",
        "        features_decisions_occurence.loc[idx, 'Decision'] = new_value\n",
        "  \n",
        "  return features_decisions_occurence"
      ],
      "execution_count": 0,
      "outputs": []
    },
    {
      "metadata": {
        "id": "um3hYxLQssR3",
        "colab_type": "code",
        "colab": {}
      },
      "cell_type": "code",
      "source": [
        "def inconsistencies_removing(features_table):\n",
        "\n",
        "  features_decisions_occurence = get_occurence_of_rows(features_table, ['Image'])\n",
        "  if show_results:\n",
        "    display(features_decisions_occurence)\n",
        "\n",
        "  features_occurence = get_occurence_of_rows(features_table, ['Image', 'Decision'])\n",
        "  if show_results:\n",
        "    display(features_occurence)\n",
        "\n",
        "  number_of_conflicts_decision = features_occurence[features_occurence.Occurence > 1]\n",
        "  if show_results:\n",
        "    print(\"\\nW tylu konflikach występuje:\")\n",
        "    display(number_of_conflicts_decision)\n",
        "\n",
        "  number_of_clear_decision = get_number_of_clear_decision(features_occurence, features_decisions_occurence)\n",
        "  if show_results:\n",
        "    print(\"\\nTyle jest wystąpień takich czystych decyzji:\")\n",
        "    display(number_of_clear_decision)\n",
        "\n",
        "  problems_to_solve = pd.merge(features_decisions_occurence, number_of_conflicts_decision, how='inner', on=feature_labels).drop(['Occurence_x', \"Occurence_y\"], axis = 1)\n",
        "  if show_results:\n",
        "    print(\"\\nTe problemy należy rozwiązać:\")\n",
        "    display(problems_to_solve)\n",
        "\n",
        "  features_decisions_occurence = solve_conflicts(number_of_conflicts_decision, problems_to_solve)\n",
        "  decision_table = features_decisions_occurence.drop(['Occurence'], axis = 1).drop_duplicates(keep='first', inplace=False)\n",
        "  if show_results:\n",
        "    print(\"Tablica decyzyjna po usunięciu duplikatów i niespójności\")\n",
        "    display(decision_table)  \n",
        "\n",
        "  return decision_table"
      ],
      "execution_count": 0,
      "outputs": []
    },
    {
      "metadata": {
        "id": "Klh1y8YC_fQU",
        "colab_type": "text"
      },
      "cell_type": "markdown",
      "source": [
        "### Inconsistencies Removing"
      ]
    },
    {
      "metadata": {
        "id": "PQA3k-1WBO3Z",
        "colab_type": "code",
        "colab": {}
      },
      "cell_type": "code",
      "source": [
        "features_table = inconsistencies_removing(features_table)"
      ],
      "execution_count": 0,
      "outputs": []
    },
    {
      "metadata": {
        "id": "xOovHIPKveTQ",
        "colab_type": "text"
      },
      "cell_type": "markdown",
      "source": [
        "## Generate Reduct"
      ]
    },
    {
      "metadata": {
        "id": "9rwerpQBxB6y",
        "colab_type": "code",
        "colab": {}
      },
      "cell_type": "code",
      "source": [
        "def get_reduct(features_table):\n",
        "  \n",
        "  reduct = []\n",
        "  \n",
        "  features_table = features_table.drop(['Decision'], axis=1)\n",
        "  features_table = features_table.reset_index(drop=True)\n",
        "  results = np.zeros((len(features_table), len(features_table), len(features_table.columns)))\n",
        "\n",
        "\n",
        "  for index_i, i in features_table.iterrows():\n",
        "    for index_j, j in features_table.iterrows():\n",
        "      if index_i > index_j:\n",
        "        tmp_entity = np.zeros(len(features_table.columns))\n",
        "        for idx, x in enumerate(range(0, len(i.values))):\n",
        "          if i[x] != j[x]:\n",
        "            tmp_entity[idx] = True\n",
        "        results[int(index_i), int(index_j)] = tmp_entity\n",
        "        \n",
        "  while True:\n",
        "    reduct_counter = np.zeros(len(features_table.columns))\n",
        "\n",
        "    for i in results:\n",
        "      for j in i:\n",
        "        for index_k, k in enumerate(j):\n",
        "          if k != 0:\n",
        "            reduct_counter[index_k] = reduct_counter[index_k] + 1\n",
        "\n",
        "    if all(item == 0 for item in reduct_counter):\n",
        "      break\n",
        "    \n",
        "    winner = np.argwhere(reduct_counter == np.amax(reduct_counter)).flatten().tolist()\n",
        "\n",
        "    new_to_reduct = np.random.choice(winner)\n",
        "    reduct.append(new_to_reduct)\n",
        "\n",
        "    for index_i, i in enumerate(results):\n",
        "      for index_j, j in enumerate(i):\n",
        "        if 1 == j[new_to_reduct]:\n",
        "          results[int(index_i)][int(index_j)] = np.zeros(len(features_table.columns))\n",
        "        \n",
        "    if all(item == 0 for item in reduct_counter):\n",
        "      break\n",
        "  \n",
        "  if show_results:\n",
        "    print(\"Reduct - Index of features: \" + str(reduct))\n",
        "\n",
        "  return reduct"
      ],
      "execution_count": 0,
      "outputs": []
    },
    {
      "metadata": {
        "id": "JToWORUrzwKr",
        "colab_type": "code",
        "colab": {}
      },
      "cell_type": "code",
      "source": [
        "reduct = get_reduct(features_table)"
      ],
      "execution_count": 0,
      "outputs": []
    },
    {
      "metadata": {
        "id": "_Z1pz1kn7Bfv",
        "colab_type": "text"
      },
      "cell_type": "markdown",
      "source": [
        "### Introduce Reduct"
      ]
    },
    {
      "metadata": {
        "id": "wCbKHtIMeojX",
        "colab_type": "code",
        "colab": {}
      },
      "cell_type": "code",
      "source": [
        "def introduce_reduct(features_table, reduct):\n",
        "  decision_table_after_reduct = features_table[features_table.columns[reduct]]\n",
        "  decision_table_after_reduct['Decision'] = features_table['Decision']\n",
        "  decision_table_after_reduct = decision_table_after_reduct.reset_index(drop=True)\n",
        "  \n",
        "  if show_results:\n",
        "    display(decision_table_after_reduct)\n",
        "\n",
        "  return decision_table_after_reduct"
      ],
      "execution_count": 0,
      "outputs": []
    },
    {
      "metadata": {
        "id": "A5yZa_tkF3PZ",
        "colab_type": "code",
        "colab": {
          "base_uri": "https://localhost:8080/",
          "height": 125
        },
        "outputId": "06f67be2-3b90-4b83-8e58-4626025466e0"
      },
      "cell_type": "code",
      "source": [
        "features_table = introduce_reduct(features_table, reduct)"
      ],
      "execution_count": 365,
      "outputs": [
        {
          "output_type": "stream",
          "text": [
            "/usr/local/lib/python3.6/dist-packages/ipykernel_launcher.py:3: SettingWithCopyWarning: \n",
            "A value is trying to be set on a copy of a slice from a DataFrame.\n",
            "Try using .loc[row_indexer,col_indexer] = value instead\n",
            "\n",
            "See the caveats in the documentation: http://pandas.pydata.org/pandas-docs/stable/indexing.html#indexing-view-versus-copy\n",
            "  This is separate from the ipykernel package so we can avoid doing imports until\n"
          ],
          "name": "stderr"
        }
      ]
    },
    {
      "metadata": {
        "id": "3TOUstJxJt_j",
        "colab_type": "text"
      },
      "cell_type": "markdown",
      "source": [
        "## Implicants matrix"
      ]
    },
    {
      "metadata": {
        "id": "PCsMSnLp7F7I",
        "colab_type": "text"
      },
      "cell_type": "markdown",
      "source": [
        "#### Symetric Discernibility Matrix & Implicants matrix"
      ]
    },
    {
      "metadata": {
        "id": "4121tHpDikxe",
        "colab_type": "code",
        "colab": {}
      },
      "cell_type": "code",
      "source": [
        "def generate_symetric_discernibility_matrix(features_table):\n",
        "\n",
        "  features_table = features_table.drop(['Decision'], axis=1)\n",
        "\n",
        "  symetric_discernibility_matrix = np.zeros((len(features_table), len(features_table), len(reduct)))\n",
        "\n",
        "\n",
        "  for index_i, i in features_table.iterrows():\n",
        "    for index_j, j in features_table.iterrows():\n",
        "      if index_i != index_j:           # Tutaj jest różnica - nie ma \">\" jest za to != tak aby uzyskać symetryczną tablicę \n",
        "        tmp_entity = np.zeros(len(reduct))\n",
        "        for idx, x in enumerate(range(0, len(i.values))):\n",
        "          if i[x] != j[x]:\n",
        "            tmp_entity[idx] = True\n",
        "        symetric_discernibility_matrix[int(index_i), int(index_j)] = tmp_entity\n",
        "\n",
        "  return symetric_discernibility_matrix\n",
        "\n",
        "def generate_implicants_matrix(symetric_discernibility_matrix, reduct, features_table):\n",
        "  M_matrix = np.zeros((len(symetric_discernibility_matrix), len(symetric_discernibility_matrix), len(reduct)))\n",
        "\n",
        "  for index_i, i in features_table.iterrows():\n",
        "    for index_j, j in features_table.iterrows():\n",
        "      if i['Decision'] != j['Decision']:\n",
        "        M_matrix[index_i][index_j] = symetric_discernibility_matrix[index_i][index_j]\n",
        "\n",
        "  return M_matrix\n",
        "\n",
        "symetric_discernibility_matrix = generate_symetric_discernibility_matrix(features_table)\n",
        "implicants_matrix = generate_implicants_matrix(symetric_discernibility_matrix, reduct, features_table)"
      ],
      "execution_count": 0,
      "outputs": []
    },
    {
      "metadata": {
        "id": "8RwjX0HkVn3H",
        "colab_type": "text"
      },
      "cell_type": "markdown",
      "source": [
        "## Get Rules"
      ]
    },
    {
      "metadata": {
        "id": "78H6BcKnrFKE",
        "colab_type": "text"
      },
      "cell_type": "markdown",
      "source": [
        "### Functions | Define implicants"
      ]
    },
    {
      "metadata": {
        "id": "71wt0e8aYs60",
        "colab_type": "code",
        "colab": {}
      },
      "cell_type": "code",
      "source": [
        "def get_feature_names(features_table):\n",
        "  feature_names = np.asarray(features_table.columns)[0:-1]\n",
        "\n",
        "  if show_results:\n",
        "    print(feature_names)\n",
        "    \n",
        "  return feature_names\n",
        "\n",
        "def generate_implicants(implicants_matrix, feature_names):\n",
        "  \n",
        "  implicants = []\n",
        "\n",
        "  for index_i, i in enumerate(implicants_matrix):\n",
        "    new_expression = \"\"\n",
        "    for index_j, j in enumerate(i):\n",
        "      new_subexpression = \"(\"\n",
        "      any_value = False\n",
        "      for index_k, k in enumerate(j):\n",
        "        if k == True:\n",
        "          any_value = True\n",
        "          new_subexpression = new_subexpression + feature_names[index_k] + \" | \"\n",
        "      if any_value:\n",
        "        new_subexpression = new_subexpression[:-3] + \")\"\n",
        "        if new_expression != \"\":\n",
        "          new_expression = new_expression + \" & \" + new_subexpression\n",
        "        else:\n",
        "          new_expression = new_subexpression\n",
        "    simplified_implicant = algebra.parse(new_expression).simplify()\n",
        "    implicants.append(simplified_implicant)\n",
        "\n",
        "    if show_results:\n",
        "      print(implicants)\n",
        "    \n",
        "  return implicants\n",
        "\n"
      ],
      "execution_count": 0,
      "outputs": []
    },
    {
      "metadata": {
        "id": "hsMo-r5mY941",
        "colab_type": "text"
      },
      "cell_type": "markdown",
      "source": [
        "### Generate rules from implicants"
      ]
    },
    {
      "metadata": {
        "id": "THO08dGWMiUQ",
        "colab_type": "text"
      },
      "cell_type": "markdown",
      "source": [
        "#### Functions | Generate rules from implicants"
      ]
    },
    {
      "metadata": {
        "id": "gH-FMW8SOZqd",
        "colab_type": "code",
        "colab": {}
      },
      "cell_type": "code",
      "source": [
        "def get_index_of_rules_table(features_table):\n",
        "\n",
        "  rules_table = []\n",
        "  \n",
        "  for x in features_table['Decision'].drop_duplicates():\n",
        "    rules_table.append(features_table.loc[features_table['Decision'] == x].index.tolist())\n",
        "  \n",
        "  if show_results:\n",
        "    print(\"Connection between implicants and rules:\" + str(rules_table))    \n",
        "  \n",
        "  return rules_table\n",
        "  \n",
        "def modify_implicants(elem, implicant_idx):\n",
        "  \n",
        "  if type(elem) == AND:\n",
        "\n",
        "    for idx_x, x in enumerate(elem.args):\n",
        "      if idx_x == 0:\n",
        "        small_rule = modify_implicants(x, implicant_idx)\n",
        "      else:\n",
        "        small_rule = small_rule & modify_implicants(x, implicant_idx)\n",
        "  \n",
        "  if type(elem) == OR:\n",
        "    \n",
        "    for idx_x, x in enumerate(elem.args):\n",
        "      if idx_x == 0:\n",
        "        small_rule = modify_implicants(x, implicant_idx)\n",
        "      else:\n",
        "        small_rule = small_rule | modify_implicants(x, implicant_idx)\n",
        "  \n",
        "  if type(elem) == Symbol:\n",
        "    implicant_column_name = str(elem)\n",
        "    implicant_column_number = str(elem)[1:]\n",
        "    antecedent_part = features[int(implicant_column_number)][features_table.loc[implicant_idx][implicant_column_name]]\n",
        "    return antecedent_part\n",
        "\n",
        "  return small_rule \n",
        "  \n",
        "def modify_implicants_for_rules(implicants):\n",
        "  \n",
        "  new_implicants = []\n",
        "\n",
        "  for idx_i, i in enumerate(implicants):\n",
        "    new_implicants.append(modify_implicants(i, idx_i))\n",
        "\n",
        "  if show_results:\n",
        "    print(new_implicants)\n",
        "\n",
        "  return new_implicants\n",
        "  \n",
        "def generate_rule_antecedents(index_of_rules_table, new_implicants):\n",
        "  \n",
        "  rule_antecedents = []\n",
        "  for x in index_of_rules_table:\n",
        "    for idx, y in enumerate(x):\n",
        "      if idx == 0:\n",
        "        tmp_rule = new_implicants[y]\n",
        "      else:\n",
        "        tmp_rule = tmp_rule | new_implicants[y]\n",
        "    rule_antecedents.append(tmp_rule)\n",
        "  \n",
        "  return rule_antecedents  \n",
        "  \n",
        "def generate_rules(rule_antecedents, d_results):\n",
        "  rules = []\n",
        "  for idx, x in enumerate(rule_antecedents):\n",
        "    rules.append(ctrl.Rule(x, Decision[d_results[idx]]))\n",
        "\n",
        "  return rules  "
      ],
      "execution_count": 0,
      "outputs": []
    },
    {
      "metadata": {
        "id": "eVRlRLmHMm-y",
        "colab_type": "text"
      },
      "cell_type": "markdown",
      "source": [
        "#### Generate rules from implicants"
      ]
    },
    {
      "metadata": {
        "id": "thOK-Lc3Mghr",
        "colab_type": "code",
        "colab": {}
      },
      "cell_type": "code",
      "source": [
        "algebra = boolean.BooleanAlgebra()\n",
        "\n",
        "feature_names = get_feature_names(features_table)\n",
        "implicants = generate_implicants(implicants_matrix, feature_names)\n",
        "index_of_rules_table = get_index_of_rules_table(features_table)\n",
        "new_implicants = modify_implicants_for_rules(implicants)\n",
        "rule_antecedents = generate_rule_antecedents(index_of_rules_table, new_implicants)\n",
        "rules = generate_rules(rule_antecedents, d_results)"
      ],
      "execution_count": 0,
      "outputs": []
    },
    {
      "metadata": {
        "id": "CUucPFxvZRhD",
        "colab_type": "text"
      },
      "cell_type": "markdown",
      "source": [
        "### Make Prediction"
      ]
    },
    {
      "metadata": {
        "id": "LcfU18hzeZma",
        "colab_type": "code",
        "colab": {
          "base_uri": "https://localhost:8080/",
          "height": 299
        },
        "outputId": "30230e3b-181d-4175-be33-1e999e09075f"
      },
      "cell_type": "code",
      "source": [
        "tipping_ctrl = ctrl.ControlSystem([rule1, rule2, rule3])\n",
        "tipping = ctrl.ControlSystemSimulation(tipping_ctrl)\n",
        "\n",
        "tipping.input['F5'] = 0.299489\n",
        "tipping.input['F3'] = 0.122455\n",
        "tipping.input['F2'] = 0.884941\n",
        "tipping.input['F4'] = 0.000000\n",
        "\n",
        "tipping.compute()\n",
        "\n",
        "print(tipping.output['Decision'])\n",
        "Decision.view(sim=tipping)"
      ],
      "execution_count": 376,
      "outputs": [
        {
          "output_type": "stream",
          "text": [
            "0.24727083763721874\n"
          ],
          "name": "stdout"
        },
        {
          "output_type": "display_data",
          "data": {
            "image/png": "[encoded data removed]",
            "text/plain": [
              "<Figure size 432x288 with 1 Axes>"
            ]
          },
          "metadata": {
            "tags": []
          }
        }
      ]
    },
    {
      "metadata": {
        "id": "Bgm7NBfjV_CD",
        "colab_type": "text"
      },
      "cell_type": "markdown",
      "source": [
        "## Transfer Results"
      ]
    },
    {
      "metadata": {
        "id": "3wZ6Z-oVWBZC",
        "colab_type": "text"
      },
      "cell_type": "markdown",
      "source": [
        "### Pickle Data"
      ]
    },
    {
      "metadata": {
        "id": "ib8CyNGBG5v9",
        "colab_type": "code",
        "colab": {}
      },
      "cell_type": "code",
      "source": [
        "pickle.dump( [rule1, rule2, rule3], open( files_folder + rules_file, \"wb\" ) )"
      ],
      "execution_count": 0,
      "outputs": []
    },
    {
      "metadata": {
        "id": "mX9q16F4HE1M",
        "colab_type": "code",
        "colab": {}
      },
      "cell_type": "code",
      "source": [
        "pickle.dump( parameter_names, open( files_folder + reduct_file, \"wb\" ) )"
      ],
      "execution_count": 0,
      "outputs": []
    }
  ]
}