{
 "cells": [
  {
   "cell_type": "code",
   "execution_count": 1,
   "metadata": {
    "ExecuteTime": {
     "end_time": "2019-03-29T05:58:41.178874Z",
     "start_time": "2019-03-29T05:58:41.005875Z"
    }
   },
   "outputs": [],
   "source": [
    "import SettingsImmunotherapy as settings"
   ]
  },
  {
   "cell_type": "markdown",
   "metadata": {},
   "source": [
    "##### Main Notebook - CSV"
   ]
  },
  {
   "cell_type": "code",
   "execution_count": 2,
   "metadata": {
    "ExecuteTime": {
     "end_time": "2019-03-29T05:58:48.725948Z",
     "start_time": "2019-03-29T05:58:41.180873Z"
    }
   },
   "outputs": [
    {
     "name": "stderr",
     "output_type": "stream",
     "text": [
      "20it [00:02,  8.72it/s]\n"
     ]
    },
    {
     "name": "stdout",
     "output_type": "stream",
     "text": [
      "Finished!\n"
     ]
    }
   ],
   "source": [
    "from Scripts.LoadCSV import LoadCSV as LoadCSV\n",
    "\n",
    "loadCSV = LoadCSV()\n",
    "loadCSV.workerCSV(settings.variables)"
   ]
  },
  {
   "cell_type": "markdown",
   "metadata": {},
   "source": [
    "##### Brute Force"
   ]
  },
  {
   "cell_type": "code",
   "execution_count": 3,
   "metadata": {
    "ExecuteTime": {
     "end_time": "2019-03-29T05:58:56.675974Z",
     "start_time": "2019-03-29T05:58:48.728953Z"
    }
   },
   "outputs": [
    {
     "name": "stdout",
     "output_type": "stream",
     "text": [
      "Global minimum: [0.45]\n",
      "Function value at global minimum: 0.11111111111111116\n",
      "Accuracy: 0.8888888888888888\n",
      "Time: 7.717022895812988\n"
     ]
    }
   ],
   "source": [
    "from Scripts.OptimizeBruteForce import OptimizeBruteForce as OptimizeBruteForce\n",
    "\n",
    "optimizeBruteForce = OptimizeBruteForce(settings.variables, settings.constraints, settings.sigma_mean_params)\n",
    "bruteforce_threshold = optimizeBruteForce.worker(settings.variables)"
   ]
  },
  {
   "cell_type": "markdown",
   "metadata": {},
   "source": [
    "##### PSO"
   ]
  },
  {
   "cell_type": "code",
   "execution_count": 4,
   "metadata": {
    "ExecuteTime": {
     "end_time": "2019-03-29T05:59:21.877472Z",
     "start_time": "2019-03-29T05:58:56.677975Z"
    }
   },
   "outputs": [
    {
     "name": "stderr",
     "output_type": "stream",
     "text": [
      "2019-03-29 06:58:57,054 - pyswarms.single.global_best - INFO - Optimize for 20 iters with {'w': 0.9, 'c1': 0.5, 'c2': 0.3}\n",
      "pyswarms.single.global_best: 100%|██████████████████████████████████████████████████████████████|20/20, best_cost=0.111\n",
      "2019-03-29 06:59:21,603 - pyswarms.single.global_best - INFO - Optimization finished | best cost: 0.11111111111111116, best pos: [0.44965105]\n"
     ]
    },
    {
     "name": "stdout",
     "output_type": "stream",
     "text": [
      "Global minimum: [0.44965105]\n",
      "Function value at global minimum: 0.11111111111111116\n",
      "Accuracy: 0.8888888888888888\n",
      "Time: 24.563490629196167\n"
     ]
    },
    {
     "data": {
      "image/png": "[encoded data removed]",
      "text/plain": [
       "<Figure size 720x576 with 1 Axes>"
      ]
     },
     "metadata": {},
     "output_type": "display_data"
    },
    {
     "data": {
      "text/plain": [
       "array([0.44965105])"
      ]
     },
     "execution_count": 4,
     "metadata": {},
     "output_type": "execute_result"
    }
   ],
   "source": [
    "from Scripts.OptimizePSO import OptimizePSO as OptimizePSO\n",
    "\n",
    "optimizePSO = OptimizePSO(settings.variables, settings.swarm_size, settings.dim, settings.epsilon, settings.iters, settings.options, settings.borders, settings.sigma_mean_params)\n",
    "optimizePSO.worker(settings.variables)"
   ]
  },
  {
   "cell_type": "markdown",
   "metadata": {},
   "source": [
    "##### Value Train without optimalization"
   ]
  },
  {
   "cell_type": "code",
   "execution_count": 5,
   "metadata": {
    "ExecuteTime": {
     "end_time": "2019-03-29T05:59:22.194470Z",
     "start_time": "2019-03-29T05:59:21.881468Z"
    }
   },
   "outputs": [
    {
     "name": "stdout",
     "output_type": "stream",
     "text": [
      "Accuracy: 0.7916666666666666\n",
      "Precision: [0.87037037 0.55555556]\n",
      "Recall: [0.85454545 0.58823529]\n",
      "F-Score: [0.86238532 0.57142857]\n",
      "Support: [55 17]\n"
     ]
    }
   ],
   "source": [
    "from Scripts.ValueTrain import ValueTrain as ValueTrain\n",
    "valueTrain = ValueTrain(settings.variables, threshold_value = -1)\n",
    "valueTrain.worker(settings.variables)"
   ]
  },
  {
   "cell_type": "markdown",
   "metadata": {},
   "source": [
    "##### Value Train with optimalization"
   ]
  },
  {
   "cell_type": "code",
   "execution_count": 6,
   "metadata": {
    "ExecuteTime": {
     "end_time": "2019-03-29T05:59:22.430480Z",
     "start_time": "2019-03-29T05:59:22.196472Z"
    }
   },
   "outputs": [
    {
     "name": "stdout",
     "output_type": "stream",
     "text": [
      "Accuracy: 0.8888888888888888\n",
      "Precision: [0.8852459  0.90909091]\n",
      "Recall: [0.98181818 0.58823529]\n",
      "F-Score: [0.93103448 0.71428571]\n",
      "Support: [55 17]\n"
     ]
    }
   ],
   "source": [
    "from Scripts.ValueTrain import ValueTrain as ValueTrain\n",
    "\n",
    "valueTrain = ValueTrain(settings.variables, threshold_value = bruteforce_threshold)\n",
    "valueTrain.worker(settings.variables)"
   ]
  },
  {
   "cell_type": "markdown",
   "metadata": {},
   "source": [
    "##### Value Test without optimalization"
   ]
  },
  {
   "cell_type": "code",
   "execution_count": 7,
   "metadata": {
    "ExecuteTime": {
     "end_time": "2019-03-29T05:59:22.793461Z",
     "start_time": "2019-03-29T05:59:22.431463Z"
    }
   },
   "outputs": [
    {
     "name": "stdout",
     "output_type": "stream",
     "text": [
      "Accuracy: 0.6111111111111112\n",
      "Precision: [0.90909091 0.14285714]\n",
      "Recall: [0.625 0.5  ]\n",
      "F-Score: [0.74074074 0.22222222]\n",
      "Support: [16  2]\n"
     ]
    }
   ],
   "source": [
    "from Scripts.ValueTest import ValueTest as ValueTest\n",
    "\n",
    "valueTest = ValueTest(settings.variables, threshold_value = -1)\n",
    "valueTest.worker(settings.variables)"
   ]
  },
  {
   "cell_type": "markdown",
   "metadata": {},
   "source": [
    "##### Value Test with optimalization"
   ]
  },
  {
   "cell_type": "code",
   "execution_count": 8,
   "metadata": {
    "ExecuteTime": {
     "end_time": "2019-03-29T05:59:23.124480Z",
     "start_time": "2019-03-29T05:59:22.794461Z"
    }
   },
   "outputs": [
    {
     "name": "stdout",
     "output_type": "stream",
     "text": [
      "Accuracy: 0.7777777777777778\n",
      "Precision: [0.875 0.   ]\n",
      "Recall: [0.875 0.   ]\n",
      "F-Score: [0.875 0.   ]\n",
      "Support: [16  2]\n"
     ]
    }
   ],
   "source": [
    "from Scripts.ValueTest import ValueTest as ValueTest\n",
    "\n",
    "valueTest = ValueTest(settings.variables, threshold_value = bruteforce_threshold)\n",
    "valueTest.worker(settings.variables)"
   ]
  },
  {
   "cell_type": "markdown",
   "metadata": {},
   "source": [
    "##### PSO K-Fold"
   ]
  },
  {
   "cell_type": "code",
   "execution_count": 9,
   "metadata": {
    "ExecuteTime": {
     "end_time": "2019-03-29T06:03:03.867747Z",
     "start_time": "2019-03-29T05:59:23.125464Z"
    },
    "scrolled": true
   },
   "outputs": [
    {
     "name": "stderr",
     "output_type": "stream",
     "text": [
      "2019-03-29 06:59:23,312 - pyswarms.single.global_best - INFO - Optimize for 20 iters with {'w': 0.9, 'c1': 0.5, 'c2': 0.3}\n",
      "pyswarms.single.global_best: 100%|█████████████████████████████████████████████████████████████|20/20, best_cost=0.0972\n",
      "2019-03-29 06:59:46,930 - pyswarms.single.global_best - INFO - Optimization finished | best cost: 0.09722222222222221, best pos: [0.44793703]\n"
     ]
    },
    {
     "name": "stdout",
     "output_type": "stream",
     "text": [
      "------------------------------------- Fold 0 --------------------------------------\n",
      "Global minimum: [0.44793703]\n",
      "Train Accuracy: 0.9027777777777778\n",
      "Test Accuracy: 0.875\n",
      "Time: 23.639095067977905\n",
      "-----------------------------------------------------------------------------------\n"
     ]
    },
    {
     "name": "stderr",
     "output_type": "stream",
     "text": [
      "2019-03-29 06:59:46,981 - pyswarms.single.global_best - INFO - Optimize for 20 iters with {'w': 0.9, 'c1': 0.5, 'c2': 0.3}\n",
      "pyswarms.single.global_best: 100%|█████████████████████████████████████████████████████████████|20/20, best_cost=0.0972\n",
      "2019-03-29 07:00:10,181 - pyswarms.single.global_best - INFO - Optimization finished | best cost: 0.09722222222222221, best pos: [0.44793703]\n"
     ]
    },
    {
     "name": "stdout",
     "output_type": "stream",
     "text": [
      "------------------------------------- Fold 1 --------------------------------------\n",
      "Global minimum: [0.44793703]\n",
      "Train Accuracy: 0.9027777777777778\n",
      "Test Accuracy: 1.0\n",
      "Time: 23.224372386932373\n",
      "-----------------------------------------------------------------------------------\n"
     ]
    },
    {
     "name": "stderr",
     "output_type": "stream",
     "text": [
      "2019-03-29 07:00:10,230 - pyswarms.single.global_best - INFO - Optimize for 20 iters with {'w': 0.9, 'c1': 0.5, 'c2': 0.3}\n",
      "pyswarms.single.global_best: 100%|█████████████████████████████████████████████████████████████|20/20, best_cost=0.0972\n",
      "2019-03-29 07:00:32,593 - pyswarms.single.global_best - INFO - Optimization finished | best cost: 0.09722222222222221, best pos: [0.44793703]\n"
     ]
    },
    {
     "name": "stdout",
     "output_type": "stream",
     "text": [
      "------------------------------------- Fold 2 --------------------------------------\n",
      "Global minimum: [0.44793703]\n",
      "Train Accuracy: 0.9027777777777778\n",
      "Test Accuracy: 1.0\n",
      "Time: 22.385084629058838\n",
      "-----------------------------------------------------------------------------------\n"
     ]
    },
    {
     "name": "stderr",
     "output_type": "stream",
     "text": [
      "2019-03-29 07:00:32,639 - pyswarms.single.global_best - INFO - Optimize for 20 iters with {'w': 0.9, 'c1': 0.5, 'c2': 0.3}\n",
      "pyswarms.single.global_best: 100%|█████████████████████████████████████████████████████████████|20/20, best_cost=0.0972\n",
      "2019-03-29 07:00:54,021 - pyswarms.single.global_best - INFO - Optimization finished | best cost: 0.09722222222222221, best pos: [0.44793703]\n"
     ]
    },
    {
     "name": "stdout",
     "output_type": "stream",
     "text": [
      "------------------------------------- Fold 3 --------------------------------------\n",
      "Global minimum: [0.44793703]\n",
      "Train Accuracy: 0.9027777777777778\n",
      "Test Accuracy: 0.75\n",
      "Time: 21.402082681655884\n",
      "-----------------------------------------------------------------------------------\n"
     ]
    },
    {
     "name": "stderr",
     "output_type": "stream",
     "text": [
      "2019-03-29 07:00:54,068 - pyswarms.single.global_best - INFO - Optimize for 20 iters with {'w': 0.9, 'c1': 0.5, 'c2': 0.3}\n",
      "pyswarms.single.global_best: 100%|█████████████████████████████████████████████████████████████|20/20, best_cost=0.0972\n",
      "2019-03-29 07:01:15,529 - pyswarms.single.global_best - INFO - Optimization finished | best cost: 0.09722222222222221, best pos: [0.44793703]\n"
     ]
    },
    {
     "name": "stdout",
     "output_type": "stream",
     "text": [
      "------------------------------------- Fold 4 --------------------------------------\n",
      "Global minimum: [0.44793703]\n",
      "Train Accuracy: 0.9027777777777778\n",
      "Test Accuracy: 0.875\n",
      "Time: 21.48492455482483\n",
      "-----------------------------------------------------------------------------------\n"
     ]
    },
    {
     "name": "stderr",
     "output_type": "stream",
     "text": [
      "2019-03-29 07:01:15,584 - pyswarms.single.global_best - INFO - Optimize for 20 iters with {'w': 0.9, 'c1': 0.5, 'c2': 0.3}\n",
      "pyswarms.single.global_best: 100%|█████████████████████████████████████████████████████████████|20/20, best_cost=0.0972\n",
      "2019-03-29 07:01:37,154 - pyswarms.single.global_best - INFO - Optimization finished | best cost: 0.09722222222222221, best pos: [0.44793703]\n"
     ]
    },
    {
     "name": "stdout",
     "output_type": "stream",
     "text": [
      "------------------------------------- Fold 5 --------------------------------------\n",
      "Global minimum: [0.44793703]\n",
      "Train Accuracy: 0.9027777777777778\n",
      "Test Accuracy: 0.8571428571428571\n",
      "Time: 21.5933256149292\n",
      "-----------------------------------------------------------------------------------\n"
     ]
    },
    {
     "name": "stderr",
     "output_type": "stream",
     "text": [
      "2019-03-29 07:01:37,209 - pyswarms.single.global_best - INFO - Optimize for 20 iters with {'w': 0.9, 'c1': 0.5, 'c2': 0.3}\n",
      "pyswarms.single.global_best: 100%|█████████████████████████████████████████████████████████████|20/20, best_cost=0.0972\n",
      "2019-03-29 07:01:59,092 - pyswarms.single.global_best - INFO - Optimization finished | best cost: 0.09722222222222221, best pos: [0.44793703]\n"
     ]
    },
    {
     "name": "stdout",
     "output_type": "stream",
     "text": [
      "------------------------------------- Fold 6 --------------------------------------\n",
      "Global minimum: [0.44793703]\n",
      "Train Accuracy: 0.9027777777777778\n",
      "Test Accuracy: 0.7142857142857143\n",
      "Time: 21.90611433982849\n",
      "-----------------------------------------------------------------------------------\n"
     ]
    },
    {
     "name": "stderr",
     "output_type": "stream",
     "text": [
      "2019-03-29 07:01:59,149 - pyswarms.single.global_best - INFO - Optimize for 20 iters with {'w': 0.9, 'c1': 0.5, 'c2': 0.3}\n",
      "pyswarms.single.global_best: 100%|█████████████████████████████████████████████████████████████|20/20, best_cost=0.0972\n",
      "2019-03-29 07:02:20,875 - pyswarms.single.global_best - INFO - Optimization finished | best cost: 0.09722222222222221, best pos: [0.44793703]\n"
     ]
    },
    {
     "name": "stdout",
     "output_type": "stream",
     "text": [
      "------------------------------------- Fold 7 --------------------------------------\n",
      "Global minimum: [0.44793703]\n",
      "Train Accuracy: 0.9027777777777778\n",
      "Test Accuracy: 1.0\n",
      "Time: 21.745563745498657\n",
      "-----------------------------------------------------------------------------------\n"
     ]
    },
    {
     "name": "stderr",
     "output_type": "stream",
     "text": [
      "2019-03-29 07:02:20,920 - pyswarms.single.global_best - INFO - Optimize for 20 iters with {'w': 0.9, 'c1': 0.5, 'c2': 0.3}\n",
      "pyswarms.single.global_best: 100%|█████████████████████████████████████████████████████████████|20/20, best_cost=0.0972\n",
      "2019-03-29 07:02:42,711 - pyswarms.single.global_best - INFO - Optimization finished | best cost: 0.09722222222222221, best pos: [0.44793703]\n"
     ]
    },
    {
     "name": "stdout",
     "output_type": "stream",
     "text": [
      "------------------------------------- Fold 8 --------------------------------------\n",
      "Global minimum: [0.44793703]\n",
      "Train Accuracy: 0.9027777777777778\n",
      "Test Accuracy: 1.0\n",
      "Time: 21.809281826019287\n",
      "-----------------------------------------------------------------------------------\n"
     ]
    },
    {
     "name": "stderr",
     "output_type": "stream",
     "text": [
      "2019-03-29 07:02:42,752 - pyswarms.single.global_best - INFO - Optimize for 20 iters with {'w': 0.9, 'c1': 0.5, 'c2': 0.3}\n",
      "pyswarms.single.global_best: 100%|█████████████████████████████████████████████████████████████|20/20, best_cost=0.0972\n",
      "2019-03-29 07:03:03,834 - pyswarms.single.global_best - INFO - Optimization finished | best cost: 0.09722222222222221, best pos: [0.44793703]\n"
     ]
    },
    {
     "name": "stdout",
     "output_type": "stream",
     "text": [
      "------------------------------------- Fold 9 --------------------------------------\n",
      "Global minimum: [0.44793703]\n",
      "Train Accuracy: 0.9027777777777778\n",
      "Test Accuracy: 1.0\n",
      "Time: 21.100443363189697\n",
      "-----------------------------------------------------------------------------------\n"
     ]
    }
   ],
   "source": [
    "from Scripts.OptimizePSOKFold import OptimizePSOKFold as OptimizePSOKFold\n",
    "\n",
    "optimizePSOKFold = OptimizePSOKFold(settings.variables, settings.swarm_size, settings.dim, settings.epsilon, settings.iters, settings.options, settings.borders, settings.sigma_mean_params)\n",
    "optimizePSOKFold.worker(settings.variables)"
   ]
  },
  {
   "cell_type": "markdown",
   "metadata": {},
   "source": [
    "##### Brute Force K-Fold"
   ]
  },
  {
   "cell_type": "code",
   "execution_count": 10,
   "metadata": {
    "ExecuteTime": {
     "end_time": "2019-03-29T06:04:08.316219Z",
     "start_time": "2019-03-29T06:03:03.869748Z"
    }
   },
   "outputs": [
    {
     "name": "stdout",
     "output_type": "stream",
     "text": [
      "------------------------------------- Fold 0 --------------------------------------\n",
      "Global minimum: [0.45]\n",
      "Train Accuracy: 0.890625\n",
      "Test Accuracy: 0.875\n",
      "Time: 7.265695810317993\n",
      "-----------------------------------------------------------------------------------\n",
      "------------------------------------- Fold 1 --------------------------------------\n",
      "Global minimum: [0.45]\n",
      "Train Accuracy: 0.875\n",
      "Test Accuracy: 1.0\n",
      "Time: 6.8537797927856445\n",
      "-----------------------------------------------------------------------------------\n",
      "------------------------------------- Fold 2 --------------------------------------\n",
      "Global minimum: [0.45]\n",
      "Train Accuracy: 0.875\n",
      "Test Accuracy: 1.0\n",
      "Time: 6.360995292663574\n",
      "-----------------------------------------------------------------------------------\n",
      "------------------------------------- Fold 3 --------------------------------------\n",
      "Global minimum: [0.45]\n",
      "Train Accuracy: 0.90625\n",
      "Test Accuracy: 0.75\n",
      "Time: 6.087016344070435\n",
      "-----------------------------------------------------------------------------------\n",
      "------------------------------------- Fold 4 --------------------------------------\n",
      "Global minimum: [0.45]\n",
      "Train Accuracy: 0.890625\n",
      "Test Accuracy: 0.875\n",
      "Time: 6.064982175827026\n",
      "-----------------------------------------------------------------------------------\n",
      "------------------------------------- Fold 5 --------------------------------------\n",
      "Global minimum: [0.45]\n",
      "Train Accuracy: 0.8923076923076924\n",
      "Test Accuracy: 0.8571428571428571\n",
      "Time: 6.613015651702881\n",
      "-----------------------------------------------------------------------------------\n",
      "------------------------------------- Fold 6 --------------------------------------\n",
      "Global minimum: [0.45]\n",
      "Train Accuracy: 0.9230769230769231\n",
      "Test Accuracy: 0.5714285714285714\n",
      "Time: 6.063983678817749\n",
      "-----------------------------------------------------------------------------------\n",
      "------------------------------------- Fold 7 --------------------------------------\n",
      "Global minimum: [0.43]\n",
      "Train Accuracy: 0.8787878787878788\n",
      "Test Accuracy: 0.8333333333333334\n",
      "Time: 6.229001045227051\n",
      "-----------------------------------------------------------------------------------\n",
      "------------------------------------- Fold 8 --------------------------------------\n",
      "Global minimum: [0.43]\n",
      "Train Accuracy: 0.8787878787878788\n",
      "Test Accuracy: 0.8333333333333334\n",
      "Time: 6.282999515533447\n",
      "-----------------------------------------------------------------------------------\n",
      "------------------------------------- Fold 9 --------------------------------------\n",
      "Global minimum: [0.45]\n",
      "Train Accuracy: 0.8787878787878788\n",
      "Test Accuracy: 1.0\n",
      "Time: 6.197011709213257\n",
      "-----------------------------------------------------------------------------------\n"
     ]
    }
   ],
   "source": [
    "from Scripts.OptimizeBruteForceKFold import OptimizeBruteForceKFold as OptimizeBruteForceKFold\n",
    "\n",
    "optimizeBruteForceKFold = OptimizeBruteForceKFold(settings.variables, settings.constraints, settings.sigma_mean_params)\n",
    "optimizeBruteForceKFold.worker(settings.variables)"
   ]
  }
 ],
 "metadata": {
  "kernelspec": {
   "display_name": "Python 3",
   "language": "python",
   "name": "python3"
  },
  "language_info": {
   "codemirror_mode": {
    "name": "ipython",
    "version": 3
   },
   "file_extension": ".py",
   "mimetype": "text/x-python",
   "name": "python",
   "nbconvert_exporter": "python",
   "pygments_lexer": "ipython3",
   "version": "3.5.5"
  }
 },
 "nbformat": 4,
 "nbformat_minor": 2
}
