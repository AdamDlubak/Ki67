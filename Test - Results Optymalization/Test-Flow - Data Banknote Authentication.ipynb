{
 "cells": [
  {
   "cell_type": "code",
   "execution_count": 1,
   "metadata": {
    "ExecuteTime": {
     "end_time": "2019-03-28T23:13:05.566500Z",
     "start_time": "2019-03-28T23:13:05.407507Z"
    }
   },
   "outputs": [],
   "source": [
    "import SettingsDataBanknoteAuthentication as settings"
   ]
  },
  {
   "cell_type": "markdown",
   "metadata": {},
   "source": [
    "##### Main Notebook - CSV"
   ]
  },
  {
   "cell_type": "code",
   "execution_count": 2,
   "metadata": {
    "ExecuteTime": {
     "end_time": "2019-03-28T23:13:17.309213Z",
     "start_time": "2019-03-28T23:13:05.568499Z"
    }
   },
   "outputs": [
    {
     "name": "stderr",
     "output_type": "stream",
     "text": [
      "1it [00:00,  8.70it/s]\n"
     ]
    },
    {
     "name": "stdout",
     "output_type": "stream",
     "text": [
      "Finished!\n"
     ]
    }
   ],
   "source": [
    "from Scripts.LoadCSV import LoadCSV as LoadCSV\n",
    "\n",
    "loadCSV = LoadCSV()\n",
    "loadCSV.workerCSV(settings.variables)"
   ]
  },
  {
   "cell_type": "markdown",
   "metadata": {},
   "source": [
    "##### Brute Force"
   ]
  },
  {
   "cell_type": "code",
   "execution_count": 3,
   "metadata": {
    "ExecuteTime": {
     "end_time": "2019-03-28T23:15:56.729143Z",
     "start_time": "2019-03-28T23:13:17.312213Z"
    }
   },
   "outputs": [
    {
     "name": "stdout",
     "output_type": "stream",
     "text": [
      "Global minimum: [0.49153125]\n",
      "Function value at global minimum: 0.10756608933454881\n",
      "Accuracy: 0.8924339106654512\n",
      "Time: 159.20092129707336\n"
     ]
    }
   ],
   "source": [
    "from Scripts.OptimizeBruteForce import OptimizeBruteForce as OptimizeBruteForce\n",
    "\n",
    "optimizeBruteForce = OptimizeBruteForce(settings.variables, settings.constraints, settings.sigma_mean_params)\n",
    "bruteforce_threshold = optimizeBruteForce.worker(settings.variables)"
   ]
  },
  {
   "cell_type": "markdown",
   "metadata": {},
   "source": [
    "##### PSO"
   ]
  },
  {
   "cell_type": "code",
   "execution_count": 4,
   "metadata": {
    "ExecuteTime": {
     "end_time": "2019-03-28T23:24:09.614558Z",
     "start_time": "2019-03-28T23:15:56.730132Z"
    }
   },
   "outputs": [
    {
     "name": "stderr",
     "output_type": "stream",
     "text": [
      "2019-03-29 00:15:57,202 - pyswarms.single.global_best - INFO - Optimize for 20 iters with {'c2': 0.3, 'c1': 0.5, 'w': 0.9}\n",
      "pyswarms.single.global_best: 100%|██████████████████████████████████████████████████████████████|20/20, best_cost=0.108\n",
      "2019-03-29 00:24:09,304 - pyswarms.single.global_best - INFO - Optimization finished | best cost: 0.10756608933454881, best pos: [0.49147702]\n"
     ]
    },
    {
     "name": "stdout",
     "output_type": "stream",
     "text": [
      "Global minimum: [0.49147702]\n",
      "Function value at global minimum: 0.10756608933454881\n",
      "Accuracy: 0.8924339106654512\n",
      "Time: 492.11543226242065\n"
     ]
    },
    {
     "data": {
      "image/png": "[encoded data removed]",
      "text/plain": [
       "<Figure size 720x576 with 1 Axes>"
      ]
     },
     "metadata": {},
     "output_type": "display_data"
    },
    {
     "data": {
      "text/plain": [
       "array([0.49147702])"
      ]
     },
     "execution_count": 4,
     "metadata": {},
     "output_type": "execute_result"
    }
   ],
   "source": [
    "from Scripts.OptimizePSO import OptimizePSO as OptimizePSO\n",
    "\n",
    "optimizePSO = OptimizePSO(settings.variables, settings.swarm_size, settings.dim, settings.epsilon, settings.iters, settings.options, settings.borders, settings.sigma_mean_params)\n",
    "optimizePSO.worker(settings.variables)"
   ]
  },
  {
   "cell_type": "markdown",
   "metadata": {},
   "source": [
    "##### Value Train without optimalization"
   ]
  },
  {
   "cell_type": "code",
   "execution_count": 5,
   "metadata": {
    "ExecuteTime": {
     "end_time": "2019-03-28T23:24:11.120559Z",
     "start_time": "2019-03-28T23:24:09.617562Z"
    }
   },
   "outputs": [
    {
     "name": "stdout",
     "output_type": "stream",
     "text": [
      "Accuracy: 0.8030993618960802\n",
      "Precision: [0.69886364 0.98982188]\n",
      "Recall: [0.99193548 0.64725458]\n",
      "F-Score: [0.82       0.78269618]\n",
      "Support: [496 601]\n"
     ]
    }
   ],
   "source": [
    "from Scripts.ValueTrain import ValueTrain as ValueTrain\n",
    "valueTrain = ValueTrain(settings.variables, threshold_value = -1)\n",
    "valueTrain.worker(settings.variables)"
   ]
  },
  {
   "cell_type": "markdown",
   "metadata": {},
   "source": [
    "##### Value Train with optimalization"
   ]
  },
  {
   "cell_type": "code",
   "execution_count": 6,
   "metadata": {
    "ExecuteTime": {
     "end_time": "2019-03-28T23:24:12.593559Z",
     "start_time": "2019-03-28T23:24:11.122563Z"
    }
   },
   "outputs": [
    {
     "name": "stdout",
     "output_type": "stream",
     "text": [
      "Accuracy: 0.8924339106654512\n",
      "Precision: [0.84115523 0.94475138]\n",
      "Recall: [0.93951613 0.85357737]\n",
      "F-Score: [0.88761905 0.89685315]\n",
      "Support: [496 601]\n"
     ]
    }
   ],
   "source": [
    "from Scripts.ValueTrain import ValueTrain as ValueTrain\n",
    "\n",
    "valueTrain = ValueTrain(settings.variables, threshold_value = bruteforce_threshold)\n",
    "valueTrain.worker(settings.variables)"
   ]
  },
  {
   "cell_type": "markdown",
   "metadata": {},
   "source": [
    "##### Value Test without optimalization"
   ]
  },
  {
   "cell_type": "code",
   "execution_count": 7,
   "metadata": {
    "ExecuteTime": {
     "end_time": "2019-03-28T23:24:14.015566Z",
     "start_time": "2019-03-28T23:24:12.595560Z"
    }
   },
   "outputs": [
    {
     "name": "stdout",
     "output_type": "stream",
     "text": [
      "Accuracy: 0.7672727272727272\n",
      "Precision: [0.64204545 0.98989899]\n",
      "Recall: [0.99122807 0.60869565]\n",
      "F-Score: [0.77931034 0.75384615]\n",
      "Support: [114 161]\n"
     ]
    }
   ],
   "source": [
    "from Scripts.ValueTest import ValueTest as ValueTest\n",
    "\n",
    "valueTest = ValueTest(settings.variables, threshold_value = -1)\n",
    "valueTest.worker(settings.variables)"
   ]
  },
  {
   "cell_type": "markdown",
   "metadata": {},
   "source": [
    "##### Value Test with optimalization"
   ]
  },
  {
   "cell_type": "code",
   "execution_count": 8,
   "metadata": {
    "ExecuteTime": {
     "end_time": "2019-03-28T23:24:15.423560Z",
     "start_time": "2019-03-28T23:24:14.018564Z"
    }
   },
   "outputs": [
    {
     "name": "stdout",
     "output_type": "stream",
     "text": [
      "Accuracy: 0.8945454545454545\n",
      "Precision: [0.82442748 0.95833333]\n",
      "Recall: [0.94736842 0.85714286]\n",
      "F-Score: [0.88163265 0.90491803]\n",
      "Support: [114 161]\n"
     ]
    }
   ],
   "source": [
    "from Scripts.ValueTest import ValueTest as ValueTest\n",
    "\n",
    "valueTest = ValueTest(settings.variables, threshold_value = bruteforce_threshold)\n",
    "valueTest.worker(settings.variables)"
   ]
  },
  {
   "cell_type": "markdown",
   "metadata": {},
   "source": [
    "##### PSO K-Fold"
   ]
  },
  {
   "cell_type": "code",
   "execution_count": 9,
   "metadata": {
    "ExecuteTime": {
     "end_time": "2019-03-29T00:54:49.919815Z",
     "start_time": "2019-03-28T23:24:15.426562Z"
    },
    "scrolled": true
   },
   "outputs": [
    {
     "name": "stderr",
     "output_type": "stream",
     "text": [
      "2019-03-29 00:24:15,659 - pyswarms.single.global_best - INFO - Optimize for 20 iters with {'c2': 0.3, 'c1': 0.5, 'w': 0.9}\n",
      "pyswarms.single.global_best: 100%|██████████████████████████████████████████████████████████████|20/20, best_cost=0.112\n",
      "2019-03-29 00:32:16,897 - pyswarms.single.global_best - INFO - Optimization finished | best cost: 0.11212397447584321, best pos: [0.4934051]\n"
     ]
    },
    {
     "name": "stdout",
     "output_type": "stream",
     "text": [
      "------------------------------------- Fold 0 --------------------------------------\n",
      "Global minimum: [0.4934051]\n",
      "Train Accuracy: 0.8878760255241568\n",
      "Test Accuracy: 0.9279279279279279\n",
      "Time: 481.37284874916077\n",
      "-----------------------------------------------------------------------------------\n"
     ]
    },
    {
     "name": "stderr",
     "output_type": "stream",
     "text": [
      "2019-03-29 00:32:17,092 - pyswarms.single.global_best - INFO - Optimize for 20 iters with {'c2': 0.3, 'c1': 0.5, 'w': 0.9}\n",
      "pyswarms.single.global_best: 100%|██████████████████████████████████████████████████████████████|20/20, best_cost=0.108\n",
      "2019-03-29 00:42:50,155 - pyswarms.single.global_best - INFO - Optimization finished | best cost: 0.10756608933454881, best pos: [0.49067239]\n"
     ]
    },
    {
     "name": "stdout",
     "output_type": "stream",
     "text": [
      "------------------------------------- Fold 1 --------------------------------------\n",
      "Global minimum: [0.49067239]\n",
      "Train Accuracy: 0.8924339106654512\n",
      "Test Accuracy: 0.9181818181818182\n",
      "Time: 633.2784566879272\n",
      "-----------------------------------------------------------------------------------\n"
     ]
    },
    {
     "name": "stderr",
     "output_type": "stream",
     "text": [
      "2019-03-29 00:42:50,427 - pyswarms.single.global_best - INFO - Optimize for 20 iters with {'c2': 0.3, 'c1': 0.5, 'w': 0.9}\n",
      "pyswarms.single.global_best: 100%|██████████████████████████████████████████████████████████████|20/20, best_cost=0.108\n",
      "2019-03-29 00:56:18,420 - pyswarms.single.global_best - INFO - Optimization finished | best cost: 0.10756608933454881, best pos: [0.49067239]\n"
     ]
    },
    {
     "name": "stdout",
     "output_type": "stream",
     "text": [
      "------------------------------------- Fold 2 --------------------------------------\n",
      "Global minimum: [0.49067239]\n",
      "Train Accuracy: 0.8924339106654512\n",
      "Test Accuracy: 0.9181818181818182\n",
      "Time: 808.1472735404968\n",
      "-----------------------------------------------------------------------------------\n"
     ]
    },
    {
     "name": "stderr",
     "output_type": "stream",
     "text": [
      "2019-03-29 00:56:18,616 - pyswarms.single.global_best - INFO - Optimize for 20 iters with {'c2': 0.3, 'c1': 0.5, 'w': 0.9}\n",
      "pyswarms.single.global_best: 100%|██████████████████████████████████████████████████████████████|20/20, best_cost=0.107\n",
      "2019-03-29 01:06:33,911 - pyswarms.single.global_best - INFO - Optimization finished | best cost: 0.10665451230628986, best pos: [0.49116833]\n"
     ]
    },
    {
     "name": "stdout",
     "output_type": "stream",
     "text": [
      "------------------------------------- Fold 3 --------------------------------------\n",
      "Global minimum: [0.49116833]\n",
      "Train Accuracy: 0.8933454876937101\n",
      "Test Accuracy: 0.9090909090909091\n",
      "Time: 615.4287633895874\n",
      "-----------------------------------------------------------------------------------\n"
     ]
    },
    {
     "name": "stderr",
     "output_type": "stream",
     "text": [
      "2019-03-29 01:06:34,078 - pyswarms.single.global_best - INFO - Optimize for 20 iters with {'c2': 0.3, 'c1': 0.5, 'w': 0.9}\n",
      "pyswarms.single.global_best: 100%|██████████████████████████████████████████████████████████████|20/20, best_cost=0.107\n",
      "2019-03-29 01:14:51,910 - pyswarms.single.global_best - INFO - Optimization finished | best cost: 0.10665451230628986, best pos: [0.49116833]\n"
     ]
    },
    {
     "name": "stdout",
     "output_type": "stream",
     "text": [
      "------------------------------------- Fold 4 --------------------------------------\n",
      "Global minimum: [0.49116833]\n",
      "Train Accuracy: 0.8933454876937101\n",
      "Test Accuracy: 0.9272727272727272\n",
      "Time: 497.9729976654053\n",
      "-----------------------------------------------------------------------------------\n"
     ]
    },
    {
     "name": "stderr",
     "output_type": "stream",
     "text": [
      "2019-03-29 01:14:52,076 - pyswarms.single.global_best - INFO - Optimize for 20 iters with {'c2': 0.3, 'c1': 0.5, 'w': 0.9}\n",
      "pyswarms.single.global_best: 100%|██████████████████████████████████████████████████████████████|20/20, best_cost=0.107\n",
      "2019-03-29 01:23:00,421 - pyswarms.single.global_best - INFO - Optimization finished | best cost: 0.10665451230628986, best pos: [0.49116833]\n"
     ]
    },
    {
     "name": "stdout",
     "output_type": "stream",
     "text": [
      "------------------------------------- Fold 5 --------------------------------------\n",
      "Global minimum: [0.49116833]\n",
      "Train Accuracy: 0.8933454876937101\n",
      "Test Accuracy: 0.8818181818181818\n",
      "Time: 488.4739944934845\n",
      "-----------------------------------------------------------------------------------\n"
     ]
    },
    {
     "name": "stderr",
     "output_type": "stream",
     "text": [
      "2019-03-29 01:23:00,581 - pyswarms.single.global_best - INFO - Optimize for 20 iters with {'c2': 0.3, 'c1': 0.5, 'w': 0.9}\n",
      "pyswarms.single.global_best: 100%|██████████████████████████████████████████████████████████████|20/20, best_cost=0.107\n",
      "2019-03-29 01:31:00,050 - pyswarms.single.global_best - INFO - Optimization finished | best cost: 0.10665451230628986, best pos: [0.49116833]\n"
     ]
    },
    {
     "name": "stdout",
     "output_type": "stream",
     "text": [
      "------------------------------------- Fold 6 --------------------------------------\n",
      "Global minimum: [0.49116833]\n",
      "Train Accuracy: 0.8933454876937101\n",
      "Test Accuracy: 0.8899082568807339\n",
      "Time: 479.5879924297333\n",
      "-----------------------------------------------------------------------------------\n"
     ]
    },
    {
     "name": "stderr",
     "output_type": "stream",
     "text": [
      "2019-03-29 01:31:00,207 - pyswarms.single.global_best - INFO - Optimize for 20 iters with {'c2': 0.3, 'c1': 0.5, 'w': 0.9}\n",
      "pyswarms.single.global_best: 100%|██████████████████████████████████████████████████████████████|20/20, best_cost=0.107\n",
      "2019-03-29 01:39:00,054 - pyswarms.single.global_best - INFO - Optimization finished | best cost: 0.10665451230628986, best pos: [0.49116833]\n"
     ]
    },
    {
     "name": "stdout",
     "output_type": "stream",
     "text": [
      "------------------------------------- Fold 7 --------------------------------------\n",
      "Global minimum: [0.49116833]\n",
      "Train Accuracy: 0.8933454876937101\n",
      "Test Accuracy: 0.8990825688073395\n",
      "Time: 479.9739980697632\n",
      "-----------------------------------------------------------------------------------\n"
     ]
    },
    {
     "name": "stderr",
     "output_type": "stream",
     "text": [
      "2019-03-29 01:39:00,210 - pyswarms.single.global_best - INFO - Optimize for 20 iters with {'c2': 0.3, 'c1': 0.5, 'w': 0.9}\n",
      "pyswarms.single.global_best: 100%|██████████████████████████████████████████████████████████████|20/20, best_cost=0.107\n",
      "2019-03-29 01:46:54,343 - pyswarms.single.global_best - INFO - Optimization finished | best cost: 0.10665451230628986, best pos: [0.49116833]\n"
     ]
    },
    {
     "name": "stdout",
     "output_type": "stream",
     "text": [
      "------------------------------------- Fold 8 --------------------------------------\n",
      "Global minimum: [0.49116833]\n",
      "Train Accuracy: 0.8933454876937101\n",
      "Test Accuracy: 0.8440366972477065\n",
      "Time: 474.2719600200653\n",
      "-----------------------------------------------------------------------------------\n"
     ]
    },
    {
     "name": "stderr",
     "output_type": "stream",
     "text": [
      "2019-03-29 01:46:54,512 - pyswarms.single.global_best - INFO - Optimize for 20 iters with {'c2': 0.3, 'c1': 0.5, 'w': 0.9}\n",
      "pyswarms.single.global_best: 100%|██████████████████████████████████████████████████████████████|20/20, best_cost=0.107\n",
      "2019-03-29 01:54:49,757 - pyswarms.single.global_best - INFO - Optimization finished | best cost: 0.10665451230628986, best pos: [0.49116833]\n"
     ]
    },
    {
     "name": "stdout",
     "output_type": "stream",
     "text": [
      "------------------------------------- Fold 9 --------------------------------------\n",
      "Global minimum: [0.49116833]\n",
      "Train Accuracy: 0.8933454876937101\n",
      "Test Accuracy: 0.8165137614678899\n",
      "Time: 475.3819601535797\n",
      "-----------------------------------------------------------------------------------\n"
     ]
    }
   ],
   "source": [
    "from Scripts.OptimizePSOKFold import OptimizePSOKFold as OptimizePSOKFold\n",
    "\n",
    "optimizePSOKFold = OptimizePSOKFold(settings.variables, settings.swarm_size, settings.dim, settings.epsilon, settings.iters, settings.options, settings.borders, settings.sigma_mean_params)\n",
    "optimizePSOKFold.worker(settings.variables)"
   ]
  },
  {
   "cell_type": "markdown",
   "metadata": {},
   "source": [
    "##### Brute Force K-Fold"
   ]
  },
  {
   "cell_type": "code",
   "execution_count": 10,
   "metadata": {
    "ExecuteTime": {
     "end_time": "2019-03-29T01:16:28.576926Z",
     "start_time": "2019-03-29T00:54:49.922816Z"
    }
   },
   "outputs": [
    {
     "name": "stdout",
     "output_type": "stream",
     "text": [
      "------------------------------------- Fold 0 --------------------------------------\n",
      "Global minimum: [0.49076562]\n",
      "Train Accuracy: 0.8884381338742393\n",
      "Test Accuracy: 0.9279279279279279\n",
      "Time: 129.17434787750244\n",
      "-----------------------------------------------------------------------------------\n",
      "------------------------------------- Fold 1 --------------------------------------\n",
      "Global minimum: [0.49]\n",
      "Train Accuracy: 0.889564336372847\n",
      "Test Accuracy: 0.8909090909090909\n",
      "Time: 128.07439970970154\n",
      "-----------------------------------------------------------------------------------\n",
      "------------------------------------- Fold 2 --------------------------------------\n",
      "Global minimum: [0.49153125]\n",
      "Train Accuracy: 0.8915906788247214\n",
      "Test Accuracy: 0.9\n",
      "Time: 127.52746558189392\n",
      "-----------------------------------------------------------------------------------\n",
      "------------------------------------- Fold 3 --------------------------------------\n",
      "Global minimum: [0.49153125]\n",
      "Train Accuracy: 0.8915906788247214\n",
      "Test Accuracy: 0.9\n",
      "Time: 127.47145056724548\n",
      "-----------------------------------------------------------------------------------\n",
      "------------------------------------- Fold 4 --------------------------------------\n",
      "Global minimum: [0.49153125]\n",
      "Train Accuracy: 0.889564336372847\n",
      "Test Accuracy: 0.9181818181818182\n",
      "Time: 130.7691342830658\n",
      "-----------------------------------------------------------------------------------\n",
      "------------------------------------- Fold 5 --------------------------------------\n",
      "Global minimum: [0.49076562]\n",
      "Train Accuracy: 0.8936170212765957\n",
      "Test Accuracy: 0.8818181818181818\n",
      "Time: 127.39046573638916\n",
      "-----------------------------------------------------------------------------------\n",
      "------------------------------------- Fold 6 --------------------------------------\n",
      "Global minimum: [0.49076562]\n",
      "Train Accuracy: 0.8937246963562753\n",
      "Test Accuracy: 0.8807339449541285\n",
      "Time: 132.30297875404358\n",
      "-----------------------------------------------------------------------------------\n",
      "------------------------------------- Fold 7 --------------------------------------\n",
      "Global minimum: [0.49153125]\n",
      "Train Accuracy: 0.8917004048582996\n",
      "Test Accuracy: 0.8990825688073395\n",
      "Time: 129.91921639442444\n",
      "-----------------------------------------------------------------------------------\n",
      "------------------------------------- Fold 8 --------------------------------------\n",
      "Global minimum: [0.49153125]\n",
      "Train Accuracy: 0.8977732793522267\n",
      "Test Accuracy: 0.8440366972477065\n",
      "Time: 129.8182511329651\n",
      "-----------------------------------------------------------------------------------\n",
      "------------------------------------- Fold 9 --------------------------------------\n",
      "Global minimum: [0.49153125]\n",
      "Train Accuracy: 0.9008097165991903\n",
      "Test Accuracy: 0.8165137614678899\n",
      "Time: 135.6444525718689\n",
      "-----------------------------------------------------------------------------------\n"
     ]
    }
   ],
   "source": [
    "from Scripts.OptimizeBruteForceKFold import OptimizeBruteForceKFold as OptimizeBruteForceKFold\n",
    "\n",
    "optimizeBruteForceKFold = OptimizeBruteForceKFold(settings.variables, settings.constraints, settings.sigma_mean_params)\n",
    "optimizeBruteForceKFold.worker(settings.variables)"
   ]
  }
 ],
 "metadata": {
  "kernelspec": {
   "display_name": "Python 3",
   "language": "python",
   "name": "python3"
  },
  "language_info": {
   "codemirror_mode": {
    "name": "ipython",
    "version": 3
   },
   "file_extension": ".py",
   "mimetype": "text/x-python",
   "name": "python",
   "nbconvert_exporter": "python",
   "pygments_lexer": "ipython3",
   "version": "3.5.5"
  }
 },
 "nbformat": 4,
 "nbformat_minor": 2
}
