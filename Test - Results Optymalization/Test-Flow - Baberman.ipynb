{
 "cells": [
  {
   "cell_type": "code",
   "execution_count": 1,
   "metadata": {
    "ExecuteTime": {
     "end_time": "2019-03-28T23:17:48.918530Z",
     "start_time": "2019-03-28T23:17:48.756529Z"
    }
   },
   "outputs": [],
   "source": [
    "import SettingsBaberman as settings"
   ]
  },
  {
   "cell_type": "markdown",
   "metadata": {},
   "source": [
    "##### Main Notebook - CSV"
   ]
  },
  {
   "cell_type": "code",
   "execution_count": 2,
   "metadata": {
    "ExecuteTime": {
     "end_time": "2019-03-28T23:17:54.787526Z",
     "start_time": "2019-03-28T23:17:48.923529Z"
    }
   },
   "outputs": [
    {
     "name": "stderr",
     "output_type": "stream",
     "text": [
      "3it [00:00, 10.45it/s]\n"
     ]
    },
    {
     "name": "stdout",
     "output_type": "stream",
     "text": [
      "Finished!\n"
     ]
    }
   ],
   "source": [
    "from Scripts.LoadCSV import LoadCSV as LoadCSV\n",
    "\n",
    "loadCSV = LoadCSV()\n",
    "loadCSV.workerCSV(settings.variables)"
   ]
  },
  {
   "cell_type": "markdown",
   "metadata": {},
   "source": [
    "##### Brute Force"
   ]
  },
  {
   "cell_type": "code",
   "execution_count": 3,
   "metadata": {
    "ExecuteTime": {
     "end_time": "2019-03-28T23:18:36.890765Z",
     "start_time": "2019-03-28T23:17:54.791528Z"
    }
   },
   "outputs": [
    {
     "name": "stdout",
     "output_type": "stream",
     "text": [
      "Global minimum: [0.29]\n",
      "Function value at global minimum: 0.25409836065573765\n",
      "Accuracy: 0.7459016393442623\n",
      "Time: 41.76923990249634\n"
     ]
    }
   ],
   "source": [
    "from Scripts.OptimizeBruteForce import OptimizeBruteForce as OptimizeBruteForce\n",
    "\n",
    "optimizeBruteForce = OptimizeBruteForce(settings.variables, settings.constraints, settings.sigma_mean_params)\n",
    "bruteforce_threshold = optimizeBruteForce.worker(settings.variables)"
   ]
  },
  {
   "cell_type": "markdown",
   "metadata": {},
   "source": [
    "##### PSO"
   ]
  },
  {
   "cell_type": "code",
   "execution_count": 4,
   "metadata": {
    "ExecuteTime": {
     "end_time": "2019-03-28T23:20:37.113277Z",
     "start_time": "2019-03-28T23:18:36.893763Z"
    }
   },
   "outputs": [
    {
     "name": "stderr",
     "output_type": "stream",
     "text": [
      "2019-03-29 00:18:37,397 - pyswarms.single.global_best - INFO - Optimize for 20 iters with {'c1': 0.5, 'c2': 0.3, 'w': 0.9}\n",
      "pyswarms.single.global_best: 100%|██████████████████████████████████████████████████████████████|20/20, best_cost=0.254\n",
      "2019-03-29 00:20:36,779 - pyswarms.single.global_best - INFO - Optimization finished | best cost: 0.25409836065573765, best pos: [0.4248371]\n"
     ]
    },
    {
     "name": "stdout",
     "output_type": "stream",
     "text": [
      "Global minimum: [0.4248371]\n",
      "Function value at global minimum: 0.25409836065573765\n",
      "Accuracy: 0.7459016393442623\n",
      "Time: 119.39640831947327\n"
     ]
    },
    {
     "data": {
      "image/png": "[encoded data removed]",
      "text/plain": [
       "<Figure size 720x576 with 1 Axes>"
      ]
     },
     "metadata": {},
     "output_type": "display_data"
    },
    {
     "data": {
      "text/plain": [
       "array([0.4248371])"
      ]
     },
     "execution_count": 4,
     "metadata": {},
     "output_type": "execute_result"
    }
   ],
   "source": [
    "from Scripts.OptimizePSO import OptimizePSO as OptimizePSO\n",
    "\n",
    "optimizePSO = OptimizePSO(settings.variables, settings.swarm_size, settings.dim, settings.epsilon, settings.iters, settings.options, settings.borders, settings.sigma_mean_params)\n",
    "optimizePSO.worker(settings.variables)"
   ]
  },
  {
   "cell_type": "markdown",
   "metadata": {},
   "source": [
    "##### Value Train without optimalization"
   ]
  },
  {
   "cell_type": "code",
   "execution_count": 5,
   "metadata": {
    "ExecuteTime": {
     "end_time": "2019-03-28T23:20:37.766304Z",
     "start_time": "2019-03-28T23:20:37.115278Z"
    }
   },
   "outputs": [
    {
     "name": "stdout",
     "output_type": "stream",
     "text": [
      "Accuracy: 0.7295081967213115\n",
      "Precision: [0.42105263 0.75555556]\n",
      "Recall: [0.12698413 0.93922652]\n",
      "F-Score: [0.19512195 0.83743842]\n",
      "Support: [ 63 181]\n"
     ]
    }
   ],
   "source": [
    "from Scripts.ValueTrain import ValueTrain as ValueTrain\n",
    "valueTrain = ValueTrain(settings.variables, threshold_value = -1)\n",
    "valueTrain.worker(settings.variables)"
   ]
  },
  {
   "cell_type": "markdown",
   "metadata": {},
   "source": [
    "##### Value Train with optimalization"
   ]
  },
  {
   "cell_type": "code",
   "execution_count": 6,
   "metadata": {
    "ExecuteTime": {
     "end_time": "2019-03-28T23:20:38.355321Z",
     "start_time": "2019-03-28T23:20:37.768308Z"
    }
   },
   "outputs": [
    {
     "name": "stdout",
     "output_type": "stream",
     "text": [
      "Accuracy: 0.7459016393442623\n",
      "Precision: [0.66666667 0.74688797]\n",
      "Recall: [0.03174603 0.99447514]\n",
      "F-Score: [0.06060606 0.85308057]\n",
      "Support: [ 63 181]\n"
     ]
    }
   ],
   "source": [
    "from Scripts.ValueTrain import ValueTrain as ValueTrain\n",
    "\n",
    "valueTrain = ValueTrain(settings.variables, threshold_value = bruteforce_threshold)\n",
    "valueTrain.worker(settings.variables)"
   ]
  },
  {
   "cell_type": "markdown",
   "metadata": {},
   "source": [
    "##### Value Test without optimalization"
   ]
  },
  {
   "cell_type": "code",
   "execution_count": 7,
   "metadata": {
    "ExecuteTime": {
     "end_time": "2019-03-28T23:20:38.868309Z",
     "start_time": "2019-03-28T23:20:38.357311Z"
    }
   },
   "outputs": [
    {
     "name": "stdout",
     "output_type": "stream",
     "text": [
      "Accuracy: 0.7258064516129032\n",
      "Precision: [0.6        0.73684211]\n",
      "Recall: [0.16666667 0.95454545]\n",
      "F-Score: [0.26086957 0.83168317]\n",
      "Support: [18 44]\n"
     ]
    }
   ],
   "source": [
    "from Scripts.ValueTest import ValueTest as ValueTest\n",
    "\n",
    "valueTest = ValueTest(settings.variables, threshold_value = -1)\n",
    "valueTest.worker(settings.variables)"
   ]
  },
  {
   "cell_type": "markdown",
   "metadata": {},
   "source": [
    "##### Value Test with optimalization"
   ]
  },
  {
   "cell_type": "code",
   "execution_count": 8,
   "metadata": {
    "ExecuteTime": {
     "end_time": "2019-03-28T23:20:39.424376Z",
     "start_time": "2019-03-28T23:20:38.870309Z"
    }
   },
   "outputs": [
    {
     "name": "stdout",
     "output_type": "stream",
     "text": [
      "Accuracy: 0.7096774193548387\n",
      "Precision: [0.5        0.71666667]\n",
      "Recall: [0.05555556 0.97727273]\n",
      "F-Score: [0.1        0.82692308]\n",
      "Support: [18 44]\n"
     ]
    }
   ],
   "source": [
    "from Scripts.ValueTest import ValueTest as ValueTest\n",
    "\n",
    "valueTest = ValueTest(settings.variables, threshold_value = bruteforce_threshold)\n",
    "valueTest.worker(settings.variables)"
   ]
  },
  {
   "cell_type": "markdown",
   "metadata": {},
   "source": [
    "##### PSO K-Fold"
   ]
  },
  {
   "cell_type": "code",
   "execution_count": 9,
   "metadata": {
    "ExecuteTime": {
     "end_time": "2019-03-28T23:42:48.809870Z",
     "start_time": "2019-03-28T23:20:39.428376Z"
    },
    "scrolled": true
   },
   "outputs": [
    {
     "name": "stderr",
     "output_type": "stream",
     "text": [
      "2019-03-29 00:20:39,708 - pyswarms.single.global_best - INFO - Optimize for 20 iters with {'c1': 0.5, 'c2': 0.3, 'w': 0.9}\n",
      "pyswarms.single.global_best: 100%|██████████████████████████████████████████████████████████████|20/20, best_cost=0.254\n",
      "2019-03-29 00:22:34,071 - pyswarms.single.global_best - INFO - Optimization finished | best cost: 0.25409836065573765, best pos: [0.43600925]\n"
     ]
    },
    {
     "name": "stdout",
     "output_type": "stream",
     "text": [
      "------------------------------------- Fold 0 --------------------------------------\n",
      "Global minimum: [0.43600925]\n",
      "Train Accuracy: 0.7459016393442623\n",
      "Test Accuracy: 0.7307692307692307\n",
      "Time: 114.41518926620483\n",
      "-----------------------------------------------------------------------------------\n"
     ]
    },
    {
     "name": "stderr",
     "output_type": "stream",
     "text": [
      "2019-03-29 00:22:34,151 - pyswarms.single.global_best - INFO - Optimize for 20 iters with {'c1': 0.5, 'c2': 0.3, 'w': 0.9}\n",
      "pyswarms.single.global_best: 100%|██████████████████████████████████████████████████████████████|20/20, best_cost=0.254\n",
      "2019-03-29 00:24:30,769 - pyswarms.single.global_best - INFO - Optimization finished | best cost: 0.25409836065573765, best pos: [0.43600925]\n"
     ]
    },
    {
     "name": "stdout",
     "output_type": "stream",
     "text": [
      "------------------------------------- Fold 1 --------------------------------------\n",
      "Global minimum: [0.43600925]\n",
      "Train Accuracy: 0.7459016393442623\n",
      "Test Accuracy: 0.72\n",
      "Time: 116.65800023078918\n",
      "-----------------------------------------------------------------------------------\n"
     ]
    },
    {
     "name": "stderr",
     "output_type": "stream",
     "text": [
      "2019-03-29 00:24:30,845 - pyswarms.single.global_best - INFO - Optimize for 20 iters with {'c1': 0.5, 'c2': 0.3, 'w': 0.9}\n",
      "pyswarms.single.global_best: 100%|██████████████████████████████████████████████████████████████|20/20, best_cost=0.254\n",
      "2019-03-29 00:26:28,107 - pyswarms.single.global_best - INFO - Optimization finished | best cost: 0.25409836065573765, best pos: [0.43600925]\n"
     ]
    },
    {
     "name": "stdout",
     "output_type": "stream",
     "text": [
      "------------------------------------- Fold 2 --------------------------------------\n",
      "Global minimum: [0.43600925]\n",
      "Train Accuracy: 0.7459016393442623\n",
      "Test Accuracy: 0.72\n",
      "Time: 117.3050148487091\n",
      "-----------------------------------------------------------------------------------\n"
     ]
    },
    {
     "name": "stderr",
     "output_type": "stream",
     "text": [
      "2019-03-29 00:26:28,183 - pyswarms.single.global_best - INFO - Optimize for 20 iters with {'c1': 0.5, 'c2': 0.3, 'w': 0.9}\n",
      "pyswarms.single.global_best: 100%|██████████████████████████████████████████████████████████████|20/20, best_cost=0.254\n",
      "2019-03-29 00:28:19,528 - pyswarms.single.global_best - INFO - Optimization finished | best cost: 0.25409836065573765, best pos: [0.43600925]\n"
     ]
    },
    {
     "name": "stdout",
     "output_type": "stream",
     "text": [
      "------------------------------------- Fold 3 --------------------------------------\n",
      "Global minimum: [0.43600925]\n",
      "Train Accuracy: 0.7459016393442623\n",
      "Test Accuracy: 0.75\n",
      "Time: 111.38398289680481\n",
      "-----------------------------------------------------------------------------------\n"
     ]
    },
    {
     "name": "stderr",
     "output_type": "stream",
     "text": [
      "2019-03-29 00:28:19,596 - pyswarms.single.global_best - INFO - Optimize for 20 iters with {'c1': 0.5, 'c2': 0.3, 'w': 0.9}\n",
      "pyswarms.single.global_best: 100%|██████████████████████████████████████████████████████████████|20/20, best_cost=0.254\n",
      "2019-03-29 00:30:25,033 - pyswarms.single.global_best - INFO - Optimization finished | best cost: 0.25409836065573765, best pos: [0.43600925]\n"
     ]
    },
    {
     "name": "stdout",
     "output_type": "stream",
     "text": [
      "------------------------------------- Fold 4 --------------------------------------\n",
      "Global minimum: [0.43600925]\n",
      "Train Accuracy: 0.7459016393442623\n",
      "Test Accuracy: 0.75\n",
      "Time: 125.49335289001465\n",
      "-----------------------------------------------------------------------------------\n"
     ]
    },
    {
     "name": "stderr",
     "output_type": "stream",
     "text": [
      "2019-03-29 00:30:25,138 - pyswarms.single.global_best - INFO - Optimize for 20 iters with {'c1': 0.5, 'c2': 0.3, 'w': 0.9}\n",
      "pyswarms.single.global_best: 100%|██████████████████████████████████████████████████████████████|20/20, best_cost=0.254\n",
      "2019-03-29 00:32:25,526 - pyswarms.single.global_best - INFO - Optimization finished | best cost: 0.25409836065573765, best pos: [0.43600925]\n"
     ]
    },
    {
     "name": "stdout",
     "output_type": "stream",
     "text": [
      "------------------------------------- Fold 5 --------------------------------------\n",
      "Global minimum: [0.43600925]\n",
      "Train Accuracy: 0.7459016393442623\n",
      "Test Accuracy: 0.7916666666666666\n",
      "Time: 120.43649363517761\n",
      "-----------------------------------------------------------------------------------\n"
     ]
    },
    {
     "name": "stderr",
     "output_type": "stream",
     "text": [
      "2019-03-29 00:32:25,601 - pyswarms.single.global_best - INFO - Optimize for 20 iters with {'c1': 0.5, 'c2': 0.3, 'w': 0.9}\n",
      "pyswarms.single.global_best: 100%|██████████████████████████████████████████████████████████████|20/20, best_cost=0.254\n",
      "2019-03-29 00:34:27,603 - pyswarms.single.global_best - INFO - Optimization finished | best cost: 0.25409836065573765, best pos: [0.43600925]\n"
     ]
    },
    {
     "name": "stdout",
     "output_type": "stream",
     "text": [
      "------------------------------------- Fold 6 --------------------------------------\n",
      "Global minimum: [0.43600925]\n",
      "Train Accuracy: 0.7459016393442623\n",
      "Test Accuracy: 0.75\n",
      "Time: 122.04255747795105\n",
      "-----------------------------------------------------------------------------------\n"
     ]
    },
    {
     "name": "stderr",
     "output_type": "stream",
     "text": [
      "2019-03-29 00:34:27,678 - pyswarms.single.global_best - INFO - Optimize for 20 iters with {'c1': 0.5, 'c2': 0.3, 'w': 0.9}\n",
      "pyswarms.single.global_best: 100%|██████████████████████████████████████████████████████████████|20/20, best_cost=0.254\n",
      "2019-03-29 00:36:42,492 - pyswarms.single.global_best - INFO - Optimization finished | best cost: 0.25409836065573765, best pos: [0.43600925]\n"
     ]
    },
    {
     "name": "stdout",
     "output_type": "stream",
     "text": [
      "------------------------------------- Fold 7 --------------------------------------\n",
      "Global minimum: [0.43600925]\n",
      "Train Accuracy: 0.7459016393442623\n",
      "Test Accuracy: 0.75\n",
      "Time: 134.88378381729126\n",
      "-----------------------------------------------------------------------------------\n"
     ]
    },
    {
     "name": "stderr",
     "output_type": "stream",
     "text": [
      "2019-03-29 00:36:42,626 - pyswarms.single.global_best - INFO - Optimize for 20 iters with {'c1': 0.5, 'c2': 0.3, 'w': 0.9}\n",
      "pyswarms.single.global_best: 100%|██████████████████████████████████████████████████████████████|20/20, best_cost=0.254\n",
      "2019-03-29 00:39:37,757 - pyswarms.single.global_best - INFO - Optimization finished | best cost: 0.25409836065573765, best pos: [0.43600925]\n"
     ]
    },
    {
     "name": "stdout",
     "output_type": "stream",
     "text": [
      "------------------------------------- Fold 8 --------------------------------------\n",
      "Global minimum: [0.43600925]\n",
      "Train Accuracy: 0.7459016393442623\n",
      "Test Accuracy: 0.75\n",
      "Time: 175.1941614151001\n",
      "-----------------------------------------------------------------------------------\n"
     ]
    },
    {
     "name": "stderr",
     "output_type": "stream",
     "text": [
      "2019-03-29 00:39:37,856 - pyswarms.single.global_best - INFO - Optimize for 20 iters with {'c1': 0.5, 'c2': 0.3, 'w': 0.9}\n",
      "pyswarms.single.global_best: 100%|██████████████████████████████████████████████████████████████|20/20, best_cost=0.254\n",
      "2019-03-29 00:42:48,710 - pyswarms.single.global_best - INFO - Optimization finished | best cost: 0.25409836065573765, best pos: [0.43600925]\n"
     ]
    },
    {
     "name": "stdout",
     "output_type": "stream",
     "text": [
      "------------------------------------- Fold 9 --------------------------------------\n",
      "Global minimum: [0.43600925]\n",
      "Train Accuracy: 0.7459016393442623\n",
      "Test Accuracy: 0.75\n",
      "Time: 190.92195081710815\n",
      "-----------------------------------------------------------------------------------\n"
     ]
    }
   ],
   "source": [
    "from Scripts.OptimizePSOKFold import OptimizePSOKFold as OptimizePSOKFold\n",
    "\n",
    "optimizePSOKFold = OptimizePSOKFold(settings.variables, settings.swarm_size, settings.dim, settings.epsilon, settings.iters, settings.options, settings.borders, settings.sigma_mean_params)\n",
    "optimizePSOKFold.worker(settings.variables)"
   ]
  },
  {
   "cell_type": "markdown",
   "metadata": {},
   "source": [
    "##### Brute Force K-Fold"
   ]
  },
  {
   "cell_type": "code",
   "execution_count": 10,
   "metadata": {
    "ExecuteTime": {
     "end_time": "2019-03-28T23:52:17.217811Z",
     "start_time": "2019-03-28T23:42:48.813867Z"
    }
   },
   "outputs": [
    {
     "name": "stdout",
     "output_type": "stream",
     "text": [
      "------------------------------------- Fold 0 --------------------------------------\n",
      "Global minimum: [0.29]\n",
      "Train Accuracy: 0.7522935779816514\n",
      "Test Accuracy: 0.6923076923076923\n",
      "Time: 52.292001485824585\n",
      "-----------------------------------------------------------------------------------\n",
      "------------------------------------- Fold 1 --------------------------------------\n",
      "Global minimum: [0.29]\n",
      "Train Accuracy: 0.7488584474885844\n",
      "Test Accuracy: 0.72\n",
      "Time: 52.43700075149536\n",
      "-----------------------------------------------------------------------------------\n",
      "------------------------------------- Fold 2 --------------------------------------\n",
      "Global minimum: [0.29]\n",
      "Train Accuracy: 0.7488584474885844\n",
      "Test Accuracy: 0.72\n",
      "Time: 63.5105345249176\n",
      "-----------------------------------------------------------------------------------\n",
      "------------------------------------- Fold 3 --------------------------------------\n",
      "Global minimum: [0.18225]\n",
      "Train Accuracy: 0.75\n",
      "Test Accuracy: 0.7083333333333334\n",
      "Time: 56.122761249542236\n",
      "-----------------------------------------------------------------------------------\n",
      "------------------------------------- Fold 4 --------------------------------------\n",
      "Global minimum: [0.4]\n",
      "Train Accuracy: 0.7454545454545455\n",
      "Test Accuracy: 0.75\n",
      "Time: 55.37210488319397\n",
      "-----------------------------------------------------------------------------------\n",
      "------------------------------------- Fold 5 --------------------------------------\n",
      "Global minimum: [0.18225]\n",
      "Train Accuracy: 0.7454545454545455\n",
      "Test Accuracy: 0.75\n",
      "Time: 50.88699960708618\n",
      "-----------------------------------------------------------------------------------\n",
      "------------------------------------- Fold 6 --------------------------------------\n",
      "Global minimum: [0.29]\n",
      "Train Accuracy: 0.7454545454545455\n",
      "Test Accuracy: 0.75\n",
      "Time: 56.50300192832947\n",
      "-----------------------------------------------------------------------------------\n",
      "------------------------------------- Fold 7 --------------------------------------\n",
      "Global minimum: [0.29]\n",
      "Train Accuracy: 0.7454545454545455\n",
      "Test Accuracy: 0.75\n",
      "Time: 60.79400157928467\n",
      "-----------------------------------------------------------------------------------\n",
      "------------------------------------- Fold 8 --------------------------------------\n",
      "Global minimum: [0.18225]\n",
      "Train Accuracy: 0.75\n",
      "Test Accuracy: 0.7083333333333334\n",
      "Time: 62.85953664779663\n",
      "-----------------------------------------------------------------------------------\n",
      "------------------------------------- Fold 9 --------------------------------------\n",
      "Global minimum: [0.29]\n",
      "Train Accuracy: 0.7454545454545455\n",
      "Test Accuracy: 0.75\n",
      "Time: 56.67400360107422\n",
      "-----------------------------------------------------------------------------------\n"
     ]
    }
   ],
   "source": [
    "from Scripts.OptimizeBruteForceKFold import OptimizeBruteForceKFold as OptimizeBruteForceKFold\n",
    "\n",
    "optimizeBruteForceKFold = OptimizeBruteForceKFold(settings.variables, settings.constraints, settings.sigma_mean_params)\n",
    "optimizeBruteForceKFold.worker(settings.variables)"
   ]
  },
  {
   "cell_type": "code",
   "execution_count": null,
   "metadata": {},
   "outputs": [],
   "source": []
  }
 ],
 "metadata": {
  "kernelspec": {
   "display_name": "Python 3",
   "language": "python",
   "name": "python3"
  },
  "language_info": {
   "codemirror_mode": {
    "name": "ipython",
    "version": 3
   },
   "file_extension": ".py",
   "mimetype": "text/x-python",
   "name": "python",
   "nbconvert_exporter": "python",
   "pygments_lexer": "ipython3",
   "version": "3.5.5"
  }
 },
 "nbformat": 4,
 "nbformat_minor": 2
}
