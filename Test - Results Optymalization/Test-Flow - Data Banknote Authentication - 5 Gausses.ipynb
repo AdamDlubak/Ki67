{
 "cells": [
  {
   "cell_type": "code",
   "execution_count": 1,
   "metadata": {
    "ExecuteTime": {
     "end_time": "2019-03-28T23:13:09.851692Z",
     "start_time": "2019-03-28T23:13:09.681694Z"
    }
   },
   "outputs": [],
   "source": [
    "import SettingsDataBanknoteAuthenticationFiveGausses as settings"
   ]
  },
  {
   "cell_type": "markdown",
   "metadata": {},
   "source": [
    "##### Main Notebook - CSV"
   ]
  },
  {
   "cell_type": "code",
   "execution_count": 2,
   "metadata": {
    "ExecuteTime": {
     "end_time": "2019-03-28T23:13:53.083301Z",
     "start_time": "2019-03-28T23:13:09.853696Z"
    }
   },
   "outputs": [
    {
     "name": "stderr",
     "output_type": "stream",
     "text": [
      "C:\\Programy\\Anaconda\\envs\\py35\\lib\\site-packages\\matplotlib\\figure.py:445: UserWarning: Matplotlib is currently using module://ipykernel.pylab.backend_inline, which is a non-GUI backend, so cannot show the figure.\n",
      "  % get_backend())\n"
     ]
    },
    {
     "data": {
      "text/html": [
       "<div>\n",
       "<style scoped>\n",
       "    .dataframe tbody tr th:only-of-type {\n",
       "        vertical-align: middle;\n",
       "    }\n",
       "\n",
       "    .dataframe tbody tr th {\n",
       "        vertical-align: top;\n",
       "    }\n",
       "\n",
       "    .dataframe thead th {\n",
       "        text-align: right;\n",
       "    }\n",
       "</style>\n",
       "<table border=\"1\" class=\"dataframe\">\n",
       "  <thead>\n",
       "    <tr style=\"text-align: right;\">\n",
       "      <th></th>\n",
       "      <th>F0</th>\n",
       "      <th>F1</th>\n",
       "      <th>F2</th>\n",
       "      <th>F3</th>\n",
       "      <th>Decision</th>\n",
       "      <th>Image</th>\n",
       "    </tr>\n",
       "  </thead>\n",
       "  <tbody>\n",
       "    <tr>\n",
       "      <th>453</th>\n",
       "      <td>Middle High</td>\n",
       "      <td>Middle High</td>\n",
       "      <td>Middle Low</td>\n",
       "      <td>Middle Low</td>\n",
       "      <td>Zero</td>\n",
       "      <td></td>\n",
       "    </tr>\n",
       "    <tr>\n",
       "      <th>932</th>\n",
       "      <td>Middle</td>\n",
       "      <td>Middle</td>\n",
       "      <td>Middle Low</td>\n",
       "      <td>Middle</td>\n",
       "      <td>One</td>\n",
       "      <td></td>\n",
       "    </tr>\n",
       "    <tr>\n",
       "      <th>728</th>\n",
       "      <td>Middle</td>\n",
       "      <td>Middle</td>\n",
       "      <td>Middle</td>\n",
       "      <td>Middle</td>\n",
       "      <td>Zero</td>\n",
       "      <td></td>\n",
       "    </tr>\n",
       "    <tr>\n",
       "      <th>804</th>\n",
       "      <td>Middle</td>\n",
       "      <td>Middle</td>\n",
       "      <td>Middle Low</td>\n",
       "      <td>Middle</td>\n",
       "      <td>One</td>\n",
       "      <td></td>\n",
       "    </tr>\n",
       "    <tr>\n",
       "      <th>659</th>\n",
       "      <td>Middle</td>\n",
       "      <td>Middle</td>\n",
       "      <td>Middle</td>\n",
       "      <td>Middle</td>\n",
       "      <td>Zero</td>\n",
       "      <td></td>\n",
       "    </tr>\n",
       "    <tr>\n",
       "      <th>149</th>\n",
       "      <td>Middle High</td>\n",
       "      <td>Middle High</td>\n",
       "      <td>Middle</td>\n",
       "      <td>Middle</td>\n",
       "      <td>Zero</td>\n",
       "      <td></td>\n",
       "    </tr>\n",
       "    <tr>\n",
       "      <th>695</th>\n",
       "      <td>Middle</td>\n",
       "      <td>Middle High</td>\n",
       "      <td>Middle Low</td>\n",
       "      <td>Middle Low</td>\n",
       "      <td>Zero</td>\n",
       "      <td></td>\n",
       "    </tr>\n",
       "    <tr>\n",
       "      <th>1367</th>\n",
       "      <td>Middle</td>\n",
       "      <td>Middle</td>\n",
       "      <td>Middle Low</td>\n",
       "      <td>Middle</td>\n",
       "      <td>One</td>\n",
       "      <td></td>\n",
       "    </tr>\n",
       "    <tr>\n",
       "      <th>1349</th>\n",
       "      <td>Middle Low</td>\n",
       "      <td>Middle Low</td>\n",
       "      <td>Middle</td>\n",
       "      <td>Middle High</td>\n",
       "      <td>One</td>\n",
       "      <td></td>\n",
       "    </tr>\n",
       "    <tr>\n",
       "      <th>483</th>\n",
       "      <td>Middle</td>\n",
       "      <td>Middle High</td>\n",
       "      <td>Middle</td>\n",
       "      <td>Middle</td>\n",
       "      <td>Zero</td>\n",
       "      <td></td>\n",
       "    </tr>\n",
       "    <tr>\n",
       "      <th>585</th>\n",
       "      <td>Middle High</td>\n",
       "      <td>Middle Low</td>\n",
       "      <td>Middle High</td>\n",
       "      <td>Middle</td>\n",
       "      <td>Zero</td>\n",
       "      <td></td>\n",
       "    </tr>\n",
       "    <tr>\n",
       "      <th>1310</th>\n",
       "      <td>Middle Low</td>\n",
       "      <td>Middle</td>\n",
       "      <td>Middle</td>\n",
       "      <td>Middle</td>\n",
       "      <td>One</td>\n",
       "      <td></td>\n",
       "    </tr>\n",
       "    <tr>\n",
       "      <th>623</th>\n",
       "      <td>Middle High</td>\n",
       "      <td>Middle High</td>\n",
       "      <td>Middle Low</td>\n",
       "      <td>Middle</td>\n",
       "      <td>Zero</td>\n",
       "      <td></td>\n",
       "    </tr>\n",
       "    <tr>\n",
       "      <th>1026</th>\n",
       "      <td>Middle</td>\n",
       "      <td>Middle</td>\n",
       "      <td>Middle Low</td>\n",
       "      <td>Middle</td>\n",
       "      <td>One</td>\n",
       "      <td></td>\n",
       "    </tr>\n",
       "    <tr>\n",
       "      <th>136</th>\n",
       "      <td>Middle High</td>\n",
       "      <td>Middle High</td>\n",
       "      <td>Middle Low</td>\n",
       "      <td>Middle Low</td>\n",
       "      <td>Zero</td>\n",
       "      <td></td>\n",
       "    </tr>\n",
       "    <tr>\n",
       "      <th>573</th>\n",
       "      <td>Middle High</td>\n",
       "      <td>Middle High</td>\n",
       "      <td>Middle Low</td>\n",
       "      <td>Middle</td>\n",
       "      <td>Zero</td>\n",
       "      <td></td>\n",
       "    </tr>\n",
       "    <tr>\n",
       "      <th>451</th>\n",
       "      <td>Middle High</td>\n",
       "      <td>Middle High</td>\n",
       "      <td>Middle Low</td>\n",
       "      <td>Middle</td>\n",
       "      <td>Zero</td>\n",
       "      <td></td>\n",
       "    </tr>\n",
       "    <tr>\n",
       "      <th>756</th>\n",
       "      <td>Middle High</td>\n",
       "      <td>Middle High</td>\n",
       "      <td>Middle Low</td>\n",
       "      <td>Middle Low</td>\n",
       "      <td>Zero</td>\n",
       "      <td></td>\n",
       "    </tr>\n",
       "    <tr>\n",
       "      <th>801</th>\n",
       "      <td>Middle</td>\n",
       "      <td>Middle Low</td>\n",
       "      <td>Middle</td>\n",
       "      <td>Middle</td>\n",
       "      <td>One</td>\n",
       "      <td></td>\n",
       "    </tr>\n",
       "    <tr>\n",
       "      <th>229</th>\n",
       "      <td>Middle High</td>\n",
       "      <td>Middle</td>\n",
       "      <td>Middle</td>\n",
       "      <td>Middle High</td>\n",
       "      <td>Zero</td>\n",
       "      <td></td>\n",
       "    </tr>\n",
       "    <tr>\n",
       "      <th>177</th>\n",
       "      <td>Middle High</td>\n",
       "      <td>Middle</td>\n",
       "      <td>Middle Low</td>\n",
       "      <td>Middle</td>\n",
       "      <td>Zero</td>\n",
       "      <td></td>\n",
       "    </tr>\n",
       "    <tr>\n",
       "      <th>337</th>\n",
       "      <td>Middle</td>\n",
       "      <td>Middle</td>\n",
       "      <td>Middle High</td>\n",
       "      <td>Middle High</td>\n",
       "      <td>Zero</td>\n",
       "      <td></td>\n",
       "    </tr>\n",
       "    <tr>\n",
       "      <th>1207</th>\n",
       "      <td>Middle Low</td>\n",
       "      <td>Low</td>\n",
       "      <td>High</td>\n",
       "      <td>Middle</td>\n",
       "      <td>One</td>\n",
       "      <td></td>\n",
       "    </tr>\n",
       "    <tr>\n",
       "      <th>216</th>\n",
       "      <td>Middle</td>\n",
       "      <td>Middle</td>\n",
       "      <td>Middle</td>\n",
       "      <td>Middle</td>\n",
       "      <td>Zero</td>\n",
       "      <td></td>\n",
       "    </tr>\n",
       "    <tr>\n",
       "      <th>432</th>\n",
       "      <td>Middle High</td>\n",
       "      <td>Middle High</td>\n",
       "      <td>Middle Low</td>\n",
       "      <td>Middle</td>\n",
       "      <td>Zero</td>\n",
       "      <td></td>\n",
       "    </tr>\n",
       "    <tr>\n",
       "      <th>1331</th>\n",
       "      <td>Middle</td>\n",
       "      <td>Middle</td>\n",
       "      <td>Middle Low</td>\n",
       "      <td>Middle High</td>\n",
       "      <td>One</td>\n",
       "      <td></td>\n",
       "    </tr>\n",
       "    <tr>\n",
       "      <th>1324</th>\n",
       "      <td>Middle</td>\n",
       "      <td>Middle</td>\n",
       "      <td>Middle Low</td>\n",
       "      <td>Middle</td>\n",
       "      <td>One</td>\n",
       "      <td></td>\n",
       "    </tr>\n",
       "    <tr>\n",
       "      <th>754</th>\n",
       "      <td>Middle High</td>\n",
       "      <td>Middle</td>\n",
       "      <td>Middle High</td>\n",
       "      <td>Middle High</td>\n",
       "      <td>Zero</td>\n",
       "      <td></td>\n",
       "    </tr>\n",
       "    <tr>\n",
       "      <th>1147</th>\n",
       "      <td>Middle Low</td>\n",
       "      <td>Middle Low</td>\n",
       "      <td>Middle High</td>\n",
       "      <td>Middle</td>\n",
       "      <td>One</td>\n",
       "      <td></td>\n",
       "    </tr>\n",
       "    <tr>\n",
       "      <th>1357</th>\n",
       "      <td>Middle Low</td>\n",
       "      <td>Middle</td>\n",
       "      <td>Middle</td>\n",
       "      <td>Middle</td>\n",
       "      <td>One</td>\n",
       "      <td></td>\n",
       "    </tr>\n",
       "    <tr>\n",
       "      <th>...</th>\n",
       "      <td>...</td>\n",
       "      <td>...</td>\n",
       "      <td>...</td>\n",
       "      <td>...</td>\n",
       "      <td>...</td>\n",
       "      <td>...</td>\n",
       "    </tr>\n",
       "    <tr>\n",
       "      <th>506</th>\n",
       "      <td>Middle</td>\n",
       "      <td>Middle High</td>\n",
       "      <td>Middle</td>\n",
       "      <td>Middle Low</td>\n",
       "      <td>Zero</td>\n",
       "      <td></td>\n",
       "    </tr>\n",
       "    <tr>\n",
       "      <th>759</th>\n",
       "      <td>Middle</td>\n",
       "      <td>Middle High</td>\n",
       "      <td>Middle</td>\n",
       "      <td>Middle Low</td>\n",
       "      <td>Zero</td>\n",
       "      <td></td>\n",
       "    </tr>\n",
       "    <tr>\n",
       "      <th>1090</th>\n",
       "      <td>Middle Low</td>\n",
       "      <td>Middle</td>\n",
       "      <td>Middle</td>\n",
       "      <td>Middle</td>\n",
       "      <td>One</td>\n",
       "      <td></td>\n",
       "    </tr>\n",
       "    <tr>\n",
       "      <th>781</th>\n",
       "      <td>Middle Low</td>\n",
       "      <td>Middle Low</td>\n",
       "      <td>Middle High</td>\n",
       "      <td>Middle</td>\n",
       "      <td>One</td>\n",
       "      <td></td>\n",
       "    </tr>\n",
       "    <tr>\n",
       "      <th>762</th>\n",
       "      <td>Middle</td>\n",
       "      <td>Middle</td>\n",
       "      <td>Middle Low</td>\n",
       "      <td>Middle</td>\n",
       "      <td>One</td>\n",
       "      <td></td>\n",
       "    </tr>\n",
       "    <tr>\n",
       "      <th>1133</th>\n",
       "      <td>Middle Low</td>\n",
       "      <td>Middle</td>\n",
       "      <td>Middle</td>\n",
       "      <td>Middle High</td>\n",
       "      <td>One</td>\n",
       "      <td></td>\n",
       "    </tr>\n",
       "    <tr>\n",
       "      <th>450</th>\n",
       "      <td>Middle High</td>\n",
       "      <td>Middle Low</td>\n",
       "      <td>Middle High</td>\n",
       "      <td>Middle High</td>\n",
       "      <td>Zero</td>\n",
       "      <td></td>\n",
       "    </tr>\n",
       "    <tr>\n",
       "      <th>869</th>\n",
       "      <td>Middle Low</td>\n",
       "      <td>Middle</td>\n",
       "      <td>Middle</td>\n",
       "      <td>Middle</td>\n",
       "      <td>One</td>\n",
       "      <td></td>\n",
       "    </tr>\n",
       "    <tr>\n",
       "      <th>610</th>\n",
       "      <td>Middle</td>\n",
       "      <td>Middle High</td>\n",
       "      <td>Middle</td>\n",
       "      <td>Middle Low</td>\n",
       "      <td>Zero</td>\n",
       "      <td></td>\n",
       "    </tr>\n",
       "    <tr>\n",
       "      <th>1268</th>\n",
       "      <td>Middle Low</td>\n",
       "      <td>Low</td>\n",
       "      <td>High</td>\n",
       "      <td>Middle Low</td>\n",
       "      <td>One</td>\n",
       "      <td></td>\n",
       "    </tr>\n",
       "    <tr>\n",
       "      <th>807</th>\n",
       "      <td>Middle Low</td>\n",
       "      <td>Middle</td>\n",
       "      <td>Middle</td>\n",
       "      <td>Middle</td>\n",
       "      <td>One</td>\n",
       "      <td></td>\n",
       "    </tr>\n",
       "    <tr>\n",
       "      <th>440</th>\n",
       "      <td>Middle High</td>\n",
       "      <td>Middle</td>\n",
       "      <td>Middle</td>\n",
       "      <td>Middle High</td>\n",
       "      <td>Zero</td>\n",
       "      <td></td>\n",
       "    </tr>\n",
       "    <tr>\n",
       "      <th>965</th>\n",
       "      <td>Middle</td>\n",
       "      <td>Middle</td>\n",
       "      <td>Middle</td>\n",
       "      <td>Middle High</td>\n",
       "      <td>One</td>\n",
       "      <td></td>\n",
       "    </tr>\n",
       "    <tr>\n",
       "      <th>1003</th>\n",
       "      <td>Middle Low</td>\n",
       "      <td>Low</td>\n",
       "      <td>High</td>\n",
       "      <td>Middle</td>\n",
       "      <td>One</td>\n",
       "      <td></td>\n",
       "    </tr>\n",
       "    <tr>\n",
       "      <th>107</th>\n",
       "      <td>Middle Low</td>\n",
       "      <td>Middle High</td>\n",
       "      <td>Middle Low</td>\n",
       "      <td>Middle</td>\n",
       "      <td>Zero</td>\n",
       "      <td></td>\n",
       "    </tr>\n",
       "    <tr>\n",
       "      <th>687</th>\n",
       "      <td>Middle</td>\n",
       "      <td>Middle High</td>\n",
       "      <td>Middle</td>\n",
       "      <td>Middle</td>\n",
       "      <td>Zero</td>\n",
       "      <td></td>\n",
       "    </tr>\n",
       "    <tr>\n",
       "      <th>164</th>\n",
       "      <td>Middle High</td>\n",
       "      <td>Middle</td>\n",
       "      <td>Middle</td>\n",
       "      <td>Middle High</td>\n",
       "      <td>Zero</td>\n",
       "      <td></td>\n",
       "    </tr>\n",
       "    <tr>\n",
       "      <th>1123</th>\n",
       "      <td>Middle</td>\n",
       "      <td>Middle</td>\n",
       "      <td>Middle Low</td>\n",
       "      <td>Middle</td>\n",
       "      <td>One</td>\n",
       "      <td></td>\n",
       "    </tr>\n",
       "    <tr>\n",
       "      <th>1028</th>\n",
       "      <td>Middle Low</td>\n",
       "      <td>Middle</td>\n",
       "      <td>Middle Low</td>\n",
       "      <td>Middle Low</td>\n",
       "      <td>One</td>\n",
       "      <td></td>\n",
       "    </tr>\n",
       "    <tr>\n",
       "      <th>683</th>\n",
       "      <td>Middle High</td>\n",
       "      <td>Middle Low</td>\n",
       "      <td>Middle High</td>\n",
       "      <td>Middle High</td>\n",
       "      <td>Zero</td>\n",
       "      <td></td>\n",
       "    </tr>\n",
       "    <tr>\n",
       "      <th>1200</th>\n",
       "      <td>Middle Low</td>\n",
       "      <td>Middle Low</td>\n",
       "      <td>Middle High</td>\n",
       "      <td>Middle</td>\n",
       "      <td>One</td>\n",
       "      <td></td>\n",
       "    </tr>\n",
       "    <tr>\n",
       "      <th>431</th>\n",
       "      <td>Middle</td>\n",
       "      <td>Middle</td>\n",
       "      <td>Middle</td>\n",
       "      <td>Middle</td>\n",
       "      <td>Zero</td>\n",
       "      <td></td>\n",
       "    </tr>\n",
       "    <tr>\n",
       "      <th>1034</th>\n",
       "      <td>Middle</td>\n",
       "      <td>Middle</td>\n",
       "      <td>Middle Low</td>\n",
       "      <td>Middle Low</td>\n",
       "      <td>One</td>\n",
       "      <td></td>\n",
       "    </tr>\n",
       "    <tr>\n",
       "      <th>1167</th>\n",
       "      <td>Middle</td>\n",
       "      <td>Middle Low</td>\n",
       "      <td>Middle</td>\n",
       "      <td>Middle</td>\n",
       "      <td>One</td>\n",
       "      <td></td>\n",
       "    </tr>\n",
       "    <tr>\n",
       "      <th>445</th>\n",
       "      <td>Middle High</td>\n",
       "      <td>Middle Low</td>\n",
       "      <td>Middle</td>\n",
       "      <td>Middle</td>\n",
       "      <td>Zero</td>\n",
       "      <td></td>\n",
       "    </tr>\n",
       "    <tr>\n",
       "      <th>826</th>\n",
       "      <td>Middle Low</td>\n",
       "      <td>Low</td>\n",
       "      <td>High</td>\n",
       "      <td>Middle</td>\n",
       "      <td>One</td>\n",
       "      <td></td>\n",
       "    </tr>\n",
       "    <tr>\n",
       "      <th>329</th>\n",
       "      <td>Middle</td>\n",
       "      <td>Middle</td>\n",
       "      <td>Middle</td>\n",
       "      <td>Middle</td>\n",
       "      <td>Zero</td>\n",
       "      <td></td>\n",
       "    </tr>\n",
       "    <tr>\n",
       "      <th>186</th>\n",
       "      <td>Middle High</td>\n",
       "      <td>Middle Low</td>\n",
       "      <td>Middle High</td>\n",
       "      <td>Middle</td>\n",
       "      <td>Zero</td>\n",
       "      <td></td>\n",
       "    </tr>\n",
       "    <tr>\n",
       "      <th>1029</th>\n",
       "      <td>Middle</td>\n",
       "      <td>Middle</td>\n",
       "      <td>Middle</td>\n",
       "      <td>Middle</td>\n",
       "      <td>One</td>\n",
       "      <td></td>\n",
       "    </tr>\n",
       "    <tr>\n",
       "      <th>119</th>\n",
       "      <td>Middle</td>\n",
       "      <td>Middle Low</td>\n",
       "      <td>Middle High</td>\n",
       "      <td>Middle</td>\n",
       "      <td>Zero</td>\n",
       "      <td></td>\n",
       "    </tr>\n",
       "  </tbody>\n",
       "</table>\n",
       "<p>1097 rows × 6 columns</p>\n",
       "</div>"
      ],
      "text/plain": [
       "             F0         F1         F2         F3 Decision Image\n",
       "453   Middle High  Middle High   Middle Low   Middle Low     Zero      \n",
       "932      Middle     Middle   Middle Low     Middle      One      \n",
       "728      Middle     Middle     Middle     Middle     Zero      \n",
       "804      Middle     Middle   Middle Low     Middle      One      \n",
       "659      Middle     Middle     Middle     Middle     Zero      \n",
       "149   Middle High  Middle High     Middle     Middle     Zero      \n",
       "695      Middle  Middle High   Middle Low   Middle Low     Zero      \n",
       "1367     Middle     Middle   Middle Low     Middle      One      \n",
       "1349   Middle Low   Middle Low     Middle  Middle High      One      \n",
       "483      Middle  Middle High     Middle     Middle     Zero      \n",
       "585   Middle High   Middle Low  Middle High     Middle     Zero      \n",
       "1310   Middle Low     Middle     Middle     Middle      One      \n",
       "623   Middle High  Middle High   Middle Low     Middle     Zero      \n",
       "1026     Middle     Middle   Middle Low     Middle      One      \n",
       "136   Middle High  Middle High   Middle Low   Middle Low     Zero      \n",
       "573   Middle High  Middle High   Middle Low     Middle     Zero      \n",
       "451   Middle High  Middle High   Middle Low     Middle     Zero      \n",
       "756   Middle High  Middle High   Middle Low   Middle Low     Zero      \n",
       "801      Middle   Middle Low     Middle     Middle      One      \n",
       "229   Middle High     Middle     Middle  Middle High     Zero      \n",
       "177   Middle High     Middle   Middle Low     Middle     Zero      \n",
       "337      Middle     Middle  Middle High  Middle High     Zero      \n",
       "1207   Middle Low        Low       High     Middle      One      \n",
       "216      Middle     Middle     Middle     Middle     Zero      \n",
       "432   Middle High  Middle High   Middle Low     Middle     Zero      \n",
       "1331     Middle     Middle   Middle Low  Middle High      One      \n",
       "1324     Middle     Middle   Middle Low     Middle      One      \n",
       "754   Middle High     Middle  Middle High  Middle High     Zero      \n",
       "1147   Middle Low   Middle Low  Middle High     Middle      One      \n",
       "1357   Middle Low     Middle     Middle     Middle      One      \n",
       "...         ...        ...        ...        ...      ...   ...\n",
       "506      Middle  Middle High     Middle   Middle Low     Zero      \n",
       "759      Middle  Middle High     Middle   Middle Low     Zero      \n",
       "1090   Middle Low     Middle     Middle     Middle      One      \n",
       "781    Middle Low   Middle Low  Middle High     Middle      One      \n",
       "762      Middle     Middle   Middle Low     Middle      One      \n",
       "1133   Middle Low     Middle     Middle  Middle High      One      \n",
       "450   Middle High   Middle Low  Middle High  Middle High     Zero      \n",
       "869    Middle Low     Middle     Middle     Middle      One      \n",
       "610      Middle  Middle High     Middle   Middle Low     Zero      \n",
       "1268   Middle Low        Low       High   Middle Low      One      \n",
       "807    Middle Low     Middle     Middle     Middle      One      \n",
       "440   Middle High     Middle     Middle  Middle High     Zero      \n",
       "965      Middle     Middle     Middle  Middle High      One      \n",
       "1003   Middle Low        Low       High     Middle      One      \n",
       "107    Middle Low  Middle High   Middle Low     Middle     Zero      \n",
       "687      Middle  Middle High     Middle     Middle     Zero      \n",
       "164   Middle High     Middle     Middle  Middle High     Zero      \n",
       "1123     Middle     Middle   Middle Low     Middle      One      \n",
       "1028   Middle Low     Middle   Middle Low   Middle Low      One      \n",
       "683   Middle High   Middle Low  Middle High  Middle High     Zero      \n",
       "1200   Middle Low   Middle Low  Middle High     Middle      One      \n",
       "431      Middle     Middle     Middle     Middle     Zero      \n",
       "1034     Middle     Middle   Middle Low   Middle Low      One      \n",
       "1167     Middle   Middle Low     Middle     Middle      One      \n",
       "445   Middle High   Middle Low     Middle     Middle     Zero      \n",
       "826    Middle Low        Low       High     Middle      One      \n",
       "329      Middle     Middle     Middle     Middle     Zero      \n",
       "186   Middle High   Middle Low  Middle High     Middle     Zero      \n",
       "1029     Middle     Middle     Middle     Middle      One      \n",
       "119      Middle   Middle Low  Middle High     Middle     Zero      \n",
       "\n",
       "[1097 rows x 6 columns]"
      ]
     },
     "metadata": {},
     "output_type": "display_data"
    },
    {
     "name": "stderr",
     "output_type": "stream",
     "text": [
      "13it [00:03,  3.48it/s]\n"
     ]
    },
    {
     "name": "stdout",
     "output_type": "stream",
     "text": [
      "Finished!\n"
     ]
    }
   ],
   "source": [
    "from Scripts.LoadCSV import LoadCSV as LoadCSV\n",
    "\n",
    "loadCSV = LoadCSV()\n",
    "loadCSV.workerCSV(settings.variables)"
   ]
  },
  {
   "cell_type": "markdown",
   "metadata": {},
   "source": [
    "##### Brute Force"
   ]
  },
  {
   "cell_type": "code",
   "execution_count": 3,
   "metadata": {
    "ExecuteTime": {
     "end_time": "2019-03-28T23:16:42.226261Z",
     "start_time": "2019-03-28T23:13:53.085306Z"
    }
   },
   "outputs": [
    {
     "name": "stdout",
     "output_type": "stream",
     "text": [
      "Global minimum: [0.41]\n",
      "Function value at global minimum: 0.25979945305378305\n",
      "Accuracy: 0.740200546946217\n",
      "Time: 168.91296339035034\n"
     ]
    }
   ],
   "source": [
    "from Scripts.OptimizeBruteForce import OptimizeBruteForce as OptimizeBruteForce\n",
    "\n",
    "optimizeBruteForce = OptimizeBruteForce(settings.variables, settings.constraints, settings.sigma_mean_params)\n",
    "bruteforce_threshold = optimizeBruteForce.worker(settings.variables)"
   ]
  },
  {
   "cell_type": "markdown",
   "metadata": {},
   "source": [
    "##### PSO"
   ]
  },
  {
   "cell_type": "code",
   "execution_count": 4,
   "metadata": {
    "ExecuteTime": {
     "end_time": "2019-03-28T23:25:10.748562Z",
     "start_time": "2019-03-28T23:16:42.229266Z"
    }
   },
   "outputs": [
    {
     "name": "stderr",
     "output_type": "stream",
     "text": [
      "2019-03-29 00:16:42,777 - pyswarms.single.global_best - INFO - Optimize for 20 iters with {'c2': 0.3, 'w': 0.9, 'c1': 0.5}\n",
      "pyswarms.single.global_best: 100%|███████████████████████████████████████████████████████████████|20/20, best_cost=0.26\n",
      "2019-03-29 00:25:10,452 - pyswarms.single.global_best - INFO - Optimization finished | best cost: 0.25979945305378305, best pos: [0.40997439]\n"
     ]
    },
    {
     "name": "stdout",
     "output_type": "stream",
     "text": [
      "Global minimum: [0.40997439]\n",
      "Function value at global minimum: 0.25979945305378305\n",
      "Accuracy: 0.740200546946217\n",
      "Time: 507.6962978839874\n"
     ]
    },
    {
     "data": {
      "image/png": "[encoded data removed]",
      "text/plain": [
       "<Figure size 720x576 with 1 Axes>"
      ]
     },
     "metadata": {},
     "output_type": "display_data"
    },
    {
     "data": {
      "text/plain": [
       "array([0.40997439])"
      ]
     },
     "execution_count": 4,
     "metadata": {},
     "output_type": "execute_result"
    }
   ],
   "source": [
    "from Scripts.OptimizePSO import OptimizePSO as OptimizePSO\n",
    "\n",
    "optimizePSO = OptimizePSO(settings.variables, settings.swarm_size, settings.dim, settings.epsilon, settings.iters, settings.options, settings.borders, settings.sigma_mean_params)\n",
    "optimizePSO.worker(settings.variables)"
   ]
  },
  {
   "cell_type": "markdown",
   "metadata": {},
   "source": [
    "##### Value Train without optimalization"
   ]
  },
  {
   "cell_type": "code",
   "execution_count": 5,
   "metadata": {
    "ExecuteTime": {
     "end_time": "2019-03-28T23:25:12.258580Z",
     "start_time": "2019-03-28T23:25:10.751562Z"
    }
   },
   "outputs": [
    {
     "name": "stdout",
     "output_type": "stream",
     "text": [
      "Accuracy: 0.6654512306289881\n",
      "Precision: [0.5942492  0.76008493]\n",
      "Recall: [0.76701031 0.58496732]\n",
      "F-Score: [0.66966697 0.6611265 ]\n",
      "Support: [485 612]\n"
     ]
    }
   ],
   "source": [
    "from Scripts.ValueTrain import ValueTrain as ValueTrain\n",
    "valueTrain = ValueTrain(settings.variables, threshold_value = -1)\n",
    "valueTrain.worker(settings.variables)"
   ]
  },
  {
   "cell_type": "markdown",
   "metadata": {},
   "source": [
    "##### Value Train with optimalization"
   ]
  },
  {
   "cell_type": "code",
   "execution_count": 6,
   "metadata": {
    "ExecuteTime": {
     "end_time": "2019-03-28T23:25:13.783567Z",
     "start_time": "2019-03-28T23:25:12.262585Z"
    }
   },
   "outputs": [
    {
     "name": "stdout",
     "output_type": "stream",
     "text": [
      "Accuracy: 0.740200546946217\n",
      "Precision: [0.8125     0.71042471]\n",
      "Recall: [0.53608247 0.90196078]\n",
      "F-Score: [0.64596273 0.79481641]\n",
      "Support: [485 612]\n"
     ]
    }
   ],
   "source": [
    "from Scripts.ValueTrain import ValueTrain as ValueTrain\n",
    "\n",
    "valueTrain = ValueTrain(settings.variables, threshold_value = bruteforce_threshold)\n",
    "valueTrain.worker(settings.variables)"
   ]
  },
  {
   "cell_type": "markdown",
   "metadata": {},
   "source": [
    "##### Value Test without optimalization"
   ]
  },
  {
   "cell_type": "code",
   "execution_count": 7,
   "metadata": {
    "ExecuteTime": {
     "end_time": "2019-03-28T23:25:15.896566Z",
     "start_time": "2019-03-28T23:25:13.786562Z"
    }
   },
   "outputs": [
    {
     "name": "stdout",
     "output_type": "stream",
     "text": [
      "Accuracy: 0.64\n",
      "Precision: [0.58552632 0.70731707]\n",
      "Recall: [0.712 0.58 ]\n",
      "F-Score: [0.64259928 0.63736264]\n",
      "Support: [125 150]\n"
     ]
    }
   ],
   "source": [
    "from Scripts.ValueTest import ValueTest as ValueTest\n",
    "\n",
    "valueTest = ValueTest(settings.variables, threshold_value = -1)\n",
    "valueTest.worker(settings.variables)"
   ]
  },
  {
   "cell_type": "markdown",
   "metadata": {},
   "source": [
    "##### Value Test with optimalization"
   ]
  },
  {
   "cell_type": "code",
   "execution_count": 8,
   "metadata": {
    "ExecuteTime": {
     "end_time": "2019-03-28T23:25:18.134568Z",
     "start_time": "2019-03-28T23:25:15.900567Z"
    }
   },
   "outputs": [
    {
     "name": "stdout",
     "output_type": "stream",
     "text": [
      "Accuracy: 0.7418181818181818\n",
      "Precision: [0.81395349 0.70899471]\n",
      "Recall: [0.56       0.89333333]\n",
      "F-Score: [0.66350711 0.79056047]\n",
      "Support: [125 150]\n"
     ]
    }
   ],
   "source": [
    "from Scripts.ValueTest import ValueTest as ValueTest\n",
    "\n",
    "valueTest = ValueTest(settings.variables, threshold_value = bruteforce_threshold)\n",
    "valueTest.worker(settings.variables)"
   ]
  },
  {
   "cell_type": "markdown",
   "metadata": {},
   "source": [
    "##### PSO K-Fold"
   ]
  },
  {
   "cell_type": "code",
   "execution_count": 9,
   "metadata": {
    "ExecuteTime": {
     "end_time": "2019-03-29T00:57:52.856892Z",
     "start_time": "2019-03-28T23:25:18.137562Z"
    },
    "scrolled": true
   },
   "outputs": [
    {
     "name": "stderr",
     "output_type": "stream",
     "text": [
      "2019-03-29 00:25:18,351 - pyswarms.single.global_best - INFO - Optimize for 20 iters with {'c2': 0.3, 'w': 0.9, 'c1': 0.5}\n",
      "pyswarms.single.global_best: 100%|███████████████████████████████████████████████████████████████|20/20, best_cost=0.26\n",
      "2019-03-29 00:33:47,348 - pyswarms.single.global_best - INFO - Optimization finished | best cost: 0.25979945305378305, best pos: [0.41074925]\n"
     ]
    },
    {
     "name": "stdout",
     "output_type": "stream",
     "text": [
      "------------------------------------- Fold 0 --------------------------------------\n",
      "Global minimum: [0.41074925]\n",
      "Train Accuracy: 0.740200546946217\n",
      "Test Accuracy: 0.7567567567567568\n",
      "Time: 509.1403923034668\n",
      "-----------------------------------------------------------------------------------\n"
     ]
    },
    {
     "name": "stderr",
     "output_type": "stream",
     "text": [
      "2019-03-29 00:33:47,529 - pyswarms.single.global_best - INFO - Optimize for 20 iters with {'c2': 0.3, 'w': 0.9, 'c1': 0.5}\n",
      "pyswarms.single.global_best: 100%|███████████████████████████████████████████████████████████████|20/20, best_cost=0.26\n",
      "2019-03-29 00:45:52,504 - pyswarms.single.global_best - INFO - Optimization finished | best cost: 0.25979945305378305, best pos: [0.41074925]\n"
     ]
    },
    {
     "name": "stdout",
     "output_type": "stream",
     "text": [
      "------------------------------------- Fold 1 --------------------------------------\n",
      "Global minimum: [0.41074925]\n",
      "Train Accuracy: 0.740200546946217\n",
      "Test Accuracy: 0.7567567567567568\n",
      "Time: 725.2094359397888\n",
      "-----------------------------------------------------------------------------------\n"
     ]
    },
    {
     "name": "stderr",
     "output_type": "stream",
     "text": [
      "2019-03-29 00:45:52,803 - pyswarms.single.global_best - INFO - Optimize for 20 iters with {'c2': 0.3, 'w': 0.9, 'c1': 0.5}\n",
      "pyswarms.single.global_best: 100%|███████████████████████████████████████████████████████████████|20/20, best_cost=0.26\n",
      "2019-03-29 00:58:44,876 - pyswarms.single.global_best - INFO - Optimization finished | best cost: 0.25979945305378305, best pos: [0.41074925]\n"
     ]
    },
    {
     "name": "stdout",
     "output_type": "stream",
     "text": [
      "------------------------------------- Fold 2 --------------------------------------\n",
      "Global minimum: [0.41074925]\n",
      "Train Accuracy: 0.740200546946217\n",
      "Test Accuracy: 0.7454545454545455\n",
      "Time: 772.26735663414\n",
      "-----------------------------------------------------------------------------------\n"
     ]
    },
    {
     "name": "stderr",
     "output_type": "stream",
     "text": [
      "2019-03-29 00:58:45,111 - pyswarms.single.global_best - INFO - Optimize for 20 iters with {'c2': 0.3, 'w': 0.9, 'c1': 0.5}\n",
      "pyswarms.single.global_best: 100%|███████████████████████████████████████████████████████████████|20/20, best_cost=0.26\n",
      "2019-03-29 01:08:22,760 - pyswarms.single.global_best - INFO - Optimization finished | best cost: 0.25979945305378305, best pos: [0.41074925]\n"
     ]
    },
    {
     "name": "stdout",
     "output_type": "stream",
     "text": [
      "------------------------------------- Fold 3 --------------------------------------\n",
      "Global minimum: [0.41074925]\n",
      "Train Accuracy: 0.740200546946217\n",
      "Test Accuracy: 0.7090909090909091\n",
      "Time: 577.7931423187256\n",
      "-----------------------------------------------------------------------------------\n"
     ]
    },
    {
     "name": "stderr",
     "output_type": "stream",
     "text": [
      "2019-03-29 01:08:22,929 - pyswarms.single.global_best - INFO - Optimize for 20 iters with {'c2': 0.3, 'w': 0.9, 'c1': 0.5}\n",
      "pyswarms.single.global_best: 100%|███████████████████████████████████████████████████████████████|20/20, best_cost=0.26\n",
      "2019-03-29 01:16:41,180 - pyswarms.single.global_best - INFO - Optimization finished | best cost: 0.25979945305378305, best pos: [0.41074925]\n"
     ]
    },
    {
     "name": "stdout",
     "output_type": "stream",
     "text": [
      "------------------------------------- Fold 4 --------------------------------------\n",
      "Global minimum: [0.41074925]\n",
      "Train Accuracy: 0.740200546946217\n",
      "Test Accuracy: 0.7636363636363637\n",
      "Time: 498.36500000953674\n",
      "-----------------------------------------------------------------------------------\n"
     ]
    },
    {
     "name": "stderr",
     "output_type": "stream",
     "text": [
      "2019-03-29 01:16:41,321 - pyswarms.single.global_best - INFO - Optimize for 20 iters with {'c2': 0.3, 'w': 0.9, 'c1': 0.5}\n",
      "pyswarms.single.global_best: 100%|███████████████████████████████████████████████████████████████|20/20, best_cost=0.26\n",
      "2019-03-29 01:24:52,652 - pyswarms.single.global_best - INFO - Optimization finished | best cost: 0.25979945305378305, best pos: [0.41074925]\n"
     ]
    },
    {
     "name": "stdout",
     "output_type": "stream",
     "text": [
      "------------------------------------- Fold 5 --------------------------------------\n",
      "Global minimum: [0.41074925]\n",
      "Train Accuracy: 0.740200546946217\n",
      "Test Accuracy: 0.7155963302752294\n",
      "Time: 491.4809982776642\n",
      "-----------------------------------------------------------------------------------\n"
     ]
    },
    {
     "name": "stderr",
     "output_type": "stream",
     "text": [
      "2019-03-29 01:24:52,837 - pyswarms.single.global_best - INFO - Optimize for 20 iters with {'c2': 0.3, 'w': 0.9, 'c1': 0.5}\n",
      "pyswarms.single.global_best: 100%|███████████████████████████████████████████████████████████████|20/20, best_cost=0.26\n",
      "2019-03-29 01:33:09,261 - pyswarms.single.global_best - INFO - Optimization finished | best cost: 0.25979945305378305, best pos: [0.41074925]\n"
     ]
    },
    {
     "name": "stdout",
     "output_type": "stream",
     "text": [
      "------------------------------------- Fold 6 --------------------------------------\n",
      "Global minimum: [0.41074925]\n",
      "Train Accuracy: 0.740200546946217\n",
      "Test Accuracy: 0.7522935779816514\n",
      "Time: 496.5400025844574\n",
      "-----------------------------------------------------------------------------------\n"
     ]
    },
    {
     "name": "stderr",
     "output_type": "stream",
     "text": [
      "2019-03-29 01:33:09,408 - pyswarms.single.global_best - INFO - Optimize for 20 iters with {'c2': 0.3, 'w': 0.9, 'c1': 0.5}\n",
      "pyswarms.single.global_best: 100%|███████████████████████████████████████████████████████████████|20/20, best_cost=0.26\n",
      "2019-03-29 01:41:25,368 - pyswarms.single.global_best - INFO - Optimization finished | best cost: 0.25979945305378305, best pos: [0.41074925]\n"
     ]
    },
    {
     "name": "stdout",
     "output_type": "stream",
     "text": [
      "------------------------------------- Fold 7 --------------------------------------\n",
      "Global minimum: [0.41074925]\n",
      "Train Accuracy: 0.740200546946217\n",
      "Test Accuracy: 0.7889908256880734\n",
      "Time: 496.09199357032776\n",
      "-----------------------------------------------------------------------------------\n"
     ]
    },
    {
     "name": "stderr",
     "output_type": "stream",
     "text": [
      "2019-03-29 01:41:25,530 - pyswarms.single.global_best - INFO - Optimize for 20 iters with {'c2': 0.3, 'w': 0.9, 'c1': 0.5}\n",
      "pyswarms.single.global_best: 100%|███████████████████████████████████████████████████████████████|20/20, best_cost=0.26\n",
      "2019-03-29 01:49:37,486 - pyswarms.single.global_best - INFO - Optimization finished | best cost: 0.25979945305378305, best pos: [0.41074925]\n"
     ]
    },
    {
     "name": "stdout",
     "output_type": "stream",
     "text": [
      "------------------------------------- Fold 8 --------------------------------------\n",
      "Global minimum: [0.41074925]\n",
      "Train Accuracy: 0.740200546946217\n",
      "Test Accuracy: 0.7339449541284404\n",
      "Time: 492.069952249527\n",
      "-----------------------------------------------------------------------------------\n"
     ]
    },
    {
     "name": "stderr",
     "output_type": "stream",
     "text": [
      "2019-03-29 01:49:37,636 - pyswarms.single.global_best - INFO - Optimize for 20 iters with {'c2': 0.3, 'w': 0.9, 'c1': 0.5}\n",
      "pyswarms.single.global_best: 100%|███████████████████████████████████████████████████████████████|20/20, best_cost=0.26\n",
      "2019-03-29 01:57:52,711 - pyswarms.single.global_best - INFO - Optimization finished | best cost: 0.25979945305378305, best pos: [0.41074925]\n"
     ]
    },
    {
     "name": "stdout",
     "output_type": "stream",
     "text": [
      "------------------------------------- Fold 9 --------------------------------------\n",
      "Global minimum: [0.41074925]\n",
      "Train Accuracy: 0.740200546946217\n",
      "Test Accuracy: 0.6788990825688074\n",
      "Time: 495.19105291366577\n",
      "-----------------------------------------------------------------------------------\n"
     ]
    }
   ],
   "source": [
    "from Scripts.OptimizePSOKFold import OptimizePSOKFold as OptimizePSOKFold\n",
    "\n",
    "optimizePSOKFold = OptimizePSOKFold(settings.variables, settings.swarm_size, settings.dim, settings.epsilon, settings.iters, settings.options, settings.borders, settings.sigma_mean_params)\n",
    "optimizePSOKFold.worker(settings.variables)"
   ]
  },
  {
   "cell_type": "markdown",
   "metadata": {},
   "source": [
    "##### Brute Force K-Fold"
   ]
  },
  {
   "cell_type": "code",
   "execution_count": 10,
   "metadata": {
    "ExecuteTime": {
     "end_time": "2019-03-29T01:19:32.223004Z",
     "start_time": "2019-03-29T00:57:52.859892Z"
    }
   },
   "outputs": [
    {
     "name": "stdout",
     "output_type": "stream",
     "text": [
      "------------------------------------- Fold 0 --------------------------------------\n",
      "Global minimum: [0.41]\n",
      "Train Accuracy: 0.7383367139959433\n",
      "Test Accuracy: 0.7567567567567568\n",
      "Time: 134.18679571151733\n",
      "-----------------------------------------------------------------------------------\n",
      "------------------------------------- Fold 1 --------------------------------------\n",
      "Global minimum: [0.41]\n",
      "Train Accuracy: 0.7383367139959433\n",
      "Test Accuracy: 0.7567567567567568\n",
      "Time: 133.57885575294495\n",
      "-----------------------------------------------------------------------------------\n",
      "------------------------------------- Fold 2 --------------------------------------\n",
      "Global minimum: [0.41]\n",
      "Train Accuracy: 0.7396149949341438\n",
      "Test Accuracy: 0.7454545454545455\n",
      "Time: 132.0470061302185\n",
      "-----------------------------------------------------------------------------------\n",
      "------------------------------------- Fold 3 --------------------------------------\n",
      "Global minimum: [0.40935938]\n",
      "Train Accuracy: 0.7436676798378926\n",
      "Test Accuracy: 0.7090909090909091\n",
      "Time: 131.1080994606018\n",
      "-----------------------------------------------------------------------------------\n",
      "------------------------------------- Fold 4 --------------------------------------\n",
      "Global minimum: [0.41]\n",
      "Train Accuracy: 0.7375886524822695\n",
      "Test Accuracy: 0.7636363636363637\n",
      "Time: 131.16309571266174\n",
      "-----------------------------------------------------------------------------------\n",
      "------------------------------------- Fold 5 --------------------------------------\n",
      "Global minimum: [0.41]\n",
      "Train Accuracy: 0.7439271255060729\n",
      "Test Accuracy: 0.7064220183486238\n",
      "Time: 133.874831199646\n",
      "-----------------------------------------------------------------------------------\n",
      "------------------------------------- Fold 6 --------------------------------------\n",
      "Global minimum: [0.41]\n",
      "Train Accuracy: 0.7388663967611336\n",
      "Test Accuracy: 0.7522935779816514\n",
      "Time: 133.5208601951599\n",
      "-----------------------------------------------------------------------------------\n",
      "------------------------------------- Fold 7 --------------------------------------\n",
      "Global minimum: [0.41]\n",
      "Train Accuracy: 0.7348178137651822\n",
      "Test Accuracy: 0.7889908256880734\n",
      "Time: 134.7301368713379\n",
      "-----------------------------------------------------------------------------------\n",
      "------------------------------------- Fold 8 --------------------------------------\n",
      "Global minimum: [0.41]\n",
      "Train Accuracy: 0.7408906882591093\n",
      "Test Accuracy: 0.7339449541284404\n",
      "Time: 120.86448788642883\n",
      "-----------------------------------------------------------------------------------\n",
      "------------------------------------- Fold 9 --------------------------------------\n",
      "Global minimum: [0.40935938]\n",
      "Train Accuracy: 0.7479757085020243\n",
      "Test Accuracy: 0.6697247706422018\n",
      "Time: 113.71601366996765\n",
      "-----------------------------------------------------------------------------------\n"
     ]
    }
   ],
   "source": [
    "from Scripts.OptimizeBruteForceKFold import OptimizeBruteForceKFold as OptimizeBruteForceKFold\n",
    "\n",
    "optimizeBruteForceKFold = OptimizeBruteForceKFold(settings.variables, settings.constraints, settings.sigma_mean_params)\n",
    "optimizeBruteForceKFold.worker(settings.variables)"
   ]
  }
 ],
 "metadata": {
  "kernelspec": {
   "display_name": "Python 3",
   "language": "python",
   "name": "python3"
  },
  "language_info": {
   "codemirror_mode": {
    "name": "ipython",
    "version": 3
   },
   "file_extension": ".py",
   "mimetype": "text/x-python",
   "name": "python",
   "nbconvert_exporter": "python",
   "pygments_lexer": "ipython3",
   "version": "3.5.5"
  }
 },
 "nbformat": 4,
 "nbformat_minor": 2
}
