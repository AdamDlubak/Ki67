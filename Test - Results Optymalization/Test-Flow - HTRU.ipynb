{
 "cells": [
  {
   "cell_type": "code",
   "execution_count": 1,
   "metadata": {
    "ExecuteTime": {
     "end_time": "2019-03-28T23:36:16.926221Z",
     "start_time": "2019-03-28T23:36:16.689220Z"
    }
   },
   "outputs": [],
   "source": [
    "import SettingsHTRU as settings"
   ]
  },
  {
   "cell_type": "markdown",
   "metadata": {},
   "source": [
    "##### Main Notebook - CSV"
   ]
  },
  {
   "cell_type": "code",
   "execution_count": 2,
   "metadata": {
    "ExecuteTime": {
     "end_time": "2019-03-28T23:44:04.678870Z",
     "start_time": "2019-03-28T23:36:16.931218Z"
    }
   },
   "outputs": [
    {
     "name": "stderr",
     "output_type": "stream",
     "text": [
      "23it [00:16,  1.40it/s]\n"
     ]
    },
    {
     "name": "stdout",
     "output_type": "stream",
     "text": [
      "Finished!\n"
     ]
    }
   ],
   "source": [
    "from Scripts.LoadCSV import LoadCSV as LoadCSV\n",
    "\n",
    "loadCSV = LoadCSV()\n",
    "loadCSV.workerCSV(settings.variables)"
   ]
  },
  {
   "cell_type": "markdown",
   "metadata": {},
   "source": [
    "##### Brute Force"
   ]
  },
  {
   "cell_type": "code",
   "execution_count": 3,
   "metadata": {
    "ExecuteTime": {
     "end_time": "2019-03-29T00:37:12.816909Z",
     "start_time": "2019-03-28T23:44:04.681871Z"
    }
   },
   "outputs": [
    {
     "name": "stdout",
     "output_type": "stream",
     "text": [
      "Global minimum: [0.298125]\n",
      "Function value at global minimum: 0.03471155189272246\n",
      "Accuracy: 0.9652884481072775\n",
      "Time: 3187.7830350399017\n"
     ]
    }
   ],
   "source": [
    "from Scripts.OptimizeBruteForce import OptimizeBruteForce as OptimizeBruteForce\n",
    "\n",
    "optimizeBruteForce = OptimizeBruteForce(settings.variables, settings.constraints, settings.sigma_mean_params)\n",
    "bruteforce_threshold = optimizeBruteForce.worker(settings.variables)"
   ]
  },
  {
   "cell_type": "markdown",
   "metadata": {},
   "source": [
    "##### PSO"
   ]
  },
  {
   "cell_type": "code",
   "execution_count": 4,
   "metadata": {
    "ExecuteTime": {
     "end_time": "2019-03-29T02:41:47.985713Z",
     "start_time": "2019-03-29T00:37:12.819908Z"
    }
   },
   "outputs": [
    {
     "name": "stderr",
     "output_type": "stream",
     "text": [
      "2019-03-29 01:37:13,332 - pyswarms.single.global_best - INFO - Optimize for 20 iters with {'c1': 0.5, 'w': 0.9, 'c2': 0.3}\n",
      "pyswarms.single.global_best: 100%|█████████████████████████████████████████████████████████████|20/20, best_cost=0.0347\n",
      "2019-03-29 03:41:47,749 - pyswarms.single.global_best - INFO - Optimization finished | best cost: 0.03471155189272246, best pos: [0.29882045]\n"
     ]
    },
    {
     "name": "stdout",
     "output_type": "stream",
     "text": [
      "Global minimum: [0.29882045]\n",
      "Function value at global minimum: 0.03471155189272246\n",
      "Accuracy: 0.9652884481072775\n",
      "Time: 7474.440794229507\n"
     ]
    },
    {
     "data": {
      "image/png": "[encoded data removed]",
      "text/plain": [
       "<Figure size 720x576 with 1 Axes>"
      ]
     },
     "metadata": {},
     "output_type": "display_data"
    },
    {
     "data": {
      "text/plain": [
       "array([0.29882045])"
      ]
     },
     "execution_count": 4,
     "metadata": {},
     "output_type": "execute_result"
    }
   ],
   "source": [
    "from Scripts.OptimizePSO import OptimizePSO as OptimizePSO\n",
    "\n",
    "optimizePSO = OptimizePSO(settings.variables, settings.swarm_size, settings.dim, settings.epsilon, settings.iters, settings.options, settings.borders, settings.sigma_mean_params)\n",
    "optimizePSO.worker(settings.variables)"
   ]
  },
  {
   "cell_type": "markdown",
   "metadata": {},
   "source": [
    "##### Value Train without optimalization"
   ]
  },
  {
   "cell_type": "code",
   "execution_count": 5,
   "metadata": {
    "ExecuteTime": {
     "end_time": "2019-03-29T02:42:05.551543Z",
     "start_time": "2019-03-29T02:41:47.987703Z"
    }
   },
   "outputs": [
    {
     "name": "stdout",
     "output_type": "stream",
     "text": [
      "Accuracy: 0.8990082413744936\n",
      "Precision: [0.47622759 0.99132063]\n",
      "Recall: [0.92296073 0.89656765]\n",
      "F-Score: [0.62827763 0.94156631]\n",
      "Support: [ 1324 12994]\n"
     ]
    }
   ],
   "source": [
    "from Scripts.ValueTrain import ValueTrain as ValueTrain\n",
    "valueTrain = ValueTrain(settings.variables, threshold_value = -1)\n",
    "valueTrain.worker(settings.variables)"
   ]
  },
  {
   "cell_type": "markdown",
   "metadata": {},
   "source": [
    "##### Value Train with optimalization"
   ]
  },
  {
   "cell_type": "code",
   "execution_count": 6,
   "metadata": {
    "ExecuteTime": {
     "end_time": "2019-03-29T02:42:23.355381Z",
     "start_time": "2019-03-29T02:42:05.553533Z"
    }
   },
   "outputs": [
    {
     "name": "stdout",
     "output_type": "stream",
     "text": [
      "Accuracy: 0.9652884481072775\n",
      "Precision: [0.81349507 0.98069082]\n",
      "Recall: [0.81042296 0.98106819]\n",
      "F-Score: [0.81195611 0.98087947]\n",
      "Support: [ 1324 12994]\n"
     ]
    }
   ],
   "source": [
    "from Scripts.ValueTrain import ValueTrain as ValueTrain\n",
    "\n",
    "valueTrain = ValueTrain(settings.variables, threshold_value = bruteforce_threshold)\n",
    "valueTrain.worker(settings.variables)"
   ]
  },
  {
   "cell_type": "markdown",
   "metadata": {},
   "source": [
    "##### Value Test without optimalization"
   ]
  },
  {
   "cell_type": "code",
   "execution_count": 7,
   "metadata": {
    "ExecuteTime": {
     "end_time": "2019-03-29T02:43:00.824016Z",
     "start_time": "2019-03-29T02:42:23.357382Z"
    }
   },
   "outputs": [
    {
     "name": "stdout",
     "output_type": "stream",
     "text": [
      "Accuracy: 0.8994413407821229\n",
      "Precision: [0.46293245 0.98856374]\n",
      "Recall: [0.89206349 0.90015314]\n",
      "F-Score: [0.60954447 0.9422892 ]\n",
      "Support: [ 315 3265]\n"
     ]
    }
   ],
   "source": [
    "from Scripts.ValueTest import ValueTest as ValueTest\n",
    "\n",
    "valueTest = ValueTest(settings.variables, threshold_value = -1)\n",
    "valueTest.worker(settings.variables)"
   ]
  },
  {
   "cell_type": "markdown",
   "metadata": {},
   "source": [
    "##### Value Test with optimalization"
   ]
  },
  {
   "cell_type": "code",
   "execution_count": 8,
   "metadata": {
    "ExecuteTime": {
     "end_time": "2019-03-29T02:43:38.084664Z",
     "start_time": "2019-03-29T02:43:00.826019Z"
    }
   },
   "outputs": [
    {
     "name": "stdout",
     "output_type": "stream",
     "text": [
      "Accuracy: 0.96731843575419\n",
      "Precision: [0.81329114 0.98223039]\n",
      "Recall: [0.81587302 0.98192956]\n",
      "F-Score: [0.81458003 0.98207995]\n",
      "Support: [ 315 3265]\n"
     ]
    }
   ],
   "source": [
    "from Scripts.ValueTest import ValueTest as ValueTest\n",
    "\n",
    "valueTest = ValueTest(settings.variables, threshold_value = bruteforce_threshold)\n",
    "valueTest.worker(settings.variables)"
   ]
  },
  {
   "cell_type": "markdown",
   "metadata": {},
   "source": [
    "##### PSO K-Fold"
   ]
  },
  {
   "cell_type": "code",
   "execution_count": null,
   "metadata": {
    "ExecuteTime": {
     "start_time": "2019-03-28T23:36:16.745Z"
    },
    "scrolled": true
   },
   "outputs": [
    {
     "name": "stderr",
     "output_type": "stream",
     "text": [
      "2019-03-29 03:43:38,300 - pyswarms.single.global_best - INFO - Optimize for 20 iters with {'c1': 0.5, 'w': 0.9, 'c2': 0.3}\n",
      "pyswarms.single.global_best:  75%|█████████████████████████████████████████████▊               |15/20, best_cost=0.0348"
     ]
    }
   ],
   "source": [
    "from Scripts.OptimizePSOKFold import OptimizePSOKFold as OptimizePSOKFold\n",
    "\n",
    "optimizePSOKFold = OptimizePSOKFold(settings.variables, settings.swarm_size, settings.dim, settings.epsilon, settings.iters, settings.options, settings.borders, settings.sigma_mean_params)\n",
    "optimizePSOKFold.worker(settings.variables)"
   ]
  },
  {
   "cell_type": "markdown",
   "metadata": {},
   "source": [
    "##### Brute Force K-Fold"
   ]
  },
  {
   "cell_type": "code",
   "execution_count": null,
   "metadata": {
    "ExecuteTime": {
     "start_time": "2019-03-28T23:36:16.751Z"
    }
   },
   "outputs": [],
   "source": [
    "from Scripts.OptimizeBruteForceKFold import OptimizeBruteForceKFold as OptimizeBruteForceKFold\n",
    "\n",
    "optimizeBruteForceKFold = OptimizeBruteForceKFold(settings.variables, settings.constraints, settings.sigma_mean_params)\n",
    "optimizeBruteForceKFold.worker(settings.variables)"
   ]
  }
 ],
 "metadata": {
  "kernelspec": {
   "display_name": "Python 3",
   "language": "python",
   "name": "python3"
  },
  "language_info": {
   "codemirror_mode": {
    "name": "ipython",
    "version": 3
   },
   "file_extension": ".py",
   "mimetype": "text/x-python",
   "name": "python",
   "nbconvert_exporter": "python",
   "pygments_lexer": "ipython3",
   "version": "3.5.5"
  }
 },
 "nbformat": 4,
 "nbformat_minor": 2
}
