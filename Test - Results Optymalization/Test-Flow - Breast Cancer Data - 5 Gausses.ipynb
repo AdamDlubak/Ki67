{
 "cells": [
  {
   "cell_type": "code",
   "execution_count": 1,
   "metadata": {
    "ExecuteTime": {
     "end_time": "2019-03-28T01:37:15.773917Z",
     "start_time": "2019-03-28T01:37:15.629922Z"
    }
   },
   "outputs": [],
   "source": [
    "import SettingsBreastCancerDataFiveGausses as settings"
   ]
  },
  {
   "cell_type": "markdown",
   "metadata": {},
   "source": [
    "##### Main Notebook - CSV"
   ]
  },
  {
   "cell_type": "code",
   "execution_count": 2,
   "metadata": {
    "ExecuteTime": {
     "end_time": "2019-03-28T01:37:57.622933Z",
     "start_time": "2019-03-28T01:37:15.775922Z"
    }
   },
   "outputs": [
    {
     "name": "stderr",
     "output_type": "stream",
     "text": [
      "C:\\Programy\\Anaconda\\envs\\py35\\lib\\site-packages\\matplotlib\\figure.py:445: UserWarning: Matplotlib is currently using module://ipykernel.pylab.backend_inline, which is a non-GUI backend, so cannot show the figure.\n",
      "  % get_backend())\n"
     ]
    },
    {
     "data": {
      "text/html": [
       "<div>\n",
       "<style scoped>\n",
       "    .dataframe tbody tr th:only-of-type {\n",
       "        vertical-align: middle;\n",
       "    }\n",
       "\n",
       "    .dataframe tbody tr th {\n",
       "        vertical-align: top;\n",
       "    }\n",
       "\n",
       "    .dataframe thead th {\n",
       "        text-align: right;\n",
       "    }\n",
       "</style>\n",
       "<table border=\"1\" class=\"dataframe\">\n",
       "  <thead>\n",
       "    <tr style=\"text-align: right;\">\n",
       "      <th></th>\n",
       "      <th>F0</th>\n",
       "      <th>F1</th>\n",
       "      <th>F2</th>\n",
       "      <th>F3</th>\n",
       "      <th>F4</th>\n",
       "      <th>Decision</th>\n",
       "      <th>Image</th>\n",
       "    </tr>\n",
       "  </thead>\n",
       "  <tbody>\n",
       "    <tr>\n",
       "      <th>562</th>\n",
       "      <td>Middle</td>\n",
       "      <td>High</td>\n",
       "      <td>Very High</td>\n",
       "      <td>Middle</td>\n",
       "      <td>Middle</td>\n",
       "      <td>Zero</td>\n",
       "      <td></td>\n",
       "    </tr>\n",
       "    <tr>\n",
       "      <th>212</th>\n",
       "      <td>High</td>\n",
       "      <td>Middle</td>\n",
       "      <td>High</td>\n",
       "      <td>High</td>\n",
       "      <td>Very High</td>\n",
       "      <td>Zero</td>\n",
       "      <td></td>\n",
       "    </tr>\n",
       "    <tr>\n",
       "      <th>547</th>\n",
       "      <td>Very Low</td>\n",
       "      <td>Very Low</td>\n",
       "      <td>Very Low</td>\n",
       "      <td>Very Low</td>\n",
       "      <td>Middle</td>\n",
       "      <td>One</td>\n",
       "      <td></td>\n",
       "    </tr>\n",
       "    <tr>\n",
       "      <th>177</th>\n",
       "      <td>Very High</td>\n",
       "      <td>Middle</td>\n",
       "      <td>Very High</td>\n",
       "      <td>Very High</td>\n",
       "      <td>Middle</td>\n",
       "      <td>Zero</td>\n",
       "      <td></td>\n",
       "    </tr>\n",
       "    <tr>\n",
       "      <th>2</th>\n",
       "      <td>Very High</td>\n",
       "      <td>Middle</td>\n",
       "      <td>Very High</td>\n",
       "      <td>High</td>\n",
       "      <td>Very High</td>\n",
       "      <td>Zero</td>\n",
       "      <td></td>\n",
       "    </tr>\n",
       "    <tr>\n",
       "      <th>316</th>\n",
       "      <td>Very Low</td>\n",
       "      <td>Very Low</td>\n",
       "      <td>Very Low</td>\n",
       "      <td>Very Low</td>\n",
       "      <td>Very Low</td>\n",
       "      <td>One</td>\n",
       "      <td></td>\n",
       "    </tr>\n",
       "    <tr>\n",
       "      <th>382</th>\n",
       "      <td>Very Low</td>\n",
       "      <td>Very High</td>\n",
       "      <td>Very Low</td>\n",
       "      <td>Very Low</td>\n",
       "      <td>Very Low</td>\n",
       "      <td>One</td>\n",
       "      <td></td>\n",
       "    </tr>\n",
       "    <tr>\n",
       "      <th>13</th>\n",
       "      <td>Very High</td>\n",
       "      <td>Very High</td>\n",
       "      <td>Very High</td>\n",
       "      <td>Very High</td>\n",
       "      <td>Very Low</td>\n",
       "      <td>Zero</td>\n",
       "      <td></td>\n",
       "    </tr>\n",
       "    <tr>\n",
       "      <th>367</th>\n",
       "      <td>Very Low</td>\n",
       "      <td>Middle</td>\n",
       "      <td>Very Low</td>\n",
       "      <td>Very Low</td>\n",
       "      <td>Middle</td>\n",
       "      <td>One</td>\n",
       "      <td></td>\n",
       "    </tr>\n",
       "    <tr>\n",
       "      <th>224</th>\n",
       "      <td>Middle</td>\n",
       "      <td>Middle</td>\n",
       "      <td>Middle</td>\n",
       "      <td>Middle</td>\n",
       "      <td>Very Low</td>\n",
       "      <td>One</td>\n",
       "      <td></td>\n",
       "    </tr>\n",
       "    <tr>\n",
       "      <th>248</th>\n",
       "      <td>Very Low</td>\n",
       "      <td>Very High</td>\n",
       "      <td>Very Low</td>\n",
       "      <td>Very Low</td>\n",
       "      <td>Middle</td>\n",
       "      <td>One</td>\n",
       "      <td></td>\n",
       "    </tr>\n",
       "    <tr>\n",
       "      <th>81</th>\n",
       "      <td>Middle</td>\n",
       "      <td>Very Low</td>\n",
       "      <td>Middle</td>\n",
       "      <td>Middle</td>\n",
       "      <td>Very High</td>\n",
       "      <td>One</td>\n",
       "      <td></td>\n",
       "    </tr>\n",
       "    <tr>\n",
       "      <th>71</th>\n",
       "      <td>Very Low</td>\n",
       "      <td>Very Low</td>\n",
       "      <td>Very Low</td>\n",
       "      <td>Very Low</td>\n",
       "      <td>Middle</td>\n",
       "      <td>One</td>\n",
       "      <td></td>\n",
       "    </tr>\n",
       "    <tr>\n",
       "      <th>428</th>\n",
       "      <td>Very Low</td>\n",
       "      <td>Very Low</td>\n",
       "      <td>Very Low</td>\n",
       "      <td>Very Low</td>\n",
       "      <td>Very Low</td>\n",
       "      <td>One</td>\n",
       "      <td></td>\n",
       "    </tr>\n",
       "    <tr>\n",
       "      <th>491</th>\n",
       "      <td>Very High</td>\n",
       "      <td>Very Low</td>\n",
       "      <td>Very High</td>\n",
       "      <td>Very High</td>\n",
       "      <td>Very Low</td>\n",
       "      <td>One</td>\n",
       "      <td></td>\n",
       "    </tr>\n",
       "    <tr>\n",
       "      <th>443</th>\n",
       "      <td>Very Low</td>\n",
       "      <td>Middle</td>\n",
       "      <td>Very Low</td>\n",
       "      <td>Very Low</td>\n",
       "      <td>Very Low</td>\n",
       "      <td>One</td>\n",
       "      <td></td>\n",
       "    </tr>\n",
       "    <tr>\n",
       "      <th>414</th>\n",
       "      <td>Middle</td>\n",
       "      <td>High</td>\n",
       "      <td>Middle</td>\n",
       "      <td>Middle</td>\n",
       "      <td>Very Low</td>\n",
       "      <td>Zero</td>\n",
       "      <td></td>\n",
       "    </tr>\n",
       "    <tr>\n",
       "      <th>241</th>\n",
       "      <td>Middle</td>\n",
       "      <td>Very Low</td>\n",
       "      <td>Very Low</td>\n",
       "      <td>Very Low</td>\n",
       "      <td>Very Low</td>\n",
       "      <td>One</td>\n",
       "      <td></td>\n",
       "    </tr>\n",
       "    <tr>\n",
       "      <th>205</th>\n",
       "      <td>Middle</td>\n",
       "      <td>Very Low</td>\n",
       "      <td>Middle</td>\n",
       "      <td>Middle</td>\n",
       "      <td>Middle</td>\n",
       "      <td>Zero</td>\n",
       "      <td></td>\n",
       "    </tr>\n",
       "    <tr>\n",
       "      <th>476</th>\n",
       "      <td>Middle</td>\n",
       "      <td>Middle</td>\n",
       "      <td>Middle</td>\n",
       "      <td>Middle</td>\n",
       "      <td>Middle</td>\n",
       "      <td>One</td>\n",
       "      <td></td>\n",
       "    </tr>\n",
       "    <tr>\n",
       "      <th>556</th>\n",
       "      <td>Very Low</td>\n",
       "      <td>Middle</td>\n",
       "      <td>Very Low</td>\n",
       "      <td>Very Low</td>\n",
       "      <td>Middle</td>\n",
       "      <td>One</td>\n",
       "      <td></td>\n",
       "    </tr>\n",
       "    <tr>\n",
       "      <th>64</th>\n",
       "      <td>Middle</td>\n",
       "      <td>Very High</td>\n",
       "      <td>Middle</td>\n",
       "      <td>Very Low</td>\n",
       "      <td>Very High</td>\n",
       "      <td>Zero</td>\n",
       "      <td></td>\n",
       "    </tr>\n",
       "    <tr>\n",
       "      <th>392</th>\n",
       "      <td>Middle</td>\n",
       "      <td>Middle</td>\n",
       "      <td>Middle</td>\n",
       "      <td>Middle</td>\n",
       "      <td>Very High</td>\n",
       "      <td>Zero</td>\n",
       "      <td></td>\n",
       "    </tr>\n",
       "    <tr>\n",
       "      <th>164</th>\n",
       "      <td>High</td>\n",
       "      <td>Very High</td>\n",
       "      <td>High</td>\n",
       "      <td>High</td>\n",
       "      <td>Very Low</td>\n",
       "      <td>Zero</td>\n",
       "      <td></td>\n",
       "    </tr>\n",
       "    <tr>\n",
       "      <th>247</th>\n",
       "      <td>Middle</td>\n",
       "      <td>Very Low</td>\n",
       "      <td>Middle</td>\n",
       "      <td>Very Low</td>\n",
       "      <td>Middle</td>\n",
       "      <td>One</td>\n",
       "      <td></td>\n",
       "    </tr>\n",
       "    <tr>\n",
       "      <th>245</th>\n",
       "      <td>Very Low</td>\n",
       "      <td>Middle</td>\n",
       "      <td>Very Low</td>\n",
       "      <td>Very Low</td>\n",
       "      <td>Middle</td>\n",
       "      <td>One</td>\n",
       "      <td></td>\n",
       "    </tr>\n",
       "    <tr>\n",
       "      <th>303</th>\n",
       "      <td>Very Low</td>\n",
       "      <td>Middle</td>\n",
       "      <td>Very Low</td>\n",
       "      <td>Very Low</td>\n",
       "      <td>Middle</td>\n",
       "      <td>One</td>\n",
       "      <td></td>\n",
       "    </tr>\n",
       "    <tr>\n",
       "      <th>521</th>\n",
       "      <td>High</td>\n",
       "      <td>Very High</td>\n",
       "      <td>High</td>\n",
       "      <td>High</td>\n",
       "      <td>Middle</td>\n",
       "      <td>Zero</td>\n",
       "      <td></td>\n",
       "    </tr>\n",
       "    <tr>\n",
       "      <th>181</th>\n",
       "      <td>High</td>\n",
       "      <td>Very High</td>\n",
       "      <td>High</td>\n",
       "      <td>High</td>\n",
       "      <td>Very High</td>\n",
       "      <td>Zero</td>\n",
       "      <td></td>\n",
       "    </tr>\n",
       "    <tr>\n",
       "      <th>502</th>\n",
       "      <td>Middle</td>\n",
       "      <td>Very Low</td>\n",
       "      <td>Middle</td>\n",
       "      <td>Very Low</td>\n",
       "      <td>Very High</td>\n",
       "      <td>One</td>\n",
       "      <td></td>\n",
       "    </tr>\n",
       "    <tr>\n",
       "      <th>...</th>\n",
       "      <td>...</td>\n",
       "      <td>...</td>\n",
       "      <td>...</td>\n",
       "      <td>...</td>\n",
       "      <td>...</td>\n",
       "      <td>...</td>\n",
       "      <td>...</td>\n",
       "    </tr>\n",
       "    <tr>\n",
       "      <th>149</th>\n",
       "      <td>Middle</td>\n",
       "      <td>Middle</td>\n",
       "      <td>Middle</td>\n",
       "      <td>Middle</td>\n",
       "      <td>Very Low</td>\n",
       "      <td>One</td>\n",
       "      <td></td>\n",
       "    </tr>\n",
       "    <tr>\n",
       "      <th>75</th>\n",
       "      <td>Very High</td>\n",
       "      <td>Middle</td>\n",
       "      <td>Very High</td>\n",
       "      <td>Very High</td>\n",
       "      <td>Middle</td>\n",
       "      <td>Zero</td>\n",
       "      <td></td>\n",
       "    </tr>\n",
       "    <tr>\n",
       "      <th>311</th>\n",
       "      <td>Middle</td>\n",
       "      <td>Very Low</td>\n",
       "      <td>Middle</td>\n",
       "      <td>Middle</td>\n",
       "      <td>Very Low</td>\n",
       "      <td>One</td>\n",
       "      <td></td>\n",
       "    </tr>\n",
       "    <tr>\n",
       "      <th>250</th>\n",
       "      <td>High</td>\n",
       "      <td>Very High</td>\n",
       "      <td>High</td>\n",
       "      <td>High</td>\n",
       "      <td>Middle</td>\n",
       "      <td>Zero</td>\n",
       "      <td></td>\n",
       "    </tr>\n",
       "    <tr>\n",
       "      <th>103</th>\n",
       "      <td>Very Low</td>\n",
       "      <td>Middle</td>\n",
       "      <td>Very Low</td>\n",
       "      <td>Very Low</td>\n",
       "      <td>Middle</td>\n",
       "      <td>One</td>\n",
       "      <td></td>\n",
       "    </tr>\n",
       "    <tr>\n",
       "      <th>196</th>\n",
       "      <td>Middle</td>\n",
       "      <td>Very High</td>\n",
       "      <td>Middle</td>\n",
       "      <td>Middle</td>\n",
       "      <td>Very High</td>\n",
       "      <td>Zero</td>\n",
       "      <td></td>\n",
       "    </tr>\n",
       "    <tr>\n",
       "      <th>70</th>\n",
       "      <td>Very High</td>\n",
       "      <td>Middle</td>\n",
       "      <td>Very High</td>\n",
       "      <td>Very High</td>\n",
       "      <td>Middle</td>\n",
       "      <td>Zero</td>\n",
       "      <td></td>\n",
       "    </tr>\n",
       "    <tr>\n",
       "      <th>43</th>\n",
       "      <td>Middle</td>\n",
       "      <td>Middle</td>\n",
       "      <td>Middle</td>\n",
       "      <td>Middle</td>\n",
       "      <td>Middle</td>\n",
       "      <td>Zero</td>\n",
       "      <td></td>\n",
       "    </tr>\n",
       "    <tr>\n",
       "      <th>424</th>\n",
       "      <td>Very Low</td>\n",
       "      <td>Middle</td>\n",
       "      <td>Very Low</td>\n",
       "      <td>Very Low</td>\n",
       "      <td>Middle</td>\n",
       "      <td>One</td>\n",
       "      <td></td>\n",
       "    </tr>\n",
       "    <tr>\n",
       "      <th>168</th>\n",
       "      <td>Very High</td>\n",
       "      <td>Very High</td>\n",
       "      <td>Very High</td>\n",
       "      <td>Very High</td>\n",
       "      <td>Middle</td>\n",
       "      <td>Zero</td>\n",
       "      <td></td>\n",
       "    </tr>\n",
       "    <tr>\n",
       "      <th>154</th>\n",
       "      <td>Middle</td>\n",
       "      <td>Very Low</td>\n",
       "      <td>Middle</td>\n",
       "      <td>Middle</td>\n",
       "      <td>Middle</td>\n",
       "      <td>One</td>\n",
       "      <td></td>\n",
       "    </tr>\n",
       "    <tr>\n",
       "      <th>292</th>\n",
       "      <td>Middle</td>\n",
       "      <td>Very Low</td>\n",
       "      <td>Middle</td>\n",
       "      <td>Very Low</td>\n",
       "      <td>Middle</td>\n",
       "      <td>One</td>\n",
       "      <td></td>\n",
       "    </tr>\n",
       "    <tr>\n",
       "      <th>162</th>\n",
       "      <td>Very High</td>\n",
       "      <td>Middle</td>\n",
       "      <td>Very High</td>\n",
       "      <td>High</td>\n",
       "      <td>Very High</td>\n",
       "      <td>Zero</td>\n",
       "      <td></td>\n",
       "    </tr>\n",
       "    <tr>\n",
       "      <th>300</th>\n",
       "      <td>Very High</td>\n",
       "      <td>Middle</td>\n",
       "      <td>Very High</td>\n",
       "      <td>High</td>\n",
       "      <td>Very High</td>\n",
       "      <td>Zero</td>\n",
       "      <td></td>\n",
       "    </tr>\n",
       "    <tr>\n",
       "      <th>204</th>\n",
       "      <td>Middle</td>\n",
       "      <td>Middle</td>\n",
       "      <td>Middle</td>\n",
       "      <td>Very Low</td>\n",
       "      <td>Middle</td>\n",
       "      <td>One</td>\n",
       "      <td></td>\n",
       "    </tr>\n",
       "    <tr>\n",
       "      <th>462</th>\n",
       "      <td>Middle</td>\n",
       "      <td>High</td>\n",
       "      <td>Middle</td>\n",
       "      <td>Middle</td>\n",
       "      <td>Very Low</td>\n",
       "      <td>One</td>\n",
       "      <td></td>\n",
       "    </tr>\n",
       "    <tr>\n",
       "      <th>396</th>\n",
       "      <td>Middle</td>\n",
       "      <td>Middle</td>\n",
       "      <td>Middle</td>\n",
       "      <td>Middle</td>\n",
       "      <td>Middle</td>\n",
       "      <td>One</td>\n",
       "      <td></td>\n",
       "    </tr>\n",
       "    <tr>\n",
       "      <th>474</th>\n",
       "      <td>Very Low</td>\n",
       "      <td>Very Low</td>\n",
       "      <td>Very Low</td>\n",
       "      <td>Very Low</td>\n",
       "      <td>Middle</td>\n",
       "      <td>One</td>\n",
       "      <td></td>\n",
       "    </tr>\n",
       "    <tr>\n",
       "      <th>39</th>\n",
       "      <td>Middle</td>\n",
       "      <td>Middle</td>\n",
       "      <td>Middle</td>\n",
       "      <td>Middle</td>\n",
       "      <td>Middle</td>\n",
       "      <td>Zero</td>\n",
       "      <td></td>\n",
       "    </tr>\n",
       "    <tr>\n",
       "      <th>290</th>\n",
       "      <td>Middle</td>\n",
       "      <td>Middle</td>\n",
       "      <td>Middle</td>\n",
       "      <td>Middle</td>\n",
       "      <td>Middle</td>\n",
       "      <td>One</td>\n",
       "      <td></td>\n",
       "    </tr>\n",
       "    <tr>\n",
       "      <th>187</th>\n",
       "      <td>Very Low</td>\n",
       "      <td>Middle</td>\n",
       "      <td>Very Low</td>\n",
       "      <td>Very Low</td>\n",
       "      <td>Middle</td>\n",
       "      <td>One</td>\n",
       "      <td></td>\n",
       "    </tr>\n",
       "    <tr>\n",
       "      <th>378</th>\n",
       "      <td>Middle</td>\n",
       "      <td>Very Low</td>\n",
       "      <td>Middle</td>\n",
       "      <td>Middle</td>\n",
       "      <td>Very Low</td>\n",
       "      <td>One</td>\n",
       "      <td></td>\n",
       "    </tr>\n",
       "    <tr>\n",
       "      <th>351</th>\n",
       "      <td>Middle</td>\n",
       "      <td>Middle</td>\n",
       "      <td>Very High</td>\n",
       "      <td>Middle</td>\n",
       "      <td>Very High</td>\n",
       "      <td>Zero</td>\n",
       "      <td></td>\n",
       "    </tr>\n",
       "    <tr>\n",
       "      <th>145</th>\n",
       "      <td>Very Low</td>\n",
       "      <td>Very Low</td>\n",
       "      <td>Very Low</td>\n",
       "      <td>Very Low</td>\n",
       "      <td>Very High</td>\n",
       "      <td>One</td>\n",
       "      <td></td>\n",
       "    </tr>\n",
       "    <tr>\n",
       "      <th>202</th>\n",
       "      <td>High</td>\n",
       "      <td>Very High</td>\n",
       "      <td>High</td>\n",
       "      <td>High</td>\n",
       "      <td>Very High</td>\n",
       "      <td>Zero</td>\n",
       "      <td></td>\n",
       "    </tr>\n",
       "    <tr>\n",
       "      <th>56</th>\n",
       "      <td>Very High</td>\n",
       "      <td>Middle</td>\n",
       "      <td>Very High</td>\n",
       "      <td>Very High</td>\n",
       "      <td>Middle</td>\n",
       "      <td>Zero</td>\n",
       "      <td></td>\n",
       "    </tr>\n",
       "    <tr>\n",
       "      <th>344</th>\n",
       "      <td>Very Low</td>\n",
       "      <td>Very Low</td>\n",
       "      <td>Very Low</td>\n",
       "      <td>Very Low</td>\n",
       "      <td>Very High</td>\n",
       "      <td>One</td>\n",
       "      <td></td>\n",
       "    </tr>\n",
       "    <tr>\n",
       "      <th>389</th>\n",
       "      <td>Very High</td>\n",
       "      <td>Very High</td>\n",
       "      <td>Very High</td>\n",
       "      <td>High</td>\n",
       "      <td>Middle</td>\n",
       "      <td>Zero</td>\n",
       "      <td></td>\n",
       "    </tr>\n",
       "    <tr>\n",
       "      <th>203</th>\n",
       "      <td>Middle</td>\n",
       "      <td>Very High</td>\n",
       "      <td>Middle</td>\n",
       "      <td>Middle</td>\n",
       "      <td>High</td>\n",
       "      <td>Zero</td>\n",
       "      <td></td>\n",
       "    </tr>\n",
       "    <tr>\n",
       "      <th>554</th>\n",
       "      <td>Middle</td>\n",
       "      <td>High</td>\n",
       "      <td>Middle</td>\n",
       "      <td>Very Low</td>\n",
       "      <td>Very Low</td>\n",
       "      <td>One</td>\n",
       "      <td></td>\n",
       "    </tr>\n",
       "  </tbody>\n",
       "</table>\n",
       "<p>455 rows × 7 columns</p>\n",
       "</div>"
      ],
      "text/plain": [
       "            F0         F1         F2         F3         F4 Decision Image\n",
       "562     Middle       High  Very High     Middle     Middle     Zero      \n",
       "212       High     Middle       High       High  Very High     Zero      \n",
       "547   Very Low   Very Low   Very Low   Very Low     Middle      One      \n",
       "177  Very High     Middle  Very High  Very High     Middle     Zero      \n",
       "2    Very High     Middle  Very High       High  Very High     Zero      \n",
       "316   Very Low   Very Low   Very Low   Very Low   Very Low      One      \n",
       "382   Very Low  Very High   Very Low   Very Low   Very Low      One      \n",
       "13   Very High  Very High  Very High  Very High   Very Low     Zero      \n",
       "367   Very Low     Middle   Very Low   Very Low     Middle      One      \n",
       "224     Middle     Middle     Middle     Middle   Very Low      One      \n",
       "248   Very Low  Very High   Very Low   Very Low     Middle      One      \n",
       "81      Middle   Very Low     Middle     Middle  Very High      One      \n",
       "71    Very Low   Very Low   Very Low   Very Low     Middle      One      \n",
       "428   Very Low   Very Low   Very Low   Very Low   Very Low      One      \n",
       "491  Very High   Very Low  Very High  Very High   Very Low      One      \n",
       "443   Very Low     Middle   Very Low   Very Low   Very Low      One      \n",
       "414     Middle       High     Middle     Middle   Very Low     Zero      \n",
       "241     Middle   Very Low   Very Low   Very Low   Very Low      One      \n",
       "205     Middle   Very Low     Middle     Middle     Middle     Zero      \n",
       "476     Middle     Middle     Middle     Middle     Middle      One      \n",
       "556   Very Low     Middle   Very Low   Very Low     Middle      One      \n",
       "64      Middle  Very High     Middle   Very Low  Very High     Zero      \n",
       "392     Middle     Middle     Middle     Middle  Very High     Zero      \n",
       "164       High  Very High       High       High   Very Low     Zero      \n",
       "247     Middle   Very Low     Middle   Very Low     Middle      One      \n",
       "245   Very Low     Middle   Very Low   Very Low     Middle      One      \n",
       "303   Very Low     Middle   Very Low   Very Low     Middle      One      \n",
       "521       High  Very High       High       High     Middle     Zero      \n",
       "181       High  Very High       High       High  Very High     Zero      \n",
       "502     Middle   Very Low     Middle   Very Low  Very High      One      \n",
       "..         ...        ...        ...        ...        ...      ...   ...\n",
       "149     Middle     Middle     Middle     Middle   Very Low      One      \n",
       "75   Very High     Middle  Very High  Very High     Middle     Zero      \n",
       "311     Middle   Very Low     Middle     Middle   Very Low      One      \n",
       "250       High  Very High       High       High     Middle     Zero      \n",
       "103   Very Low     Middle   Very Low   Very Low     Middle      One      \n",
       "196     Middle  Very High     Middle     Middle  Very High     Zero      \n",
       "70   Very High     Middle  Very High  Very High     Middle     Zero      \n",
       "43      Middle     Middle     Middle     Middle     Middle     Zero      \n",
       "424   Very Low     Middle   Very Low   Very Low     Middle      One      \n",
       "168  Very High  Very High  Very High  Very High     Middle     Zero      \n",
       "154     Middle   Very Low     Middle     Middle     Middle      One      \n",
       "292     Middle   Very Low     Middle   Very Low     Middle      One      \n",
       "162  Very High     Middle  Very High       High  Very High     Zero      \n",
       "300  Very High     Middle  Very High       High  Very High     Zero      \n",
       "204     Middle     Middle     Middle   Very Low     Middle      One      \n",
       "462     Middle       High     Middle     Middle   Very Low      One      \n",
       "396     Middle     Middle     Middle     Middle     Middle      One      \n",
       "474   Very Low   Very Low   Very Low   Very Low     Middle      One      \n",
       "39      Middle     Middle     Middle     Middle     Middle     Zero      \n",
       "290     Middle     Middle     Middle     Middle     Middle      One      \n",
       "187   Very Low     Middle   Very Low   Very Low     Middle      One      \n",
       "378     Middle   Very Low     Middle     Middle   Very Low      One      \n",
       "351     Middle     Middle  Very High     Middle  Very High     Zero      \n",
       "145   Very Low   Very Low   Very Low   Very Low  Very High      One      \n",
       "202       High  Very High       High       High  Very High     Zero      \n",
       "56   Very High     Middle  Very High  Very High     Middle     Zero      \n",
       "344   Very Low   Very Low   Very Low   Very Low  Very High      One      \n",
       "389  Very High  Very High  Very High       High     Middle     Zero      \n",
       "203     Middle  Very High     Middle     Middle       High     Zero      \n",
       "554     Middle       High     Middle   Very Low   Very Low      One      \n",
       "\n",
       "[455 rows x 7 columns]"
      ]
     },
     "metadata": {},
     "output_type": "display_data"
    },
    {
     "name": "stderr",
     "output_type": "stream",
     "text": [
      "31it [00:07,  4.12it/s]\n"
     ]
    },
    {
     "name": "stdout",
     "output_type": "stream",
     "text": [
      "Finished!\n"
     ]
    }
   ],
   "source": [
    "from Scripts.LoadCSV import LoadCSV as LoadCSV\n",
    "\n",
    "loadCSV = LoadCSV()\n",
    "loadCSV.workerCSV(settings.variables)"
   ]
  },
  {
   "cell_type": "markdown",
   "metadata": {},
   "source": [
    "##### Brute Force"
   ]
  },
  {
   "cell_type": "code",
   "execution_count": 3,
   "metadata": {
    "ExecuteTime": {
     "end_time": "2019-03-28T01:38:49.523414Z",
     "start_time": "2019-03-28T01:37:57.624915Z"
    }
   },
   "outputs": [
    {
     "name": "stdout",
     "output_type": "stream",
     "text": [
      "Global minimum: [0.3119375]\n",
      "Function value at global minimum: 0.24615384615384617\n",
      "Accuracy: 0.7538461538461538\n",
      "Time: 51.70349979400635\n"
     ]
    }
   ],
   "source": [
    "from Scripts.OptimizeBruteForce import OptimizeBruteForce as OptimizeBruteForce\n",
    "\n",
    "optimizeBruteForce = OptimizeBruteForce(settings.variables, settings.constraints, settings.sigma_mean_params)\n",
    "bruteforce_threshold = optimizeBruteForce.worker(settings.variables)"
   ]
  },
  {
   "cell_type": "markdown",
   "metadata": {},
   "source": [
    "##### PSO"
   ]
  },
  {
   "cell_type": "code",
   "execution_count": 4,
   "metadata": {
    "ExecuteTime": {
     "end_time": "2019-03-28T01:41:45.215215Z",
     "start_time": "2019-03-28T01:38:49.525416Z"
    }
   },
   "outputs": [
    {
     "name": "stderr",
     "output_type": "stream",
     "text": [
      "2019-03-28 02:38:49,893 - pyswarms.single.global_best - INFO - Optimize for 20 iters with {'c2': 0.3, 'c1': 0.5, 'w': 0.9}\n",
      "pyswarms.single.global_best: 100%|██████████████████████████████████████████████████████████████|20/20, best_cost=0.248\n",
      "2019-03-28 02:41:44,969 - pyswarms.single.global_best - INFO - Optimization finished | best cost: 0.24835164835164836, best pos: [0.31252726]\n"
     ]
    },
    {
     "name": "stdout",
     "output_type": "stream",
     "text": [
      "Global minimum: [0.31252726]\n",
      "Function value at global minimum: 0.24835164835164836\n",
      "Accuracy: 0.7516483516483516\n",
      "Time: 175.08776545524597\n"
     ]
    },
    {
     "data": {
      "image/png": "[encoded data removed]",
      "text/plain": [
       "<Figure size 720x576 with 1 Axes>"
      ]
     },
     "metadata": {},
     "output_type": "display_data"
    },
    {
     "data": {
      "text/plain": [
       "array([0.31252726])"
      ]
     },
     "execution_count": 4,
     "metadata": {},
     "output_type": "execute_result"
    }
   ],
   "source": [
    "from Scripts.OptimizePSO import OptimizePSO as OptimizePSO\n",
    "\n",
    "optimizePSO = OptimizePSO(settings.variables, settings.swarm_size, settings.dim, settings.epsilon, settings.iters, settings.options, settings.borders, settings.sigma_mean_params)\n",
    "optimizePSO.worker(settings.variables)"
   ]
  },
  {
   "cell_type": "markdown",
   "metadata": {},
   "source": [
    "##### Value Train without optimalization"
   ]
  },
  {
   "cell_type": "code",
   "execution_count": 5,
   "metadata": {
    "ExecuteTime": {
     "end_time": "2019-03-28T01:41:45.846198Z",
     "start_time": "2019-03-28T01:41:45.217214Z"
    }
   },
   "outputs": [
    {
     "name": "stdout",
     "output_type": "stream",
     "text": [
      "Accuracy: 0.7186813186813187\n",
      "Precision: [0.79335793 0.60869565]\n",
      "Recall: [0.74912892 0.66666667]\n",
      "F-Score: [0.77060932 0.63636364]\n",
      "Support: [287 168]\n"
     ]
    }
   ],
   "source": [
    "from Scripts.ValueTrain import ValueTrain as ValueTrain\n",
    "valueTrain = ValueTrain(settings.variables, threshold_value = -1)\n",
    "valueTrain.worker(settings.variables)"
   ]
  },
  {
   "cell_type": "markdown",
   "metadata": {},
   "source": [
    "##### Value Train with optimalization"
   ]
  },
  {
   "cell_type": "code",
   "execution_count": 6,
   "metadata": {
    "ExecuteTime": {
     "end_time": "2019-03-28T01:41:46.466199Z",
     "start_time": "2019-03-28T01:41:45.848198Z"
    }
   },
   "outputs": [
    {
     "name": "stdout",
     "output_type": "stream",
     "text": [
      "Accuracy: 0.7538461538461538\n",
      "Precision: [0.76923077 0.71538462]\n",
      "Recall: [0.87108014 0.55357143]\n",
      "F-Score: [0.81699346 0.62416107]\n",
      "Support: [287 168]\n"
     ]
    }
   ],
   "source": [
    "from Scripts.ValueTrain import ValueTrain as ValueTrain\n",
    "\n",
    "valueTrain = ValueTrain(settings.variables, threshold_value = bruteforce_threshold)\n",
    "valueTrain.worker(settings.variables)"
   ]
  },
  {
   "cell_type": "markdown",
   "metadata": {},
   "source": [
    "##### Value Test without optimalization"
   ]
  },
  {
   "cell_type": "code",
   "execution_count": 7,
   "metadata": {
    "ExecuteTime": {
     "end_time": "2019-03-28T01:41:47.672202Z",
     "start_time": "2019-03-28T01:41:46.468200Z"
    }
   },
   "outputs": [
    {
     "name": "stdout",
     "output_type": "stream",
     "text": [
      "Accuracy: 0.7017543859649122\n",
      "Precision: [0.76470588 0.60869565]\n",
      "Recall: [0.74285714 0.63636364]\n",
      "F-Score: [0.75362319 0.62222222]\n",
      "Support: [70 44]\n"
     ]
    }
   ],
   "source": [
    "from Scripts.ValueTest import ValueTest as ValueTest\n",
    "\n",
    "valueTest = ValueTest(settings.variables, threshold_value = -1)\n",
    "valueTest.worker(settings.variables)"
   ]
  },
  {
   "cell_type": "markdown",
   "metadata": {},
   "source": [
    "##### Value Test with optimalization"
   ]
  },
  {
   "cell_type": "code",
   "execution_count": 8,
   "metadata": {
    "ExecuteTime": {
     "end_time": "2019-03-28T01:41:48.871205Z",
     "start_time": "2019-03-28T01:41:47.674204Z"
    }
   },
   "outputs": [
    {
     "name": "stdout",
     "output_type": "stream",
     "text": [
      "Accuracy: 0.7631578947368421\n",
      "Precision: [0.74712644 0.81481481]\n",
      "Recall: [0.92857143 0.5       ]\n",
      "F-Score: [0.82802548 0.61971831]\n",
      "Support: [70 44]\n"
     ]
    }
   ],
   "source": [
    "from Scripts.ValueTest import ValueTest as ValueTest\n",
    "\n",
    "valueTest = ValueTest(settings.variables, threshold_value = bruteforce_threshold)\n",
    "valueTest.worker(settings.variables)"
   ]
  },
  {
   "cell_type": "markdown",
   "metadata": {},
   "source": [
    "##### PSO K-Fold"
   ]
  },
  {
   "cell_type": "code",
   "execution_count": 9,
   "metadata": {
    "ExecuteTime": {
     "end_time": "2019-03-28T02:08:21.343877Z",
     "start_time": "2019-03-28T01:41:48.873199Z"
    },
    "scrolled": true
   },
   "outputs": [
    {
     "name": "stderr",
     "output_type": "stream",
     "text": [
      "2019-03-28 02:41:49,080 - pyswarms.single.global_best - INFO - Optimize for 20 iters with {'c2': 0.3, 'c1': 0.5, 'w': 0.9}\n",
      "pyswarms.single.global_best: 100%|██████████████████████████████████████████████████████████████|20/20, best_cost=0.244\n",
      "2019-03-28 02:44:39,963 - pyswarms.single.global_best - INFO - Optimization finished | best cost: 0.24395604395604398, best pos: [0.31056466]\n"
     ]
    },
    {
     "name": "stdout",
     "output_type": "stream",
     "text": [
      "------------------------------------- Fold 0 --------------------------------------\n",
      "Global minimum: [0.31056466]\n",
      "Train Accuracy: 0.756043956043956\n",
      "Test Accuracy: 0.8043478260869565\n",
      "Time: 170.93872833251953\n",
      "-----------------------------------------------------------------------------------\n"
     ]
    },
    {
     "name": "stderr",
     "output_type": "stream",
     "text": [
      "2019-03-28 02:44:40,044 - pyswarms.single.global_best - INFO - Optimize for 20 iters with {'c2': 0.3, 'c1': 0.5, 'w': 0.9}\n",
      "pyswarms.single.global_best: 100%|██████████████████████████████████████████████████████████████|20/20, best_cost=0.244\n",
      "2019-03-28 02:47:24,281 - pyswarms.single.global_best - INFO - Optimization finished | best cost: 0.24395604395604398, best pos: [0.31056466]\n"
     ]
    },
    {
     "name": "stdout",
     "output_type": "stream",
     "text": [
      "------------------------------------- Fold 1 --------------------------------------\n",
      "Global minimum: [0.31056466]\n",
      "Train Accuracy: 0.756043956043956\n",
      "Test Accuracy: 0.782608695652174\n",
      "Time: 164.29257082939148\n",
      "-----------------------------------------------------------------------------------\n"
     ]
    },
    {
     "name": "stderr",
     "output_type": "stream",
     "text": [
      "2019-03-28 02:47:24,370 - pyswarms.single.global_best - INFO - Optimize for 20 iters with {'c2': 0.3, 'c1': 0.5, 'w': 0.9}\n",
      "pyswarms.single.global_best: 100%|██████████████████████████████████████████████████████████████|20/20, best_cost=0.244\n",
      "2019-03-28 02:50:07,458 - pyswarms.single.global_best - INFO - Optimization finished | best cost: 0.24395604395604398, best pos: [0.31056466]\n"
     ]
    },
    {
     "name": "stdout",
     "output_type": "stream",
     "text": [
      "------------------------------------- Fold 2 --------------------------------------\n",
      "Global minimum: [0.31056466]\n",
      "Train Accuracy: 0.756043956043956\n",
      "Test Accuracy: 0.8043478260869565\n",
      "Time: 163.14801931381226\n",
      "-----------------------------------------------------------------------------------\n"
     ]
    },
    {
     "name": "stderr",
     "output_type": "stream",
     "text": [
      "2019-03-28 02:50:07,538 - pyswarms.single.global_best - INFO - Optimize for 20 iters with {'c2': 0.3, 'c1': 0.5, 'w': 0.9}\n",
      "pyswarms.single.global_best: 100%|██████████████████████████████████████████████████████████████|20/20, best_cost=0.244\n",
      "2019-03-28 02:52:50,991 - pyswarms.single.global_best - INFO - Optimization finished | best cost: 0.24395604395604398, best pos: [0.31056466]\n"
     ]
    },
    {
     "name": "stdout",
     "output_type": "stream",
     "text": [
      "------------------------------------- Fold 3 --------------------------------------\n",
      "Global minimum: [0.31056466]\n",
      "Train Accuracy: 0.756043956043956\n",
      "Test Accuracy: 0.6521739130434783\n",
      "Time: 163.50199580192566\n",
      "-----------------------------------------------------------------------------------\n"
     ]
    },
    {
     "name": "stderr",
     "output_type": "stream",
     "text": [
      "2019-03-28 02:52:51,066 - pyswarms.single.global_best - INFO - Optimize for 20 iters with {'c2': 0.3, 'c1': 0.5, 'w': 0.9}\n",
      "pyswarms.single.global_best: 100%|██████████████████████████████████████████████████████████████|20/20, best_cost=0.244\n",
      "2019-03-28 02:55:26,901 - pyswarms.single.global_best - INFO - Optimization finished | best cost: 0.24395604395604398, best pos: [0.31056466]\n"
     ]
    },
    {
     "name": "stdout",
     "output_type": "stream",
     "text": [
      "------------------------------------- Fold 4 --------------------------------------\n",
      "Global minimum: [0.31056466]\n",
      "Train Accuracy: 0.756043956043956\n",
      "Test Accuracy: 0.7608695652173914\n",
      "Time: 155.8853144645691\n",
      "-----------------------------------------------------------------------------------\n"
     ]
    },
    {
     "name": "stderr",
     "output_type": "stream",
     "text": [
      "2019-03-28 02:55:26,975 - pyswarms.single.global_best - INFO - Optimize for 20 iters with {'c2': 0.3, 'c1': 0.5, 'w': 0.9}\n",
      "pyswarms.single.global_best: 100%|██████████████████████████████████████████████████████████████|20/20, best_cost=0.244\n",
      "2019-03-28 02:58:01,244 - pyswarms.single.global_best - INFO - Optimization finished | best cost: 0.24395604395604398, best pos: [0.31056466]\n"
     ]
    },
    {
     "name": "stdout",
     "output_type": "stream",
     "text": [
      "------------------------------------- Fold 5 --------------------------------------\n",
      "Global minimum: [0.31056466]\n",
      "Train Accuracy: 0.756043956043956\n",
      "Test Accuracy: 0.7391304347826086\n",
      "Time: 154.31698203086853\n",
      "-----------------------------------------------------------------------------------\n"
     ]
    },
    {
     "name": "stderr",
     "output_type": "stream",
     "text": [
      "2019-03-28 02:58:01,317 - pyswarms.single.global_best - INFO - Optimize for 20 iters with {'c2': 0.3, 'c1': 0.5, 'w': 0.9}\n",
      "pyswarms.single.global_best: 100%|██████████████████████████████████████████████████████████████|20/20, best_cost=0.244\n",
      "2019-03-28 03:00:35,253 - pyswarms.single.global_best - INFO - Optimization finished | best cost: 0.24395604395604398, best pos: [0.31056466]\n"
     ]
    },
    {
     "name": "stdout",
     "output_type": "stream",
     "text": [
      "------------------------------------- Fold 6 --------------------------------------\n",
      "Global minimum: [0.31056466]\n",
      "Train Accuracy: 0.756043956043956\n",
      "Test Accuracy: 0.782608695652174\n",
      "Time: 153.98741173744202\n",
      "-----------------------------------------------------------------------------------\n"
     ]
    },
    {
     "name": "stderr",
     "output_type": "stream",
     "text": [
      "2019-03-28 03:00:35,333 - pyswarms.single.global_best - INFO - Optimize for 20 iters with {'c2': 0.3, 'c1': 0.5, 'w': 0.9}\n",
      "pyswarms.single.global_best: 100%|██████████████████████████████████████████████████████████████|20/20, best_cost=0.244\n",
      "2019-03-28 03:03:09,052 - pyswarms.single.global_best - INFO - Optimization finished | best cost: 0.24395604395604398, best pos: [0.31056466]\n"
     ]
    },
    {
     "name": "stdout",
     "output_type": "stream",
     "text": [
      "------------------------------------- Fold 7 --------------------------------------\n",
      "Global minimum: [0.31056466]\n",
      "Train Accuracy: 0.756043956043956\n",
      "Test Accuracy: 0.7333333333333333\n",
      "Time: 153.76798272132874\n",
      "-----------------------------------------------------------------------------------\n"
     ]
    },
    {
     "name": "stderr",
     "output_type": "stream",
     "text": [
      "2019-03-28 03:03:09,125 - pyswarms.single.global_best - INFO - Optimize for 20 iters with {'c2': 0.3, 'c1': 0.5, 'w': 0.9}\n",
      "pyswarms.single.global_best: 100%|██████████████████████████████████████████████████████████████|20/20, best_cost=0.244\n",
      "2019-03-28 03:05:42,995 - pyswarms.single.global_best - INFO - Optimization finished | best cost: 0.24395604395604398, best pos: [0.31056466]\n"
     ]
    },
    {
     "name": "stdout",
     "output_type": "stream",
     "text": [
      "------------------------------------- Fold 8 --------------------------------------\n",
      "Global minimum: [0.31056466]\n",
      "Train Accuracy: 0.756043956043956\n",
      "Test Accuracy: 0.6818181818181818\n",
      "Time: 153.92436838150024\n",
      "-----------------------------------------------------------------------------------\n"
     ]
    },
    {
     "name": "stderr",
     "output_type": "stream",
     "text": [
      "2019-03-28 03:05:43,076 - pyswarms.single.global_best - INFO - Optimize for 20 iters with {'c2': 0.3, 'c1': 0.5, 'w': 0.9}\n",
      "pyswarms.single.global_best: 100%|██████████████████████████████████████████████████████████████|20/20, best_cost=0.244\n",
      "2019-03-28 03:08:21,280 - pyswarms.single.global_best - INFO - Optimization finished | best cost: 0.24395604395604398, best pos: [0.31056466]\n"
     ]
    },
    {
     "name": "stdout",
     "output_type": "stream",
     "text": [
      "------------------------------------- Fold 9 --------------------------------------\n",
      "Global minimum: [0.31056466]\n",
      "Train Accuracy: 0.756043956043956\n",
      "Test Accuracy: 0.8181818181818182\n",
      "Time: 158.25224018096924\n",
      "-----------------------------------------------------------------------------------\n"
     ]
    }
   ],
   "source": [
    "from Scripts.OptimizePSOKFold import OptimizePSOKFold as OptimizePSOKFold\n",
    "\n",
    "optimizePSOKFold = OptimizePSOKFold(settings.variables, settings.swarm_size, settings.dim, settings.epsilon, settings.iters, settings.options, settings.borders, settings.sigma_mean_params)\n",
    "optimizePSOKFold.worker(settings.variables)"
   ]
  },
  {
   "cell_type": "markdown",
   "metadata": {},
   "source": [
    "##### Brute Force K-Fold"
   ]
  },
  {
   "cell_type": "code",
   "execution_count": 10,
   "metadata": {
    "ExecuteTime": {
     "end_time": "2019-03-28T02:15:15.964214Z",
     "start_time": "2019-03-28T02:08:21.345854Z"
    }
   },
   "outputs": [
    {
     "name": "stdout",
     "output_type": "stream",
     "text": [
      "------------------------------------- Fold 0 --------------------------------------\n",
      "Global minimum: [0.31072656]\n",
      "Train Accuracy: 0.7506112469437652\n",
      "Test Accuracy: 0.8043478260869565\n",
      "Time: 40.103034257888794\n",
      "-----------------------------------------------------------------------------------\n",
      "------------------------------------- Fold 1 --------------------------------------\n",
      "Global minimum: [0.32]\n",
      "Train Accuracy: 0.7506112469437652\n",
      "Test Accuracy: 0.7391304347826086\n",
      "Time: 41.00861835479736\n",
      "-----------------------------------------------------------------------------------\n",
      "------------------------------------- Fold 2 --------------------------------------\n",
      "Global minimum: [0.306125]\n",
      "Train Accuracy: 0.7506112469437652\n",
      "Test Accuracy: 0.7608695652173914\n",
      "Time: 40.50791049003601\n",
      "-----------------------------------------------------------------------------------\n",
      "------------------------------------- Fold 3 --------------------------------------\n",
      "Global minimum: [0.3119375]\n",
      "Train Accuracy: 0.7652811735941321\n",
      "Test Accuracy: 0.6521739130434783\n",
      "Time: 41.964998960494995\n",
      "-----------------------------------------------------------------------------------\n",
      "------------------------------------- Fold 4 --------------------------------------\n",
      "Global minimum: [0.3119375]\n",
      "Train Accuracy: 0.7530562347188264\n",
      "Test Accuracy: 0.7608695652173914\n",
      "Time: 41.45020294189453\n",
      "-----------------------------------------------------------------------------------\n",
      "------------------------------------- Fold 5 --------------------------------------\n",
      "Global minimum: [0.3119375]\n",
      "Train Accuracy: 0.7555012224938875\n",
      "Test Accuracy: 0.7391304347826086\n",
      "Time: 41.954001665115356\n",
      "-----------------------------------------------------------------------------------\n",
      "------------------------------------- Fold 6 --------------------------------------\n",
      "Global minimum: [0.3119375]\n",
      "Train Accuracy: 0.7506112469437652\n",
      "Test Accuracy: 0.782608695652174\n",
      "Time: 41.637991189956665\n",
      "-----------------------------------------------------------------------------------\n",
      "------------------------------------- Fold 7 --------------------------------------\n",
      "Global minimum: [0.3119375]\n",
      "Train Accuracy: 0.7560975609756098\n",
      "Test Accuracy: 0.7333333333333333\n",
      "Time: 41.84800839424133\n",
      "-----------------------------------------------------------------------------------\n",
      "------------------------------------- Fold 8 --------------------------------------\n",
      "Global minimum: [0.3119375]\n",
      "Train Accuracy: 0.7639902676399026\n",
      "Test Accuracy: 0.6590909090909091\n",
      "Time: 42.45160508155823\n",
      "-----------------------------------------------------------------------------------\n",
      "------------------------------------- Fold 9 --------------------------------------\n",
      "Global minimum: [0.30975781]\n",
      "Train Accuracy: 0.7518248175182481\n",
      "Test Accuracy: 0.7727272727272727\n",
      "Time: 41.24903321266174\n",
      "-----------------------------------------------------------------------------------\n"
     ]
    }
   ],
   "source": [
    "from Scripts.OptimizeBruteForceKFold import OptimizeBruteForceKFold as OptimizeBruteForceKFold\n",
    "\n",
    "optimizeBruteForceKFold = OptimizeBruteForceKFold(settings.variables, settings.constraints, settings.sigma_mean_params)\n",
    "optimizeBruteForceKFold.worker(settings.variables)"
   ]
  }
 ],
 "metadata": {
  "kernelspec": {
   "display_name": "Python 3",
   "language": "python",
   "name": "python3"
  },
  "language_info": {
   "codemirror_mode": {
    "name": "ipython",
    "version": 3
   },
   "file_extension": ".py",
   "mimetype": "text/x-python",
   "name": "python",
   "nbconvert_exporter": "python",
   "pygments_lexer": "ipython3",
   "version": "3.5.5"
  }
 },
 "nbformat": 4,
 "nbformat_minor": 2
}
