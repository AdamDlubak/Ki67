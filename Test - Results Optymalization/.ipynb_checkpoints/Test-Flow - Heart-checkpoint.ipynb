{
 "cells": [
  {
   "cell_type": "code",
   "execution_count": 1,
   "metadata": {
    "ExecuteTime": {
     "end_time": "2019-03-28T07:59:56.227495Z",
     "start_time": "2019-03-28T07:59:56.071498Z"
    }
   },
   "outputs": [],
   "source": [
    "import SettingsHeart as settings"
   ]
  },
  {
   "cell_type": "markdown",
   "metadata": {},
   "source": [
    "##### Main Notebook - CSV"
   ]
  },
  {
   "cell_type": "code",
   "execution_count": 2,
   "metadata": {
    "ExecuteTime": {
     "end_time": "2019-03-28T08:01:41.069512Z",
     "start_time": "2019-03-28T07:59:56.229497Z"
    }
   },
   "outputs": [
    {
     "name": "stderr",
     "output_type": "stream",
     "text": [
      "116it [00:47,  2.45it/s]\n"
     ]
    },
    {
     "name": "stdout",
     "output_type": "stream",
     "text": [
      "Finished!\n"
     ]
    }
   ],
   "source": [
    "from Scripts.LoadCSV import LoadCSV as LoadCSV\n",
    "\n",
    "loadCSV = LoadCSV()\n",
    "loadCSV.workerCSV(settings.variables)"
   ]
  },
  {
   "cell_type": "code",
   "execution_count": null,
   "metadata": {},
   "outputs": [],
   "source": [
    "rules_extractor = RulesExtractor(decision_table_with_reduct, reductor.reduct, variables)\n",
    "rules, feature_names = rules_extractor.worker(decision_table_with_reduct, features, d_results, decision)\n",
    "pickle.dump(rules, open(variables[\"backup_folder\"] + \"rules.p\", \"wb\"))\n",
    "pickle.dump(rules_extractor, open(variables[\"backup_folder\"] + \"rules_extractor.p\", \"wb\"))\n",
    "\n",
    "if rules is None:\n",
    "    return None, feature_names, features_table, features, decision\n",
    "else:\n",
    "    return rules, feature_names, features_table, features, decision"
   ]
  },
  {
   "cell_type": "markdown",
   "metadata": {},
   "source": [
    "##### Brute Force"
   ]
  },
  {
   "cell_type": "code",
   "execution_count": 3,
   "metadata": {
    "ExecuteTime": {
     "end_time": "2019-03-28T08:02:08.562497Z",
     "start_time": "2019-03-28T08:01:41.071517Z"
    }
   },
   "outputs": [
    {
     "name": "stdout",
     "output_type": "stream",
     "text": [
      "Global minimum: [0.44]\n",
      "Function value at global minimum: 0.18595041322314054\n",
      "Accuracy: 0.8140495867768595\n",
      "Time: 27.27300500869751\n"
     ]
    }
   ],
   "source": [
    "from Scripts.OptimizeBruteForce import OptimizeBruteForce as OptimizeBruteForce\n",
    "\n",
    "optimizeBruteForce = OptimizeBruteForce(settings.variables, settings.constraints, settings.sigma_mean_params)\n",
    "bruteforce_threshold = optimizeBruteForce.worker(settings.variables)"
   ]
  },
  {
   "cell_type": "markdown",
   "metadata": {},
   "source": [
    "##### PSO"
   ]
  },
  {
   "cell_type": "code",
   "execution_count": 4,
   "metadata": {
    "ExecuteTime": {
     "end_time": "2019-03-28T08:03:37.328498Z",
     "start_time": "2019-03-28T08:02:08.564497Z"
    }
   },
   "outputs": [
    {
     "name": "stderr",
     "output_type": "stream",
     "text": [
      "2019-03-28 09:02:08,976 - pyswarms.single.global_best - INFO - Optimize for 20 iters with {'c2': 0.3, 'c1': 0.5, 'w': 0.9}\n",
      "pyswarms.single.global_best: 100%|██████████████████████████████████████████████████████████████|20/20, best_cost=0.186\n",
      "2019-03-28 09:03:37,018 - pyswarms.single.global_best - INFO - Optimization finished | best cost: 0.18595041322314054, best pos: [0.43596319]\n"
     ]
    },
    {
     "name": "stdout",
     "output_type": "stream",
     "text": [
      "Global minimum: [0.43596319]\n",
      "Function value at global minimum: 0.18595041322314054\n",
      "Accuracy: 0.8140495867768595\n",
      "Time: 88.06400036811829\n"
     ]
    },
    {
     "data": {
      "image/png": "[encoded data removed]",
      "text/plain": [
       "<Figure size 720x576 with 1 Axes>"
      ]
     },
     "metadata": {},
     "output_type": "display_data"
    },
    {
     "data": {
      "text/plain": [
       "array([0.43596319])"
      ]
     },
     "execution_count": 4,
     "metadata": {},
     "output_type": "execute_result"
    }
   ],
   "source": [
    "from Scripts.OptimizePSO import OptimizePSO as OptimizePSO\n",
    "\n",
    "optimizePSO = OptimizePSO(settings.variables, settings.swarm_size, settings.dim, settings.epsilon, settings.iters, settings.options, settings.borders, settings.sigma_mean_params)\n",
    "optimizePSO.worker(settings.variables)"
   ]
  },
  {
   "cell_type": "markdown",
   "metadata": {},
   "source": [
    "##### Value Train without optimalization"
   ]
  },
  {
   "cell_type": "code",
   "execution_count": 5,
   "metadata": {
    "ExecuteTime": {
     "end_time": "2019-03-28T08:03:37.835498Z",
     "start_time": "2019-03-28T08:03:37.331506Z"
    }
   },
   "outputs": [
    {
     "name": "stdout",
     "output_type": "stream",
     "text": [
      "Accuracy: 0.8140495867768595\n",
      "Precision: [1.         0.71518987]\n",
      "Recall: [0.65116279 1.        ]\n",
      "F-Score: [0.78873239 0.83394834]\n",
      "Support: [129 113]\n"
     ]
    }
   ],
   "source": [
    "from Scripts.ValueTrain import ValueTrain as ValueTrain\n",
    "valueTrain = ValueTrain(settings.variables, threshold_value = -1)\n",
    "valueTrain.worker(settings.variables)"
   ]
  },
  {
   "cell_type": "markdown",
   "metadata": {},
   "source": [
    "##### Value Test without optimalization"
   ]
  },
  {
   "cell_type": "code",
   "execution_count": 6,
   "metadata": {
    "ExecuteTime": {
     "end_time": "2019-03-28T08:03:43.606502Z",
     "start_time": "2019-03-28T08:03:37.836497Z"
    }
   },
   "outputs": [
    {
     "name": "stdout",
     "output_type": "stream",
     "text": [
      "Accuracy: 0.5081967213114754\n",
      "Precision: [0.58333333 0.4       ]\n",
      "Recall: [0.58333333 0.4       ]\n",
      "F-Score: [0.58333333 0.4       ]\n",
      "Support: [36 25]\n"
     ]
    }
   ],
   "source": [
    "from Scripts.ValueTest import ValueTest as ValueTest\n",
    "\n",
    "valueTest = ValueTest(settings.variables, threshold_value = -1)\n",
    "valueTest.worker(settings.variables)"
   ]
  },
  {
   "cell_type": "markdown",
   "metadata": {},
   "source": [
    "##### Value Train with optimalization"
   ]
  },
  {
   "cell_type": "code",
   "execution_count": 7,
   "metadata": {
    "ExecuteTime": {
     "end_time": "2019-03-28T08:03:44.068496Z",
     "start_time": "2019-03-28T08:03:43.610499Z"
    }
   },
   "outputs": [
    {
     "name": "stdout",
     "output_type": "stream",
     "text": [
      "Accuracy: 0.8140495867768595\n",
      "Precision: [1.         0.71518987]\n",
      "Recall: [0.65116279 1.        ]\n",
      "F-Score: [0.78873239 0.83394834]\n",
      "Support: [129 113]\n"
     ]
    }
   ],
   "source": [
    "from Scripts.ValueTrain import ValueTrain as ValueTrain\n",
    "\n",
    "valueTrain = ValueTrain(settings.variables, threshold_value = bruteforce_threshold)\n",
    "valueTrain.worker(settings.variables)"
   ]
  },
  {
   "cell_type": "markdown",
   "metadata": {},
   "source": [
    "##### Value Test with optimalization"
   ]
  },
  {
   "cell_type": "code",
   "execution_count": 8,
   "metadata": {
    "ExecuteTime": {
     "end_time": "2019-03-28T08:03:50.258054Z",
     "start_time": "2019-03-28T08:03:44.070502Z"
    }
   },
   "outputs": [
    {
     "name": "stdout",
     "output_type": "stream",
     "text": [
      "Accuracy: 0.5245901639344263\n",
      "Precision: [0.59459459 0.41666667]\n",
      "Recall: [0.61111111 0.4       ]\n",
      "F-Score: [0.60273973 0.40816327]\n",
      "Support: [36 25]\n"
     ]
    }
   ],
   "source": [
    "from Scripts.ValueTest import ValueTest as ValueTest\n",
    "\n",
    "valueTest = ValueTest(settings.variables, threshold_value = bruteforce_threshold)\n",
    "valueTest.worker(settings.variables)"
   ]
  },
  {
   "cell_type": "markdown",
   "metadata": {},
   "source": [
    "##### PSO K-Fold"
   ]
  },
  {
   "cell_type": "code",
   "execution_count": 9,
   "metadata": {
    "ExecuteTime": {
     "end_time": "2019-03-28T08:18:15.119119Z",
     "start_time": "2019-03-28T08:03:50.260055Z"
    },
    "scrolled": true
   },
   "outputs": [
    {
     "name": "stderr",
     "output_type": "stream",
     "text": [
      "2019-03-28 09:03:50,486 - pyswarms.single.global_best - INFO - Optimize for 20 iters with {'c2': 0.3, 'c1': 0.5, 'w': 0.9}\n",
      "pyswarms.single.global_best: 100%|██████████████████████████████████████████████████████████████|20/20, best_cost=0.186\n",
      "2019-03-28 09:05:22,251 - pyswarms.single.global_best - INFO - Optimization finished | best cost: 0.18595041322314054, best pos: [0.43979179]\n"
     ]
    },
    {
     "name": "stdout",
     "output_type": "stream",
     "text": [
      "------------------------------------- Fold 0 --------------------------------------\n",
      "Global minimum: [0.43979179]\n",
      "Train Accuracy: 0.8140495867768595\n",
      "Test Accuracy: 0.8\n",
      "Time: 91.81130576133728\n",
      "-----------------------------------------------------------------------------------\n"
     ]
    },
    {
     "name": "stderr",
     "output_type": "stream",
     "text": [
      "2019-03-28 09:05:22,329 - pyswarms.single.global_best - INFO - Optimize for 20 iters with {'c2': 0.3, 'c1': 0.5, 'w': 0.9}\n",
      "pyswarms.single.global_best: 100%|██████████████████████████████████████████████████████████████|20/20, best_cost=0.186\n",
      "2019-03-28 09:06:49,537 - pyswarms.single.global_best - INFO - Optimization finished | best cost: 0.18595041322314054, best pos: [0.43979179]\n"
     ]
    },
    {
     "name": "stdout",
     "output_type": "stream",
     "text": [
      "------------------------------------- Fold 1 --------------------------------------\n",
      "Global minimum: [0.43979179]\n",
      "Train Accuracy: 0.8140495867768595\n",
      "Test Accuracy: 0.8\n",
      "Time: 87.26198363304138\n",
      "-----------------------------------------------------------------------------------\n"
     ]
    },
    {
     "name": "stderr",
     "output_type": "stream",
     "text": [
      "2019-03-28 09:06:49,626 - pyswarms.single.global_best - INFO - Optimize for 20 iters with {'c2': 0.3, 'c1': 0.5, 'w': 0.9}\n",
      "pyswarms.single.global_best: 100%|██████████████████████████████████████████████████████████████|20/20, best_cost=0.186\n",
      "2019-03-28 09:08:17,935 - pyswarms.single.global_best - INFO - Optimization finished | best cost: 0.18595041322314054, best pos: [0.43979179]\n"
     ]
    },
    {
     "name": "stdout",
     "output_type": "stream",
     "text": [
      "------------------------------------- Fold 2 --------------------------------------\n",
      "Global minimum: [0.43979179]\n",
      "Train Accuracy: 0.8140495867768595\n",
      "Test Accuracy: 0.8\n",
      "Time: 88.36298727989197\n",
      "-----------------------------------------------------------------------------------\n"
     ]
    },
    {
     "name": "stderr",
     "output_type": "stream",
     "text": [
      "2019-03-28 09:08:18,011 - pyswarms.single.global_best - INFO - Optimize for 20 iters with {'c2': 0.3, 'c1': 0.5, 'w': 0.9}\n",
      "pyswarms.single.global_best: 100%|██████████████████████████████████████████████████████████████|20/20, best_cost=0.186\n",
      "2019-03-28 09:09:44,493 - pyswarms.single.global_best - INFO - Optimization finished | best cost: 0.18595041322314054, best pos: [0.43979179]\n"
     ]
    },
    {
     "name": "stdout",
     "output_type": "stream",
     "text": [
      "------------------------------------- Fold 3 --------------------------------------\n",
      "Global minimum: [0.43979179]\n",
      "Train Accuracy: 0.8140495867768595\n",
      "Test Accuracy: 0.75\n",
      "Time: 86.52599906921387\n",
      "-----------------------------------------------------------------------------------\n"
     ]
    },
    {
     "name": "stderr",
     "output_type": "stream",
     "text": [
      "2019-03-28 09:09:44,572 - pyswarms.single.global_best - INFO - Optimize for 20 iters with {'c2': 0.3, 'c1': 0.5, 'w': 0.9}\n",
      "pyswarms.single.global_best: 100%|██████████████████████████████████████████████████████████████|20/20, best_cost=0.186\n",
      "2019-03-28 09:11:09,697 - pyswarms.single.global_best - INFO - Optimization finished | best cost: 0.18595041322314054, best pos: [0.43979179]\n"
     ]
    },
    {
     "name": "stdout",
     "output_type": "stream",
     "text": [
      "------------------------------------- Fold 4 --------------------------------------\n",
      "Global minimum: [0.43979179]\n",
      "Train Accuracy: 0.8140495867768595\n",
      "Test Accuracy: 0.7916666666666666\n",
      "Time: 85.17298245429993\n",
      "-----------------------------------------------------------------------------------\n"
     ]
    },
    {
     "name": "stderr",
     "output_type": "stream",
     "text": [
      "2019-03-28 09:11:09,772 - pyswarms.single.global_best - INFO - Optimize for 20 iters with {'c2': 0.3, 'c1': 0.5, 'w': 0.9}\n",
      "pyswarms.single.global_best: 100%|██████████████████████████████████████████████████████████████|20/20, best_cost=0.186\n",
      "2019-03-28 09:12:34,421 - pyswarms.single.global_best - INFO - Optimization finished | best cost: 0.18595041322314054, best pos: [0.43979179]\n"
     ]
    },
    {
     "name": "stdout",
     "output_type": "stream",
     "text": [
      "------------------------------------- Fold 5 --------------------------------------\n",
      "Global minimum: [0.43979179]\n",
      "Train Accuracy: 0.8140495867768595\n",
      "Test Accuracy: 0.7916666666666666\n",
      "Time: 84.69101119041443\n",
      "-----------------------------------------------------------------------------------\n"
     ]
    },
    {
     "name": "stderr",
     "output_type": "stream",
     "text": [
      "2019-03-28 09:12:34,495 - pyswarms.single.global_best - INFO - Optimize for 20 iters with {'c2': 0.3, 'c1': 0.5, 'w': 0.9}\n",
      "pyswarms.single.global_best: 100%|██████████████████████████████████████████████████████████████|20/20, best_cost=0.186\n",
      "2019-03-28 09:13:59,405 - pyswarms.single.global_best - INFO - Optimization finished | best cost: 0.18595041322314054, best pos: [0.43979179]\n"
     ]
    },
    {
     "name": "stdout",
     "output_type": "stream",
     "text": [
      "------------------------------------- Fold 6 --------------------------------------\n",
      "Global minimum: [0.43979179]\n",
      "Train Accuracy: 0.8140495867768595\n",
      "Test Accuracy: 0.7916666666666666\n",
      "Time: 84.95400285720825\n",
      "-----------------------------------------------------------------------------------\n"
     ]
    },
    {
     "name": "stderr",
     "output_type": "stream",
     "text": [
      "2019-03-28 09:13:59,476 - pyswarms.single.global_best - INFO - Optimize for 20 iters with {'c2': 0.3, 'c1': 0.5, 'w': 0.9}\n",
      "pyswarms.single.global_best: 100%|██████████████████████████████████████████████████████████████|20/20, best_cost=0.186\n",
      "2019-03-28 09:15:23,550 - pyswarms.single.global_best - INFO - Optimization finished | best cost: 0.18595041322314054, best pos: [0.43979179]\n"
     ]
    },
    {
     "name": "stdout",
     "output_type": "stream",
     "text": [
      "------------------------------------- Fold 7 --------------------------------------\n",
      "Global minimum: [0.43979179]\n",
      "Train Accuracy: 0.8140495867768595\n",
      "Test Accuracy: 0.9166666666666666\n",
      "Time: 84.11601305007935\n",
      "-----------------------------------------------------------------------------------\n"
     ]
    },
    {
     "name": "stderr",
     "output_type": "stream",
     "text": [
      "2019-03-28 09:15:23,628 - pyswarms.single.global_best - INFO - Optimize for 20 iters with {'c2': 0.3, 'c1': 0.5, 'w': 0.9}\n",
      "pyswarms.single.global_best: 100%|██████████████████████████████████████████████████████████████|20/20, best_cost=0.186\n",
      "2019-03-28 09:16:47,565 - pyswarms.single.global_best - INFO - Optimization finished | best cost: 0.18595041322314054, best pos: [0.43979179]\n"
     ]
    },
    {
     "name": "stdout",
     "output_type": "stream",
     "text": [
      "------------------------------------- Fold 8 --------------------------------------\n",
      "Global minimum: [0.43979179]\n",
      "Train Accuracy: 0.8140495867768595\n",
      "Test Accuracy: 0.9166666666666666\n",
      "Time: 83.98999190330505\n",
      "-----------------------------------------------------------------------------------\n"
     ]
    },
    {
     "name": "stderr",
     "output_type": "stream",
     "text": [
      "2019-03-28 09:16:47,644 - pyswarms.single.global_best - INFO - Optimize for 20 iters with {'c2': 0.3, 'c1': 0.5, 'w': 0.9}\n",
      "pyswarms.single.global_best: 100%|██████████████████████████████████████████████████████████████|20/20, best_cost=0.186\n",
      "2019-03-28 09:18:15,061 - pyswarms.single.global_best - INFO - Optimization finished | best cost: 0.18595041322314054, best pos: [0.43979179]\n"
     ]
    },
    {
     "name": "stdout",
     "output_type": "stream",
     "text": [
      "------------------------------------- Fold 9 --------------------------------------\n",
      "Global minimum: [0.43979179]\n",
      "Train Accuracy: 0.8140495867768595\n",
      "Test Accuracy: 0.782608695652174\n",
      "Time: 87.45875000953674\n",
      "-----------------------------------------------------------------------------------\n"
     ]
    }
   ],
   "source": [
    "from Scripts.OptimizePSOKFold import OptimizePSOKFold as OptimizePSOKFold\n",
    "\n",
    "optimizePSOKFold = OptimizePSOKFold(settings.variables, settings.swarm_size, settings.dim, settings.epsilon, settings.iters, settings.options, settings.borders, settings.sigma_mean_params)\n",
    "optimizePSOKFold.worker(settings.variables)"
   ]
  },
  {
   "cell_type": "markdown",
   "metadata": {},
   "source": [
    "##### Brute Force K-Fold"
   ]
  },
  {
   "cell_type": "code",
   "execution_count": 10,
   "metadata": {
    "ExecuteTime": {
     "end_time": "2019-03-28T08:22:14.390117Z",
     "start_time": "2019-03-28T08:18:15.121120Z"
    }
   },
   "outputs": [
    {
     "name": "stdout",
     "output_type": "stream",
     "text": [
      "------------------------------------- Fold 0 --------------------------------------\n",
      "Global minimum: [0.44]\n",
      "Train Accuracy: 0.815668202764977\n",
      "Test Accuracy: 0.8\n",
      "Time: 24.361998081207275\n",
      "-----------------------------------------------------------------------------------\n",
      "------------------------------------- Fold 1 --------------------------------------\n",
      "Global minimum: [0.44]\n",
      "Train Accuracy: 0.815668202764977\n",
      "Test Accuracy: 0.8\n",
      "Time: 23.812021255493164\n",
      "-----------------------------------------------------------------------------------\n",
      "------------------------------------- Fold 2 --------------------------------------\n",
      "Global minimum: [0.44]\n",
      "Train Accuracy: 0.815668202764977\n",
      "Test Accuracy: 0.8\n",
      "Time: 23.82101082801819\n",
      "-----------------------------------------------------------------------------------\n",
      "------------------------------------- Fold 3 --------------------------------------\n",
      "Global minimum: [0.44]\n",
      "Train Accuracy: 0.8211009174311926\n",
      "Test Accuracy: 0.75\n",
      "Time: 23.540990352630615\n",
      "-----------------------------------------------------------------------------------\n",
      "------------------------------------- Fold 4 --------------------------------------\n",
      "Global minimum: [0.44]\n",
      "Train Accuracy: 0.8165137614678899\n",
      "Test Accuracy: 0.7916666666666666\n",
      "Time: 24.134995937347412\n",
      "-----------------------------------------------------------------------------------\n",
      "------------------------------------- Fold 5 --------------------------------------\n",
      "Global minimum: [0.44]\n",
      "Train Accuracy: 0.8165137614678899\n",
      "Test Accuracy: 0.7916666666666666\n",
      "Time: 23.83699893951416\n",
      "-----------------------------------------------------------------------------------\n",
      "------------------------------------- Fold 6 --------------------------------------\n",
      "Global minimum: [0.44]\n",
      "Train Accuracy: 0.8165137614678899\n",
      "Test Accuracy: 0.7916666666666666\n",
      "Time: 23.835981130599976\n",
      "-----------------------------------------------------------------------------------\n",
      "------------------------------------- Fold 7 --------------------------------------\n",
      "Global minimum: [0.44]\n",
      "Train Accuracy: 0.8027522935779816\n",
      "Test Accuracy: 0.9166666666666666\n",
      "Time: 24.103033781051636\n",
      "-----------------------------------------------------------------------------------\n",
      "------------------------------------- Fold 8 --------------------------------------\n",
      "Global minimum: [0.44]\n",
      "Train Accuracy: 0.8027522935779816\n",
      "Test Accuracy: 0.9166666666666666\n",
      "Time: 23.624018669128418\n",
      "-----------------------------------------------------------------------------------\n",
      "------------------------------------- Fold 9 --------------------------------------\n",
      "Global minimum: [0.44]\n",
      "Train Accuracy: 0.817351598173516\n",
      "Test Accuracy: 0.782608695652174\n",
      "Time: 23.70398783683777\n",
      "-----------------------------------------------------------------------------------\n"
     ]
    }
   ],
   "source": [
    "from Scripts.OptimizeBruteForceKFold import OptimizeBruteForceKFold as OptimizeBruteForceKFold\n",
    "\n",
    "optimizeBruteForceKFold = OptimizeBruteForceKFold(settings.variables, settings.constraints, settings.sigma_mean_params)\n",
    "optimizeBruteForceKFold.worker(settings.variables)"
   ]
  }
 ],
 "metadata": {
  "kernelspec": {
   "display_name": "Python 3",
   "language": "python",
   "name": "python3"
  },
  "language_info": {
   "codemirror_mode": {
    "name": "ipython",
    "version": 3
   },
   "file_extension": ".py",
   "mimetype": "text/x-python",
   "name": "python",
   "nbconvert_exporter": "python",
   "pygments_lexer": "ipython3",
   "version": "3.5.5"
  }
 },
 "nbformat": 4,
 "nbformat_minor": 2
}
