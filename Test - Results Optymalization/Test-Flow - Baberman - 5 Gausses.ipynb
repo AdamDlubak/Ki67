{
 "cells": [
  {
   "cell_type": "code",
   "execution_count": 1,
   "metadata": {
    "ExecuteTime": {
     "end_time": "2019-03-28T23:17:53.127527Z",
     "start_time": "2019-03-28T23:17:52.952534Z"
    }
   },
   "outputs": [],
   "source": [
    "import SettingsBabermanFiveGausses as settings"
   ]
  },
  {
   "cell_type": "markdown",
   "metadata": {},
   "source": [
    "##### Main Notebook - CSV"
   ]
  },
  {
   "cell_type": "code",
   "execution_count": 2,
   "metadata": {
    "ExecuteTime": {
     "end_time": "2019-03-28T23:18:25.470092Z",
     "start_time": "2019-03-28T23:17:53.130525Z"
    }
   },
   "outputs": [
    {
     "name": "stderr",
     "output_type": "stream",
     "text": [
      "C:\\Programy\\Anaconda\\envs\\py35\\lib\\site-packages\\matplotlib\\figure.py:445: UserWarning: Matplotlib is currently using module://ipykernel.pylab.backend_inline, which is a non-GUI backend, so cannot show the figure.\n",
      "  % get_backend())\n"
     ]
    },
    {
     "data": {
      "text/html": [
       "<div>\n",
       "<style scoped>\n",
       "    .dataframe tbody tr th:only-of-type {\n",
       "        vertical-align: middle;\n",
       "    }\n",
       "\n",
       "    .dataframe tbody tr th {\n",
       "        vertical-align: top;\n",
       "    }\n",
       "\n",
       "    .dataframe thead th {\n",
       "        text-align: right;\n",
       "    }\n",
       "</style>\n",
       "<table border=\"1\" class=\"dataframe\">\n",
       "  <thead>\n",
       "    <tr style=\"text-align: right;\">\n",
       "      <th></th>\n",
       "      <th>F0</th>\n",
       "      <th>F1</th>\n",
       "      <th>F2</th>\n",
       "      <th>Decision</th>\n",
       "      <th>Image</th>\n",
       "    </tr>\n",
       "  </thead>\n",
       "  <tbody>\n",
       "    <tr>\n",
       "      <th>134</th>\n",
       "      <td>Middle</td>\n",
       "      <td>Middle High</td>\n",
       "      <td>Middle</td>\n",
       "      <td>Zero</td>\n",
       "      <td></td>\n",
       "    </tr>\n",
       "    <tr>\n",
       "      <th>53</th>\n",
       "      <td>Middle Low</td>\n",
       "      <td>High</td>\n",
       "      <td>Middle Low</td>\n",
       "      <td>One</td>\n",
       "      <td></td>\n",
       "    </tr>\n",
       "    <tr>\n",
       "      <th>253</th>\n",
       "      <td>Middle High</td>\n",
       "      <td>Middle Low</td>\n",
       "      <td>Middle Low</td>\n",
       "      <td>Zero</td>\n",
       "      <td></td>\n",
       "    </tr>\n",
       "    <tr>\n",
       "      <th>257</th>\n",
       "      <td>Middle High</td>\n",
       "      <td>High</td>\n",
       "      <td>Middle Low</td>\n",
       "      <td>Zero</td>\n",
       "      <td></td>\n",
       "    </tr>\n",
       "    <tr>\n",
       "      <th>32</th>\n",
       "      <td>Middle Low</td>\n",
       "      <td>Middle Low</td>\n",
       "      <td>Middle Low</td>\n",
       "      <td>Zero</td>\n",
       "      <td></td>\n",
       "    </tr>\n",
       "    <tr>\n",
       "      <th>11</th>\n",
       "      <td>Middle Low</td>\n",
       "      <td>Middle Low</td>\n",
       "      <td>Middle High</td>\n",
       "      <td>Zero</td>\n",
       "      <td></td>\n",
       "    </tr>\n",
       "    <tr>\n",
       "      <th>95</th>\n",
       "      <td>Middle Low</td>\n",
       "      <td>Middle</td>\n",
       "      <td>Middle Low</td>\n",
       "      <td>Zero</td>\n",
       "      <td></td>\n",
       "    </tr>\n",
       "    <tr>\n",
       "      <th>224</th>\n",
       "      <td>Middle High</td>\n",
       "      <td>Middle High</td>\n",
       "      <td>Middle Low</td>\n",
       "      <td>One</td>\n",
       "      <td></td>\n",
       "    </tr>\n",
       "    <tr>\n",
       "      <th>290</th>\n",
       "      <td>Middle High</td>\n",
       "      <td>Middle Low</td>\n",
       "      <td>Middle High</td>\n",
       "      <td>Zero</td>\n",
       "      <td></td>\n",
       "    </tr>\n",
       "    <tr>\n",
       "      <th>261</th>\n",
       "      <td>Middle High</td>\n",
       "      <td>Middle High</td>\n",
       "      <td>High</td>\n",
       "      <td>One</td>\n",
       "      <td></td>\n",
       "    </tr>\n",
       "    <tr>\n",
       "      <th>51</th>\n",
       "      <td>Middle Low</td>\n",
       "      <td>Middle High</td>\n",
       "      <td>Middle Low</td>\n",
       "      <td>Zero</td>\n",
       "      <td></td>\n",
       "    </tr>\n",
       "    <tr>\n",
       "      <th>127</th>\n",
       "      <td>Middle</td>\n",
       "      <td>Middle Low</td>\n",
       "      <td>Middle High</td>\n",
       "      <td>Zero</td>\n",
       "      <td></td>\n",
       "    </tr>\n",
       "    <tr>\n",
       "      <th>248</th>\n",
       "      <td>Middle High</td>\n",
       "      <td>Middle</td>\n",
       "      <td>Middle Low</td>\n",
       "      <td>Zero</td>\n",
       "      <td></td>\n",
       "    </tr>\n",
       "    <tr>\n",
       "      <th>252</th>\n",
       "      <td>Middle High</td>\n",
       "      <td>Middle Low</td>\n",
       "      <td>High</td>\n",
       "      <td>Zero</td>\n",
       "      <td></td>\n",
       "    </tr>\n",
       "    <tr>\n",
       "      <th>87</th>\n",
       "      <td>Middle Low</td>\n",
       "      <td>High</td>\n",
       "      <td>Middle Low</td>\n",
       "      <td>Zero</td>\n",
       "      <td></td>\n",
       "    </tr>\n",
       "    <tr>\n",
       "      <th>239</th>\n",
       "      <td>Middle High</td>\n",
       "      <td>Middle Low</td>\n",
       "      <td>Middle Low</td>\n",
       "      <td>One</td>\n",
       "      <td></td>\n",
       "    </tr>\n",
       "    <tr>\n",
       "      <th>283</th>\n",
       "      <td>Middle High</td>\n",
       "      <td>Middle High</td>\n",
       "      <td>Middle Low</td>\n",
       "      <td>Zero</td>\n",
       "      <td></td>\n",
       "    </tr>\n",
       "    <tr>\n",
       "      <th>300</th>\n",
       "      <td>High</td>\n",
       "      <td>Middle</td>\n",
       "      <td>Middle Low</td>\n",
       "      <td>Zero</td>\n",
       "      <td></td>\n",
       "    </tr>\n",
       "    <tr>\n",
       "      <th>305</th>\n",
       "      <td>High</td>\n",
       "      <td>Middle Low</td>\n",
       "      <td>Middle Low</td>\n",
       "      <td>One</td>\n",
       "      <td></td>\n",
       "    </tr>\n",
       "    <tr>\n",
       "      <th>243</th>\n",
       "      <td>Middle High</td>\n",
       "      <td>Middle High</td>\n",
       "      <td>Middle Low</td>\n",
       "      <td>Zero</td>\n",
       "      <td></td>\n",
       "    </tr>\n",
       "    <tr>\n",
       "      <th>232</th>\n",
       "      <td>Middle High</td>\n",
       "      <td>Middle Low</td>\n",
       "      <td>Middle Low</td>\n",
       "      <td>Zero</td>\n",
       "      <td></td>\n",
       "    </tr>\n",
       "    <tr>\n",
       "      <th>125</th>\n",
       "      <td>Middle</td>\n",
       "      <td>Middle High</td>\n",
       "      <td>Middle Low</td>\n",
       "      <td>One</td>\n",
       "      <td></td>\n",
       "    </tr>\n",
       "    <tr>\n",
       "      <th>194</th>\n",
       "      <td>Middle</td>\n",
       "      <td>Middle High</td>\n",
       "      <td>Middle Low</td>\n",
       "      <td>Zero</td>\n",
       "      <td></td>\n",
       "    </tr>\n",
       "    <tr>\n",
       "      <th>304</th>\n",
       "      <td>High</td>\n",
       "      <td>Middle High</td>\n",
       "      <td>Middle Low</td>\n",
       "      <td>One</td>\n",
       "      <td></td>\n",
       "    </tr>\n",
       "    <tr>\n",
       "      <th>242</th>\n",
       "      <td>Middle High</td>\n",
       "      <td>Middle High</td>\n",
       "      <td>Middle Low</td>\n",
       "      <td>Zero</td>\n",
       "      <td></td>\n",
       "    </tr>\n",
       "    <tr>\n",
       "      <th>286</th>\n",
       "      <td>Middle High</td>\n",
       "      <td>Middle Low</td>\n",
       "      <td>Middle</td>\n",
       "      <td>One</td>\n",
       "      <td></td>\n",
       "    </tr>\n",
       "    <tr>\n",
       "      <th>163</th>\n",
       "      <td>Middle</td>\n",
       "      <td>Middle Low</td>\n",
       "      <td>Middle Low</td>\n",
       "      <td>Zero</td>\n",
       "      <td></td>\n",
       "    </tr>\n",
       "    <tr>\n",
       "      <th>25</th>\n",
       "      <td>Middle Low</td>\n",
       "      <td>Middle Low</td>\n",
       "      <td>Middle Low</td>\n",
       "      <td>Zero</td>\n",
       "      <td></td>\n",
       "    </tr>\n",
       "    <tr>\n",
       "      <th>168</th>\n",
       "      <td>Middle</td>\n",
       "      <td>Middle High</td>\n",
       "      <td>High</td>\n",
       "      <td>One</td>\n",
       "      <td></td>\n",
       "    </tr>\n",
       "    <tr>\n",
       "      <th>48</th>\n",
       "      <td>Middle Low</td>\n",
       "      <td>Middle Low</td>\n",
       "      <td>Middle Low</td>\n",
       "      <td>Zero</td>\n",
       "      <td></td>\n",
       "    </tr>\n",
       "    <tr>\n",
       "      <th>...</th>\n",
       "      <td>...</td>\n",
       "      <td>...</td>\n",
       "      <td>...</td>\n",
       "      <td>...</td>\n",
       "      <td>...</td>\n",
       "    </tr>\n",
       "    <tr>\n",
       "      <th>259</th>\n",
       "      <td>Middle High</td>\n",
       "      <td>Middle Low</td>\n",
       "      <td>Middle Low</td>\n",
       "      <td>One</td>\n",
       "      <td></td>\n",
       "    </tr>\n",
       "    <tr>\n",
       "      <th>200</th>\n",
       "      <td>Middle</td>\n",
       "      <td>Middle High</td>\n",
       "      <td>Middle High</td>\n",
       "      <td>Zero</td>\n",
       "      <td></td>\n",
       "    </tr>\n",
       "    <tr>\n",
       "      <th>245</th>\n",
       "      <td>Middle High</td>\n",
       "      <td>Middle Low</td>\n",
       "      <td>Middle Low</td>\n",
       "      <td>One</td>\n",
       "      <td></td>\n",
       "    </tr>\n",
       "    <tr>\n",
       "      <th>292</th>\n",
       "      <td>Middle High</td>\n",
       "      <td>High</td>\n",
       "      <td>Middle Low</td>\n",
       "      <td>Zero</td>\n",
       "      <td></td>\n",
       "    </tr>\n",
       "    <tr>\n",
       "      <th>86</th>\n",
       "      <td>Middle Low</td>\n",
       "      <td>Middle High</td>\n",
       "      <td>Middle Low</td>\n",
       "      <td>Zero</td>\n",
       "      <td></td>\n",
       "    </tr>\n",
       "    <tr>\n",
       "      <th>19</th>\n",
       "      <td>Middle Low</td>\n",
       "      <td>Middle</td>\n",
       "      <td>Middle Low</td>\n",
       "      <td>Zero</td>\n",
       "      <td></td>\n",
       "    </tr>\n",
       "    <tr>\n",
       "      <th>124</th>\n",
       "      <td>Middle</td>\n",
       "      <td>Middle</td>\n",
       "      <td>High</td>\n",
       "      <td>One</td>\n",
       "      <td></td>\n",
       "    </tr>\n",
       "    <tr>\n",
       "      <th>78</th>\n",
       "      <td>Middle Low</td>\n",
       "      <td>Middle Low</td>\n",
       "      <td>Middle Low</td>\n",
       "      <td>Zero</td>\n",
       "      <td></td>\n",
       "    </tr>\n",
       "    <tr>\n",
       "      <th>68</th>\n",
       "      <td>Middle Low</td>\n",
       "      <td>Middle High</td>\n",
       "      <td>Middle</td>\n",
       "      <td>Zero</td>\n",
       "      <td></td>\n",
       "    </tr>\n",
       "    <tr>\n",
       "      <th>240</th>\n",
       "      <td>Middle High</td>\n",
       "      <td>Middle High</td>\n",
       "      <td>High</td>\n",
       "      <td>One</td>\n",
       "      <td></td>\n",
       "    </tr>\n",
       "    <tr>\n",
       "      <th>271</th>\n",
       "      <td>Middle High</td>\n",
       "      <td>Middle Low</td>\n",
       "      <td>Middle Low</td>\n",
       "      <td>Zero</td>\n",
       "      <td></td>\n",
       "    </tr>\n",
       "    <tr>\n",
       "      <th>110</th>\n",
       "      <td>Middle</td>\n",
       "      <td>Middle Low</td>\n",
       "      <td>Middle High</td>\n",
       "      <td>Zero</td>\n",
       "      <td></td>\n",
       "    </tr>\n",
       "    <tr>\n",
       "      <th>54</th>\n",
       "      <td>Middle Low</td>\n",
       "      <td>Middle Low</td>\n",
       "      <td>Middle Low</td>\n",
       "      <td>One</td>\n",
       "      <td></td>\n",
       "    </tr>\n",
       "    <tr>\n",
       "      <th>10</th>\n",
       "      <td>Middle Low</td>\n",
       "      <td>Middle Low</td>\n",
       "      <td>Middle Low</td>\n",
       "      <td>Zero</td>\n",
       "      <td></td>\n",
       "    </tr>\n",
       "    <tr>\n",
       "      <th>182</th>\n",
       "      <td>Middle</td>\n",
       "      <td>Middle Low</td>\n",
       "      <td>Middle Low</td>\n",
       "      <td>Zero</td>\n",
       "      <td></td>\n",
       "    </tr>\n",
       "    <tr>\n",
       "      <th>101</th>\n",
       "      <td>Middle</td>\n",
       "      <td>Middle High</td>\n",
       "      <td>Middle Low</td>\n",
       "      <td>Zero</td>\n",
       "      <td></td>\n",
       "    </tr>\n",
       "    <tr>\n",
       "      <th>296</th>\n",
       "      <td>High</td>\n",
       "      <td>Middle High</td>\n",
       "      <td>Middle</td>\n",
       "      <td>Zero</td>\n",
       "      <td></td>\n",
       "    </tr>\n",
       "    <tr>\n",
       "      <th>213</th>\n",
       "      <td>Middle High</td>\n",
       "      <td>Middle Low</td>\n",
       "      <td>Middle</td>\n",
       "      <td>Zero</td>\n",
       "      <td></td>\n",
       "    </tr>\n",
       "    <tr>\n",
       "      <th>2</th>\n",
       "      <td>Low</td>\n",
       "      <td>Middle High</td>\n",
       "      <td>Middle Low</td>\n",
       "      <td>Zero</td>\n",
       "      <td></td>\n",
       "    </tr>\n",
       "    <tr>\n",
       "      <th>117</th>\n",
       "      <td>Middle</td>\n",
       "      <td>Middle</td>\n",
       "      <td>Middle Low</td>\n",
       "      <td>Zero</td>\n",
       "      <td></td>\n",
       "    </tr>\n",
       "    <tr>\n",
       "      <th>138</th>\n",
       "      <td>Middle</td>\n",
       "      <td>Middle High</td>\n",
       "      <td>Middle High</td>\n",
       "      <td>Zero</td>\n",
       "      <td></td>\n",
       "    </tr>\n",
       "    <tr>\n",
       "      <th>106</th>\n",
       "      <td>Middle</td>\n",
       "      <td>Middle High</td>\n",
       "      <td>Middle High</td>\n",
       "      <td>Zero</td>\n",
       "      <td></td>\n",
       "    </tr>\n",
       "    <tr>\n",
       "      <th>282</th>\n",
       "      <td>Middle High</td>\n",
       "      <td>Middle Low</td>\n",
       "      <td>Middle Low</td>\n",
       "      <td>Zero</td>\n",
       "      <td></td>\n",
       "    </tr>\n",
       "    <tr>\n",
       "      <th>212</th>\n",
       "      <td>Middle High</td>\n",
       "      <td>Middle Low</td>\n",
       "      <td>Middle Low</td>\n",
       "      <td>Zero</td>\n",
       "      <td></td>\n",
       "    </tr>\n",
       "    <tr>\n",
       "      <th>277</th>\n",
       "      <td>Middle High</td>\n",
       "      <td>Middle Low</td>\n",
       "      <td>Middle Low</td>\n",
       "      <td>Zero</td>\n",
       "      <td></td>\n",
       "    </tr>\n",
       "    <tr>\n",
       "      <th>83</th>\n",
       "      <td>Middle Low</td>\n",
       "      <td>Middle Low</td>\n",
       "      <td>Middle Low</td>\n",
       "      <td>Zero</td>\n",
       "      <td></td>\n",
       "    </tr>\n",
       "    <tr>\n",
       "      <th>82</th>\n",
       "      <td>Middle Low</td>\n",
       "      <td>Middle High</td>\n",
       "      <td>Middle Low</td>\n",
       "      <td>One</td>\n",
       "      <td></td>\n",
       "    </tr>\n",
       "    <tr>\n",
       "      <th>287</th>\n",
       "      <td>Middle High</td>\n",
       "      <td>Middle High</td>\n",
       "      <td>High</td>\n",
       "      <td>Zero</td>\n",
       "      <td></td>\n",
       "    </tr>\n",
       "    <tr>\n",
       "      <th>7</th>\n",
       "      <td>Middle Low</td>\n",
       "      <td>Middle Low</td>\n",
       "      <td>Middle Low</td>\n",
       "      <td>One</td>\n",
       "      <td></td>\n",
       "    </tr>\n",
       "    <tr>\n",
       "      <th>34</th>\n",
       "      <td>Middle Low</td>\n",
       "      <td>Middle High</td>\n",
       "      <td>Middle Low</td>\n",
       "      <td>One</td>\n",
       "      <td></td>\n",
       "    </tr>\n",
       "  </tbody>\n",
       "</table>\n",
       "<p>244 rows × 5 columns</p>\n",
       "</div>"
      ],
      "text/plain": [
       "            F0         F1         F2 Decision Image\n",
       "134     Middle  Middle High     Middle     Zero      \n",
       "53    Middle Low       High   Middle Low      One      \n",
       "253  Middle High   Middle Low   Middle Low     Zero      \n",
       "257  Middle High       High   Middle Low     Zero      \n",
       "32    Middle Low   Middle Low   Middle Low     Zero      \n",
       "11    Middle Low   Middle Low  Middle High     Zero      \n",
       "95    Middle Low     Middle   Middle Low     Zero      \n",
       "224  Middle High  Middle High   Middle Low      One      \n",
       "290  Middle High   Middle Low  Middle High     Zero      \n",
       "261  Middle High  Middle High       High      One      \n",
       "51    Middle Low  Middle High   Middle Low     Zero      \n",
       "127     Middle   Middle Low  Middle High     Zero      \n",
       "248  Middle High     Middle   Middle Low     Zero      \n",
       "252  Middle High   Middle Low       High     Zero      \n",
       "87    Middle Low       High   Middle Low     Zero      \n",
       "239  Middle High   Middle Low   Middle Low      One      \n",
       "283  Middle High  Middle High   Middle Low     Zero      \n",
       "300       High     Middle   Middle Low     Zero      \n",
       "305       High   Middle Low   Middle Low      One      \n",
       "243  Middle High  Middle High   Middle Low     Zero      \n",
       "232  Middle High   Middle Low   Middle Low     Zero      \n",
       "125     Middle  Middle High   Middle Low      One      \n",
       "194     Middle  Middle High   Middle Low     Zero      \n",
       "304       High  Middle High   Middle Low      One      \n",
       "242  Middle High  Middle High   Middle Low     Zero      \n",
       "286  Middle High   Middle Low     Middle      One      \n",
       "163     Middle   Middle Low   Middle Low     Zero      \n",
       "25    Middle Low   Middle Low   Middle Low     Zero      \n",
       "168     Middle  Middle High       High      One      \n",
       "48    Middle Low   Middle Low   Middle Low     Zero      \n",
       "..         ...        ...        ...      ...   ...\n",
       "259  Middle High   Middle Low   Middle Low      One      \n",
       "200     Middle  Middle High  Middle High     Zero      \n",
       "245  Middle High   Middle Low   Middle Low      One      \n",
       "292  Middle High       High   Middle Low     Zero      \n",
       "86    Middle Low  Middle High   Middle Low     Zero      \n",
       "19    Middle Low     Middle   Middle Low     Zero      \n",
       "124     Middle     Middle       High      One      \n",
       "78    Middle Low   Middle Low   Middle Low     Zero      \n",
       "68    Middle Low  Middle High     Middle     Zero      \n",
       "240  Middle High  Middle High       High      One      \n",
       "271  Middle High   Middle Low   Middle Low     Zero      \n",
       "110     Middle   Middle Low  Middle High     Zero      \n",
       "54    Middle Low   Middle Low   Middle Low      One      \n",
       "10    Middle Low   Middle Low   Middle Low     Zero      \n",
       "182     Middle   Middle Low   Middle Low     Zero      \n",
       "101     Middle  Middle High   Middle Low     Zero      \n",
       "296       High  Middle High     Middle     Zero      \n",
       "213  Middle High   Middle Low     Middle     Zero      \n",
       "2          Low  Middle High   Middle Low     Zero      \n",
       "117     Middle     Middle   Middle Low     Zero      \n",
       "138     Middle  Middle High  Middle High     Zero      \n",
       "106     Middle  Middle High  Middle High     Zero      \n",
       "282  Middle High   Middle Low   Middle Low     Zero      \n",
       "212  Middle High   Middle Low   Middle Low     Zero      \n",
       "277  Middle High   Middle Low   Middle Low     Zero      \n",
       "83    Middle Low   Middle Low   Middle Low     Zero      \n",
       "82    Middle Low  Middle High   Middle Low      One      \n",
       "287  Middle High  Middle High       High     Zero      \n",
       "7     Middle Low   Middle Low   Middle Low      One      \n",
       "34    Middle Low  Middle High   Middle Low      One      \n",
       "\n",
       "[244 rows x 5 columns]"
      ]
     },
     "metadata": {},
     "output_type": "display_data"
    },
    {
     "name": "stderr",
     "output_type": "stream",
     "text": [
      "12it [00:03,  3.84it/s]\n"
     ]
    },
    {
     "name": "stdout",
     "output_type": "stream",
     "text": [
      "Finished!\n"
     ]
    }
   ],
   "source": [
    "from Scripts.LoadCSV import LoadCSV as LoadCSV\n",
    "\n",
    "loadCSV = LoadCSV()\n",
    "loadCSV.workerCSV(settings.variables)"
   ]
  },
  {
   "cell_type": "markdown",
   "metadata": {},
   "source": [
    "##### Brute Force"
   ]
  },
  {
   "cell_type": "code",
   "execution_count": 3,
   "metadata": {
    "ExecuteTime": {
     "end_time": "2019-03-28T23:19:04.382887Z",
     "start_time": "2019-03-28T23:18:25.473089Z"
    }
   },
   "outputs": [
    {
     "name": "stdout",
     "output_type": "stream",
     "text": [
      "Global minimum: [0.5]\n",
      "Function value at global minimum: 0.2581967213114754\n",
      "Accuracy: 0.7418032786885246\n",
      "Time: 38.618794679641724\n"
     ]
    }
   ],
   "source": [
    "from Scripts.OptimizeBruteForce import OptimizeBruteForce as OptimizeBruteForce\n",
    "\n",
    "optimizeBruteForce = OptimizeBruteForce(settings.variables, settings.constraints, settings.sigma_mean_params)\n",
    "bruteforce_threshold = optimizeBruteForce.worker(settings.variables)"
   ]
  },
  {
   "cell_type": "markdown",
   "metadata": {},
   "source": [
    "##### PSO"
   ]
  },
  {
   "cell_type": "code",
   "execution_count": 4,
   "metadata": {
    "ExecuteTime": {
     "end_time": "2019-03-28T23:20:59.774561Z",
     "start_time": "2019-03-28T23:19:04.384888Z"
    }
   },
   "outputs": [
    {
     "name": "stderr",
     "output_type": "stream",
     "text": [
      "2019-03-29 00:19:04,849 - pyswarms.single.global_best - INFO - Optimize for 20 iters with {'c1': 0.5, 'w': 0.9, 'c2': 0.3}\n",
      "pyswarms.single.global_best: 100%|██████████████████████████████████████████████████████████████|20/20, best_cost=0.258\n",
      "2019-03-29 00:20:59,509 - pyswarms.single.global_best - INFO - Optimization finished | best cost: 0.2581967213114754, best pos: [0.80603349]\n"
     ]
    },
    {
     "name": "stdout",
     "output_type": "stream",
     "text": [
      "Global minimum: [0.80603349]\n",
      "Function value at global minimum: 0.2581967213114754\n",
      "Accuracy: 0.7418032786885246\n",
      "Time: 114.6746768951416\n"
     ]
    },
    {
     "data": {
      "image/png": "[encoded data removed]",
      "text/plain": [
       "<Figure size 720x576 with 1 Axes>"
      ]
     },
     "metadata": {},
     "output_type": "display_data"
    },
    {
     "data": {
      "text/plain": [
       "array([0.80603349])"
      ]
     },
     "execution_count": 4,
     "metadata": {},
     "output_type": "execute_result"
    }
   ],
   "source": [
    "from Scripts.OptimizePSO import OptimizePSO as OptimizePSO\n",
    "\n",
    "optimizePSO = OptimizePSO(settings.variables, settings.swarm_size, settings.dim, settings.epsilon, settings.iters, settings.options, settings.borders, settings.sigma_mean_params)\n",
    "optimizePSO.worker(settings.variables)"
   ]
  },
  {
   "cell_type": "markdown",
   "metadata": {},
   "source": [
    "##### Value Train without optimalization"
   ]
  },
  {
   "cell_type": "code",
   "execution_count": 5,
   "metadata": {
    "ExecuteTime": {
     "end_time": "2019-03-28T23:21:00.250560Z",
     "start_time": "2019-03-28T23:20:59.777560Z"
    }
   },
   "outputs": [
    {
     "name": "stdout",
     "output_type": "stream",
     "text": [
      "Accuracy: 0.44672131147540983\n",
      "Precision: [0.21875    0.69827586]\n",
      "Recall: [0.44444444 0.44751381]\n",
      "F-Score: [0.29319372 0.54545455]\n",
      "Support: [ 63 181]\n"
     ]
    }
   ],
   "source": [
    "from Scripts.ValueTrain import ValueTrain as ValueTrain\n",
    "valueTrain = ValueTrain(settings.variables, threshold_value = -1)\n",
    "valueTrain.worker(settings.variables)"
   ]
  },
  {
   "cell_type": "markdown",
   "metadata": {},
   "source": [
    "##### Value Train with optimalization"
   ]
  },
  {
   "cell_type": "code",
   "execution_count": 6,
   "metadata": {
    "ExecuteTime": {
     "end_time": "2019-03-28T23:21:00.791567Z",
     "start_time": "2019-03-28T23:21:00.252560Z"
    }
   },
   "outputs": [
    {
     "name": "stderr",
     "output_type": "stream",
     "text": [
      "C:\\Programy\\Anaconda\\envs\\py35\\lib\\site-packages\\sklearn\\metrics\\classification.py:1135: UndefinedMetricWarning: Precision and F-score are ill-defined and being set to 0.0 in labels with no predicted samples.\n",
      "  'precision', 'predicted', average, warn_for)\n"
     ]
    },
    {
     "name": "stdout",
     "output_type": "stream",
     "text": [
      "Accuracy: 0.7418032786885246\n",
      "Precision: [0.         0.74180328]\n",
      "Recall: [0. 1.]\n",
      "F-Score: [0.         0.85176471]\n",
      "Support: [ 63 181]\n"
     ]
    }
   ],
   "source": [
    "from Scripts.ValueTrain import ValueTrain as ValueTrain\n",
    "\n",
    "valueTrain = ValueTrain(settings.variables, threshold_value = bruteforce_threshold)\n",
    "valueTrain.worker(settings.variables)"
   ]
  },
  {
   "cell_type": "markdown",
   "metadata": {},
   "source": [
    "##### Value Test without optimalization"
   ]
  },
  {
   "cell_type": "code",
   "execution_count": 7,
   "metadata": {
    "ExecuteTime": {
     "end_time": "2019-03-28T23:21:01.451562Z",
     "start_time": "2019-03-28T23:21:00.794567Z"
    }
   },
   "outputs": [
    {
     "name": "stdout",
     "output_type": "stream",
     "text": [
      "Accuracy: 0.5\n",
      "Precision: [0.27586207 0.6969697 ]\n",
      "Recall: [0.44444444 0.52272727]\n",
      "F-Score: [0.34042553 0.5974026 ]\n",
      "Support: [18 44]\n"
     ]
    }
   ],
   "source": [
    "from Scripts.ValueTest import ValueTest as ValueTest\n",
    "\n",
    "valueTest = ValueTest(settings.variables, threshold_value = -1)\n",
    "valueTest.worker(settings.variables)"
   ]
  },
  {
   "cell_type": "markdown",
   "metadata": {},
   "source": [
    "##### Value Test with optimalization"
   ]
  },
  {
   "cell_type": "code",
   "execution_count": 8,
   "metadata": {
    "ExecuteTime": {
     "end_time": "2019-03-28T23:21:02.076557Z",
     "start_time": "2019-03-28T23:21:01.453559Z"
    }
   },
   "outputs": [
    {
     "name": "stderr",
     "output_type": "stream",
     "text": [
      "C:\\Programy\\Anaconda\\envs\\py35\\lib\\site-packages\\sklearn\\metrics\\classification.py:1135: UndefinedMetricWarning: Precision and F-score are ill-defined and being set to 0.0 in labels with no predicted samples.\n",
      "  'precision', 'predicted', average, warn_for)\n"
     ]
    },
    {
     "name": "stdout",
     "output_type": "stream",
     "text": [
      "Accuracy: 0.7096774193548387\n",
      "Precision: [0.         0.70967742]\n",
      "Recall: [0. 1.]\n",
      "F-Score: [0.         0.83018868]\n",
      "Support: [18 44]\n"
     ]
    }
   ],
   "source": [
    "from Scripts.ValueTest import ValueTest as ValueTest\n",
    "\n",
    "valueTest = ValueTest(settings.variables, threshold_value = bruteforce_threshold)\n",
    "valueTest.worker(settings.variables)"
   ]
  },
  {
   "cell_type": "markdown",
   "metadata": {},
   "source": [
    "##### PSO K-Fold"
   ]
  },
  {
   "cell_type": "code",
   "execution_count": 9,
   "metadata": {
    "ExecuteTime": {
     "end_time": "2019-03-28T23:41:38.829871Z",
     "start_time": "2019-03-28T23:21:02.078559Z"
    },
    "scrolled": true
   },
   "outputs": [
    {
     "name": "stderr",
     "output_type": "stream",
     "text": [
      "2019-03-29 00:21:02,356 - pyswarms.single.global_best - INFO - Optimize for 20 iters with {'c1': 0.5, 'w': 0.9, 'c2': 0.3}\n",
      "pyswarms.single.global_best: 100%|██████████████████████████████████████████████████████████████|20/20, best_cost=0.258\n",
      "2019-03-29 00:22:52,543 - pyswarms.single.global_best - INFO - Optimization finished | best cost: 0.2581967213114754, best pos: [0.93176772]\n"
     ]
    },
    {
     "name": "stdout",
     "output_type": "stream",
     "text": [
      "------------------------------------- Fold 0 --------------------------------------\n",
      "Global minimum: [0.93176772]\n",
      "Train Accuracy: 0.7418032786885246\n",
      "Test Accuracy: 0.7307692307692307\n",
      "Time: 110.24900126457214\n",
      "-----------------------------------------------------------------------------------\n"
     ]
    },
    {
     "name": "stderr",
     "output_type": "stream",
     "text": [
      "2019-03-29 00:22:52,628 - pyswarms.single.global_best - INFO - Optimize for 20 iters with {'c1': 0.5, 'w': 0.9, 'c2': 0.3}\n",
      "pyswarms.single.global_best: 100%|██████████████████████████████████████████████████████████████|20/20, best_cost=0.258\n",
      "2019-03-29 00:24:43,489 - pyswarms.single.global_best - INFO - Optimization finished | best cost: 0.2581967213114754, best pos: [0.93176772]\n"
     ]
    },
    {
     "name": "stdout",
     "output_type": "stream",
     "text": [
      "------------------------------------- Fold 1 --------------------------------------\n",
      "Global minimum: [0.93176772]\n",
      "Train Accuracy: 0.7418032786885246\n",
      "Test Accuracy: 0.72\n",
      "Time: 110.91299891471863\n",
      "-----------------------------------------------------------------------------------\n"
     ]
    },
    {
     "name": "stderr",
     "output_type": "stream",
     "text": [
      "2019-03-29 00:24:43,572 - pyswarms.single.global_best - INFO - Optimize for 20 iters with {'c1': 0.5, 'w': 0.9, 'c2': 0.3}\n",
      "pyswarms.single.global_best: 100%|██████████████████████████████████████████████████████████████|20/20, best_cost=0.258\n",
      "2019-03-29 00:26:35,004 - pyswarms.single.global_best - INFO - Optimization finished | best cost: 0.2581967213114754, best pos: [0.93176772]\n"
     ]
    },
    {
     "name": "stdout",
     "output_type": "stream",
     "text": [
      "------------------------------------- Fold 2 --------------------------------------\n",
      "Global minimum: [0.93176772]\n",
      "Train Accuracy: 0.7418032786885246\n",
      "Test Accuracy: 0.72\n",
      "Time: 111.47700190544128\n",
      "-----------------------------------------------------------------------------------\n"
     ]
    },
    {
     "name": "stderr",
     "output_type": "stream",
     "text": [
      "2019-03-29 00:26:35,080 - pyswarms.single.global_best - INFO - Optimize for 20 iters with {'c1': 0.5, 'w': 0.9, 'c2': 0.3}\n",
      "pyswarms.single.global_best: 100%|██████████████████████████████████████████████████████████████|20/20, best_cost=0.258\n",
      "2019-03-29 00:28:19,010 - pyswarms.single.global_best - INFO - Optimization finished | best cost: 0.2581967213114754, best pos: [0.93176772]\n"
     ]
    },
    {
     "name": "stdout",
     "output_type": "stream",
     "text": [
      "------------------------------------- Fold 3 --------------------------------------\n",
      "Global minimum: [0.93176772]\n",
      "Train Accuracy: 0.7418032786885246\n",
      "Test Accuracy: 0.75\n",
      "Time: 103.96999001502991\n",
      "-----------------------------------------------------------------------------------\n"
     ]
    },
    {
     "name": "stderr",
     "output_type": "stream",
     "text": [
      "2019-03-29 00:28:19,090 - pyswarms.single.global_best - INFO - Optimize for 20 iters with {'c1': 0.5, 'w': 0.9, 'c2': 0.3}\n",
      "pyswarms.single.global_best: 100%|██████████████████████████████████████████████████████████████|20/20, best_cost=0.258\n",
      "2019-03-29 00:30:17,615 - pyswarms.single.global_best - INFO - Optimization finished | best cost: 0.2581967213114754, best pos: [0.93176772]\n"
     ]
    },
    {
     "name": "stdout",
     "output_type": "stream",
     "text": [
      "------------------------------------- Fold 4 --------------------------------------\n",
      "Global minimum: [0.93176772]\n",
      "Train Accuracy: 0.7418032786885246\n",
      "Test Accuracy: 0.75\n",
      "Time: 118.56844663619995\n",
      "-----------------------------------------------------------------------------------\n"
     ]
    },
    {
     "name": "stderr",
     "output_type": "stream",
     "text": [
      "2019-03-29 00:30:17,697 - pyswarms.single.global_best - INFO - Optimize for 20 iters with {'c1': 0.5, 'w': 0.9, 'c2': 0.3}\n",
      "pyswarms.single.global_best: 100%|██████████████████████████████████████████████████████████████|20/20, best_cost=0.258\n",
      "2019-03-29 00:32:10,421 - pyswarms.single.global_best - INFO - Optimization finished | best cost: 0.2581967213114754, best pos: [0.93176772]\n"
     ]
    },
    {
     "name": "stdout",
     "output_type": "stream",
     "text": [
      "------------------------------------- Fold 5 --------------------------------------\n",
      "Global minimum: [0.93176772]\n",
      "Train Accuracy: 0.7418032786885246\n",
      "Test Accuracy: 0.75\n",
      "Time: 112.77340149879456\n",
      "-----------------------------------------------------------------------------------\n"
     ]
    },
    {
     "name": "stderr",
     "output_type": "stream",
     "text": [
      "2019-03-29 00:32:10,497 - pyswarms.single.global_best - INFO - Optimize for 20 iters with {'c1': 0.5, 'w': 0.9, 'c2': 0.3}\n",
      "pyswarms.single.global_best: 100%|██████████████████████████████████████████████████████████████|20/20, best_cost=0.258\n",
      "2019-03-29 00:34:04,447 - pyswarms.single.global_best - INFO - Optimization finished | best cost: 0.2581967213114754, best pos: [0.93176772]\n"
     ]
    },
    {
     "name": "stdout",
     "output_type": "stream",
     "text": [
      "------------------------------------- Fold 6 --------------------------------------\n",
      "Global minimum: [0.93176772]\n",
      "Train Accuracy: 0.7418032786885246\n",
      "Test Accuracy: 0.75\n",
      "Time: 113.99956107139587\n",
      "-----------------------------------------------------------------------------------\n"
     ]
    },
    {
     "name": "stderr",
     "output_type": "stream",
     "text": [
      "2019-03-29 00:34:04,538 - pyswarms.single.global_best - INFO - Optimize for 20 iters with {'c1': 0.5, 'w': 0.9, 'c2': 0.3}\n",
      "pyswarms.single.global_best: 100%|██████████████████████████████████████████████████████████████|20/20, best_cost=0.258\n",
      "2019-03-29 00:35:59,575 - pyswarms.single.global_best - INFO - Optimization finished | best cost: 0.2581967213114754, best pos: [0.93176772]\n"
     ]
    },
    {
     "name": "stdout",
     "output_type": "stream",
     "text": [
      "------------------------------------- Fold 7 --------------------------------------\n",
      "Global minimum: [0.93176772]\n",
      "Train Accuracy: 0.7418032786885246\n",
      "Test Accuracy: 0.75\n",
      "Time: 115.11069965362549\n",
      "-----------------------------------------------------------------------------------\n"
     ]
    },
    {
     "name": "stderr",
     "output_type": "stream",
     "text": [
      "2019-03-29 00:35:59,684 - pyswarms.single.global_best - INFO - Optimize for 20 iters with {'c1': 0.5, 'w': 0.9, 'c2': 0.3}\n",
      "pyswarms.single.global_best: 100%|██████████████████████████████████████████████████████████████|20/20, best_cost=0.258\n",
      "2019-03-29 00:38:42,448 - pyswarms.single.global_best - INFO - Optimization finished | best cost: 0.2581967213114754, best pos: [0.93176772]\n"
     ]
    },
    {
     "name": "stdout",
     "output_type": "stream",
     "text": [
      "------------------------------------- Fold 8 --------------------------------------\n",
      "Global minimum: [0.93176772]\n",
      "Train Accuracy: 0.7418032786885246\n",
      "Test Accuracy: 0.75\n",
      "Time: 162.8450813293457\n",
      "-----------------------------------------------------------------------------------\n"
     ]
    },
    {
     "name": "stderr",
     "output_type": "stream",
     "text": [
      "2019-03-29 00:38:42,616 - pyswarms.single.global_best - INFO - Optimize for 20 iters with {'c1': 0.5, 'w': 0.9, 'c2': 0.3}\n",
      "pyswarms.single.global_best: 100%|██████████████████████████████████████████████████████████████|20/20, best_cost=0.258\n",
      "2019-03-29 00:41:38,719 - pyswarms.single.global_best - INFO - Optimization finished | best cost: 0.2581967213114754, best pos: [0.93176772]\n"
     ]
    },
    {
     "name": "stdout",
     "output_type": "stream",
     "text": [
      "------------------------------------- Fold 9 --------------------------------------\n",
      "Global minimum: [0.93176772]\n",
      "Train Accuracy: 0.7418032786885246\n",
      "Test Accuracy: 0.75\n",
      "Time: 176.18511033058167\n",
      "-----------------------------------------------------------------------------------\n"
     ]
    }
   ],
   "source": [
    "from Scripts.OptimizePSOKFold import OptimizePSOKFold as OptimizePSOKFold\n",
    "\n",
    "optimizePSOKFold = OptimizePSOKFold(settings.variables, settings.swarm_size, settings.dim, settings.epsilon, settings.iters, settings.options, settings.borders, settings.sigma_mean_params)\n",
    "optimizePSOKFold.worker(settings.variables)"
   ]
  },
  {
   "cell_type": "markdown",
   "metadata": {},
   "source": [
    "##### Brute Force K-Fold"
   ]
  },
  {
   "cell_type": "code",
   "execution_count": 10,
   "metadata": {
    "ExecuteTime": {
     "end_time": "2019-03-28T23:50:38.057270Z",
     "start_time": "2019-03-28T23:41:38.832871Z"
    }
   },
   "outputs": [
    {
     "name": "stdout",
     "output_type": "stream",
     "text": [
      "------------------------------------- Fold 0 --------------------------------------\n",
      "Global minimum: [0.5]\n",
      "Train Accuracy: 0.7431192660550459\n",
      "Test Accuracy: 0.7307692307692307\n",
      "Time: 51.298001527786255\n",
      "-----------------------------------------------------------------------------------\n",
      "------------------------------------- Fold 1 --------------------------------------\n",
      "Global minimum: [0.5]\n",
      "Train Accuracy: 0.7442922374429224\n",
      "Test Accuracy: 0.72\n",
      "Time: 51.25000047683716\n",
      "-----------------------------------------------------------------------------------\n",
      "------------------------------------- Fold 2 --------------------------------------\n",
      "Global minimum: [0.5]\n",
      "Train Accuracy: 0.7442922374429224\n",
      "Test Accuracy: 0.72\n",
      "Time: 51.47699785232544\n",
      "-----------------------------------------------------------------------------------\n",
      "------------------------------------- Fold 3 --------------------------------------\n",
      "Global minimum: [0.5]\n",
      "Train Accuracy: 0.740909090909091\n",
      "Test Accuracy: 0.75\n",
      "Time: 55.51953101158142\n",
      "-----------------------------------------------------------------------------------\n",
      "------------------------------------- Fold 4 --------------------------------------\n",
      "Global minimum: [0.5]\n",
      "Train Accuracy: 0.740909090909091\n",
      "Test Accuracy: 0.75\n",
      "Time: 55.80925416946411\n",
      "-----------------------------------------------------------------------------------\n",
      "------------------------------------- Fold 5 --------------------------------------\n",
      "Global minimum: [0.5]\n",
      "Train Accuracy: 0.740909090909091\n",
      "Test Accuracy: 0.75\n",
      "Time: 54.97062969207764\n",
      "-----------------------------------------------------------------------------------\n",
      "------------------------------------- Fold 6 --------------------------------------\n",
      "Global minimum: [0.5]\n",
      "Train Accuracy: 0.740909090909091\n",
      "Test Accuracy: 0.75\n",
      "Time: 51.75700044631958\n",
      "-----------------------------------------------------------------------------------\n",
      "------------------------------------- Fold 7 --------------------------------------\n",
      "Global minimum: [0.5]\n",
      "Train Accuracy: 0.740909090909091\n",
      "Test Accuracy: 0.75\n",
      "Time: 50.393999338150024\n",
      "-----------------------------------------------------------------------------------\n",
      "------------------------------------- Fold 8 --------------------------------------\n",
      "Global minimum: [0.5]\n",
      "Train Accuracy: 0.740909090909091\n",
      "Test Accuracy: 0.75\n",
      "Time: 58.68700122833252\n",
      "-----------------------------------------------------------------------------------\n",
      "------------------------------------- Fold 9 --------------------------------------\n",
      "Global minimum: [0.5]\n",
      "Train Accuracy: 0.740909090909091\n",
      "Test Accuracy: 0.75\n",
      "Time: 57.09300231933594\n",
      "-----------------------------------------------------------------------------------\n"
     ]
    }
   ],
   "source": [
    "from Scripts.OptimizeBruteForceKFold import OptimizeBruteForceKFold as OptimizeBruteForceKFold\n",
    "\n",
    "optimizeBruteForceKFold = OptimizeBruteForceKFold(settings.variables, settings.constraints, settings.sigma_mean_params)\n",
    "optimizeBruteForceKFold.worker(settings.variables)"
   ]
  }
 ],
 "metadata": {
  "kernelspec": {
   "display_name": "Python 3",
   "language": "python",
   "name": "python3"
  },
  "language_info": {
   "codemirror_mode": {
    "name": "ipython",
    "version": 3
   },
   "file_extension": ".py",
   "mimetype": "text/x-python",
   "name": "python",
   "nbconvert_exporter": "python",
   "pygments_lexer": "ipython3",
   "version": "3.5.5"
  }
 },
 "nbformat": 4,
 "nbformat_minor": 2
}
