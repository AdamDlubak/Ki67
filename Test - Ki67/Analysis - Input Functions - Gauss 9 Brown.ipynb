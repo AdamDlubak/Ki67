{
 "cells": [
  {
   "cell_type": "markdown",
   "metadata": {},
   "source": [
    "## Preparation"
   ]
  },
  {
   "cell_type": "markdown",
   "metadata": {
    "heading_collapsed": true
   },
   "source": [
    "##### Import Functions"
   ]
  },
  {
   "cell_type": "code",
   "execution_count": null,
   "metadata": {
    "ExecuteTime": {
     "end_time": "2019-06-07T17:20:50.415650Z",
     "start_time": "2019-06-07T17:20:48.736651Z"
    },
    "hidden": true
   },
   "outputs": [],
   "source": [
    "import numpy as np\n",
    "import pandas as pd\n",
    "from os import listdir\n",
    "from skimage import io\n",
    "from matplotlib import pyplot as plt\n",
    "from skimage.draw import circle, circle_perimeter\n",
    "from skimage.color import rgb2hsv, rgb2hed, hed2rgb, rgb2gray\n",
    "from Scripts.LoadImage import LoadImage as LoadImage\n",
    "from Scripts.Fuzzify import Fuzzify as Fuzzify\n",
    "from Class.Helper import Helper as Helper\n",
    "from Scripts.Ki67 import Ki67 as Ki67"
   ]
  },
  {
   "cell_type": "markdown",
   "metadata": {
    "heading_collapsed": true
   },
   "source": [
    "##### Functions"
   ]
  },
  {
   "cell_type": "code",
   "execution_count": null,
   "metadata": {
    "ExecuteTime": {
     "end_time": "2019-06-07T17:20:55.603470Z",
     "start_time": "2019-06-07T17:20:55.489456Z"
    },
    "hidden": true
   },
   "outputs": [],
   "source": [
    "def getRecall(markers, mask):\n",
    "    radius = 3\n",
    "    hits = markers.apply(lambda marker: mask[int(marker['y'])-radius:int(marker['y']) + radius + 1, int(marker['x'])-radius:int(marker['x']) + radius + 1].any(),axis=1)\n",
    "    recall = hits.sum() / len(hits)\n",
    "    return recall\n",
    "\n",
    "def validateResults(folder_name, low_x, high_x, low_y, high_y, show_images = False):\n",
    "    path = settings.data_folder_veryfication\n",
    "    mask = pickle.load(open(settings.backup_folder + \"Images/\" + \"Test_\" + folder_name + \"_\" + settings.class_1 + \"_df_results\"  + \".p\", \"rb\"))\n",
    "    mask = mask.sort_index()\n",
    "    \n",
    "    if settings.class_1 == \"brown\":\n",
    "        searched_class = 1\n",
    "    else:\n",
    "        searched_class = 2\n",
    "    \n",
    "    mask = np.reshape(np.array(mask[\"Decision Fuzzy\"]), (-1, high_x - low_x))\n",
    "    \n",
    "    mask = [np.ones(3) if j == settings.class_1 else np.zeros(3) for row in mask for j in row]\n",
    "    mask = np.array(mask)\n",
    "    mask = mask.reshape((-1, high_x - low_x, 3))\n",
    "\n",
    "    from skimage.morphology import binary_closing\n",
    "    from skimage.morphology import disk, remove_small_objects\n",
    "    from skimage.color import rgb2gray\n",
    "    from skimage import data, io, segmentation, color\n",
    "\n",
    "    file_path = path + folder_name\n",
    "    image_raw= io.imread(file_path + \"/fragment.png\")\n",
    "    base = io.imread(file_path + \"/base.png\")\n",
    "    markers = pd.read_csv(file_path + \"/markers.csv\")\n",
    "\n",
    "    k = 3\n",
    "    markers.loc[:, 'x'] = markers.x.apply(lambda x: np.ceil(x / k))\n",
    "    markers.loc[:, 'y'] = markers.y.apply(lambda y: np.ceil(y / k))\n",
    "    markers = markers.drop(markers[((markers.x < low_x) | (markers.x > high_x)) | ((markers.y < low_y) | (markers.y > high_y))].index)\n",
    "    markers.loc[:, 'x'] = markers.x.apply(lambda x: x - low_x)\n",
    "    markers.loc[:, 'y'] = markers.y.apply(lambda y: y - low_y)\n",
    "\n",
    "    markers = markers.loc[markers.type == searched_class]\n",
    "\n",
    "    if show_images:\n",
    "        fig, ax = plt.subplots(ncols=5, nrows=1, figsize=(70, 45))\n",
    "    mask_gray = rgb2gray(mask)\n",
    "    if show_images:\n",
    "        ax[0].imshow(mask, cmap=plt.cm.gray)\n",
    "    mask_gray = binary_closing(mask_gray, disk(1))\n",
    "    if show_images:\n",
    "        ax[1].imshow(mask_gray, cmap=plt.cm.gray)\n",
    "    mask_gray = remove_small_objects(mask_gray, 3)\n",
    "    if show_images:\n",
    "        ax[2].imshow(mask_gray, cmap=plt.cm.gray)\n",
    "    mask_gray = binary_closing(mask_gray, disk(2))\n",
    "    if show_images:\n",
    "        ax[3].imshow(mask_gray, cmap=plt.cm.gray)\n",
    "\n",
    "    mask_gray = mask_gray.astype(bool)\n",
    "    recall = getRecall(markers, mask_gray)\n",
    "    \n",
    "    if show_images:\n",
    "        for center_y, center_x in zip(markers.y, markers.x):\n",
    "            circy, circx = circle_perimeter(int(center_y), int(center_x), 0)\n",
    "            image_raw[circy, circx] = (220, 20, 20)\n",
    "        \n",
    "        ax[4].imshow(image_raw, cmap=plt.cm.gray)\n",
    "        plt.show()\n",
    "        \n",
    "    return recall"
   ]
  },
  {
   "cell_type": "markdown",
   "metadata": {},
   "source": [
    "### Analysis - Input Membership Functions"
   ]
  },
  {
   "cell_type": "code",
   "execution_count": null,
   "metadata": {
    "ExecuteTime": {
     "end_time": "2019-06-06T17:54:41.219427Z",
     "start_time": "2019-06-06T16:38:02.220674Z"
    }
   },
   "outputs": [],
   "source": [
    "from Settings.SettingsKi67 import Settings as Settings\n",
    "import Settings.GeneralSettings as generalSettings\n",
    "\n",
    "for gauss in [9]:\n",
    "    for style in [\"Gaussian Progressive\", \"Gaussian Equal\"]:\n",
    "        for adjustment in [-1, -2]:\n",
    "            for cell_type in [\"brown\"]:\n",
    "                generalSettings.gausses = gauss\n",
    "                generalSettings.style = style\n",
    "                generalSettings.adjustment_value = adjustment\n",
    "                generalSettings.class_1 = cell_type\n",
    "                settings = Settings(generalSettings)        \n",
    "\n",
    "                # Generate Rules\n",
    "                loadImage = LoadImage()\n",
    "                samples_stats, train_stats, test_stats, train_samples = loadImage.worker(settings, test_mode = False)\n",
    "\n",
    "                fuzzify = Fuzzify()\n",
    "                changed_decisions, features_number_after_reduct, implicants_number, fuzzify_parameters, execution_time = fuzzify.worker(settings, -1)\n",
    "\n",
    "                # Validate Results\n",
    "                for file_name in [\"1628-05\", \"18583-04\", \"31374-10\",]:\n",
    "                    generalSettings.file_name = file_name\n",
    "                    settings = Settings(generalSettings)     \n",
    "                    loadImage = LoadImage()\n",
    "                    samples_stats, train_stats, test_stats, train_samples = loadImage.worker(settings, test_mode = -1)\n",
    "\n",
    "                    ki67Test = Ki67(settings, settings.s_function_width, False)\n",
    "                    ki67Test.noOptymalizationWorker(settings)\n",
    "\n",
    "                    if file_name == \"1628-05\":\n",
    "                        recall_1 = validateResults(settings.file_name, 85, 449, 172, 533, False)\n",
    "                    elif file_name == \"18583-04\":\n",
    "                        recall_2 = validateResults(settings.file_name, 1732, 2011, 583, 995, False)\n",
    "                    else:\n",
    "                        recall_3 = validateResults(settings.file_name, 432, 794, 300, 566, False)\n",
    "                avg_recall = (recall_1 + recall_2 + recall_3) / 3\n",
    "                helper = Helper()\n",
    "\n",
    "                fuzzification_data = [\"Ki67\", settings.style, settings.gausses, settings.adjustment, settings.class_1, settings.features_type, samples_stats, train_stats, test_stats, changed_decisions, round(changed_decisions / train_samples, 2), implicants_number, settings.feature_numbers, features_number_after_reduct, recall_1, recall_2, recall_3, avg_recall, execution_time]\n",
    "                helper.saveFuzzificationStatsKi67(fuzzification_data)"
   ]
  },
  {
   "cell_type": "markdown",
   "metadata": {
    "heading_collapsed": true
   },
   "source": [
    "### Result Validation"
   ]
  },
  {
   "cell_type": "code",
   "execution_count": null,
   "metadata": {
    "ExecuteTime": {
     "end_time": "2019-06-06T14:15:51.699863Z",
     "start_time": "2019-06-06T14:15:49.209965Z"
    },
    "hidden": true
   },
   "outputs": [],
   "source": [
    "validateResults(settings.file_name, 405, 550, 68, 144, True)"
   ]
  }
 ],
 "metadata": {
  "kernelspec": {
   "display_name": "Python 3",
   "language": "python",
   "name": "python3"
  },
  "language_info": {
   "codemirror_mode": {
    "name": "ipython",
    "version": 3
   },
   "file_extension": ".py",
   "mimetype": "text/x-python",
   "name": "python",
   "nbconvert_exporter": "python",
   "pygments_lexer": "ipython3",
   "version": "3.5.5"
  },
  "varInspector": {
   "cols": {
    "lenName": 16,
    "lenType": 16,
    "lenVar": 40
   },
   "kernels_config": {
    "python": {
     "delete_cmd_postfix": "",
     "delete_cmd_prefix": "del ",
     "library": "var_list.py",
     "varRefreshCmd": "print(var_dic_list())"
    },
    "r": {
     "delete_cmd_postfix": ") ",
     "delete_cmd_prefix": "rm(",
     "library": "var_list.r",
     "varRefreshCmd": "cat(var_dic_list()) "
    }
   },
   "types_to_exclude": [
    "module",
    "function",
    "builtin_function_or_method",
    "instance",
    "_Feature"
   ],
   "window_display": false
  }
 },
 "nbformat": 4,
 "nbformat_minor": 2
}
