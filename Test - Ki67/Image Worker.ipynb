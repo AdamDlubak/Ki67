{
 "cells": [
  {
   "cell_type": "markdown",
   "metadata": {},
   "source": [
    "## Preparation"
   ]
  },
  {
   "cell_type": "markdown",
   "metadata": {},
   "source": [
    "##### Import Functions"
   ]
  },
  {
   "cell_type": "code",
   "execution_count": 1,
   "metadata": {
    "ExecuteTime": {
     "end_time": "2019-05-18T14:42:51.127054Z",
     "start_time": "2019-05-18T14:42:49.269037Z"
    }
   },
   "outputs": [],
   "source": [
    "from Scripts.LoadImage import LoadImage as LoadImage\n",
    "from Scripts.Fuzzify import Fuzzify as Fuzzify\n",
    "from Scripts.OptimizeBruteForceKFold import OptimizeBruteForceKFold as OptimizeBruteForceKFold\n",
    "from Scripts.ValueTest import ValueTest as ValueTest\n",
    "from Scripts.OptimizeBruteForce import OptimizeBruteForce as OptimizeBruteForce\n",
    "from Class.Helper import Helper as Helper\n",
    "import warnings\n",
    "warnings.simplefilter(\"ignore\")"
   ]
  },
  {
   "cell_type": "markdown",
   "metadata": {},
   "source": [
    "##### Import Settings"
   ]
  },
  {
   "cell_type": "code",
   "execution_count": 2,
   "metadata": {
    "ExecuteTime": {
     "end_time": "2019-05-18T14:42:52.219053Z",
     "start_time": "2019-05-18T14:42:52.098041Z"
    }
   },
   "outputs": [],
   "source": [
    "import Settings.SettingsKi67 as settings"
   ]
  },
  {
   "cell_type": "markdown",
   "metadata": {},
   "source": [
    "##### Load Image"
   ]
  },
  {
   "cell_type": "code",
   "execution_count": 5,
   "metadata": {
    "ExecuteTime": {
     "end_time": "2019-05-18T14:14:20.157512Z",
     "start_time": "2019-05-18T14:14:19.467464Z"
    }
   },
   "outputs": [
    {
     "name": "stdout",
     "output_type": "stream",
     "text": [
      "../Data/Ki67-Example/background.png\n",
      "../Data/Ki67-Example/blue.png\n",
      "../Data/Ki67-Example/brown.png\n"
     ]
    }
   ],
   "source": [
    "loadImage = LoadImage()\n",
    "samples_stats, train_stats, test_stats, train_samples = loadImage.worker(settings, False)"
   ]
  },
  {
   "cell_type": "code",
   "execution_count": 60,
   "metadata": {
    "ExecuteTime": {
     "end_time": "2019-05-19T20:47:49.761619Z",
     "start_time": "2019-05-19T20:47:48.215595Z"
    }
   },
   "outputs": [
    {
     "ename": "TypeError",
     "evalue": "calculateSigma() missing 1 required positional argument: 'sigma_value'",
     "output_type": "error",
     "traceback": [
      "\u001b[1;31m---------------------------------------------------------------------------\u001b[0m",
      "\u001b[1;31mTypeError\u001b[0m                                 Traceback (most recent call last)",
      "\u001b[1;32m<ipython-input-60-e179f5b5c70f>\u001b[0m in \u001b[0;36m<module>\u001b[1;34m()\u001b[0m\n\u001b[0;32m      1\u001b[0m \u001b[0mfuzzify\u001b[0m \u001b[1;33m=\u001b[0m \u001b[0mFuzzify\u001b[0m\u001b[1;33m(\u001b[0m\u001b[1;33m)\u001b[0m\u001b[1;33m\u001b[0m\u001b[0m\n\u001b[1;32m----> 2\u001b[1;33m \u001b[0mchanged_decisions\u001b[0m\u001b[1;33m,\u001b[0m \u001b[0mfeatures_number_after_reduct\u001b[0m\u001b[1;33m,\u001b[0m \u001b[0mimplicants_number\u001b[0m\u001b[1;33m,\u001b[0m \u001b[0mfuzzify_parameters\u001b[0m \u001b[1;33m=\u001b[0m \u001b[0mfuzzify\u001b[0m\u001b[1;33m.\u001b[0m\u001b[0mworker\u001b[0m\u001b[1;33m(\u001b[0m\u001b[0msettings\u001b[0m\u001b[1;33m.\u001b[0m\u001b[0msettings\u001b[0m\u001b[1;33m,\u001b[0m \u001b[1;33m-\u001b[0m\u001b[1;36m1\u001b[0m\u001b[1;33m)\u001b[0m\u001b[1;33m\u001b[0m\u001b[0m\n\u001b[0m",
      "\u001b[1;32m~\\Documents\\Studia\\Magisterka\\Projekt\\Scripts\\Fuzzify.py\u001b[0m in \u001b[0;36mworker\u001b[1;34m(self, settings, sigma_mean_params)\u001b[0m\n\u001b[0;32m     51\u001b[0m     \u001b[1;32mdef\u001b[0m \u001b[0mworker\u001b[0m\u001b[1;33m(\u001b[0m\u001b[0mself\u001b[0m\u001b[1;33m,\u001b[0m \u001b[0msettings\u001b[0m\u001b[1;33m,\u001b[0m \u001b[0msigma_mean_params\u001b[0m\u001b[1;33m)\u001b[0m\u001b[1;33m:\u001b[0m\u001b[1;33m\u001b[0m\u001b[0m\n\u001b[0;32m     52\u001b[0m         \u001b[0mself\u001b[0m\u001b[1;33m.\u001b[0m\u001b[0msettings\u001b[0m \u001b[1;33m=\u001b[0m \u001b[0msettings\u001b[0m\u001b[1;33m\u001b[0m\u001b[0m\n\u001b[1;32m---> 53\u001b[1;33m         \u001b[0mchanged_decisions\u001b[0m\u001b[1;33m,\u001b[0m \u001b[0mfeatures_number_after_reduct\u001b[0m\u001b[1;33m,\u001b[0m \u001b[0mimplicants_number\u001b[0m\u001b[1;33m,\u001b[0m \u001b[0mfuzzify_parameters\u001b[0m \u001b[1;33m=\u001b[0m \u001b[0mself\u001b[0m\u001b[1;33m.\u001b[0m\u001b[0mfuzzifyFeatures\u001b[0m\u001b[1;33m(\u001b[0m\u001b[1;33m-\u001b[0m\u001b[1;36m1\u001b[0m\u001b[1;33m,\u001b[0m \u001b[0msigma_mean_params\u001b[0m\u001b[1;33m)\u001b[0m\u001b[1;33m\u001b[0m\u001b[0m\n\u001b[0m\u001b[0;32m     54\u001b[0m         \u001b[1;32mreturn\u001b[0m \u001b[0mchanged_decisions\u001b[0m\u001b[1;33m,\u001b[0m \u001b[0mfeatures_number_after_reduct\u001b[0m\u001b[1;33m,\u001b[0m \u001b[0mimplicants_number\u001b[0m\u001b[1;33m,\u001b[0m \u001b[0mfuzzify_parameters\u001b[0m\u001b[1;33m\u001b[0m\u001b[0m\n\u001b[0;32m     55\u001b[0m \u001b[1;33m\u001b[0m\u001b[0m\n",
      "\u001b[1;32m~\\Documents\\Studia\\Magisterka\\Projekt\\Scripts\\Fuzzify.py\u001b[0m in \u001b[0;36mfuzzifyFeatures\u001b[1;34m(self, train_features_df, sigma_mean_params)\u001b[0m\n\u001b[0;32m     25\u001b[0m             \u001b[0mfeatures_df\u001b[0m \u001b[1;33m=\u001b[0m \u001b[0mtrain_features_df\u001b[0m\u001b[1;33m\u001b[0m\u001b[0m\n\u001b[0;32m     26\u001b[0m \u001b[1;33m\u001b[0m\u001b[0m\n\u001b[1;32m---> 27\u001b[1;33m         \u001b[0mtrain_fuzzified_features_df\u001b[0m\u001b[1;33m,\u001b[0m \u001b[0mfeature_labels\u001b[0m\u001b[1;33m,\u001b[0m \u001b[0mfeatures\u001b[0m\u001b[1;33m,\u001b[0m \u001b[0mdecision\u001b[0m\u001b[1;33m,\u001b[0m \u001b[0mfuzzify_parameters\u001b[0m \u001b[1;33m=\u001b[0m \u001b[0mfuzzifier\u001b[0m\u001b[1;33m.\u001b[0m\u001b[0mfuzzify\u001b[0m\u001b[1;33m(\u001b[0m\u001b[0mfeatures_df\u001b[0m\u001b[1;33m,\u001b[0m \u001b[0msigma_mean_params\u001b[0m\u001b[1;33m)\u001b[0m\u001b[1;33m\u001b[0m\u001b[0m\n\u001b[0m\u001b[0;32m     28\u001b[0m \u001b[1;33m\u001b[0m\u001b[0m\n\u001b[0;32m     29\u001b[0m         \u001b[0mpickle\u001b[0m\u001b[1;33m.\u001b[0m\u001b[0mdump\u001b[0m\u001b[1;33m(\u001b[0m\u001b[0mfeatures\u001b[0m\u001b[1;33m,\u001b[0m \u001b[0mopen\u001b[0m\u001b[1;33m(\u001b[0m\u001b[0mself\u001b[0m\u001b[1;33m.\u001b[0m\u001b[0msettings\u001b[0m\u001b[1;33m[\u001b[0m\u001b[1;34m\"backup_folder\"\u001b[0m\u001b[1;33m]\u001b[0m \u001b[1;33m+\u001b[0m \u001b[1;34m\"features.p\"\u001b[0m\u001b[1;33m,\u001b[0m \u001b[1;34m\"wb\"\u001b[0m\u001b[1;33m)\u001b[0m\u001b[1;33m)\u001b[0m\u001b[1;33m\u001b[0m\u001b[0m\n",
      "\u001b[1;32m~\\Documents\\Studia\\Magisterka\\Projekt\\Class\\Fuzzifier.py\u001b[0m in \u001b[0;36mfuzzify\u001b[1;34m(self, features_table, sigma_mean_params)\u001b[0m\n\u001b[0;32m    406\u001b[0m         \u001b[1;32mif\u001b[0m \u001b[0misinstance\u001b[0m\u001b[1;33m(\u001b[0m\u001b[0msigma_mean_params\u001b[0m\u001b[1;33m,\u001b[0m \u001b[1;33m(\u001b[0m\u001b[0mint\u001b[0m\u001b[1;33m,\u001b[0m \u001b[0mnp\u001b[0m\u001b[1;33m.\u001b[0m\u001b[0minteger\u001b[0m\u001b[1;33m)\u001b[0m\u001b[1;33m)\u001b[0m\u001b[1;33m:\u001b[0m\u001b[1;33m\u001b[0m\u001b[0m\n\u001b[0;32m    407\u001b[0m             \u001b[1;32mfor\u001b[0m \u001b[0midx\u001b[0m\u001b[1;33m,\u001b[0m \u001b[0mx\u001b[0m \u001b[1;32min\u001b[0m \u001b[0menumerate\u001b[0m\u001b[1;33m(\u001b[0m\u001b[0mself\u001b[0m\u001b[1;33m.\u001b[0m\u001b[0mfeatures\u001b[0m\u001b[1;33m)\u001b[0m\u001b[1;33m:\u001b[0m\u001b[1;33m\u001b[0m\u001b[0m\n\u001b[1;32m--> 408\u001b[1;33m                 \u001b[0mfeatures_table\u001b[0m\u001b[1;33m[\u001b[0m\u001b[0mx\u001b[0m\u001b[1;33m.\u001b[0m\u001b[0mlabel\u001b[0m\u001b[1;33m]\u001b[0m \u001b[1;33m=\u001b[0m \u001b[0mself\u001b[0m\u001b[1;33m.\u001b[0m\u001b[0mnumbersToRowSets\u001b[0m\u001b[1;33m(\u001b[0m\u001b[0midx\u001b[0m\u001b[1;33m,\u001b[0m \u001b[0mfeatures_table\u001b[0m\u001b[1;33m[\u001b[0m\u001b[0mx\u001b[0m\u001b[1;33m.\u001b[0m\u001b[0mlabel\u001b[0m\u001b[1;33m]\u001b[0m\u001b[1;33m,\u001b[0m \u001b[0msigma_mean_params\u001b[0m\u001b[1;33m,\u001b[0m \u001b[0msigma_mean_params\u001b[0m\u001b[1;33m)\u001b[0m\u001b[1;33m\u001b[0m\u001b[0m\n\u001b[0m\u001b[0;32m    409\u001b[0m         \u001b[1;32melse\u001b[0m\u001b[1;33m:\u001b[0m\u001b[1;33m\u001b[0m\u001b[0m\n\u001b[0;32m    410\u001b[0m             \u001b[1;32mfor\u001b[0m \u001b[0midx\u001b[0m\u001b[1;33m,\u001b[0m \u001b[0mx\u001b[0m \u001b[1;32min\u001b[0m \u001b[0menumerate\u001b[0m\u001b[1;33m(\u001b[0m\u001b[0mself\u001b[0m\u001b[1;33m.\u001b[0m\u001b[0mfeatures\u001b[0m\u001b[1;33m)\u001b[0m\u001b[1;33m:\u001b[0m\u001b[1;33m\u001b[0m\u001b[0m\n",
      "\u001b[1;32m~\\Documents\\Studia\\Magisterka\\Projekt\\Class\\Fuzzifier.py\u001b[0m in \u001b[0;36mnumbersToRowSets\u001b[1;34m(self, idx, values, mean, sigma)\u001b[0m\n\u001b[0;32m    253\u001b[0m \u001b[1;33m\u001b[0m\u001b[0m\n\u001b[0;32m    254\u001b[0m         \u001b[1;32melif\u001b[0m \u001b[0mself\u001b[0m\u001b[1;33m.\u001b[0m\u001b[0msettings\u001b[0m\u001b[1;33m[\u001b[0m\u001b[1;34m\"gausses\"\u001b[0m\u001b[1;33m]\u001b[0m \u001b[1;33m==\u001b[0m \u001b[1;36m7\u001b[0m\u001b[1;33m:\u001b[0m\u001b[1;33m\u001b[0m\u001b[0m\n\u001b[1;32m--> 255\u001b[1;33m             \u001b[0mcr_low\u001b[0m\u001b[1;33m,\u001b[0m \u001b[0msigma\u001b[0m \u001b[1;33m=\u001b[0m \u001b[0mself\u001b[0m\u001b[1;33m.\u001b[0m\u001b[0mcalculateSigma\u001b[0m\u001b[1;33m(\u001b[0m\u001b[0mmean\u001b[0m \u001b[1;33m*\u001b[0m \u001b[1;33m(\u001b[0m\u001b[1;36m1\u001b[0m\u001b[1;33m/\u001b[0m\u001b[1;36m3\u001b[0m\u001b[1;33m)\u001b[0m\u001b[1;33m,\u001b[0m \u001b[0mmean\u001b[0m \u001b[1;33m*\u001b[0m \u001b[1;33m(\u001b[0m\u001b[1;36m2\u001b[0m\u001b[1;33m/\u001b[0m\u001b[1;36m3\u001b[0m\u001b[1;33m)\u001b[0m\u001b[1;33m)\u001b[0m\u001b[1;33m\u001b[0m\u001b[0m\n\u001b[0m\u001b[0;32m    256\u001b[0m             \u001b[0mself\u001b[0m\u001b[1;33m.\u001b[0m\u001b[0mfeatures\u001b[0m\u001b[1;33m[\u001b[0m\u001b[0midx\u001b[0m\u001b[1;33m]\u001b[0m\u001b[1;33m[\u001b[0m\u001b[0mself\u001b[0m\u001b[1;33m.\u001b[0m\u001b[0msettings\u001b[0m\u001b[1;33m[\u001b[0m\u001b[1;34m\"verylow\"\u001b[0m\u001b[1;33m]\u001b[0m\u001b[1;33m]\u001b[0m \u001b[1;33m=\u001b[0m \u001b[0mself\u001b[0m\u001b[1;33m.\u001b[0m\u001b[0mgaussLeft\u001b[0m\u001b[1;33m(\u001b[0m\u001b[0mself\u001b[0m\u001b[1;33m.\u001b[0m\u001b[0mx_range\u001b[0m\u001b[1;33m,\u001b[0m \u001b[0mmean\u001b[0m \u001b[1;33m*\u001b[0m \u001b[1;33m(\u001b[0m\u001b[1;36m1\u001b[0m\u001b[1;33m/\u001b[0m\u001b[1;36m3\u001b[0m\u001b[1;33m)\u001b[0m\u001b[1;33m,\u001b[0m \u001b[0msigma\u001b[0m\u001b[1;33m)\u001b[0m\u001b[1;33m\u001b[0m\u001b[0m\n\u001b[0;32m    257\u001b[0m             \u001b[0mself\u001b[0m\u001b[1;33m.\u001b[0m\u001b[0mfeatures\u001b[0m\u001b[1;33m[\u001b[0m\u001b[0midx\u001b[0m\u001b[1;33m]\u001b[0m\u001b[1;33m[\u001b[0m\u001b[0mself\u001b[0m\u001b[1;33m.\u001b[0m\u001b[0msettings\u001b[0m\u001b[1;33m[\u001b[0m\u001b[1;34m\"low\"\u001b[0m\u001b[1;33m]\u001b[0m\u001b[1;33m]\u001b[0m \u001b[1;33m=\u001b[0m \u001b[0mself\u001b[0m\u001b[1;33m.\u001b[0m\u001b[0mgaussianFunction\u001b[0m\u001b[1;33m(\u001b[0m\u001b[0mself\u001b[0m\u001b[1;33m.\u001b[0m\u001b[0mx_range\u001b[0m\u001b[1;33m,\u001b[0m \u001b[0mmean\u001b[0m \u001b[1;33m*\u001b[0m \u001b[1;33m(\u001b[0m\u001b[1;36m1\u001b[0m\u001b[1;33m/\u001b[0m\u001b[1;36m3\u001b[0m\u001b[1;33m)\u001b[0m\u001b[1;33m,\u001b[0m \u001b[0msigma\u001b[0m\u001b[1;33m,\u001b[0m \u001b[1;33m-\u001b[0m\u001b[1;36m1\u001b[0m\u001b[1;33m,\u001b[0m \u001b[0mcr_low\u001b[0m\u001b[1;33m,\u001b[0m \u001b[1;36m0\u001b[0m\u001b[1;33m,\u001b[0m \u001b[0mmean\u001b[0m \u001b[1;33m*\u001b[0m \u001b[1;33m(\u001b[0m\u001b[1;36m2\u001b[0m\u001b[1;33m/\u001b[0m\u001b[1;36m3\u001b[0m\u001b[1;33m)\u001b[0m\u001b[1;33m)\u001b[0m\u001b[1;33m\u001b[0m\u001b[0m\n",
      "\u001b[1;31mTypeError\u001b[0m: calculateSigma() missing 1 required positional argument: 'sigma_value'"
     ]
    }
   ],
   "source": [
    "fuzzify = Fuzzify()\n",
    "changed_decisions, features_number_after_reduct, implicants_number, fuzzify_parameters = fuzzify.worker(settings, -1)"
   ]
  },
  {
   "cell_type": "code",
   "execution_count": 7,
   "metadata": {
    "ExecuteTime": {
     "end_time": "2019-05-18T14:21:13.473808Z",
     "start_time": "2019-05-18T14:21:12.914791Z"
    }
   },
   "outputs": [
    {
     "data": {
      "text/html": [
       "<div>\n",
       "<style scoped>\n",
       "    .dataframe tbody tr th:only-of-type {\n",
       "        vertical-align: middle;\n",
       "    }\n",
       "\n",
       "    .dataframe tbody tr th {\n",
       "        vertical-align: top;\n",
       "    }\n",
       "\n",
       "    .dataframe thead th {\n",
       "        text-align: right;\n",
       "    }\n",
       "</style>\n",
       "<table border=\"1\" class=\"dataframe\">\n",
       "  <thead>\n",
       "    <tr style=\"text-align: right;\">\n",
       "      <th></th>\n",
       "      <th>Dataset</th>\n",
       "      <th>Gausses</th>\n",
       "      <th>Samples</th>\n",
       "      <th>Train s.</th>\n",
       "      <th>Test s.</th>\n",
       "      <th>Changed s.</th>\n",
       "      <th>% changed s.</th>\n",
       "      <th>Implicants</th>\n",
       "      <th>Features</th>\n",
       "      <th>F. after reduct</th>\n",
       "    </tr>\n",
       "  </thead>\n",
       "  <tbody>\n",
       "    <tr>\n",
       "      <th>0</th>\n",
       "      <td>Ki67</td>\n",
       "      <td>3</td>\n",
       "      <td>32100 (10700/21400)</td>\n",
       "      <td>25681 (8560/17121)</td>\n",
       "      <td>6421 (2140/4281)</td>\n",
       "      <td>8021</td>\n",
       "      <td>0.31</td>\n",
       "      <td>90</td>\n",
       "      <td>9</td>\n",
       "      <td>9</td>\n",
       "    </tr>\n",
       "    <tr>\n",
       "      <th>1</th>\n",
       "      <td>Ki67</td>\n",
       "      <td>5</td>\n",
       "      <td>4619 (888/3731)</td>\n",
       "      <td>3696 (710/2986)</td>\n",
       "      <td>925 (178/747)</td>\n",
       "      <td>279</td>\n",
       "      <td>0.08</td>\n",
       "      <td>279</td>\n",
       "      <td>9</td>\n",
       "      <td>9</td>\n",
       "    </tr>\n",
       "    <tr>\n",
       "      <th>2</th>\n",
       "      <td>Ki67</td>\n",
       "      <td>7</td>\n",
       "      <td>2552 (1452/1100)</td>\n",
       "      <td>2042 (1162/880)</td>\n",
       "      <td>512 (292/220)</td>\n",
       "      <td>236</td>\n",
       "      <td>0.12</td>\n",
       "      <td>228</td>\n",
       "      <td>6</td>\n",
       "      <td>6</td>\n",
       "    </tr>\n",
       "    <tr>\n",
       "      <th>3</th>\n",
       "      <td>Ki67 - New Gausses</td>\n",
       "      <td>5</td>\n",
       "      <td>2922 (1537/1385)</td>\n",
       "      <td>2338 (1230/1108)</td>\n",
       "      <td>586 (309/277)</td>\n",
       "      <td>331</td>\n",
       "      <td>0.14</td>\n",
       "      <td>123</td>\n",
       "      <td>6</td>\n",
       "      <td>6</td>\n",
       "    </tr>\n",
       "    <tr>\n",
       "      <th>4</th>\n",
       "      <td>Ki67 - New Gausses</td>\n",
       "      <td>7</td>\n",
       "      <td>2923 (1385/1538)</td>\n",
       "      <td>2923 (1385/1538)</td>\n",
       "      <td>-- (--/--)</td>\n",
       "      <td>257</td>\n",
       "      <td>0.09</td>\n",
       "      <td>240</td>\n",
       "      <td>6</td>\n",
       "      <td>6</td>\n",
       "    </tr>\n",
       "  </tbody>\n",
       "</table>\n",
       "</div>"
      ],
      "text/plain": [
       "              Dataset Gausses              Samples            Train s.  \\\n",
       "0                Ki67       3  32100 (10700/21400)  25681 (8560/17121)   \n",
       "1                Ki67       5      4619 (888/3731)     3696 (710/2986)   \n",
       "2                Ki67       7     2552 (1452/1100)     2042 (1162/880)   \n",
       "3  Ki67 - New Gausses       5     2922 (1537/1385)    2338 (1230/1108)   \n",
       "4  Ki67 - New Gausses       7     2923 (1385/1538)    2923 (1385/1538)   \n",
       "\n",
       "            Test s. Changed s.  % changed s. Implicants Features  \\\n",
       "0  6421 (2140/4281)       8021          0.31         90        9   \n",
       "1     925 (178/747)        279          0.08        279        9   \n",
       "2     512 (292/220)        236          0.12        228        6   \n",
       "3     586 (309/277)        331          0.14        123        6   \n",
       "4        -- (--/--)        257          0.09        240        6   \n",
       "\n",
       "  F. after reduct  \n",
       "0               9  \n",
       "1               9  \n",
       "2               6  \n",
       "3               6  \n",
       "4               6  "
      ]
     },
     "metadata": {},
     "output_type": "display_data"
    },
    {
     "data": {
      "text/html": [
       "<div>\n",
       "<style scoped>\n",
       "    .dataframe tbody tr th:only-of-type {\n",
       "        vertical-align: middle;\n",
       "    }\n",
       "\n",
       "    .dataframe tbody tr th {\n",
       "        vertical-align: top;\n",
       "    }\n",
       "\n",
       "    .dataframe thead th {\n",
       "        text-align: right;\n",
       "    }\n",
       "</style>\n",
       "<table border=\"1\" class=\"dataframe\">\n",
       "  <thead>\n",
       "    <tr style=\"text-align: right;\">\n",
       "      <th></th>\n",
       "      <th>Dataset</th>\n",
       "      <th>Gausses</th>\n",
       "      <th>Auto Mode</th>\n",
       "      <th>Mean 0</th>\n",
       "      <th>Std 0</th>\n",
       "      <th>Mean 1</th>\n",
       "      <th>Std 1</th>\n",
       "      <th>Mean 2</th>\n",
       "      <th>Std 2</th>\n",
       "      <th>Mean 3</th>\n",
       "      <th>...</th>\n",
       "      <th>Mean 11</th>\n",
       "      <th>Std 11</th>\n",
       "      <th>Mean 12</th>\n",
       "      <th>Std 12</th>\n",
       "      <th>Mean 13</th>\n",
       "      <th>Std 13</th>\n",
       "      <th>Mean 14</th>\n",
       "      <th>Std 14</th>\n",
       "      <th>Mean 15</th>\n",
       "      <th>Std 15</th>\n",
       "    </tr>\n",
       "  </thead>\n",
       "  <tbody>\n",
       "    <tr>\n",
       "      <th>0</th>\n",
       "      <td>Ki67</td>\n",
       "      <td>3</td>\n",
       "      <td>True</td>\n",
       "      <td>0.069</td>\n",
       "      <td>0.203</td>\n",
       "      <td>0.085</td>\n",
       "      <td>0.229</td>\n",
       "      <td>0.092</td>\n",
       "      <td>0.252</td>\n",
       "      <td>0.08</td>\n",
       "      <td>...</td>\n",
       "      <td></td>\n",
       "      <td></td>\n",
       "      <td></td>\n",
       "      <td></td>\n",
       "      <td></td>\n",
       "      <td></td>\n",
       "      <td></td>\n",
       "      <td></td>\n",
       "      <td></td>\n",
       "      <td></td>\n",
       "    </tr>\n",
       "    <tr>\n",
       "      <th>1</th>\n",
       "      <td>Ki67</td>\n",
       "      <td>5</td>\n",
       "      <td>True</td>\n",
       "      <td>0.454</td>\n",
       "      <td>0.309</td>\n",
       "      <td>0.549</td>\n",
       "      <td>0.296</td>\n",
       "      <td>0.598</td>\n",
       "      <td>0.331</td>\n",
       "      <td>0.512</td>\n",
       "      <td>...</td>\n",
       "      <td></td>\n",
       "      <td></td>\n",
       "      <td></td>\n",
       "      <td></td>\n",
       "      <td></td>\n",
       "      <td></td>\n",
       "      <td></td>\n",
       "      <td></td>\n",
       "      <td></td>\n",
       "      <td></td>\n",
       "    </tr>\n",
       "    <tr>\n",
       "      <th>2</th>\n",
       "      <td>Ki67</td>\n",
       "      <td>7</td>\n",
       "      <td>True</td>\n",
       "      <td>0.343</td>\n",
       "      <td>0.301</td>\n",
       "      <td>0.392</td>\n",
       "      <td>0.291</td>\n",
       "      <td>0.376</td>\n",
       "      <td>0.335</td>\n",
       "      <td>0.478</td>\n",
       "      <td>...</td>\n",
       "      <td></td>\n",
       "      <td></td>\n",
       "      <td></td>\n",
       "      <td></td>\n",
       "      <td></td>\n",
       "      <td></td>\n",
       "      <td></td>\n",
       "      <td></td>\n",
       "      <td></td>\n",
       "      <td></td>\n",
       "    </tr>\n",
       "    <tr>\n",
       "      <th>3</th>\n",
       "      <td>Ki67 - New Gausses</td>\n",
       "      <td>5</td>\n",
       "      <td>True</td>\n",
       "      <td>0.302</td>\n",
       "      <td>0.091</td>\n",
       "      <td>0.357</td>\n",
       "      <td>0.107</td>\n",
       "      <td>0.336</td>\n",
       "      <td>0.101</td>\n",
       "      <td>0.509</td>\n",
       "      <td>...</td>\n",
       "      <td></td>\n",
       "      <td></td>\n",
       "      <td></td>\n",
       "      <td></td>\n",
       "      <td></td>\n",
       "      <td></td>\n",
       "      <td></td>\n",
       "      <td></td>\n",
       "      <td></td>\n",
       "      <td></td>\n",
       "    </tr>\n",
       "    <tr>\n",
       "      <th>4</th>\n",
       "      <td>Ki67 - New Gausses</td>\n",
       "      <td>7</td>\n",
       "      <td>True</td>\n",
       "      <td>0.306</td>\n",
       "      <td>0.061</td>\n",
       "      <td>0.36</td>\n",
       "      <td>0.072</td>\n",
       "      <td>0.339</td>\n",
       "      <td>0.068</td>\n",
       "      <td>0.511</td>\n",
       "      <td>...</td>\n",
       "      <td></td>\n",
       "      <td></td>\n",
       "      <td></td>\n",
       "      <td></td>\n",
       "      <td></td>\n",
       "      <td></td>\n",
       "      <td></td>\n",
       "      <td></td>\n",
       "      <td></td>\n",
       "      <td></td>\n",
       "    </tr>\n",
       "  </tbody>\n",
       "</table>\n",
       "<p>5 rows × 35 columns</p>\n",
       "</div>"
      ],
      "text/plain": [
       "              Dataset Gausses Auto Mode Mean 0  Std 0 Mean 1  Std 1 Mean 2  \\\n",
       "0                Ki67       3      True  0.069  0.203  0.085  0.229  0.092   \n",
       "1                Ki67       5      True  0.454  0.309  0.549  0.296  0.598   \n",
       "2                Ki67       7      True  0.343  0.301  0.392  0.291  0.376   \n",
       "3  Ki67 - New Gausses       5      True  0.302  0.091  0.357  0.107  0.336   \n",
       "4  Ki67 - New Gausses       7      True  0.306  0.061   0.36  0.072  0.339   \n",
       "\n",
       "   Std 2 Mean 3  ...   Mean 11 Std 11 Mean 12 Std 12 Mean 13 Std 13 Mean 14  \\\n",
       "0  0.252   0.08  ...                                                          \n",
       "1  0.331  0.512  ...                                                          \n",
       "2  0.335  0.478  ...                                                          \n",
       "3  0.101  0.509  ...                                                          \n",
       "4  0.068  0.511  ...                                                          \n",
       "\n",
       "  Std 14 Mean 15 Std 15  \n",
       "0                        \n",
       "1                        \n",
       "2                        \n",
       "3                        \n",
       "4                        \n",
       "\n",
       "[5 rows x 35 columns]"
      ]
     },
     "metadata": {},
     "output_type": "display_data"
    }
   ],
   "source": [
    "helper = Helper()\n",
    "\n",
    "fuzzification_data = [settings[\"dataset_name\"] + \" - New Gausses\", settings[\"gausses\"], samples_stats, train_stats, test_stats, changed_decisions, round(changed_decisions / train_samples, 2), implicants_number, settings[\"feature_numbers\"], features_number_after_reduct]\n",
    "helper.saveFuzzificationStats(fuzzification_data)\n",
    "\n",
    "fuzzification_parameters_data = [settings[\"dataset_name\"] + \" - New Gausses\", settings[\"gausses\"], settings.sigma_mean_params] + fuzzify_parameters\n",
    "helper.saveFuzzificationParameters(fuzzification_parameters_data)"
   ]
  },
  {
   "cell_type": "markdown",
   "metadata": {
    "heading_collapsed": true
   },
   "source": [
    "## Train Set - K-Fold"
   ]
  },
  {
   "cell_type": "markdown",
   "metadata": {
    "heading_collapsed": true,
    "hidden": true
   },
   "source": [
    "##### Train Set | K-Fold - S Function Optymalization"
   ]
  },
  {
   "cell_type": "code",
   "execution_count": null,
   "metadata": {
    "ExecuteTime": {
     "end_time": "2019-05-03T18:24:38.274829Z",
     "start_time": "2019-05-03T18:24:36.636787Z"
    },
    "hidden": true
   },
   "outputs": [],
   "source": [
    "optimizeBruteForceKFold = OptimizeBruteForceKFold(settings, settings.s_function_width)"
   ]
  },
  {
   "cell_type": "code",
   "execution_count": null,
   "metadata": {
    "ExecuteTime": {
     "start_time": "2019-05-03T18:24:11.567Z"
    },
    "hidden": true,
    "scrolled": false
   },
   "outputs": [],
   "source": [
    "best_s_function_center, mean_s_function_center = optimizeBruteForceKFold.worker(settings, settings.constraints, settings.s_function_width, settings.n_folds)"
   ]
  },
  {
   "cell_type": "markdown",
   "metadata": {
    "heading_collapsed": true
   },
   "source": [
    "## Test Set | K-Fold Test"
   ]
  },
  {
   "cell_type": "code",
   "execution_count": null,
   "metadata": {
    "ExecuteTime": {
     "start_time": "2019-05-03T18:24:11.571Z"
    },
    "hidden": true
   },
   "outputs": [],
   "source": [
    "valueTest = ValueTest(settings, settings.s_function_width, False)"
   ]
  },
  {
   "cell_type": "markdown",
   "metadata": {
    "hidden": true
   },
   "source": [
    "##### K-Fold Test Set | S Function Value"
   ]
  },
  {
   "cell_type": "code",
   "execution_count": null,
   "metadata": {
    "ExecuteTime": {
     "start_time": "2019-05-03T18:24:11.575Z"
    },
    "hidden": true
   },
   "outputs": [],
   "source": [
    "valueTest.sOptymalizationWorker(settings, best_s_function_center, \"Test Value - K-Fold - Best Function Center\")"
   ]
  },
  {
   "cell_type": "code",
   "execution_count": null,
   "metadata": {
    "ExecuteTime": {
     "start_time": "2019-05-03T18:24:11.577Z"
    },
    "hidden": true
   },
   "outputs": [],
   "source": [
    "valueTest.sOptymalizationWorker(settings, mean_s_function_center, \"Test Value - K-Fold - Average Function Center\")"
   ]
  },
  {
   "cell_type": "markdown",
   "metadata": {
    "heading_collapsed": true
   },
   "source": [
    "## Training Set"
   ]
  },
  {
   "cell_type": "markdown",
   "metadata": {
    "heading_collapsed": true,
    "hidden": true
   },
   "source": [
    "##### Training Set | No Optymalization"
   ]
  },
  {
   "cell_type": "code",
   "execution_count": null,
   "metadata": {
    "ExecuteTime": {
     "end_time": "2019-05-07T12:30:57.931647Z",
     "start_time": "2019-05-07T12:30:09.714666Z"
    },
    "hidden": true,
    "scrolled": true
   },
   "outputs": [],
   "source": [
    "valueTest = ValueTest(settings, settings.s_function_width, True)\n",
    "valueTest.noOptymalizationWorker(settings)"
   ]
  },
  {
   "cell_type": "markdown",
   "metadata": {
    "hidden": true
   },
   "source": [
    "##### Training Set | S Function Optymalization"
   ]
  },
  {
   "cell_type": "code",
   "execution_count": null,
   "metadata": {
    "ExecuteTime": {
     "end_time": "2019-05-07T12:38:18.226480Z",
     "start_time": "2019-05-07T12:38:16.273487Z"
    },
    "hidden": true
   },
   "outputs": [],
   "source": [
    "optimizeBruteForce = OptimizeBruteForce(settings, settings.s_function_width)"
   ]
  },
  {
   "cell_type": "code",
   "execution_count": null,
   "metadata": {
    "ExecuteTime": {
     "end_time": "2019-05-07T13:22:50.097894Z",
     "start_time": "2019-05-07T12:38:26.868861Z"
    },
    "hidden": true,
    "scrolled": true
   },
   "outputs": [],
   "source": [
    "s_function_center = optimizeBruteForce.sFunctionsWorker(settings, settings.constraints, settings.s_function_width)"
   ]
  },
  {
   "cell_type": "markdown",
   "metadata": {
    "hidden": true
   },
   "source": [
    "##### Training Set | Threshold Optymalization"
   ]
  },
  {
   "cell_type": "code",
   "execution_count": null,
   "metadata": {
    "ExecuteTime": {
     "end_time": "2019-05-07T13:34:24.052822Z",
     "start_time": "2019-05-07T13:25:36.548343Z"
    },
    "hidden": true
   },
   "outputs": [],
   "source": [
    "threshold = optimizeBruteForce.thresholdWorker(settings, s_function_center, settings.s_function_width)"
   ]
  },
  {
   "cell_type": "markdown",
   "metadata": {},
   "source": [
    "## Test Set"
   ]
  },
  {
   "cell_type": "code",
   "execution_count": 15,
   "metadata": {
    "ExecuteTime": {
     "end_time": "2019-05-18T15:14:52.852808Z",
     "start_time": "2019-05-18T15:14:07.814598Z"
    }
   },
   "outputs": [
    {
     "name": "stdout",
     "output_type": "stream",
     "text": [
      "../Data/Ki67-Example/10712-09-part.png\n"
     ]
    }
   ],
   "source": [
    "loadImage = LoadImage()\n",
    "samples_stats, train_stats, test_stats, train_samples = loadImage.worker(settings, True)"
   ]
  },
  {
   "cell_type": "code",
   "execution_count": 58,
   "metadata": {
    "ExecuteTime": {
     "end_time": "2019-05-18T22:04:19.603828Z",
     "start_time": "2019-05-18T22:03:54.949488Z"
    }
   },
   "outputs": [],
   "source": [
    "valueTest = ValueTest(settings, settings.s_function_width, True)"
   ]
  },
  {
   "cell_type": "markdown",
   "metadata": {},
   "source": [
    "##### Test Set | No Optymalization "
   ]
  },
  {
   "cell_type": "code",
   "execution_count": 59,
   "metadata": {
    "ExecuteTime": {
     "end_time": "2019-05-18T22:05:35.647872Z",
     "start_time": "2019-05-18T22:04:25.752299Z"
    }
   },
   "outputs": [
    {
     "name": "stdout",
     "output_type": "stream",
     "text": [
      "-----------------------------------------------------------------------------------\n"
     ]
    },
    {
     "name": "stderr",
     "output_type": "stream",
     "text": [
      "Progress: 100%|████████████████████████████████████████████████████████████████████| 2923/2923 [01:07<00:00, 50.86it/s]\n"
     ]
    },
    {
     "name": "stdout",
     "output_type": "stream",
     "text": [
      "Accuracy: 0.9131029763941156\n",
      "Precision: [0.99648815 0.85986547]\n",
      "Recall: [0.81949458 0.99739922]\n",
      "F-Score: [0.89936609 0.92354004]\n",
      "Support: [1385 1538]\n",
      "-----------------------------------------------------------------------------------\n",
      "Center Point: 0.5\n",
      "Time: 69.61700630187988\n",
      "-----------------------------------------------------------------------------------\n"
     ]
    }
   ],
   "source": [
    "valueTest.noOptymalizationWorker(settings, False)"
   ]
  },
  {
   "cell_type": "markdown",
   "metadata": {},
   "source": [
    "##### Test Set | S Function Value"
   ]
  },
  {
   "cell_type": "code",
   "execution_count": null,
   "metadata": {
    "ExecuteTime": {
     "end_time": "2019-05-18T12:21:10.385183Z",
     "start_time": "2019-05-18T12:20:06.823461Z"
    },
    "scrolled": true
   },
   "outputs": [],
   "source": [
    "valueTest.sOptymalizationWorker(settings, 0.5)"
   ]
  },
  {
   "cell_type": "markdown",
   "metadata": {},
   "source": [
    "##### Test Set | Threshold Value"
   ]
  },
  {
   "cell_type": "code",
   "execution_count": null,
   "metadata": {
    "ExecuteTime": {
     "end_time": "2019-05-11T21:06:17.986490Z",
     "start_time": "2019-05-11T21:05:06.789381Z"
    },
    "scrolled": true
   },
   "outputs": [],
   "source": [
    "valueTest.thresholdWorker(settings, 0.3, 0.534498)"
   ]
  },
  {
   "cell_type": "markdown",
   "metadata": {},
   "source": [
    "## Visualization"
   ]
  },
  {
   "cell_type": "code",
   "execution_count": 3,
   "metadata": {
    "ExecuteTime": {
     "end_time": "2019-06-05T18:07:56.156997Z",
     "start_time": "2019-06-05T18:07:55.444998Z"
    }
   },
   "outputs": [
    {
     "data": {
      "image/png": "[encoded data removed]",
      "text/plain": [
       "<Figure size 1440x1440 with 1 Axes>"
      ]
     },
     "metadata": {},
     "output_type": "display_data"
    }
   ],
   "source": [
    "from matplotlib import pyplot as plt\n",
    "import numpy as np\n",
    "import pandas as pd\n",
    "import cv2\n",
    "from Settings.SettingsKi67 import Settings as Settings\n",
    "import Settings.GeneralSettings as generalSettings\n",
    "\n",
    "settings = Settings(generalSettings)\n",
    "result_data = pickle.load(open(settings.backup_folder + \"Test_df_results.p\", \"rb\"))\n",
    "result_data = result_data.sort_index()\n",
    "\n",
    "results = np.reshape(np.array(result_data[\"Decision Fuzzy\"]), (-1, 256))\n",
    "results = [np.ones(3) if j == \"blue\" else np.zeros(3) for row in results for j in row]\n",
    "results = np.array(results)\n",
    "results = results.reshape((-1, 256, 3))\n",
    "\n",
    "fig = plt.figure(figsize=(20,20))\n",
    "plt.axis('off')\n",
    "plt.imshow(results)\n",
    "plt.savefig('10712-09-part-Result.png')"
   ]
  },
  {
   "cell_type": "code",
   "execution_count": 9,
   "metadata": {
    "ExecuteTime": {
     "end_time": "2019-06-05T18:16:15.498519Z",
     "start_time": "2019-06-05T18:16:15.406472Z"
    }
   },
   "outputs": [],
   "source": [
    "from skimage.morphology import binary_closing\n",
    "from skimage.morphology import disk, remove_small_objects\n",
    "from skimage.color import rgb2gray\n",
    "from skimage import data, io, segmentation, color\n",
    "grayscale = rgb2gray(results)\n",
    "binary = binary_closing(grayscale, disk(6))\n",
    "removed_objects = remove_small_objects(binary, 5)"
   ]
  },
  {
   "cell_type": "code",
   "execution_count": 10,
   "metadata": {
    "ExecuteTime": {
     "end_time": "2019-06-05T18:16:16.318635Z",
     "start_time": "2019-06-05T18:16:16.227623Z"
    }
   },
   "outputs": [
    {
     "data": {
      "text/plain": [
       "array([[False, False, False, ..., False, False, False],\n",
       "       [False, False, False, ..., False, False, False],\n",
       "       [False, False, False, ..., False, False, False],\n",
       "       ...,\n",
       "       [False, False, False, ..., False, False, False],\n",
       "       [False, False, False, ..., False, False, False],\n",
       "       [False, False, False, ..., False, False, False]])"
      ]
     },
     "execution_count": 10,
     "metadata": {},
     "output_type": "execute_result"
    }
   ],
   "source": [
    "binary"
   ]
  },
  {
   "cell_type": "code",
   "execution_count": 11,
   "metadata": {
    "ExecuteTime": {
     "end_time": "2019-06-05T18:16:17.449892Z",
     "start_time": "2019-06-05T18:16:16.916894Z"
    }
   },
   "outputs": [
    {
     "data": {
      "text/plain": [
       "<matplotlib.image.AxesImage at 0x1dfa347af98>"
      ]
     },
     "execution_count": 11,
     "metadata": {},
     "output_type": "execute_result"
    },
    {
     "data": {
      "image/png": "[encoded data removed]",
      "text/plain": [
       "<Figure size 1440x1440 with 1 Axes>"
      ]
     },
     "metadata": {},
     "output_type": "display_data"
    }
   ],
   "source": [
    "fig = plt.figure(figsize=(20,20))\n",
    "plt.axis('off')\n",
    "plt.imshow(binary, cmap=plt.cm.gray,)\n",
    "# plt.savefig('10712-09-part-Result.png')"
   ]
  },
  {
   "cell_type": "code",
   "execution_count": 7,
   "metadata": {
    "ExecuteTime": {
     "end_time": "2019-06-05T18:08:27.364279Z",
     "start_time": "2019-06-05T18:08:26.668246Z"
    }
   },
   "outputs": [
    {
     "data": {
      "image/png": "[encoded data removed]",
      "text/plain": [
       "<Figure size 1440x1440 with 1 Axes>"
      ]
     },
     "metadata": {},
     "output_type": "display_data"
    }
   ],
   "source": [
    "fig = plt.figure(figsize=(20,20))\n",
    "plt.axis('off')\n",
    "plt.imshow(removed_objects, cmap=plt.cm.gray)\n",
    "plt.savefig('10712-09-part-Result.png', cmap=plt.cm.gray)"
   ]
  },
  {
   "cell_type": "code",
   "execution_count": 8,
   "metadata": {
    "ExecuteTime": {
     "end_time": "2019-06-05T18:08:34.290772Z",
     "start_time": "2019-06-05T18:08:32.988790Z"
    }
   },
   "outputs": [
    {
     "data": {
      "text/plain": [
       "Text(0.5, 1.0, 'Separated objects')"
      ]
     },
     "execution_count": 8,
     "metadata": {},
     "output_type": "execute_result"
    },
    {
     "data": {
      "image/png": "[encoded data removed]",
      "text/plain": [
       "<Figure size 2880x1440 with 3 Axes>"
      ]
     },
     "metadata": {},
     "output_type": "display_data"
    }
   ],
   "source": [
    "import numpy as np\n",
    "import matplotlib.pyplot as plt\n",
    "from scipy import ndimage as ndi\n",
    "\n",
    "from skimage.morphology import watershed\n",
    "from skimage.feature import peak_local_max\n",
    "\n",
    "distance = ndi.distance_transform_edt(removed_objects)\n",
    "local_maxi = peak_local_max(distance, indices=False, footprint=np.ones((3, 3)),\n",
    "                            labels=removed_objects)\n",
    "markers = ndi.label(local_maxi)[0]\n",
    "labels = watershed(-distance, markers, mask=removed_objects)\n",
    "\n",
    "fig, axes = plt.subplots(ncols=3, figsize=(40, 20), sharex=True, sharey=True)\n",
    "ax = axes.ravel()\n",
    "\n",
    "ax[0].imshow(removed_objects, cmap=plt.cm.gray, interpolation='nearest')\n",
    "ax[0].set_title('Overlapping objects')\n",
    "ax[1].imshow(-distance, cmap=plt.cm.gray, interpolation='nearest')\n",
    "ax[1].set_title('Distances')\n",
    "ax[2].imshow(labels, cmap=plt.cm.nipy_spectral, interpolation='nearest')\n",
    "ax[2].set_title('Separated objects')\n"
   ]
  }
 ],
 "metadata": {
  "kernelspec": {
   "display_name": "Python 3",
   "language": "python",
   "name": "python3"
  },
  "language_info": {
   "codemirror_mode": {
    "name": "ipython",
    "version": 3
   },
   "file_extension": ".py",
   "mimetype": "text/x-python",
   "name": "python",
   "nbconvert_exporter": "python",
   "pygments_lexer": "ipython3",
   "version": "3.5.5"
  },
  "varInspector": {
   "cols": {
    "lenName": 16,
    "lenType": 16,
    "lenVar": 40
   },
   "kernels_config": {
    "python": {
     "delete_cmd_postfix": "",
     "delete_cmd_prefix": "del ",
     "library": "var_list.py",
     "varRefreshCmd": "print(var_dic_list())"
    },
    "r": {
     "delete_cmd_postfix": ") ",
     "delete_cmd_prefix": "rm(",
     "library": "var_list.r",
     "varRefreshCmd": "cat(var_dic_list()) "
    }
   },
   "types_to_exclude": [
    "module",
    "function",
    "builtin_function_or_method",
    "instance",
    "_Feature"
   ],
   "window_display": false
  }
 },
 "nbformat": 4,
 "nbformat_minor": 2
}
