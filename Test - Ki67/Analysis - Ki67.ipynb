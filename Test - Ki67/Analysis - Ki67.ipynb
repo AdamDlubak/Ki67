{
 "cells": [
  {
   "cell_type": "markdown",
   "metadata": {},
   "source": [
    "## Preparation"
   ]
  },
  {
   "cell_type": "markdown",
   "metadata": {
    "heading_collapsed": true
   },
   "source": [
    "##### Import Functions"
   ]
  },
  {
   "cell_type": "code",
   "execution_count": 1,
   "metadata": {
    "ExecuteTime": {
     "end_time": "2019-06-10T09:35:53.941964Z",
     "start_time": "2019-06-10T09:35:51.825979Z"
    },
    "hidden": true
   },
   "outputs": [],
   "source": [
    "import numpy as np\n",
    "import pandas as pd\n",
    "from os import listdir\n",
    "from skimage import io\n",
    "from matplotlib import pyplot as plt\n",
    "from skimage.draw import circle, circle_perimeter\n",
    "from skimage.color import rgb2hsv, rgb2hed, hed2rgb, rgb2gray\n",
    "from Scripts.LoadImage import LoadImage as LoadImage\n",
    "from Scripts.Fuzzify import Fuzzify as Fuzzify\n",
    "from Class.Helper import Helper as Helper\n",
    "from Scripts.Ki67 import Ki67 as Ki67"
   ]
  },
  {
   "cell_type": "markdown",
   "metadata": {
    "heading_collapsed": true
   },
   "source": [
    "##### Functions"
   ]
  },
  {
   "cell_type": "code",
   "execution_count": 2,
   "metadata": {
    "ExecuteTime": {
     "end_time": "2019-06-10T09:35:54.093961Z",
     "start_time": "2019-06-10T09:35:53.943967Z"
    },
    "hidden": true
   },
   "outputs": [],
   "source": [
    "from skimage.morphology import binary_closing\n",
    "from skimage.morphology import disk, remove_small_objects\n",
    "from skimage.color import rgb2gray\n",
    "from skimage.color import gray2rgb\n",
    "from skimage import data, io, segmentation, color\n",
    "import math\n",
    "import pandas as pd\n",
    "from skimage import img_as_uint\n",
    "from skimage.transform import rescale\n",
    "from skimage import img_as_ubyte\n",
    "def getRecall(markers, mask):\n",
    "    radius = 3\n",
    "    hits = markers.apply(lambda marker: mask[int(marker['y'])-radius:int(marker['y']) + radius + 1, int(marker['x'])-radius:int(marker['x']) + radius + 1].any(),axis=1)\n",
    "    recall = hits.sum() / len(hits)\n",
    "    return recall\n",
    "\n",
    "def validateResults(folder_name, show_images = False):\n",
    "    path = settings.data_folder_test\n",
    "    mask = pickle.load(open(settings.backup_folder + \"Images/\" + \"Test_\" + folder_name + \"_\" + settings.class_1 + \"_df_results\"  + \".p\", \"rb\"))\n",
    "    mask = mask.sort_index()\n",
    "    \n",
    "    file_path = path + folder_name\n",
    "    base = io.imread(file_path + \"/base.png\")\n",
    "    markers = pd.read_csv(file_path + \"/markers.csv\")\n",
    "    \n",
    "    if settings.class_1 == \"brown\":\n",
    "        searched_class = 1\n",
    "    else:\n",
    "        searched_class = 2\n",
    "    width = math.ceil(base.shape[1] / 3)\n",
    "    mask = np.reshape(np.array(mask[\"Decision Fuzzy\"]), (-1, width))\n",
    "    \n",
    "    mask = [np.ones(3) if j == settings.class_1 else np.zeros(3) for row in mask for j in row]\n",
    "    mask = np.array(mask)\n",
    "    mask = mask.reshape((-1, width, 3))\n",
    "    k = 3\n",
    "    markers.loc[:, 'x'] = markers.x.apply(lambda x: np.ceil(x / k))\n",
    "    markers.loc[:, 'y'] = markers.y.apply(lambda y: np.ceil(y / k))\n",
    "\n",
    "    markers = markers.loc[markers.type == searched_class]\n",
    "    markers_number = markers.shape[0]\n",
    "    if show_images:\n",
    "        fig, ax = plt.subplots(ncols=5, nrows=1, figsize=(70, 45))\n",
    "\n",
    "    mask_gray = rgb2gray(mask)\n",
    "\n",
    "    if show_images:\n",
    "        ax[0].imshow(mask, cmap=plt.cm.gray)\n",
    "    mask_gray = binary_closing(mask_gray, disk(1))\n",
    "    if show_images:\n",
    "        ax[1].imshow(mask_gray, cmap=plt.cm.gray)\n",
    "    mask_gray = remove_small_objects(mask_gray, 3)\n",
    "    if show_images:\n",
    "        ax[2].imshow(mask_gray, cmap=plt.cm.gray)\n",
    "    mask_gray = binary_closing(mask_gray, disk(2))\n",
    "    if show_images:\n",
    "        ax[3].imshow(mask_gray, cmap=plt.cm.gray)\n",
    "\n",
    "    mask_gray = mask_gray.astype(bool)\n",
    "    recall = getRecall(markers, mask_gray)\n",
    "    \n",
    "\n",
    "    io.imsave(\"Images/\" + folder_name + \"_\" + settings.class_1 + \"_processed_mask.png\", img_as_uint(mask_gray))\n",
    "    io.imsave(\"Images/\" + folder_name + \"_\" + settings.class_1 + \"_processed_colored.png\", img_as_uint(gray2rgb(mask_gray) * rescale(base, 1.0 / 3.0, anti_aliasing=False)))\n",
    "    if show_images:\n",
    "        for center_y, center_x in zip(markers.y, markers.x):\n",
    "            circy, circx = circle_perimeter(int(center_y), int(center_x), 0)\n",
    "            base[circy, circx] = (220, 20, 20)\n",
    "        \n",
    "        ax[4].imshow(base, cmap=plt.cm.gray)\n",
    "        plt.show()\n",
    "        \n",
    "    mask_rgb = img_as_ubyte(gray2rgb(mask_gray))\n",
    "\n",
    "    for center_y, center_x in zip(markers.y, markers.x):\n",
    "        circy, circx = circle_perimeter(int(center_y), int(center_x), 2)\n",
    "        mask_rgb[circy, circx] = (220, 20, 20)\n",
    "\n",
    "    io.imsave(\"Images/\" + folder_name + \"_\" + settings.class_1 + \"_processed_labels.png\", img_as_uint(mask_rgb))\n",
    "\n",
    "    return recall, markers_number"
   ]
  },
  {
   "cell_type": "markdown",
   "metadata": {
    "heading_collapsed": true
   },
   "source": [
    "##### Import Settings"
   ]
  },
  {
   "cell_type": "code",
   "execution_count": 3,
   "metadata": {
    "ExecuteTime": {
     "end_time": "2019-06-10T09:35:54.214962Z",
     "start_time": "2019-06-10T09:35:54.096984Z"
    },
    "hidden": true
   },
   "outputs": [],
   "source": [
    "# from Settings.SettingsKi67 import Settings as Settings\n",
    "# import Settings.GeneralSettings as generalSettings\n",
    "# settings = Settings(generalSettings)"
   ]
  },
  {
   "cell_type": "markdown",
   "metadata": {
    "heading_collapsed": true
   },
   "source": [
    "##### Load Image"
   ]
  },
  {
   "cell_type": "code",
   "execution_count": 4,
   "metadata": {
    "ExecuteTime": {
     "end_time": "2019-06-10T09:35:54.332974Z",
     "start_time": "2019-06-10T09:35:54.217962Z"
    },
    "hidden": true
   },
   "outputs": [],
   "source": [
    "# loadImage = LoadImage()\n",
    "# samples_stats, train_stats, test_stats, train_samples = loadImage.worker(settings, test_mode = False)"
   ]
  },
  {
   "cell_type": "markdown",
   "metadata": {
    "heading_collapsed": true
   },
   "source": [
    "### Train mode"
   ]
  },
  {
   "cell_type": "code",
   "execution_count": 5,
   "metadata": {
    "ExecuteTime": {
     "end_time": "2019-06-10T09:35:54.451965Z",
     "start_time": "2019-06-10T09:35:54.335968Z"
    },
    "hidden": true
   },
   "outputs": [],
   "source": [
    "# fuzzify = Fuzzify()\n",
    "# changed_decisions, features_number_after_reduct, implicants_number, fuzzify_parameters, execution_time = fuzzify.worker(settings, -1)\n",
    "# print(implicants_number)"
   ]
  },
  {
   "cell_type": "markdown",
   "metadata": {},
   "source": [
    "### Test mode"
   ]
  },
  {
   "cell_type": "code",
   "execution_count": null,
   "metadata": {
    "ExecuteTime": {
     "end_time": "2019-06-10T11:37:48.298574Z",
     "start_time": "2019-06-10T11:37:46.254575Z"
    }
   },
   "outputs": [],
   "source": [
    "helper = Helper()\n",
    "import time\n",
    "from Settings.SettingsKi67 import Settings as Settings\n",
    "import Settings.GeneralSettings as generalSettings\n",
    "\n",
    "for name in [\"1628-05\"]:\n",
    "    generalSettings.file_name = name\n",
    "    generalSettings.class_1 = \"blue\"\n",
    "    settings = Settings(generalSettings)\n",
    "\n",
    "    loadImage = LoadImage()\n",
    "    samples_stats, train_stats, test_stats, train_samples = loadImage.worker(settings, test_mode = True)\n",
    "\n",
    "    ki67Test = Ki67(settings, settings.s_function_width, False)\n",
    "    start = time.time()\n",
    "    ki67Test.noOptymalizationWorker(settings)\n",
    "    end = time.time()\n",
    "    blue_time = end - start\n",
    "    blue_recall, markers_number_blue = validateResults(settings.file_name, True)\n",
    "\n",
    "    generalSettings.class_1 = \"brown\"\n",
    "    settings = Settings(generalSettings)\n",
    "\n",
    "    loadImage = LoadImage()\n",
    "    samples_stats, train_stats, test_stats, train_samples = loadImage.worker(settings, test_mode = True)\n",
    "\n",
    "    ki67Test = Ki67(settings, settings.s_function_width, False)\n",
    "    start = time.time()\n",
    "    ki67Test.noOptymalizationWorker(settings)\n",
    "    end = time.time()\n",
    "    brown_time = end - start\n",
    "\n",
    "    brown_recall, markers_number_brown = validateResults(settings.file_name, True)\n",
    "    \n",
    "    base_res = io.imread(settings.data_folder_test + settings.file_name + \"/base.png\")\n",
    "    helper.saveKi67Segmentation([settings.file_name, str(base_res.shape[0]) + \"x\" + str(base_res.shape[1]), base_res.shape[0] * base_res.shape[1], markers_number_blue, blue_recall, blue_time, markers_number_brown, brown_recall, brown_time, (blue_recall + brown_recall)/2, (blue_time + brown_time)])"
   ]
  }
 ],
 "metadata": {
  "kernelspec": {
   "display_name": "Python 3",
   "language": "python",
   "name": "python3"
  },
  "language_info": {
   "codemirror_mode": {
    "name": "ipython",
    "version": 3
   },
   "file_extension": ".py",
   "mimetype": "text/x-python",
   "name": "python",
   "nbconvert_exporter": "python",
   "pygments_lexer": "ipython3",
   "version": "3.5.5"
  },
  "varInspector": {
   "cols": {
    "lenName": 16,
    "lenType": 16,
    "lenVar": 40
   },
   "kernels_config": {
    "python": {
     "delete_cmd_postfix": "",
     "delete_cmd_prefix": "del ",
     "library": "var_list.py",
     "varRefreshCmd": "print(var_dic_list())"
    },
    "r": {
     "delete_cmd_postfix": ") ",
     "delete_cmd_prefix": "rm(",
     "library": "var_list.r",
     "varRefreshCmd": "cat(var_dic_list()) "
    }
   },
   "types_to_exclude": [
    "module",
    "function",
    "builtin_function_or_method",
    "instance",
    "_Feature"
   ],
   "window_display": false
  }
 },
 "nbformat": 4,
 "nbformat_minor": 2
}
