{
 "cells": [
  {
   "cell_type": "code",
   "execution_count": 1,
   "metadata": {
    "ExecuteTime": {
     "end_time": "2019-06-07T17:10:07.180385Z",
     "start_time": "2019-06-07T17:10:04.728392Z"
    }
   },
   "outputs": [],
   "source": [
    "import numpy as np\n",
    "from os import listdir\n",
    "from skimage import io\n",
    "from skimage import data, io\n",
    "from matplotlib import pyplot as plt\n",
    "from skimage.color import rgb2hsv, rgb2hed, hed2rgb"
   ]
  },
  {
   "cell_type": "code",
   "execution_count": 2,
   "metadata": {
    "ExecuteTime": {
     "end_time": "2019-06-07T17:10:07.401373Z",
     "start_time": "2019-06-07T17:10:07.329370Z"
    }
   },
   "outputs": [],
   "source": [
    "from Settings.SettingsKi67 import Settings as Settings\n",
    "import Settings.GeneralSettings as generalSettings\n",
    "\n",
    "settings = Settings(generalSettings)"
   ]
  },
  {
   "cell_type": "code",
   "execution_count": 62,
   "metadata": {
    "ExecuteTime": {
     "end_time": "2019-06-05T08:09:16.567685Z",
     "start_time": "2019-06-05T08:09:16.478682Z"
    },
    "scrolled": true
   },
   "outputs": [
    {
     "name": "stdout",
     "output_type": "stream",
     "text": [
      "../Data/Ki67-Example/brown.png\n"
     ]
    }
   ],
   "source": [
    "images = []\n",
    "path = settings.data_folder\n",
    "\n",
    "for folder in listdir(path):\n",
    "    file_path = path + folder\n",
    "    print(file_path)\n",
    "    images.append(io.imread(file_path))"
   ]
  },
  {
   "cell_type": "code",
   "execution_count": 63,
   "metadata": {
    "ExecuteTime": {
     "end_time": "2019-06-05T08:09:18.987845Z",
     "start_time": "2019-06-05T08:09:18.909860Z"
    }
   },
   "outputs": [],
   "source": [
    "def splitIntoHedChannels(image):\n",
    "    hed_image = rgb2hed(image)\n",
    "    h = hed_image[:, :, 0]\n",
    "    e = hed_image[:, :, 1]\n",
    "    d = hed_image[:, :, 2]\n",
    "    return h, e, d"
   ]
  },
  {
   "cell_type": "code",
   "execution_count": 65,
   "metadata": {
    "ExecuteTime": {
     "end_time": "2019-06-05T08:09:20.769206Z",
     "start_time": "2019-06-05T08:09:20.642214Z"
    }
   },
   "outputs": [],
   "source": [
    "maxes_h = []\n",
    "mines_h = []\n",
    "maxes_e = []\n",
    "mines_e = []\n",
    "maxes_d = []\n",
    "mines_d = []\n",
    "\n",
    "for image in images:\n",
    "    h_hed_image, e_hed_image, d_hed_image = splitIntoHedChannels(image)\n",
    "    maxes_h.append(np.amax(h_hed_image))\n",
    "    maxes_e.append(np.amax(e_hed_image))\n",
    "    maxes_d.append(np.amax(d_hed_image))\n",
    "    \n",
    "    mines_h.append(np.amin(h_hed_image))\n",
    "    mines_e.append(np.amin(e_hed_image))\n",
    "    mines_d.append(np.amin(d_hed_image))"
   ]
  },
  {
   "cell_type": "code",
   "execution_count": 66,
   "metadata": {
    "ExecuteTime": {
     "end_time": "2019-06-05T08:09:22.653650Z",
     "start_time": "2019-06-05T08:09:22.567651Z"
    }
   },
   "outputs": [],
   "source": [
    "max_h = np.amax(maxes_h)\n",
    "min_h = np.amin(mines_h)\n",
    "max_e = np.amax(maxes_e)\n",
    "min_e = np.amin(mines_e)\n",
    "max_d = np.amax(maxes_d)\n",
    "min_d = np.amin(mines_d)\n",
    "\n",
    "print(max_h)\n",
    "print(min_h)\n",
    "print(max_e)\n",
    "print(min_e)\n",
    "print(max_d)\n",
    "print(min_d)"
   ]
  },
  {
   "cell_type": "code",
   "execution_count": 3,
   "metadata": {
    "ExecuteTime": {
     "end_time": "2019-06-05T07:35:21.181067Z",
     "start_time": "2019-06-05T07:35:21.103064Z"
    }
   },
   "outputs": [],
   "source": [
    "path = settings.data_folder"
   ]
  },
  {
   "cell_type": "code",
   "execution_count": 59,
   "metadata": {
    "ExecuteTime": {
     "end_time": "2019-06-05T08:08:42.774560Z",
     "start_time": "2019-06-05T08:08:42.678543Z"
    }
   },
   "outputs": [
    {
     "name": "stdout",
     "output_type": "stream",
     "text": [
      "../Data/Ki67-Example/brown.png\n"
     ]
    }
   ],
   "source": [
    "for folder in listdir(path):\n",
    "    file_path = path + folder\n",
    "    print(file_path)\n",
    "    test = io.imread(file_path)"
   ]
  },
  {
   "cell_type": "code",
   "execution_count": 50,
   "metadata": {
    "ExecuteTime": {
     "end_time": "2019-06-05T08:02:14.219863Z",
     "start_time": "2019-06-05T08:02:14.077869Z"
    }
   },
   "outputs": [],
   "source": [
    "h_hed_image, e_hed_image, d_hed_image = splitIntoHedChannels(test)\n",
    "\n",
    "h_hed_image = (h_hed_image - (-0.6321590442939683)) / (-0.2519704435684328 - (-0.6321590442939683))\n",
    "e_hed_image = (e_hed_image - (0.031940895147339714)) / (0.22622970342958737 - (0.031940895147339714))\n",
    "d_hed_image = (d_hed_image - (-0.5279642432765967)) / (-0.1818549107256712 - (-0.5279642432765967))"
   ]
  }
 ],
 "metadata": {
  "kernelspec": {
   "display_name": "Python 3",
   "language": "python",
   "name": "python3"
  },
  "language_info": {
   "codemirror_mode": {
    "name": "ipython",
    "version": 3
   },
   "file_extension": ".py",
   "mimetype": "text/x-python",
   "name": "python",
   "nbconvert_exporter": "python",
   "pygments_lexer": "ipython3",
   "version": "3.5.5"
  },
  "varInspector": {
   "cols": {
    "lenName": 16,
    "lenType": 16,
    "lenVar": 40
   },
   "kernels_config": {
    "python": {
     "delete_cmd_postfix": "",
     "delete_cmd_prefix": "del ",
     "library": "var_list.py",
     "varRefreshCmd": "print(var_dic_list())"
    },
    "r": {
     "delete_cmd_postfix": ") ",
     "delete_cmd_prefix": "rm(",
     "library": "var_list.r",
     "varRefreshCmd": "cat(var_dic_list()) "
    }
   },
   "types_to_exclude": [
    "module",
    "function",
    "builtin_function_or_method",
    "instance",
    "_Feature"
   ],
   "window_display": false
  }
 },
 "nbformat": 4,
 "nbformat_minor": 2
}
